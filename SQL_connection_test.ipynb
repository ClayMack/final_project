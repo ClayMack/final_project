{
 "cells": [
  {
   "cell_type": "code",
   "execution_count": 12,
   "metadata": {},
   "outputs": [],
   "source": [
    "import sqlalchemy\n",
    "from sqlalchemy.ext.automap import automap_base\n",
    "from sqlalchemy.orm import Session\n",
    "from sqlalchemy import create_engine, func, inspect, extract\n",
    "\n",
    "import sqlite3\n",
    "import csv\n",
    "\n",
    "import pandas as pd"
   ]
  },
  {
   "cell_type": "code",
   "execution_count": 30,
   "metadata": {},
   "outputs": [],
   "source": [
    "# Create database\n",
    "connection = sqlite3.connect('beer.db')"
   ]
  },
  {
   "cell_type": "code",
   "execution_count": 33,
   "metadata": {},
   "outputs": [],
   "source": [
    "# Cursor used to interact with db\n",
    "c = connection.cursor()"
   ]
  },
  {
   "cell_type": "code",
   "execution_count": 10,
   "metadata": {},
   "outputs": [],
   "source": [
    "opened_csv_file = open('csv_files/cleaned_beer_data_set.csv', 'r')\n",
    "reader = csv.reader(opened_csv_file)"
   ]
  },
  {
   "cell_type": "code",
   "execution_count": 13,
   "metadata": {},
   "outputs": [],
   "source": [
    "df = pd.read_csv(\"csv_files/cleaned_beer_data_set.csv\")"
   ]
  },
  {
   "cell_type": "code",
   "execution_count": 23,
   "metadata": {},
   "outputs": [],
   "source": [
    "columns = list(df.columns.values)"
   ]
  },
  {
   "cell_type": "code",
   "execution_count": 25,
   "metadata": {},
   "outputs": [],
   "source": [
    "df.to_sql(\"beer_data\", connection)"
   ]
  },
  {
   "cell_type": "code",
   "execution_count": 36,
   "metadata": {},
   "outputs": [
    {
     "name": "stdout",
     "output_type": "stream",
     "text": [
      "(0, 1, 'Amber', 'Altbier', 8, 'Alaskan Brewing Co.', 'Notes:Richly malty and long on the palate, with just enough hop backing to make this beautiful amber colored \"alt\" style beer notably well balanced.\\t', 5.3, 3.65, 25, 50, 13, 32, 9, 47, 74, 33, 0, 33, 57, 8, 111)\n",
      "(1, 2, 'Double Bag', 'Altbier', 8, 'Long Trail Brewing Co.', 'Notes:This malty, full-bodied double alt is also known as “Stickebier” – German slang for “secret brew”. Long Trail Double Bag was originally offered only in our brewery taproom as a special treat to our visitors. With an alcohol content of 7.2%, please indulge in moderation. The Long Trail Brewing Company is proud to have Double Bag named Malt Advocate’s “Beer of the Year” in 2001. Malt Advocate is a national magazine devoted to “expanding the boundaries of fine drinks”. Their panel of judges likes to keep things simple, and therefore of thousands of eligible competitors they award only two categories: “Imported” and “Domestic”. It is a great honor to receive this recognition.33 IBU', 7.2, 3.9, 25, 50, 12, 57, 18, 33, 55, 16, 0, 24, 35, 12, 84)\n",
      "(2, 3, 'Long Trail Ale', 'Altbier', 8, 'Long Trail Brewing Co.', 'Notes:Long Trail Ale is a full-bodied amber ale modeled after the “Alt-biers” of Düsseldorf, Germany. Our top fermenting yeast and cold finishing temperature result in a complex, yet clean, full flavor. Originally introduced in November of 1989, Long Trail Ale beer quickly became, and remains, the largest selling craft-brew in Vermont. It is a multiple medal winner at the Great American Beer Festival.25 IBU', 5.0, 3.58, 25, 50, 14, 37, 6, 42, 43, 11, 0, 10, 54, 4, 62)\n",
      "(3, 4, 'Doppelsticke', 'Altbier', 8, 'Uerige Obergärige Hausbrauerei', 'Notes:', 8.5, 4.15, 25, 50, 13, 55, 31, 47, 101, 18, 1, 49, 40, 16, 119)\n",
      "(4, 5, 'Scurry', 'Altbier', 8, 'Off Color Brewing', \"Notes:Just cause it's dark and German doesn't mean it's an alt. Based on the obscure Kottbusser style of beer, this surprisingly dry beer retains all the aroma and nuance of honey (from bees) and molasses (not from bees) creating a perception of sweetness through cool, controlled fermentation. Because we're sweet enough damn it. 18 IBU\", 5.3, 3.67, 25, 50, 21, 69, 10, 63, 120, 14, 0, 19, 36, 15, 218)\n",
      "(5, 6, \"Sleigh'r Dark Doüble Alt Ale\", 'Altbier', 8, 'Ninkasi Brewing Company', \"Notes:Called 'Dark Double Alt' on the label.Seize the season with Sleigh'r. Layers of deeply toasted malt are balanced by just enough hop bitterness to make it deceivingly drinkable. Paired with a dry finish, Sleigh’r is anything but your typical winter brew.An Alt ferments with Ale yeast at colder lagering temperatures. This effect gives Alts a more refined, crisp lager-like flavor than traditional ales. The Alt has been “Ninkasified” raising the ABV and IBUs. Sleigh'r has a deep, toasted malt flavor that finishes dry and balanced.50 IBU\", 7.2, 3.78, 25, 50, 25, 51, 26, 44, 45, 9, 1, 11, 51, 20, 95)\n",
      "(6, 7, 'Sticke', 'Altbier', 8, 'Uerige Obergärige Hausbrauerei', 'Notes:', 6.0, 4.1, 25, 50, 22, 45, 13, 46, 62, 25, 1, 34, 60, 4, 103)\n",
      "(7, 8, 'Okto Festival Ale', 'Altbier', 8, 'Widmer Brothers Brewing Company', 'Notes:Classified as a German Altbier by the Widmer Brothers; brewed with an (ale) Alt yeast strain.availability: early Aug. - late Oct.bitterness : 28 IBUoriginal gravity: 13.5° PLATO', 5.3, 3.46, 25, 50, 28, 40, 3, 40, 58, 29, 0, 36, 54, 8, 97)\n",
      "(8, 9, 'Southampton Altbier', 'Altbier', 8, 'Southampton Publick House', 'Notes:', 5.0, 3.6, 25, 50, 18, 49, 5, 37, 73, 22, 0, 21, 37, 4, 98)\n",
      "(9, 10, 'Copper', 'Altbier', 8, 'The Olde Mecklenburg Brewery', 'Notes:OMB’s flagship, Copper, is an authentic Düsseldorf style “Altbier” or Amber Ale. There are no crazy flavors or gimmicks with Copper – its full-flavored start transitions to a smooth, balanced, easy-drinking finish. It’s the beer that tastes like beer.\\t', 4.8, 4.1, 25, 50, 25, 35, 4, 38, 39, 13, 1, 8, 60, 16, 97)\n"
     ]
    }
   ],
   "source": [
    "for row in c.execute(\"SELECT * FROM beer_data LIMIT 10\"):\n",
    "    print(row)"
   ]
  },
  {
   "cell_type": "code",
   "execution_count": null,
   "metadata": {},
   "outputs": [],
   "source": []
  }
 ],
 "metadata": {
  "kernelspec": {
   "display_name": "PythonData",
   "language": "python",
   "name": "pythondata"
  },
  "language_info": {
   "codemirror_mode": {
    "name": "ipython",
    "version": 3
   },
   "file_extension": ".py",
   "mimetype": "text/x-python",
   "name": "python",
   "nbconvert_exporter": "python",
   "pygments_lexer": "ipython3",
   "version": "3.7.9"
  }
 },
 "nbformat": 4,
 "nbformat_minor": 4
}
