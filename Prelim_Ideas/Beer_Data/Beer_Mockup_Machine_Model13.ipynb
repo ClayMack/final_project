{
 "cells": [
  {
   "cell_type": "code",
   "execution_count": 15,
   "metadata": {},
   "outputs": [],
   "source": [
    "# Import our dependencies\n",
    "from sklearn.model_selection import train_test_split\n",
    "from sklearn.preprocessing import StandardScaler,OneHotEncoder\n",
    "import pandas as pd\n",
    "\n",
    "import matplotlib.pyplot as plt\n",
    "import numpy as np\n",
    "import hvplot.pandas\n"
   ]
  },
  {
   "cell_type": "code",
   "execution_count": 16,
   "metadata": {},
   "outputs": [
    {
     "data": {
      "text/html": [
       "<div>\n",
       "<style scoped>\n",
       "    .dataframe tbody tr th:only-of-type {\n",
       "        vertical-align: middle;\n",
       "    }\n",
       "\n",
       "    .dataframe tbody tr th {\n",
       "        vertical-align: top;\n",
       "    }\n",
       "\n",
       "    .dataframe thead th {\n",
       "        text-align: right;\n",
       "    }\n",
       "</style>\n",
       "<table border=\"1\" class=\"dataframe\">\n",
       "  <thead>\n",
       "    <tr style=\"text-align: right;\">\n",
       "      <th></th>\n",
       "      <th>Name</th>\n",
       "      <th>Style</th>\n",
       "      <th>Style Key</th>\n",
       "      <th>Brewery</th>\n",
       "      <th>Description</th>\n",
       "      <th>ABV</th>\n",
       "      <th>Ave Rating</th>\n",
       "      <th>Min IBU</th>\n",
       "      <th>Max IBU</th>\n",
       "      <th>Astringency</th>\n",
       "      <th>Body</th>\n",
       "      <th>Alcohol</th>\n",
       "      <th>Bitter</th>\n",
       "      <th>Sweet</th>\n",
       "      <th>Sour</th>\n",
       "      <th>Salty</th>\n",
       "      <th>Fruits</th>\n",
       "      <th>Hoppy</th>\n",
       "      <th>Spices</th>\n",
       "      <th>Malty</th>\n",
       "    </tr>\n",
       "  </thead>\n",
       "  <tbody>\n",
       "    <tr>\n",
       "      <th>0</th>\n",
       "      <td>Amber</td>\n",
       "      <td>Altbier</td>\n",
       "      <td>8</td>\n",
       "      <td>Alaskan Brewing Co.</td>\n",
       "      <td>Notes:Richly malty and long on the palate, wit...</td>\n",
       "      <td>5.3</td>\n",
       "      <td>3.65</td>\n",
       "      <td>25</td>\n",
       "      <td>50</td>\n",
       "      <td>13</td>\n",
       "      <td>32</td>\n",
       "      <td>9</td>\n",
       "      <td>47</td>\n",
       "      <td>74</td>\n",
       "      <td>33</td>\n",
       "      <td>0</td>\n",
       "      <td>33</td>\n",
       "      <td>57</td>\n",
       "      <td>8</td>\n",
       "      <td>111</td>\n",
       "    </tr>\n",
       "    <tr>\n",
       "      <th>1</th>\n",
       "      <td>Double Bag</td>\n",
       "      <td>Altbier</td>\n",
       "      <td>8</td>\n",
       "      <td>Long Trail Brewing Co.</td>\n",
       "      <td>Notes:This malty, full-bodied double alt is al...</td>\n",
       "      <td>7.2</td>\n",
       "      <td>3.90</td>\n",
       "      <td>25</td>\n",
       "      <td>50</td>\n",
       "      <td>12</td>\n",
       "      <td>57</td>\n",
       "      <td>18</td>\n",
       "      <td>33</td>\n",
       "      <td>55</td>\n",
       "      <td>16</td>\n",
       "      <td>0</td>\n",
       "      <td>24</td>\n",
       "      <td>35</td>\n",
       "      <td>12</td>\n",
       "      <td>84</td>\n",
       "    </tr>\n",
       "    <tr>\n",
       "      <th>2</th>\n",
       "      <td>Long Trail Ale</td>\n",
       "      <td>Altbier</td>\n",
       "      <td>8</td>\n",
       "      <td>Long Trail Brewing Co.</td>\n",
       "      <td>Notes:Long Trail Ale is a full-bodied amber al...</td>\n",
       "      <td>5.0</td>\n",
       "      <td>3.58</td>\n",
       "      <td>25</td>\n",
       "      <td>50</td>\n",
       "      <td>14</td>\n",
       "      <td>37</td>\n",
       "      <td>6</td>\n",
       "      <td>42</td>\n",
       "      <td>43</td>\n",
       "      <td>11</td>\n",
       "      <td>0</td>\n",
       "      <td>10</td>\n",
       "      <td>54</td>\n",
       "      <td>4</td>\n",
       "      <td>62</td>\n",
       "    </tr>\n",
       "    <tr>\n",
       "      <th>3</th>\n",
       "      <td>Doppelsticke</td>\n",
       "      <td>Altbier</td>\n",
       "      <td>8</td>\n",
       "      <td>Uerige Obergärige Hausbrauerei</td>\n",
       "      <td>Notes:</td>\n",
       "      <td>8.5</td>\n",
       "      <td>4.15</td>\n",
       "      <td>25</td>\n",
       "      <td>50</td>\n",
       "      <td>13</td>\n",
       "      <td>55</td>\n",
       "      <td>31</td>\n",
       "      <td>47</td>\n",
       "      <td>101</td>\n",
       "      <td>18</td>\n",
       "      <td>1</td>\n",
       "      <td>49</td>\n",
       "      <td>40</td>\n",
       "      <td>16</td>\n",
       "      <td>119</td>\n",
       "    </tr>\n",
       "    <tr>\n",
       "      <th>4</th>\n",
       "      <td>Scurry</td>\n",
       "      <td>Altbier</td>\n",
       "      <td>8</td>\n",
       "      <td>Off Color Brewing</td>\n",
       "      <td>Notes:Just cause it's dark and German doesn't ...</td>\n",
       "      <td>5.3</td>\n",
       "      <td>3.67</td>\n",
       "      <td>25</td>\n",
       "      <td>50</td>\n",
       "      <td>21</td>\n",
       "      <td>69</td>\n",
       "      <td>10</td>\n",
       "      <td>63</td>\n",
       "      <td>120</td>\n",
       "      <td>14</td>\n",
       "      <td>0</td>\n",
       "      <td>19</td>\n",
       "      <td>36</td>\n",
       "      <td>15</td>\n",
       "      <td>218</td>\n",
       "    </tr>\n",
       "  </tbody>\n",
       "</table>\n",
       "</div>"
      ],
      "text/plain": [
       "             Name    Style  Style Key                         Brewery  \\\n",
       "0           Amber  Altbier          8             Alaskan Brewing Co.   \n",
       "1      Double Bag  Altbier          8          Long Trail Brewing Co.   \n",
       "2  Long Trail Ale  Altbier          8          Long Trail Brewing Co.   \n",
       "3    Doppelsticke  Altbier          8  Uerige Obergärige Hausbrauerei   \n",
       "4          Scurry  Altbier          8               Off Color Brewing   \n",
       "\n",
       "                                         Description  ABV  Ave Rating  \\\n",
       "0  Notes:Richly malty and long on the palate, wit...  5.3        3.65   \n",
       "1  Notes:This malty, full-bodied double alt is al...  7.2        3.90   \n",
       "2  Notes:Long Trail Ale is a full-bodied amber al...  5.0        3.58   \n",
       "3                                             Notes:  8.5        4.15   \n",
       "4  Notes:Just cause it's dark and German doesn't ...  5.3        3.67   \n",
       "\n",
       "   Min IBU  Max IBU  Astringency  Body  Alcohol  Bitter  Sweet  Sour  Salty  \\\n",
       "0       25       50           13    32        9      47     74    33      0   \n",
       "1       25       50           12    57       18      33     55    16      0   \n",
       "2       25       50           14    37        6      42     43    11      0   \n",
       "3       25       50           13    55       31      47    101    18      1   \n",
       "4       25       50           21    69       10      63    120    14      0   \n",
       "\n",
       "   Fruits  Hoppy  Spices  Malty  \n",
       "0      33     57       8    111  \n",
       "1      24     35      12     84  \n",
       "2      10     54       4     62  \n",
       "3      49     40      16    119  \n",
       "4      19     36      15    218  "
      ]
     },
     "execution_count": 16,
     "metadata": {},
     "output_type": "execute_result"
    }
   ],
   "source": [
    "beer_df = pd.read_csv(\"cleaned_beer_data_set.csv\")\n",
    "beer_df.head()"
   ]
  },
  {
   "cell_type": "code",
   "execution_count": 17,
   "metadata": {},
   "outputs": [
    {
     "data": {
      "text/html": [
       "<div>\n",
       "<style scoped>\n",
       "    .dataframe tbody tr th:only-of-type {\n",
       "        vertical-align: middle;\n",
       "    }\n",
       "\n",
       "    .dataframe tbody tr th {\n",
       "        vertical-align: top;\n",
       "    }\n",
       "\n",
       "    .dataframe thead th {\n",
       "        text-align: right;\n",
       "    }\n",
       "</style>\n",
       "<table border=\"1\" class=\"dataframe\">\n",
       "  <thead>\n",
       "    <tr style=\"text-align: right;\">\n",
       "      <th></th>\n",
       "      <th>Style Key</th>\n",
       "      <th>ABV</th>\n",
       "      <th>Ave Rating</th>\n",
       "      <th>Min IBU</th>\n",
       "      <th>Max IBU</th>\n",
       "      <th>Astringency</th>\n",
       "      <th>Body</th>\n",
       "      <th>Alcohol</th>\n",
       "      <th>Bitter</th>\n",
       "      <th>Sweet</th>\n",
       "      <th>Sour</th>\n",
       "      <th>Salty</th>\n",
       "      <th>Fruits</th>\n",
       "      <th>Hoppy</th>\n",
       "      <th>Spices</th>\n",
       "      <th>Malty</th>\n",
       "    </tr>\n",
       "  </thead>\n",
       "  <tbody>\n",
       "    <tr>\n",
       "      <th>count</th>\n",
       "      <td>5556.000000</td>\n",
       "      <td>5556.000000</td>\n",
       "      <td>5556.000000</td>\n",
       "      <td>5556.000000</td>\n",
       "      <td>5556.000000</td>\n",
       "      <td>5556.000000</td>\n",
       "      <td>5556.000000</td>\n",
       "      <td>5556.000000</td>\n",
       "      <td>5556.000000</td>\n",
       "      <td>5556.000000</td>\n",
       "      <td>5556.000000</td>\n",
       "      <td>5556.000000</td>\n",
       "      <td>5556.000000</td>\n",
       "      <td>5556.000000</td>\n",
       "      <td>5556.000000</td>\n",
       "      <td>5556.000000</td>\n",
       "    </tr>\n",
       "    <tr>\n",
       "      <th>mean</th>\n",
       "      <td>64.447444</td>\n",
       "      <td>6.634948</td>\n",
       "      <td>3.760481</td>\n",
       "      <td>20.719762</td>\n",
       "      <td>38.461663</td>\n",
       "      <td>15.941505</td>\n",
       "      <td>42.752880</td>\n",
       "      <td>15.978402</td>\n",
       "      <td>34.322174</td>\n",
       "      <td>53.630490</td>\n",
       "      <td>34.619330</td>\n",
       "      <td>1.314435</td>\n",
       "      <td>39.386609</td>\n",
       "      <td>38.421166</td>\n",
       "      <td>17.588553</td>\n",
       "      <td>68.599172</td>\n",
       "    </tr>\n",
       "    <tr>\n",
       "      <th>std</th>\n",
       "      <td>35.820549</td>\n",
       "      <td>2.521077</td>\n",
       "      <td>0.442848</td>\n",
       "      <td>13.736485</td>\n",
       "      <td>22.181782</td>\n",
       "      <td>11.625370</td>\n",
       "      <td>28.592263</td>\n",
       "      <td>18.270748</td>\n",
       "      <td>27.121062</td>\n",
       "      <td>35.867233</td>\n",
       "      <td>39.854361</td>\n",
       "      <td>3.874765</td>\n",
       "      <td>36.655173</td>\n",
       "      <td>31.916471</td>\n",
       "      <td>23.976975</td>\n",
       "      <td>44.604752</td>\n",
       "    </tr>\n",
       "    <tr>\n",
       "      <th>min</th>\n",
       "      <td>2.000000</td>\n",
       "      <td>0.000000</td>\n",
       "      <td>1.270000</td>\n",
       "      <td>0.000000</td>\n",
       "      <td>0.000000</td>\n",
       "      <td>0.000000</td>\n",
       "      <td>0.000000</td>\n",
       "      <td>0.000000</td>\n",
       "      <td>0.000000</td>\n",
       "      <td>0.000000</td>\n",
       "      <td>0.000000</td>\n",
       "      <td>0.000000</td>\n",
       "      <td>0.000000</td>\n",
       "      <td>0.000000</td>\n",
       "      <td>0.000000</td>\n",
       "      <td>0.000000</td>\n",
       "    </tr>\n",
       "    <tr>\n",
       "      <th>25%</th>\n",
       "      <td>34.000000</td>\n",
       "      <td>5.000000</td>\n",
       "      <td>3.590000</td>\n",
       "      <td>10.000000</td>\n",
       "      <td>25.000000</td>\n",
       "      <td>8.000000</td>\n",
       "      <td>25.000000</td>\n",
       "      <td>5.000000</td>\n",
       "      <td>13.000000</td>\n",
       "      <td>27.000000</td>\n",
       "      <td>9.000000</td>\n",
       "      <td>0.000000</td>\n",
       "      <td>10.000000</td>\n",
       "      <td>14.000000</td>\n",
       "      <td>4.000000</td>\n",
       "      <td>33.000000</td>\n",
       "    </tr>\n",
       "    <tr>\n",
       "      <th>50%</th>\n",
       "      <td>64.000000</td>\n",
       "      <td>6.000000</td>\n",
       "      <td>3.820000</td>\n",
       "      <td>20.000000</td>\n",
       "      <td>35.000000</td>\n",
       "      <td>14.000000</td>\n",
       "      <td>38.000000</td>\n",
       "      <td>10.000000</td>\n",
       "      <td>29.000000</td>\n",
       "      <td>49.500000</td>\n",
       "      <td>21.000000</td>\n",
       "      <td>0.000000</td>\n",
       "      <td>28.000000</td>\n",
       "      <td>30.000000</td>\n",
       "      <td>9.000000</td>\n",
       "      <td>65.000000</td>\n",
       "    </tr>\n",
       "    <tr>\n",
       "      <th>75%</th>\n",
       "      <td>95.000000</td>\n",
       "      <td>7.900000</td>\n",
       "      <td>4.040000</td>\n",
       "      <td>25.000000</td>\n",
       "      <td>45.000000</td>\n",
       "      <td>22.000000</td>\n",
       "      <td>55.000000</td>\n",
       "      <td>20.000000</td>\n",
       "      <td>51.000000</td>\n",
       "      <td>74.000000</td>\n",
       "      <td>44.000000</td>\n",
       "      <td>1.000000</td>\n",
       "      <td>62.000000</td>\n",
       "      <td>56.000000</td>\n",
       "      <td>22.000000</td>\n",
       "      <td>99.000000</td>\n",
       "    </tr>\n",
       "    <tr>\n",
       "      <th>max</th>\n",
       "      <td>126.000000</td>\n",
       "      <td>57.500000</td>\n",
       "      <td>4.830000</td>\n",
       "      <td>65.000000</td>\n",
       "      <td>100.000000</td>\n",
       "      <td>83.000000</td>\n",
       "      <td>197.000000</td>\n",
       "      <td>139.000000</td>\n",
       "      <td>150.000000</td>\n",
       "      <td>263.000000</td>\n",
       "      <td>323.000000</td>\n",
       "      <td>66.000000</td>\n",
       "      <td>222.000000</td>\n",
       "      <td>193.000000</td>\n",
       "      <td>184.000000</td>\n",
       "      <td>304.000000</td>\n",
       "    </tr>\n",
       "  </tbody>\n",
       "</table>\n",
       "</div>"
      ],
      "text/plain": [
       "         Style Key          ABV   Ave Rating      Min IBU      Max IBU  \\\n",
       "count  5556.000000  5556.000000  5556.000000  5556.000000  5556.000000   \n",
       "mean     64.447444     6.634948     3.760481    20.719762    38.461663   \n",
       "std      35.820549     2.521077     0.442848    13.736485    22.181782   \n",
       "min       2.000000     0.000000     1.270000     0.000000     0.000000   \n",
       "25%      34.000000     5.000000     3.590000    10.000000    25.000000   \n",
       "50%      64.000000     6.000000     3.820000    20.000000    35.000000   \n",
       "75%      95.000000     7.900000     4.040000    25.000000    45.000000   \n",
       "max     126.000000    57.500000     4.830000    65.000000   100.000000   \n",
       "\n",
       "       Astringency         Body      Alcohol       Bitter        Sweet  \\\n",
       "count  5556.000000  5556.000000  5556.000000  5556.000000  5556.000000   \n",
       "mean     15.941505    42.752880    15.978402    34.322174    53.630490   \n",
       "std      11.625370    28.592263    18.270748    27.121062    35.867233   \n",
       "min       0.000000     0.000000     0.000000     0.000000     0.000000   \n",
       "25%       8.000000    25.000000     5.000000    13.000000    27.000000   \n",
       "50%      14.000000    38.000000    10.000000    29.000000    49.500000   \n",
       "75%      22.000000    55.000000    20.000000    51.000000    74.000000   \n",
       "max      83.000000   197.000000   139.000000   150.000000   263.000000   \n",
       "\n",
       "              Sour        Salty       Fruits        Hoppy       Spices  \\\n",
       "count  5556.000000  5556.000000  5556.000000  5556.000000  5556.000000   \n",
       "mean     34.619330     1.314435    39.386609    38.421166    17.588553   \n",
       "std      39.854361     3.874765    36.655173    31.916471    23.976975   \n",
       "min       0.000000     0.000000     0.000000     0.000000     0.000000   \n",
       "25%       9.000000     0.000000    10.000000    14.000000     4.000000   \n",
       "50%      21.000000     0.000000    28.000000    30.000000     9.000000   \n",
       "75%      44.000000     1.000000    62.000000    56.000000    22.000000   \n",
       "max     323.000000    66.000000   222.000000   193.000000   184.000000   \n",
       "\n",
       "             Malty  \n",
       "count  5556.000000  \n",
       "mean     68.599172  \n",
       "std      44.604752  \n",
       "min       0.000000  \n",
       "25%      33.000000  \n",
       "50%      65.000000  \n",
       "75%      99.000000  \n",
       "max     304.000000  "
      ]
     },
     "execution_count": 17,
     "metadata": {},
     "output_type": "execute_result"
    }
   ],
   "source": [
    "beer_df.describe()"
   ]
  },
  {
   "cell_type": "code",
   "execution_count": 4,
   "metadata": {},
   "outputs": [
    {
     "name": "stdout",
     "output_type": "stream",
     "text": [
      "Column Name has 0null values\n",
      "Column Style has 0null values\n",
      "Column Style Key has 0null values\n",
      "Column Brewery has 0null values\n",
      "Column Description has 0null values\n",
      "Column ABV has 0null values\n",
      "Column Ave Rating has 0null values\n",
      "Column Min IBU has 0null values\n",
      "Column Max IBU has 0null values\n",
      "Column Astringency has 0null values\n",
      "Column Body has 0null values\n",
      "Column Alcohol has 0null values\n",
      "Column Bitter has 0null values\n",
      "Column Sweet has 0null values\n",
      "Column Sour has 0null values\n",
      "Column Salty has 0null values\n",
      "Column Fruits has 0null values\n",
      "Column Hoppy has 0null values\n",
      "Column Spices has 0null values\n",
      "Column Malty has 0null values\n"
     ]
    }
   ],
   "source": [
    "#finding null values\n",
    "for column in beer_df.columns:\n",
    "    print(f\"Column {column} has {beer_df[column].isnull().sum()}null values\")"
   ]
  },
  {
   "cell_type": "code",
   "execution_count": 5,
   "metadata": {},
   "outputs": [],
   "source": [
    "beer_df = beer_df.dropna(how='any', axis=0)"
   ]
  },
  {
   "cell_type": "code",
   "execution_count": 6,
   "metadata": {},
   "outputs": [
    {
     "data": {
      "text/plain": [
       "Name           5556\n",
       "Style          5556\n",
       "Style Key      5556\n",
       "Brewery        5556\n",
       "Description    5556\n",
       "ABV            5556\n",
       "Ave Rating     5556\n",
       "Min IBU        5556\n",
       "Max IBU        5556\n",
       "Astringency    5556\n",
       "Body           5556\n",
       "Alcohol        5556\n",
       "Bitter         5556\n",
       "Sweet          5556\n",
       "Sour           5556\n",
       "Salty          5556\n",
       "Fruits         5556\n",
       "Hoppy          5556\n",
       "Spices         5556\n",
       "Malty          5556\n",
       "dtype: int64"
      ]
     },
     "execution_count": 6,
     "metadata": {},
     "output_type": "execute_result"
    }
   ],
   "source": [
    "beer_df.count()"
   ]
  },
  {
   "cell_type": "code",
   "execution_count": 7,
   "metadata": {},
   "outputs": [
    {
     "name": "stdout",
     "output_type": "stream",
     "text": [
      "<class 'pandas.core.frame.DataFrame'>\n",
      "Int64Index: 5556 entries, 0 to 5555\n",
      "Data columns (total 20 columns):\n",
      " #   Column       Non-Null Count  Dtype  \n",
      "---  ------       --------------  -----  \n",
      " 0   Name         5556 non-null   object \n",
      " 1   Style        5556 non-null   object \n",
      " 2   Style Key    5556 non-null   int64  \n",
      " 3   Brewery      5556 non-null   object \n",
      " 4   Description  5556 non-null   object \n",
      " 5   ABV          5556 non-null   float64\n",
      " 6   Ave Rating   5556 non-null   float64\n",
      " 7   Min IBU      5556 non-null   int64  \n",
      " 8   Max IBU      5556 non-null   int64  \n",
      " 9   Astringency  5556 non-null   int64  \n",
      " 10  Body         5556 non-null   int64  \n",
      " 11  Alcohol      5556 non-null   int64  \n",
      " 12  Bitter       5556 non-null   int64  \n",
      " 13  Sweet        5556 non-null   int64  \n",
      " 14  Sour         5556 non-null   int64  \n",
      " 15  Salty        5556 non-null   int64  \n",
      " 16  Fruits       5556 non-null   int64  \n",
      " 17  Hoppy        5556 non-null   int64  \n",
      " 18  Spices       5556 non-null   int64  \n",
      " 19  Malty        5556 non-null   int64  \n",
      "dtypes: float64(2), int64(14), object(4)\n",
      "memory usage: 911.5+ KB\n"
     ]
    }
   ],
   "source": [
    "beer_df.info()"
   ]
  },
  {
   "cell_type": "code",
   "execution_count": 8,
   "metadata": {},
   "outputs": [
    {
     "data": {
      "text/plain": [
       "Name            object\n",
       "Style           object\n",
       "Style Key        int64\n",
       "Brewery         object\n",
       "Description     object\n",
       "ABV            float64\n",
       "Ave Rating     float64\n",
       "Min IBU          int64\n",
       "Max IBU          int64\n",
       "Astringency      int64\n",
       "Body             int64\n",
       "Alcohol          int64\n",
       "Bitter           int64\n",
       "Sweet            int64\n",
       "Sour             int64\n",
       "Salty            int64\n",
       "Fruits           int64\n",
       "Hoppy            int64\n",
       "Spices           int64\n",
       "Malty            int64\n",
       "dtype: object"
      ]
     },
     "execution_count": 8,
     "metadata": {},
     "output_type": "execute_result"
    }
   ],
   "source": [
    "beer_df.dtypes"
   ]
  },
  {
   "cell_type": "code",
   "execution_count": 9,
   "metadata": {
    "scrolled": true
   },
   "outputs": [
    {
     "data": {
      "text/plain": [
       "(5556, 20)"
      ]
     },
     "execution_count": 9,
     "metadata": {},
     "output_type": "execute_result"
    }
   ],
   "source": [
    "beer_df.shape"
   ]
  },
  {
   "cell_type": "code",
   "execution_count": 10,
   "metadata": {},
   "outputs": [
    {
     "data": {
      "text/plain": [
       "111120"
      ]
     },
     "execution_count": 10,
     "metadata": {},
     "output_type": "execute_result"
    }
   ],
   "source": [
    "beer_df.size"
   ]
  },
  {
   "cell_type": "code",
   "execution_count": 11,
   "metadata": {},
   "outputs": [
    {
     "data": {
      "text/plain": [
       "Name           5317\n",
       "Style           112\n",
       "Style Key       112\n",
       "Brewery        1498\n",
       "Description    3347\n",
       "ABV             229\n",
       "Ave Rating      289\n",
       "Min IBU          21\n",
       "Max IBU          25\n",
       "Astringency      73\n",
       "Body            165\n",
       "Alcohol         116\n",
       "Bitter          141\n",
       "Sweet           191\n",
       "Sour            222\n",
       "Salty            47\n",
       "Fruits          185\n",
       "Hoppy           156\n",
       "Spices          155\n",
       "Malty           217\n",
       "dtype: int64"
      ]
     },
     "execution_count": 11,
     "metadata": {},
     "output_type": "execute_result"
    }
   ],
   "source": [
    "beer_df.nunique()"
   ]
  },
  {
   "cell_type": "code",
   "execution_count": 12,
   "metadata": {},
   "outputs": [
    {
     "data": {
      "text/plain": [
       "Index(['Name', 'Style', 'Style Key', 'Brewery', 'Description', 'ABV',\n",
       "       'Ave Rating', 'Min IBU', 'Max IBU', 'Astringency', 'Body', 'Alcohol',\n",
       "       'Bitter', 'Sweet', 'Sour', 'Salty', 'Fruits', 'Hoppy', 'Spices',\n",
       "       'Malty'],\n",
       "      dtype='object')"
      ]
     },
     "execution_count": 12,
     "metadata": {},
     "output_type": "execute_result"
    }
   ],
   "source": [
    "beer_df.columns"
   ]
  },
  {
   "cell_type": "code",
   "execution_count": 13,
   "metadata": {},
   "outputs": [
    {
     "name": "stdout",
     "output_type": "stream",
     "text": [
      "Duplicate entries: 0\n"
     ]
    }
   ],
   "source": [
    "print(f\"Duplicate entries: {beer_df.duplicated().sum()}\")"
   ]
  },
  {
   "cell_type": "code",
   "execution_count": 18,
   "metadata": {
    "scrolled": true
   },
   "outputs": [
    {
     "ename": "AttributeError",
     "evalue": "'NoneType' object has no attribute 'head'",
     "output_type": "error",
     "traceback": [
      "\u001b[1;31m---------------------------------------------------------------------------\u001b[0m",
      "\u001b[1;31mAttributeError\u001b[0m                            Traceback (most recent call last)",
      "\u001b[1;32m<ipython-input-18-5bb7d3fa72d5>\u001b[0m in \u001b[0;36m<module>\u001b[1;34m\u001b[0m\n\u001b[0;32m      1\u001b[0m \u001b[0mbeer_df2\u001b[0m \u001b[1;33m=\u001b[0m \u001b[0mbeer_df\u001b[0m\u001b[1;33m.\u001b[0m\u001b[0mdrop\u001b[0m\u001b[1;33m(\u001b[0m\u001b[0mcolumns\u001b[0m\u001b[1;33m=\u001b[0m\u001b[1;33m[\u001b[0m\u001b[1;34m\"Ave Rating\"\u001b[0m\u001b[1;33m]\u001b[0m\u001b[1;33m,\u001b[0m \u001b[0minplace\u001b[0m\u001b[1;33m=\u001b[0m\u001b[1;32mTrue\u001b[0m\u001b[1;33m)\u001b[0m\u001b[1;33m\u001b[0m\u001b[1;33m\u001b[0m\u001b[0m\n\u001b[1;32m----> 2\u001b[1;33m \u001b[0mbeer_df2\u001b[0m\u001b[1;33m.\u001b[0m\u001b[0mhead\u001b[0m\u001b[1;33m(\u001b[0m\u001b[1;33m)\u001b[0m\u001b[1;33m\u001b[0m\u001b[1;33m\u001b[0m\u001b[0m\n\u001b[0m",
      "\u001b[1;31mAttributeError\u001b[0m: 'NoneType' object has no attribute 'head'"
     ]
    }
   ],
   "source": [
    "beer_df2 = beer_df.drop(columns=[\"Ave Rating\"], inplace=True)\n",
    "beer_df2.head()"
   ]
  },
  {
   "cell_type": "code",
   "execution_count": null,
   "metadata": {},
   "outputs": [],
   "source": [
    "beer_df2.columns"
   ]
  },
  {
   "cell_type": "code",
   "execution_count": null,
   "metadata": {},
   "outputs": [],
   "source": []
  }
 ],
 "metadata": {
  "kernelspec": {
   "display_name": "Python 3",
   "language": "python",
   "name": "python3"
  },
  "language_info": {
   "codemirror_mode": {
    "name": "ipython",
    "version": 3
   },
   "file_extension": ".py",
   "mimetype": "text/x-python",
   "name": "python",
   "nbconvert_exporter": "python",
   "pygments_lexer": "ipython3",
   "version": "3.8.5"
  }
 },
 "nbformat": 4,
 "nbformat_minor": 4
}
