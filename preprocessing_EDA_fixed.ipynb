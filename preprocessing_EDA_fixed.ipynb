{
 "cells": [
  {
   "cell_type": "code",
   "execution_count": 286,
   "metadata": {},
   "outputs": [],
   "source": [
    "# Import Dependencies\n",
    "import pandas as pd\n",
    "import plotly.express as px\n",
    "import hvplot.pandas\n",
    "from sklearn.neighbors import KNeighborsClassifier\n",
    "from sklearn.cluster import KMeans\n",
    "from sklearn.preprocessing import StandardScaler\n",
    "from sklearn.model_selection import train_test_split\n",
    "from sklearn.metrics import classification_report, confusion_matrix\n"
   ]
  },
  {
   "cell_type": "code",
   "execution_count": 3,
   "metadata": {},
   "outputs": [],
   "source": [
    "# Display all columns\n",
    "pd.set_option('display.max_columns', None)"
   ]
  },
  {
   "cell_type": "markdown",
   "metadata": {},
   "source": [
    "### Preprocessing data"
   ]
  },
  {
   "cell_type": "code",
   "execution_count": 4,
   "metadata": {},
   "outputs": [],
   "source": [
    "# Load data into dataframe\n",
    "df = pd.read_csv(\"csv_files/beer_info_from_db.csv\")"
   ]
  },
  {
   "cell_type": "code",
   "execution_count": 323,
   "metadata": {},
   "outputs": [
    {
     "data": {
      "text/html": [
       "<div>\n",
       "<style scoped>\n",
       "    .dataframe tbody tr th:only-of-type {\n",
       "        vertical-align: middle;\n",
       "    }\n",
       "\n",
       "    .dataframe tbody tr th {\n",
       "        vertical-align: top;\n",
       "    }\n",
       "\n",
       "    .dataframe thead th {\n",
       "        text-align: right;\n",
       "    }\n",
       "</style>\n",
       "<table border=\"1\" class=\"dataframe\">\n",
       "  <thead>\n",
       "    <tr style=\"text-align: right;\">\n",
       "      <th></th>\n",
       "      <th>beer_id</th>\n",
       "      <th>beer_name</th>\n",
       "      <th>beer_style</th>\n",
       "      <th>style_key</th>\n",
       "      <th>brewery</th>\n",
       "      <th>description</th>\n",
       "      <th>abv</th>\n",
       "      <th>ave_rating</th>\n",
       "      <th>min_ibu</th>\n",
       "      <th>max_ibu</th>\n",
       "      <th>astringency</th>\n",
       "      <th>body</th>\n",
       "      <th>alcohol</th>\n",
       "      <th>bitter</th>\n",
       "      <th>sweet</th>\n",
       "      <th>sour</th>\n",
       "      <th>salty</th>\n",
       "      <th>fruits</th>\n",
       "      <th>hoppy</th>\n",
       "      <th>spices</th>\n",
       "      <th>malty</th>\n",
       "      <th>avg_ibu</th>\n",
       "      <th>condensed_style</th>\n",
       "    </tr>\n",
       "  </thead>\n",
       "  <tbody>\n",
       "    <tr>\n",
       "      <th>0</th>\n",
       "      <td>1</td>\n",
       "      <td>Amber</td>\n",
       "      <td>Altbier</td>\n",
       "      <td>8</td>\n",
       "      <td>Alaskan Brewing Co.</td>\n",
       "      <td>Notes:Richly malty and long on the palate, wit...</td>\n",
       "      <td>5.3</td>\n",
       "      <td>3.65</td>\n",
       "      <td>25</td>\n",
       "      <td>50</td>\n",
       "      <td>13</td>\n",
       "      <td>32</td>\n",
       "      <td>9</td>\n",
       "      <td>47</td>\n",
       "      <td>74</td>\n",
       "      <td>33</td>\n",
       "      <td>0</td>\n",
       "      <td>33</td>\n",
       "      <td>57</td>\n",
       "      <td>8</td>\n",
       "      <td>111</td>\n",
       "      <td>37.5</td>\n",
       "      <td>Altbier</td>\n",
       "    </tr>\n",
       "    <tr>\n",
       "      <th>1</th>\n",
       "      <td>2</td>\n",
       "      <td>Double Bag</td>\n",
       "      <td>Altbier</td>\n",
       "      <td>8</td>\n",
       "      <td>Long Trail Brewing Co.</td>\n",
       "      <td>Notes:This malty, full-bodied double alt is al...</td>\n",
       "      <td>7.2</td>\n",
       "      <td>3.90</td>\n",
       "      <td>25</td>\n",
       "      <td>50</td>\n",
       "      <td>12</td>\n",
       "      <td>57</td>\n",
       "      <td>18</td>\n",
       "      <td>33</td>\n",
       "      <td>55</td>\n",
       "      <td>16</td>\n",
       "      <td>0</td>\n",
       "      <td>24</td>\n",
       "      <td>35</td>\n",
       "      <td>12</td>\n",
       "      <td>84</td>\n",
       "      <td>37.5</td>\n",
       "      <td>Altbier</td>\n",
       "    </tr>\n",
       "    <tr>\n",
       "      <th>2</th>\n",
       "      <td>3</td>\n",
       "      <td>Long Trail Ale</td>\n",
       "      <td>Altbier</td>\n",
       "      <td>8</td>\n",
       "      <td>Long Trail Brewing Co.</td>\n",
       "      <td>Notes:Long Trail Ale is a full-bodied amber al...</td>\n",
       "      <td>5.0</td>\n",
       "      <td>3.58</td>\n",
       "      <td>25</td>\n",
       "      <td>50</td>\n",
       "      <td>14</td>\n",
       "      <td>37</td>\n",
       "      <td>6</td>\n",
       "      <td>42</td>\n",
       "      <td>43</td>\n",
       "      <td>11</td>\n",
       "      <td>0</td>\n",
       "      <td>10</td>\n",
       "      <td>54</td>\n",
       "      <td>4</td>\n",
       "      <td>62</td>\n",
       "      <td>37.5</td>\n",
       "      <td>Altbier</td>\n",
       "    </tr>\n",
       "    <tr>\n",
       "      <th>3</th>\n",
       "      <td>4</td>\n",
       "      <td>Doppelsticke</td>\n",
       "      <td>Altbier</td>\n",
       "      <td>8</td>\n",
       "      <td>Uerige Obergärige Hausbrauerei</td>\n",
       "      <td>Notes:</td>\n",
       "      <td>8.5</td>\n",
       "      <td>4.15</td>\n",
       "      <td>25</td>\n",
       "      <td>50</td>\n",
       "      <td>13</td>\n",
       "      <td>55</td>\n",
       "      <td>31</td>\n",
       "      <td>47</td>\n",
       "      <td>101</td>\n",
       "      <td>18</td>\n",
       "      <td>1</td>\n",
       "      <td>49</td>\n",
       "      <td>40</td>\n",
       "      <td>16</td>\n",
       "      <td>119</td>\n",
       "      <td>37.5</td>\n",
       "      <td>Altbier</td>\n",
       "    </tr>\n",
       "    <tr>\n",
       "      <th>4</th>\n",
       "      <td>5</td>\n",
       "      <td>Scurry</td>\n",
       "      <td>Altbier</td>\n",
       "      <td>8</td>\n",
       "      <td>Off Color Brewing</td>\n",
       "      <td>Notes:Just cause it's dark and German doesn't ...</td>\n",
       "      <td>5.3</td>\n",
       "      <td>3.67</td>\n",
       "      <td>25</td>\n",
       "      <td>50</td>\n",
       "      <td>21</td>\n",
       "      <td>69</td>\n",
       "      <td>10</td>\n",
       "      <td>63</td>\n",
       "      <td>120</td>\n",
       "      <td>14</td>\n",
       "      <td>0</td>\n",
       "      <td>19</td>\n",
       "      <td>36</td>\n",
       "      <td>15</td>\n",
       "      <td>218</td>\n",
       "      <td>37.5</td>\n",
       "      <td>Altbier</td>\n",
       "    </tr>\n",
       "    <tr>\n",
       "      <th>...</th>\n",
       "      <td>...</td>\n",
       "      <td>...</td>\n",
       "      <td>...</td>\n",
       "      <td>...</td>\n",
       "      <td>...</td>\n",
       "      <td>...</td>\n",
       "      <td>...</td>\n",
       "      <td>...</td>\n",
       "      <td>...</td>\n",
       "      <td>...</td>\n",
       "      <td>...</td>\n",
       "      <td>...</td>\n",
       "      <td>...</td>\n",
       "      <td>...</td>\n",
       "      <td>...</td>\n",
       "      <td>...</td>\n",
       "      <td>...</td>\n",
       "      <td>...</td>\n",
       "      <td>...</td>\n",
       "      <td>...</td>\n",
       "      <td>...</td>\n",
       "      <td>...</td>\n",
       "      <td>...</td>\n",
       "    </tr>\n",
       "    <tr>\n",
       "      <th>5423</th>\n",
       "      <td>5552</td>\n",
       "      <td>Red Nose Winter Ale</td>\n",
       "      <td>Winter Warmer</td>\n",
       "      <td>17</td>\n",
       "      <td>Natty Greene's Pub &amp; Brewing Co.</td>\n",
       "      <td>Notes:</td>\n",
       "      <td>6.8</td>\n",
       "      <td>3.59</td>\n",
       "      <td>35</td>\n",
       "      <td>50</td>\n",
       "      <td>8</td>\n",
       "      <td>44</td>\n",
       "      <td>24</td>\n",
       "      <td>19</td>\n",
       "      <td>52</td>\n",
       "      <td>21</td>\n",
       "      <td>0</td>\n",
       "      <td>26</td>\n",
       "      <td>21</td>\n",
       "      <td>96</td>\n",
       "      <td>77</td>\n",
       "      <td>42.5</td>\n",
       "      <td>Winter Warmer</td>\n",
       "    </tr>\n",
       "    <tr>\n",
       "      <th>5552</th>\n",
       "      <td>5553</td>\n",
       "      <td>Our Special Ale 2019 (Anchor Christmas Ale)</td>\n",
       "      <td>Winter Warmer</td>\n",
       "      <td>17</td>\n",
       "      <td>Anchor Brewing Company</td>\n",
       "      <td>Notes:This is the forty-fifth annual Our Speci...</td>\n",
       "      <td>6.9</td>\n",
       "      <td>3.79</td>\n",
       "      <td>35</td>\n",
       "      <td>50</td>\n",
       "      <td>22</td>\n",
       "      <td>73</td>\n",
       "      <td>9</td>\n",
       "      <td>58</td>\n",
       "      <td>87</td>\n",
       "      <td>23</td>\n",
       "      <td>0</td>\n",
       "      <td>48</td>\n",
       "      <td>91</td>\n",
       "      <td>44</td>\n",
       "      <td>104</td>\n",
       "      <td>42.5</td>\n",
       "      <td>Winter Warmer</td>\n",
       "    </tr>\n",
       "    <tr>\n",
       "      <th>5553</th>\n",
       "      <td>5554</td>\n",
       "      <td>Fish Tale Winterfish</td>\n",
       "      <td>Winter Warmer</td>\n",
       "      <td>17</td>\n",
       "      <td>Fish Brewing Company / Fishbowl Brewpub</td>\n",
       "      <td>Notes:</td>\n",
       "      <td>7.5</td>\n",
       "      <td>3.76</td>\n",
       "      <td>35</td>\n",
       "      <td>50</td>\n",
       "      <td>11</td>\n",
       "      <td>36</td>\n",
       "      <td>50</td>\n",
       "      <td>70</td>\n",
       "      <td>72</td>\n",
       "      <td>59</td>\n",
       "      <td>0</td>\n",
       "      <td>81</td>\n",
       "      <td>110</td>\n",
       "      <td>18</td>\n",
       "      <td>73</td>\n",
       "      <td>42.5</td>\n",
       "      <td>Winter Warmer</td>\n",
       "    </tr>\n",
       "    <tr>\n",
       "      <th>5554</th>\n",
       "      <td>5555</td>\n",
       "      <td>He'Brew Hanukkah, Chanukah: Pass The Beer</td>\n",
       "      <td>Winter Warmer</td>\n",
       "      <td>17</td>\n",
       "      <td>Shmaltz Brewing Company</td>\n",
       "      <td>Notes:Chanukah Beer pours a rich crystal clear...</td>\n",
       "      <td>8.0</td>\n",
       "      <td>3.61</td>\n",
       "      <td>35</td>\n",
       "      <td>50</td>\n",
       "      <td>6</td>\n",
       "      <td>64</td>\n",
       "      <td>30</td>\n",
       "      <td>57</td>\n",
       "      <td>78</td>\n",
       "      <td>15</td>\n",
       "      <td>1</td>\n",
       "      <td>28</td>\n",
       "      <td>57</td>\n",
       "      <td>23</td>\n",
       "      <td>129</td>\n",
       "      <td>42.5</td>\n",
       "      <td>Winter Warmer</td>\n",
       "    </tr>\n",
       "    <tr>\n",
       "      <th>5555</th>\n",
       "      <td>5556</td>\n",
       "      <td>Frosted Frog Christmas Ale - Barrel-Aged</td>\n",
       "      <td>Winter Warmer</td>\n",
       "      <td>17</td>\n",
       "      <td>Hoppin' Frog Brewery</td>\n",
       "      <td>Notes:The essence of Christmas is captured in ...</td>\n",
       "      <td>8.6</td>\n",
       "      <td>3.89</td>\n",
       "      <td>35</td>\n",
       "      <td>50</td>\n",
       "      <td>8</td>\n",
       "      <td>50</td>\n",
       "      <td>49</td>\n",
       "      <td>13</td>\n",
       "      <td>71</td>\n",
       "      <td>17</td>\n",
       "      <td>0</td>\n",
       "      <td>33</td>\n",
       "      <td>16</td>\n",
       "      <td>148</td>\n",
       "      <td>69</td>\n",
       "      <td>42.5</td>\n",
       "      <td>Winter Warmer</td>\n",
       "    </tr>\n",
       "  </tbody>\n",
       "</table>\n",
       "<p>5348 rows × 23 columns</p>\n",
       "</div>"
      ],
      "text/plain": [
       "      beer_id                                    beer_name     beer_style  \\\n",
       "0           1                                        Amber        Altbier   \n",
       "1           2                                   Double Bag        Altbier   \n",
       "2           3                               Long Trail Ale        Altbier   \n",
       "3           4                                 Doppelsticke        Altbier   \n",
       "4           5                                       Scurry        Altbier   \n",
       "...       ...                                          ...            ...   \n",
       "5423     5552                          Red Nose Winter Ale  Winter Warmer   \n",
       "5552     5553  Our Special Ale 2019 (Anchor Christmas Ale)  Winter Warmer   \n",
       "5553     5554                         Fish Tale Winterfish  Winter Warmer   \n",
       "5554     5555    He'Brew Hanukkah, Chanukah: Pass The Beer  Winter Warmer   \n",
       "5555     5556     Frosted Frog Christmas Ale - Barrel-Aged  Winter Warmer   \n",
       "\n",
       "      style_key                                  brewery  \\\n",
       "0             8                      Alaskan Brewing Co.   \n",
       "1             8                   Long Trail Brewing Co.   \n",
       "2             8                   Long Trail Brewing Co.   \n",
       "3             8           Uerige Obergärige Hausbrauerei   \n",
       "4             8                        Off Color Brewing   \n",
       "...         ...                                      ...   \n",
       "5423         17         Natty Greene's Pub & Brewing Co.   \n",
       "5552         17                   Anchor Brewing Company   \n",
       "5553         17  Fish Brewing Company / Fishbowl Brewpub   \n",
       "5554         17                  Shmaltz Brewing Company   \n",
       "5555         17                     Hoppin' Frog Brewery   \n",
       "\n",
       "                                            description  abv  ave_rating  \\\n",
       "0     Notes:Richly malty and long on the palate, wit...  5.3        3.65   \n",
       "1     Notes:This malty, full-bodied double alt is al...  7.2        3.90   \n",
       "2     Notes:Long Trail Ale is a full-bodied amber al...  5.0        3.58   \n",
       "3                                                Notes:  8.5        4.15   \n",
       "4     Notes:Just cause it's dark and German doesn't ...  5.3        3.67   \n",
       "...                                                 ...  ...         ...   \n",
       "5423                                             Notes:  6.8        3.59   \n",
       "5552  Notes:This is the forty-fifth annual Our Speci...  6.9        3.79   \n",
       "5553                                             Notes:  7.5        3.76   \n",
       "5554  Notes:Chanukah Beer pours a rich crystal clear...  8.0        3.61   \n",
       "5555  Notes:The essence of Christmas is captured in ...  8.6        3.89   \n",
       "\n",
       "      min_ibu  max_ibu  astringency  body  alcohol  bitter  sweet  sour  \\\n",
       "0          25       50           13    32        9      47     74    33   \n",
       "1          25       50           12    57       18      33     55    16   \n",
       "2          25       50           14    37        6      42     43    11   \n",
       "3          25       50           13    55       31      47    101    18   \n",
       "4          25       50           21    69       10      63    120    14   \n",
       "...       ...      ...          ...   ...      ...     ...    ...   ...   \n",
       "5423       35       50            8    44       24      19     52    21   \n",
       "5552       35       50           22    73        9      58     87    23   \n",
       "5553       35       50           11    36       50      70     72    59   \n",
       "5554       35       50            6    64       30      57     78    15   \n",
       "5555       35       50            8    50       49      13     71    17   \n",
       "\n",
       "      salty  fruits  hoppy  spices  malty  avg_ibu condensed_style  \n",
       "0         0      33     57       8    111     37.5         Altbier  \n",
       "1         0      24     35      12     84     37.5         Altbier  \n",
       "2         0      10     54       4     62     37.5         Altbier  \n",
       "3         1      49     40      16    119     37.5         Altbier  \n",
       "4         0      19     36      15    218     37.5         Altbier  \n",
       "...     ...     ...    ...     ...    ...      ...             ...  \n",
       "5423      0      26     21      96     77     42.5   Winter Warmer  \n",
       "5552      0      48     91      44    104     42.5   Winter Warmer  \n",
       "5553      0      81    110      18     73     42.5   Winter Warmer  \n",
       "5554      1      28     57      23    129     42.5   Winter Warmer  \n",
       "5555      0      33     16     148     69     42.5   Winter Warmer  \n",
       "\n",
       "[5348 rows x 23 columns]"
      ]
     },
     "execution_count": 323,
     "metadata": {},
     "output_type": "execute_result"
    }
   ],
   "source": [
    "df.sort_values(\"beer_id\")"
   ]
  },
  {
   "cell_type": "code",
   "execution_count": 326,
   "metadata": {},
   "outputs": [
    {
     "data": {
      "text/html": [
       "<div>\n",
       "<style scoped>\n",
       "    .dataframe tbody tr th:only-of-type {\n",
       "        vertical-align: middle;\n",
       "    }\n",
       "\n",
       "    .dataframe tbody tr th {\n",
       "        vertical-align: top;\n",
       "    }\n",
       "\n",
       "    .dataframe thead th {\n",
       "        text-align: right;\n",
       "    }\n",
       "</style>\n",
       "<table border=\"1\" class=\"dataframe\">\n",
       "  <thead>\n",
       "    <tr style=\"text-align: right;\">\n",
       "      <th></th>\n",
       "      <th>beer_id</th>\n",
       "      <th>beer_name</th>\n",
       "      <th>beer_style</th>\n",
       "      <th>style_key</th>\n",
       "      <th>brewery</th>\n",
       "      <th>description</th>\n",
       "      <th>abv</th>\n",
       "      <th>ave_rating</th>\n",
       "      <th>min_ibu</th>\n",
       "      <th>max_ibu</th>\n",
       "      <th>astringency</th>\n",
       "      <th>body</th>\n",
       "      <th>alcohol</th>\n",
       "      <th>bitter</th>\n",
       "      <th>sweet</th>\n",
       "      <th>sour</th>\n",
       "      <th>salty</th>\n",
       "      <th>fruits</th>\n",
       "      <th>hoppy</th>\n",
       "      <th>spices</th>\n",
       "      <th>malty</th>\n",
       "      <th>avg_ibu</th>\n",
       "      <th>condensed_style</th>\n",
       "    </tr>\n",
       "  </thead>\n",
       "  <tbody>\n",
       "    <tr>\n",
       "      <th>1261</th>\n",
       "      <td>1251</td>\n",
       "      <td>#9</td>\n",
       "      <td>Fruit and Field Beer</td>\n",
       "      <td>77</td>\n",
       "      <td>Magic Hat Brewing Company</td>\n",
       "      <td>Notes:A beer cloaked in secrecy. An ale whose ...</td>\n",
       "      <td>5.10</td>\n",
       "      <td>3.42</td>\n",
       "      <td>5</td>\n",
       "      <td>45</td>\n",
       "      <td>22</td>\n",
       "      <td>23</td>\n",
       "      <td>1</td>\n",
       "      <td>31</td>\n",
       "      <td>73</td>\n",
       "      <td>38</td>\n",
       "      <td>0</td>\n",
       "      <td>74</td>\n",
       "      <td>50</td>\n",
       "      <td>2</td>\n",
       "      <td>28</td>\n",
       "      <td>25.0</td>\n",
       "      <td>Fruit and Field Beer</td>\n",
       "    </tr>\n",
       "    <tr>\n",
       "      <th>1262</th>\n",
       "      <td>1252</td>\n",
       "      <td>Samuel Adams Cherry WheatBoston Beer Company (...</td>\n",
       "      <td>Fruit and Field Beer</td>\n",
       "      <td>77</td>\n",
       "      <td>Boston Beer Company (Samuel Adams)</td>\n",
       "      <td>Notes:</td>\n",
       "      <td>5.30</td>\n",
       "      <td>3.19</td>\n",
       "      <td>5</td>\n",
       "      <td>45</td>\n",
       "      <td>4</td>\n",
       "      <td>9</td>\n",
       "      <td>8</td>\n",
       "      <td>7</td>\n",
       "      <td>40</td>\n",
       "      <td>16</td>\n",
       "      <td>0</td>\n",
       "      <td>69</td>\n",
       "      <td>12</td>\n",
       "      <td>0</td>\n",
       "      <td>25</td>\n",
       "      <td>25.0</td>\n",
       "      <td>Fruit and Field Beer</td>\n",
       "    </tr>\n",
       "    <tr>\n",
       "      <th>1263</th>\n",
       "      <td>1253</td>\n",
       "      <td>Raspberry Tart</td>\n",
       "      <td>Fruit and Field Beer</td>\n",
       "      <td>77</td>\n",
       "      <td>New Glarus Brewing Company</td>\n",
       "      <td>Notes:Treat yourself to a rare delight. The vo...</td>\n",
       "      <td>4.00</td>\n",
       "      <td>4.41</td>\n",
       "      <td>5</td>\n",
       "      <td>45</td>\n",
       "      <td>25</td>\n",
       "      <td>32</td>\n",
       "      <td>14</td>\n",
       "      <td>7</td>\n",
       "      <td>193</td>\n",
       "      <td>90</td>\n",
       "      <td>0</td>\n",
       "      <td>137</td>\n",
       "      <td>11</td>\n",
       "      <td>4</td>\n",
       "      <td>16</td>\n",
       "      <td>25.0</td>\n",
       "      <td>Fruit and Field Beer</td>\n",
       "    </tr>\n",
       "    <tr>\n",
       "      <th>1264</th>\n",
       "      <td>1254</td>\n",
       "      <td>Summer Shandy</td>\n",
       "      <td>Fruit and Field Beer</td>\n",
       "      <td>77</td>\n",
       "      <td>Jacob Leinenkugel Brewing Company</td>\n",
       "      <td>Notes:</td>\n",
       "      <td>4.20</td>\n",
       "      <td>3.20</td>\n",
       "      <td>5</td>\n",
       "      <td>45</td>\n",
       "      <td>8</td>\n",
       "      <td>23</td>\n",
       "      <td>9</td>\n",
       "      <td>6</td>\n",
       "      <td>22</td>\n",
       "      <td>55</td>\n",
       "      <td>0</td>\n",
       "      <td>51</td>\n",
       "      <td>5</td>\n",
       "      <td>1</td>\n",
       "      <td>28</td>\n",
       "      <td>25.0</td>\n",
       "      <td>Fruit and Field Beer</td>\n",
       "    </tr>\n",
       "    <tr>\n",
       "      <th>1265</th>\n",
       "      <td>1255</td>\n",
       "      <td>Rübæus</td>\n",
       "      <td>Fruit and Field Beer</td>\n",
       "      <td>77</td>\n",
       "      <td>Founders Brewing Company</td>\n",
       "      <td>Notes:This brew achieves its unique raspberry ...</td>\n",
       "      <td>5.70</td>\n",
       "      <td>3.91</td>\n",
       "      <td>5</td>\n",
       "      <td>45</td>\n",
       "      <td>14</td>\n",
       "      <td>37</td>\n",
       "      <td>7</td>\n",
       "      <td>12</td>\n",
       "      <td>138</td>\n",
       "      <td>50</td>\n",
       "      <td>0</td>\n",
       "      <td>88</td>\n",
       "      <td>16</td>\n",
       "      <td>1</td>\n",
       "      <td>20</td>\n",
       "      <td>25.0</td>\n",
       "      <td>Fruit and Field Beer</td>\n",
       "    </tr>\n",
       "    <tr>\n",
       "      <th>1266</th>\n",
       "      <td>1256</td>\n",
       "      <td>Wisconsin Belgian Red</td>\n",
       "      <td>Fruit and Field Beer</td>\n",
       "      <td>77</td>\n",
       "      <td>New Glarus Brewing Company</td>\n",
       "      <td>Notes:You hold the marriage of wine and beer. ...</td>\n",
       "      <td>4.00</td>\n",
       "      <td>4.42</td>\n",
       "      <td>5</td>\n",
       "      <td>45</td>\n",
       "      <td>22</td>\n",
       "      <td>34</td>\n",
       "      <td>8</td>\n",
       "      <td>9</td>\n",
       "      <td>81</td>\n",
       "      <td>67</td>\n",
       "      <td>0</td>\n",
       "      <td>137</td>\n",
       "      <td>16</td>\n",
       "      <td>6</td>\n",
       "      <td>32</td>\n",
       "      <td>25.0</td>\n",
       "      <td>Fruit and Field Beer</td>\n",
       "    </tr>\n",
       "    <tr>\n",
       "      <th>1267</th>\n",
       "      <td>1257</td>\n",
       "      <td>Purple Haze</td>\n",
       "      <td>Fruit and Field Beer</td>\n",
       "      <td>77</td>\n",
       "      <td>Abita Brewing Co.</td>\n",
       "      <td>Notes:Experience the magic of Purple Haze.® Cl...</td>\n",
       "      <td>4.20</td>\n",
       "      <td>3.32</td>\n",
       "      <td>5</td>\n",
       "      <td>45</td>\n",
       "      <td>11</td>\n",
       "      <td>30</td>\n",
       "      <td>3</td>\n",
       "      <td>11</td>\n",
       "      <td>90</td>\n",
       "      <td>49</td>\n",
       "      <td>1</td>\n",
       "      <td>77</td>\n",
       "      <td>19</td>\n",
       "      <td>1</td>\n",
       "      <td>59</td>\n",
       "      <td>25.0</td>\n",
       "      <td>Fruit and Field Beer</td>\n",
       "    </tr>\n",
       "    <tr>\n",
       "      <th>1268</th>\n",
       "      <td>1258</td>\n",
       "      <td>Banana Bread Beer</td>\n",
       "      <td>Fruit and Field Beer</td>\n",
       "      <td>77</td>\n",
       "      <td>Eagle Brewery</td>\n",
       "      <td>Notes:Long ago, ale was known as 'liquid bread...</td>\n",
       "      <td>5.20</td>\n",
       "      <td>3.56</td>\n",
       "      <td>5</td>\n",
       "      <td>45</td>\n",
       "      <td>14</td>\n",
       "      <td>34</td>\n",
       "      <td>7</td>\n",
       "      <td>26</td>\n",
       "      <td>44</td>\n",
       "      <td>21</td>\n",
       "      <td>2</td>\n",
       "      <td>92</td>\n",
       "      <td>27</td>\n",
       "      <td>14</td>\n",
       "      <td>73</td>\n",
       "      <td>25.0</td>\n",
       "      <td>Fruit and Field Beer</td>\n",
       "    </tr>\n",
       "    <tr>\n",
       "      <th>1269</th>\n",
       "      <td>1259</td>\n",
       "      <td>Serendipity</td>\n",
       "      <td>Fruit and Field Beer</td>\n",
       "      <td>77</td>\n",
       "      <td>New Glarus Brewing Company</td>\n",
       "      <td>Notes:Severe Drought, we shared the farmer’s h...</td>\n",
       "      <td>4.00</td>\n",
       "      <td>4.38</td>\n",
       "      <td>5</td>\n",
       "      <td>45</td>\n",
       "      <td>13</td>\n",
       "      <td>34</td>\n",
       "      <td>12</td>\n",
       "      <td>3</td>\n",
       "      <td>204</td>\n",
       "      <td>137</td>\n",
       "      <td>2</td>\n",
       "      <td>202</td>\n",
       "      <td>9</td>\n",
       "      <td>4</td>\n",
       "      <td>15</td>\n",
       "      <td>25.0</td>\n",
       "      <td>Fruit and Field Beer</td>\n",
       "    </tr>\n",
       "    <tr>\n",
       "      <th>1270</th>\n",
       "      <td>1260</td>\n",
       "      <td>Hell Or High Watermelon Wheat Beer</td>\n",
       "      <td>Fruit and Field Beer</td>\n",
       "      <td>77</td>\n",
       "      <td>21st Amendment Brewery</td>\n",
       "      <td>Notes:Like Lady Liberty, we stand for independ...</td>\n",
       "      <td>4.90</td>\n",
       "      <td>3.40</td>\n",
       "      <td>5</td>\n",
       "      <td>45</td>\n",
       "      <td>31</td>\n",
       "      <td>27</td>\n",
       "      <td>9</td>\n",
       "      <td>17</td>\n",
       "      <td>66</td>\n",
       "      <td>49</td>\n",
       "      <td>5</td>\n",
       "      <td>100</td>\n",
       "      <td>37</td>\n",
       "      <td>17</td>\n",
       "      <td>63</td>\n",
       "      <td>25.0</td>\n",
       "      <td>Fruit and Field Beer</td>\n",
       "    </tr>\n",
       "    <tr>\n",
       "      <th>1271</th>\n",
       "      <td>1261</td>\n",
       "      <td>Blushing Monk</td>\n",
       "      <td>Fruit and Field Beer</td>\n",
       "      <td>77</td>\n",
       "      <td>Founders Brewing Company</td>\n",
       "      <td>Notes:When our love of fruit and our love of b...</td>\n",
       "      <td>9.20</td>\n",
       "      <td>4.21</td>\n",
       "      <td>5</td>\n",
       "      <td>45</td>\n",
       "      <td>16</td>\n",
       "      <td>29</td>\n",
       "      <td>29</td>\n",
       "      <td>8</td>\n",
       "      <td>129</td>\n",
       "      <td>61</td>\n",
       "      <td>0</td>\n",
       "      <td>109</td>\n",
       "      <td>19</td>\n",
       "      <td>10</td>\n",
       "      <td>17</td>\n",
       "      <td>25.0</td>\n",
       "      <td>Fruit and Field Beer</td>\n",
       "    </tr>\n",
       "    <tr>\n",
       "      <th>1272</th>\n",
       "      <td>1262</td>\n",
       "      <td>Éphémère (Apple)</td>\n",
       "      <td>Fruit and Field Beer</td>\n",
       "      <td>77</td>\n",
       "      <td>Unibroue</td>\n",
       "      <td>Notes:As its name suggests, Éphémère is an eph...</td>\n",
       "      <td>5.50</td>\n",
       "      <td>3.64</td>\n",
       "      <td>5</td>\n",
       "      <td>45</td>\n",
       "      <td>18</td>\n",
       "      <td>31</td>\n",
       "      <td>7</td>\n",
       "      <td>4</td>\n",
       "      <td>134</td>\n",
       "      <td>120</td>\n",
       "      <td>1</td>\n",
       "      <td>140</td>\n",
       "      <td>18</td>\n",
       "      <td>15</td>\n",
       "      <td>33</td>\n",
       "      <td>25.0</td>\n",
       "      <td>Fruit and Field Beer</td>\n",
       "    </tr>\n",
       "    <tr>\n",
       "      <th>1273</th>\n",
       "      <td>1263</td>\n",
       "      <td>Autumn Maple</td>\n",
       "      <td>Fruit and Field Beer</td>\n",
       "      <td>77</td>\n",
       "      <td>The Bruery</td>\n",
       "      <td>Notes:Brewed with 17 lbs. of yams per barrel (...</td>\n",
       "      <td>10.00</td>\n",
       "      <td>3.81</td>\n",
       "      <td>5</td>\n",
       "      <td>45</td>\n",
       "      <td>6</td>\n",
       "      <td>37</td>\n",
       "      <td>31</td>\n",
       "      <td>17</td>\n",
       "      <td>101</td>\n",
       "      <td>22</td>\n",
       "      <td>1</td>\n",
       "      <td>49</td>\n",
       "      <td>17</td>\n",
       "      <td>64</td>\n",
       "      <td>63</td>\n",
       "      <td>25.0</td>\n",
       "      <td>Fruit and Field Beer</td>\n",
       "    </tr>\n",
       "    <tr>\n",
       "      <th>1274</th>\n",
       "      <td>1264</td>\n",
       "      <td>Samuel Adams Porch RockerBoston Beer Company (...</td>\n",
       "      <td>Fruit and Field Beer</td>\n",
       "      <td>77</td>\n",
       "      <td>Boston Beer Company (Samuel Adams)</td>\n",
       "      <td>Notes:</td>\n",
       "      <td>4.50</td>\n",
       "      <td>3.34</td>\n",
       "      <td>5</td>\n",
       "      <td>45</td>\n",
       "      <td>16</td>\n",
       "      <td>18</td>\n",
       "      <td>4</td>\n",
       "      <td>14</td>\n",
       "      <td>40</td>\n",
       "      <td>107</td>\n",
       "      <td>0</td>\n",
       "      <td>89</td>\n",
       "      <td>11</td>\n",
       "      <td>8</td>\n",
       "      <td>18</td>\n",
       "      <td>25.0</td>\n",
       "      <td>Fruit and Field Beer</td>\n",
       "    </tr>\n",
       "    <tr>\n",
       "      <th>1275</th>\n",
       "      <td>1265</td>\n",
       "      <td>Thumbprint Apple Ale</td>\n",
       "      <td>Fruit and Field Beer</td>\n",
       "      <td>77</td>\n",
       "      <td>New Glarus Brewing Company</td>\n",
       "      <td>Notes:</td>\n",
       "      <td>4.00</td>\n",
       "      <td>4.15</td>\n",
       "      <td>5</td>\n",
       "      <td>45</td>\n",
       "      <td>32</td>\n",
       "      <td>34</td>\n",
       "      <td>13</td>\n",
       "      <td>8</td>\n",
       "      <td>196</td>\n",
       "      <td>173</td>\n",
       "      <td>1</td>\n",
       "      <td>152</td>\n",
       "      <td>19</td>\n",
       "      <td>21</td>\n",
       "      <td>61</td>\n",
       "      <td>25.0</td>\n",
       "      <td>Fruit and Field Beer</td>\n",
       "    </tr>\n",
       "    <tr>\n",
       "      <th>1276</th>\n",
       "      <td>1266</td>\n",
       "      <td>Black &amp; Blue</td>\n",
       "      <td>Fruit and Field Beer</td>\n",
       "      <td>77</td>\n",
       "      <td>Dogfish Head Craft Brewery</td>\n",
       "      <td>Notes:Black &amp; Blue is a Belgian-style golden a...</td>\n",
       "      <td>10.00</td>\n",
       "      <td>3.71</td>\n",
       "      <td>5</td>\n",
       "      <td>45</td>\n",
       "      <td>12</td>\n",
       "      <td>28</td>\n",
       "      <td>19</td>\n",
       "      <td>6</td>\n",
       "      <td>170</td>\n",
       "      <td>76</td>\n",
       "      <td>2</td>\n",
       "      <td>147</td>\n",
       "      <td>5</td>\n",
       "      <td>19</td>\n",
       "      <td>21</td>\n",
       "      <td>25.0</td>\n",
       "      <td>Fruit and Field Beer</td>\n",
       "    </tr>\n",
       "    <tr>\n",
       "      <th>1277</th>\n",
       "      <td>1267</td>\n",
       "      <td>Strawberry Rhubarb</td>\n",
       "      <td>Fruit and Field Beer</td>\n",
       "      <td>77</td>\n",
       "      <td>New Glarus Brewing Company</td>\n",
       "      <td>Notes:Diploma Master Brewer Dan employed juicy...</td>\n",
       "      <td>4.00</td>\n",
       "      <td>4.35</td>\n",
       "      <td>5</td>\n",
       "      <td>45</td>\n",
       "      <td>27</td>\n",
       "      <td>43</td>\n",
       "      <td>14</td>\n",
       "      <td>4</td>\n",
       "      <td>100</td>\n",
       "      <td>147</td>\n",
       "      <td>1</td>\n",
       "      <td>162</td>\n",
       "      <td>15</td>\n",
       "      <td>4</td>\n",
       "      <td>49</td>\n",
       "      <td>25.0</td>\n",
       "      <td>Fruit and Field Beer</td>\n",
       "    </tr>\n",
       "    <tr>\n",
       "      <th>1278</th>\n",
       "      <td>1268</td>\n",
       "      <td>Mango Magnifico</td>\n",
       "      <td>Fruit and Field Beer</td>\n",
       "      <td>77</td>\n",
       "      <td>Founders Brewing Company</td>\n",
       "      <td>Notes:Mango Magnifico is a high-gravity fruit ...</td>\n",
       "      <td>10.00</td>\n",
       "      <td>3.66</td>\n",
       "      <td>5</td>\n",
       "      <td>45</td>\n",
       "      <td>5</td>\n",
       "      <td>31</td>\n",
       "      <td>37</td>\n",
       "      <td>10</td>\n",
       "      <td>110</td>\n",
       "      <td>44</td>\n",
       "      <td>0</td>\n",
       "      <td>98</td>\n",
       "      <td>6</td>\n",
       "      <td>62</td>\n",
       "      <td>22</td>\n",
       "      <td>25.0</td>\n",
       "      <td>Fruit and Field Beer</td>\n",
       "    </tr>\n",
       "    <tr>\n",
       "      <th>1279</th>\n",
       "      <td>1269</td>\n",
       "      <td>Cerise</td>\n",
       "      <td>Fruit and Field Beer</td>\n",
       "      <td>77</td>\n",
       "      <td>Founders Brewing Company</td>\n",
       "      <td>Notes:You’ll have a soft spot for this one. Us...</td>\n",
       "      <td>6.50</td>\n",
       "      <td>3.65</td>\n",
       "      <td>5</td>\n",
       "      <td>45</td>\n",
       "      <td>16</td>\n",
       "      <td>28</td>\n",
       "      <td>13</td>\n",
       "      <td>1</td>\n",
       "      <td>59</td>\n",
       "      <td>53</td>\n",
       "      <td>0</td>\n",
       "      <td>87</td>\n",
       "      <td>9</td>\n",
       "      <td>2</td>\n",
       "      <td>24</td>\n",
       "      <td>25.0</td>\n",
       "      <td>Fruit and Field Beer</td>\n",
       "    </tr>\n",
       "    <tr>\n",
       "      <th>1280</th>\n",
       "      <td>1270</td>\n",
       "      <td>Strawberry Lager</td>\n",
       "      <td>Fruit and Field Beer</td>\n",
       "      <td>77</td>\n",
       "      <td>Abita Brewing Co.</td>\n",
       "      <td>Notes:Strawberry Harvest Lager is a wheat beer...</td>\n",
       "      <td>4.20</td>\n",
       "      <td>3.50</td>\n",
       "      <td>5</td>\n",
       "      <td>45</td>\n",
       "      <td>10</td>\n",
       "      <td>20</td>\n",
       "      <td>6</td>\n",
       "      <td>8</td>\n",
       "      <td>30</td>\n",
       "      <td>13</td>\n",
       "      <td>1</td>\n",
       "      <td>69</td>\n",
       "      <td>11</td>\n",
       "      <td>7</td>\n",
       "      <td>24</td>\n",
       "      <td>25.0</td>\n",
       "      <td>Fruit and Field Beer</td>\n",
       "    </tr>\n",
       "    <tr>\n",
       "      <th>1281</th>\n",
       "      <td>1271</td>\n",
       "      <td>Samuel Adams Cranberry LambicBoston Beer Compa...</td>\n",
       "      <td>Fruit and Field Beer</td>\n",
       "      <td>77</td>\n",
       "      <td>Boston Beer Company (Samuel Adams)</td>\n",
       "      <td>Notes:</td>\n",
       "      <td>5.90</td>\n",
       "      <td>2.68</td>\n",
       "      <td>5</td>\n",
       "      <td>45</td>\n",
       "      <td>15</td>\n",
       "      <td>25</td>\n",
       "      <td>7</td>\n",
       "      <td>4</td>\n",
       "      <td>89</td>\n",
       "      <td>67</td>\n",
       "      <td>0</td>\n",
       "      <td>77</td>\n",
       "      <td>4</td>\n",
       "      <td>1</td>\n",
       "      <td>35</td>\n",
       "      <td>25.0</td>\n",
       "      <td>Fruit and Field Beer</td>\n",
       "    </tr>\n",
       "    <tr>\n",
       "      <th>1282</th>\n",
       "      <td>1272</td>\n",
       "      <td>Shiner Ruby Redbird</td>\n",
       "      <td>Fruit and Field Beer</td>\n",
       "      <td>77</td>\n",
       "      <td>Spoetzl Brewery</td>\n",
       "      <td>Notes:This refreshing brew is made with juice ...</td>\n",
       "      <td>4.01</td>\n",
       "      <td>3.22</td>\n",
       "      <td>5</td>\n",
       "      <td>45</td>\n",
       "      <td>14</td>\n",
       "      <td>19</td>\n",
       "      <td>6</td>\n",
       "      <td>21</td>\n",
       "      <td>28</td>\n",
       "      <td>80</td>\n",
       "      <td>0</td>\n",
       "      <td>79</td>\n",
       "      <td>19</td>\n",
       "      <td>27</td>\n",
       "      <td>31</td>\n",
       "      <td>25.0</td>\n",
       "      <td>Fruit and Field Beer</td>\n",
       "    </tr>\n",
       "    <tr>\n",
       "      <th>1284</th>\n",
       "      <td>1273</td>\n",
       "      <td>Tweason'ale</td>\n",
       "      <td>Fruit and Field Beer</td>\n",
       "      <td>77</td>\n",
       "      <td>Dogfish Head Craft Brewery</td>\n",
       "      <td>Notes:For our first new 12-ounce 4-packs in ne...</td>\n",
       "      <td>6.00</td>\n",
       "      <td>3.13</td>\n",
       "      <td>5</td>\n",
       "      <td>45</td>\n",
       "      <td>3</td>\n",
       "      <td>18</td>\n",
       "      <td>5</td>\n",
       "      <td>4</td>\n",
       "      <td>52</td>\n",
       "      <td>35</td>\n",
       "      <td>0</td>\n",
       "      <td>55</td>\n",
       "      <td>3</td>\n",
       "      <td>0</td>\n",
       "      <td>36</td>\n",
       "      <td>25.0</td>\n",
       "      <td>Fruit and Field Beer</td>\n",
       "    </tr>\n",
       "    <tr>\n",
       "      <th>1286</th>\n",
       "      <td>1275</td>\n",
       "      <td>Soft Parade</td>\n",
       "      <td>Fruit and Field Beer</td>\n",
       "      <td>77</td>\n",
       "      <td>Short's Brewing Company</td>\n",
       "      <td>Notes:Soft Parade is a Fruit Rye Ale brewed wi...</td>\n",
       "      <td>7.50</td>\n",
       "      <td>3.69</td>\n",
       "      <td>5</td>\n",
       "      <td>45</td>\n",
       "      <td>18</td>\n",
       "      <td>60</td>\n",
       "      <td>11</td>\n",
       "      <td>5</td>\n",
       "      <td>168</td>\n",
       "      <td>68</td>\n",
       "      <td>0</td>\n",
       "      <td>154</td>\n",
       "      <td>14</td>\n",
       "      <td>6</td>\n",
       "      <td>53</td>\n",
       "      <td>25.0</td>\n",
       "      <td>Fruit and Field Beer</td>\n",
       "    </tr>\n",
       "    <tr>\n",
       "      <th>1287</th>\n",
       "      <td>1276</td>\n",
       "      <td>Blue</td>\n",
       "      <td>Fruit and Field Beer</td>\n",
       "      <td>77</td>\n",
       "      <td>SweetWater Brewing Company</td>\n",
       "      <td>Notes:</td>\n",
       "      <td>4.90</td>\n",
       "      <td>3.41</td>\n",
       "      <td>5</td>\n",
       "      <td>45</td>\n",
       "      <td>14</td>\n",
       "      <td>10</td>\n",
       "      <td>2</td>\n",
       "      <td>9</td>\n",
       "      <td>84</td>\n",
       "      <td>21</td>\n",
       "      <td>0</td>\n",
       "      <td>64</td>\n",
       "      <td>11</td>\n",
       "      <td>0</td>\n",
       "      <td>43</td>\n",
       "      <td>25.0</td>\n",
       "      <td>Fruit and Field Beer</td>\n",
       "    </tr>\n",
       "    <tr>\n",
       "      <th>1288</th>\n",
       "      <td>1277</td>\n",
       "      <td>Pyramid Apricot Ale</td>\n",
       "      <td>Fruit and Field Beer</td>\n",
       "      <td>77</td>\n",
       "      <td>Pyramid Breweries, Inc.</td>\n",
       "      <td>Notes:Originally named Apricot Weizen\\t</td>\n",
       "      <td>5.10</td>\n",
       "      <td>3.47</td>\n",
       "      <td>5</td>\n",
       "      <td>45</td>\n",
       "      <td>12</td>\n",
       "      <td>29</td>\n",
       "      <td>8</td>\n",
       "      <td>9</td>\n",
       "      <td>96</td>\n",
       "      <td>50</td>\n",
       "      <td>0</td>\n",
       "      <td>100</td>\n",
       "      <td>16</td>\n",
       "      <td>3</td>\n",
       "      <td>47</td>\n",
       "      <td>25.0</td>\n",
       "      <td>Fruit and Field Beer</td>\n",
       "    </tr>\n",
       "    <tr>\n",
       "      <th>1289</th>\n",
       "      <td>1278</td>\n",
       "      <td>Redd's Apple Ale</td>\n",
       "      <td>Fruit and Field Beer</td>\n",
       "      <td>77</td>\n",
       "      <td>Miller Brewing Co.</td>\n",
       "      <td>Notes:</td>\n",
       "      <td>5.00</td>\n",
       "      <td>2.73</td>\n",
       "      <td>5</td>\n",
       "      <td>45</td>\n",
       "      <td>10</td>\n",
       "      <td>10</td>\n",
       "      <td>9</td>\n",
       "      <td>4</td>\n",
       "      <td>135</td>\n",
       "      <td>113</td>\n",
       "      <td>0</td>\n",
       "      <td>124</td>\n",
       "      <td>4</td>\n",
       "      <td>1</td>\n",
       "      <td>9</td>\n",
       "      <td>25.0</td>\n",
       "      <td>Fruit and Field Beer</td>\n",
       "    </tr>\n",
       "    <tr>\n",
       "      <th>1290</th>\n",
       "      <td>1279</td>\n",
       "      <td>Wild Blueberry Wheat Ale</td>\n",
       "      <td>Fruit and Field Beer</td>\n",
       "      <td>77</td>\n",
       "      <td>Sea Dog Brewing Company</td>\n",
       "      <td>Notes:Our unique contribution to the fruit ale...</td>\n",
       "      <td>4.70</td>\n",
       "      <td>3.47</td>\n",
       "      <td>5</td>\n",
       "      <td>45</td>\n",
       "      <td>19</td>\n",
       "      <td>28</td>\n",
       "      <td>9</td>\n",
       "      <td>10</td>\n",
       "      <td>102</td>\n",
       "      <td>28</td>\n",
       "      <td>0</td>\n",
       "      <td>85</td>\n",
       "      <td>10</td>\n",
       "      <td>1</td>\n",
       "      <td>46</td>\n",
       "      <td>25.0</td>\n",
       "      <td>Fruit and Field Beer</td>\n",
       "    </tr>\n",
       "    <tr>\n",
       "      <th>1292</th>\n",
       "      <td>1281</td>\n",
       "      <td>Tangerine Wheat</td>\n",
       "      <td>Fruit and Field Beer</td>\n",
       "      <td>77</td>\n",
       "      <td>Lost Coast Brewery and Cafe</td>\n",
       "      <td>Notes:</td>\n",
       "      <td>5.50</td>\n",
       "      <td>3.46</td>\n",
       "      <td>5</td>\n",
       "      <td>45</td>\n",
       "      <td>11</td>\n",
       "      <td>27</td>\n",
       "      <td>11</td>\n",
       "      <td>13</td>\n",
       "      <td>30</td>\n",
       "      <td>61</td>\n",
       "      <td>0</td>\n",
       "      <td>105</td>\n",
       "      <td>14</td>\n",
       "      <td>0</td>\n",
       "      <td>33</td>\n",
       "      <td>25.0</td>\n",
       "      <td>Fruit and Field Beer</td>\n",
       "    </tr>\n",
       "    <tr>\n",
       "      <th>1293</th>\n",
       "      <td>1282</td>\n",
       "      <td>Cucumber Saison</td>\n",
       "      <td>Fruit and Field Beer</td>\n",
       "      <td>77</td>\n",
       "      <td>Cigar City Brewing</td>\n",
       "      <td>Notes:We employ the humble cucumber in a low g...</td>\n",
       "      <td>5.00</td>\n",
       "      <td>3.73</td>\n",
       "      <td>5</td>\n",
       "      <td>45</td>\n",
       "      <td>43</td>\n",
       "      <td>14</td>\n",
       "      <td>8</td>\n",
       "      <td>17</td>\n",
       "      <td>21</td>\n",
       "      <td>41</td>\n",
       "      <td>3</td>\n",
       "      <td>36</td>\n",
       "      <td>21</td>\n",
       "      <td>11</td>\n",
       "      <td>13</td>\n",
       "      <td>25.0</td>\n",
       "      <td>Fruit and Field Beer</td>\n",
       "    </tr>\n",
       "    <tr>\n",
       "      <th>1294</th>\n",
       "      <td>1283</td>\n",
       "      <td>Pumpkinfest</td>\n",
       "      <td>Fruit and Field Beer</td>\n",
       "      <td>77</td>\n",
       "      <td>Terrapin Beer Company</td>\n",
       "      <td>Notes:Although this is a pumpkin beer, it is a...</td>\n",
       "      <td>6.10</td>\n",
       "      <td>3.69</td>\n",
       "      <td>5</td>\n",
       "      <td>45</td>\n",
       "      <td>10</td>\n",
       "      <td>24</td>\n",
       "      <td>6</td>\n",
       "      <td>5</td>\n",
       "      <td>22</td>\n",
       "      <td>13</td>\n",
       "      <td>1</td>\n",
       "      <td>71</td>\n",
       "      <td>7</td>\n",
       "      <td>82</td>\n",
       "      <td>35</td>\n",
       "      <td>25.0</td>\n",
       "      <td>Fruit and Field Beer</td>\n",
       "    </tr>\n",
       "    <tr>\n",
       "      <th>1295</th>\n",
       "      <td>1284</td>\n",
       "      <td>Apricot Wheat</td>\n",
       "      <td>Fruit and Field Beer</td>\n",
       "      <td>77</td>\n",
       "      <td>Ithaca Beer Company</td>\n",
       "      <td>Notes:Our smooth wheat beer is light in color ...</td>\n",
       "      <td>4.90</td>\n",
       "      <td>3.32</td>\n",
       "      <td>5</td>\n",
       "      <td>45</td>\n",
       "      <td>13</td>\n",
       "      <td>20</td>\n",
       "      <td>11</td>\n",
       "      <td>7</td>\n",
       "      <td>99</td>\n",
       "      <td>31</td>\n",
       "      <td>0</td>\n",
       "      <td>88</td>\n",
       "      <td>13</td>\n",
       "      <td>2</td>\n",
       "      <td>56</td>\n",
       "      <td>25.0</td>\n",
       "      <td>Fruit and Field Beer</td>\n",
       "    </tr>\n",
       "    <tr>\n",
       "      <th>1296</th>\n",
       "      <td>1285</td>\n",
       "      <td>UFO Raspberry Hefeweizen</td>\n",
       "      <td>Fruit and Field Beer</td>\n",
       "      <td>77</td>\n",
       "      <td>Harpoon Brewery &amp; Beer Hall</td>\n",
       "      <td>Notes:We have added natural raspberry flavor t...</td>\n",
       "      <td>4.80</td>\n",
       "      <td>3.61</td>\n",
       "      <td>5</td>\n",
       "      <td>45</td>\n",
       "      <td>19</td>\n",
       "      <td>28</td>\n",
       "      <td>10</td>\n",
       "      <td>3</td>\n",
       "      <td>122</td>\n",
       "      <td>54</td>\n",
       "      <td>1</td>\n",
       "      <td>119</td>\n",
       "      <td>10</td>\n",
       "      <td>2</td>\n",
       "      <td>33</td>\n",
       "      <td>25.0</td>\n",
       "      <td>Fruit and Field Beer</td>\n",
       "    </tr>\n",
       "    <tr>\n",
       "      <th>1297</th>\n",
       "      <td>1286</td>\n",
       "      <td>Samuel Adams Blueberry Hill LagerBoston Beer C...</td>\n",
       "      <td>Fruit and Field Beer</td>\n",
       "      <td>77</td>\n",
       "      <td>Boston Beer Company (Samuel Adams)</td>\n",
       "      <td>Notes:</td>\n",
       "      <td>5.50</td>\n",
       "      <td>3.26</td>\n",
       "      <td>5</td>\n",
       "      <td>45</td>\n",
       "      <td>10</td>\n",
       "      <td>19</td>\n",
       "      <td>9</td>\n",
       "      <td>14</td>\n",
       "      <td>103</td>\n",
       "      <td>33</td>\n",
       "      <td>0</td>\n",
       "      <td>96</td>\n",
       "      <td>15</td>\n",
       "      <td>0</td>\n",
       "      <td>23</td>\n",
       "      <td>25.0</td>\n",
       "      <td>Fruit and Field Beer</td>\n",
       "    </tr>\n",
       "    <tr>\n",
       "      <th>1298</th>\n",
       "      <td>1287</td>\n",
       "      <td>Shiner Prickly Pear</td>\n",
       "      <td>Fruit and Field Beer</td>\n",
       "      <td>77</td>\n",
       "      <td>Spoetzl Brewery</td>\n",
       "      <td>Notes:Doubly good in triple digits, our unique...</td>\n",
       "      <td>4.90</td>\n",
       "      <td>3.39</td>\n",
       "      <td>5</td>\n",
       "      <td>45</td>\n",
       "      <td>13</td>\n",
       "      <td>26</td>\n",
       "      <td>3</td>\n",
       "      <td>18</td>\n",
       "      <td>75</td>\n",
       "      <td>69</td>\n",
       "      <td>2</td>\n",
       "      <td>98</td>\n",
       "      <td>28</td>\n",
       "      <td>1</td>\n",
       "      <td>40</td>\n",
       "      <td>25.0</td>\n",
       "      <td>Fruit and Field Beer</td>\n",
       "    </tr>\n",
       "    <tr>\n",
       "      <th>1299</th>\n",
       "      <td>1288</td>\n",
       "      <td>Son Of A Peach</td>\n",
       "      <td>Fruit and Field Beer</td>\n",
       "      <td>77</td>\n",
       "      <td>RJ Rockers Brewing Company</td>\n",
       "      <td>Notes:An unfiltered American wheat ale made wi...</td>\n",
       "      <td>6.00</td>\n",
       "      <td>3.58</td>\n",
       "      <td>5</td>\n",
       "      <td>45</td>\n",
       "      <td>15</td>\n",
       "      <td>20</td>\n",
       "      <td>6</td>\n",
       "      <td>8</td>\n",
       "      <td>28</td>\n",
       "      <td>26</td>\n",
       "      <td>0</td>\n",
       "      <td>92</td>\n",
       "      <td>10</td>\n",
       "      <td>3</td>\n",
       "      <td>32</td>\n",
       "      <td>25.0</td>\n",
       "      <td>Fruit and Field Beer</td>\n",
       "    </tr>\n",
       "    <tr>\n",
       "      <th>1300</th>\n",
       "      <td>1289</td>\n",
       "      <td>Shock Top Lemon Shandy</td>\n",
       "      <td>Fruit and Field Beer</td>\n",
       "      <td>77</td>\n",
       "      <td>Anheuser-Busch</td>\n",
       "      <td>Notes:Our Lemon Shandy is a unique take on the...</td>\n",
       "      <td>4.20</td>\n",
       "      <td>2.85</td>\n",
       "      <td>5</td>\n",
       "      <td>45</td>\n",
       "      <td>14</td>\n",
       "      <td>32</td>\n",
       "      <td>8</td>\n",
       "      <td>13</td>\n",
       "      <td>41</td>\n",
       "      <td>111</td>\n",
       "      <td>5</td>\n",
       "      <td>115</td>\n",
       "      <td>33</td>\n",
       "      <td>6</td>\n",
       "      <td>57</td>\n",
       "      <td>25.0</td>\n",
       "      <td>Fruit and Field Beer</td>\n",
       "    </tr>\n",
       "    <tr>\n",
       "      <th>1301</th>\n",
       "      <td>1290</td>\n",
       "      <td>Orange Shandy</td>\n",
       "      <td>Fruit and Field Beer</td>\n",
       "      <td>77</td>\n",
       "      <td>Jacob Leinenkugel Brewing Company</td>\n",
       "      <td>Notes:</td>\n",
       "      <td>4.20</td>\n",
       "      <td>3.17</td>\n",
       "      <td>5</td>\n",
       "      <td>45</td>\n",
       "      <td>19</td>\n",
       "      <td>30</td>\n",
       "      <td>9</td>\n",
       "      <td>17</td>\n",
       "      <td>64</td>\n",
       "      <td>134</td>\n",
       "      <td>4</td>\n",
       "      <td>161</td>\n",
       "      <td>20</td>\n",
       "      <td>20</td>\n",
       "      <td>55</td>\n",
       "      <td>25.0</td>\n",
       "      <td>Fruit and Field Beer</td>\n",
       "    </tr>\n",
       "    <tr>\n",
       "      <th>1302</th>\n",
       "      <td>1291</td>\n",
       "      <td>Bumble Berry Honey Blueberry Ale</td>\n",
       "      <td>Fruit and Field Beer</td>\n",
       "      <td>77</td>\n",
       "      <td>Fat Head's Brewery &amp; Saloon</td>\n",
       "      <td>Notes:Brewed with fresh harvested spring honey...</td>\n",
       "      <td>5.30</td>\n",
       "      <td>3.73</td>\n",
       "      <td>5</td>\n",
       "      <td>45</td>\n",
       "      <td>22</td>\n",
       "      <td>19</td>\n",
       "      <td>7</td>\n",
       "      <td>12</td>\n",
       "      <td>143</td>\n",
       "      <td>22</td>\n",
       "      <td>6</td>\n",
       "      <td>81</td>\n",
       "      <td>19</td>\n",
       "      <td>6</td>\n",
       "      <td>77</td>\n",
       "      <td>25.0</td>\n",
       "      <td>Fruit and Field Beer</td>\n",
       "    </tr>\n",
       "    <tr>\n",
       "      <th>1303</th>\n",
       "      <td>1292</td>\n",
       "      <td>Blackbeary Wheat</td>\n",
       "      <td>Fruit and Field Beer</td>\n",
       "      <td>77</td>\n",
       "      <td>Long Trail Brewing Co.</td>\n",
       "      <td>Notes:This brew combines 2-Row Pilsen malt, a ...</td>\n",
       "      <td>4.00</td>\n",
       "      <td>3.14</td>\n",
       "      <td>5</td>\n",
       "      <td>45</td>\n",
       "      <td>13</td>\n",
       "      <td>13</td>\n",
       "      <td>7</td>\n",
       "      <td>7</td>\n",
       "      <td>73</td>\n",
       "      <td>28</td>\n",
       "      <td>0</td>\n",
       "      <td>61</td>\n",
       "      <td>9</td>\n",
       "      <td>3</td>\n",
       "      <td>44</td>\n",
       "      <td>25.0</td>\n",
       "      <td>Fruit and Field Beer</td>\n",
       "    </tr>\n",
       "    <tr>\n",
       "      <th>1304</th>\n",
       "      <td>1293</td>\n",
       "      <td>Raspberry Ale</td>\n",
       "      <td>Fruit and Field Beer</td>\n",
       "      <td>77</td>\n",
       "      <td>Dark Horse Brewing Company</td>\n",
       "      <td>Notes:This beer is a light bodied, easy drinki...</td>\n",
       "      <td>5.50</td>\n",
       "      <td>3.39</td>\n",
       "      <td>5</td>\n",
       "      <td>45</td>\n",
       "      <td>12</td>\n",
       "      <td>26</td>\n",
       "      <td>11</td>\n",
       "      <td>21</td>\n",
       "      <td>121</td>\n",
       "      <td>50</td>\n",
       "      <td>0</td>\n",
       "      <td>86</td>\n",
       "      <td>22</td>\n",
       "      <td>0</td>\n",
       "      <td>52</td>\n",
       "      <td>25.0</td>\n",
       "      <td>Fruit and Field Beer</td>\n",
       "    </tr>\n",
       "    <tr>\n",
       "      <th>1305</th>\n",
       "      <td>1294</td>\n",
       "      <td>Blueberry Ale</td>\n",
       "      <td>Fruit and Field Beer</td>\n",
       "      <td>77</td>\n",
       "      <td>Blue Point Brewing Company</td>\n",
       "      <td>Notes:</td>\n",
       "      <td>4.60</td>\n",
       "      <td>3.52</td>\n",
       "      <td>5</td>\n",
       "      <td>45</td>\n",
       "      <td>8</td>\n",
       "      <td>17</td>\n",
       "      <td>4</td>\n",
       "      <td>7</td>\n",
       "      <td>79</td>\n",
       "      <td>17</td>\n",
       "      <td>0</td>\n",
       "      <td>67</td>\n",
       "      <td>10</td>\n",
       "      <td>1</td>\n",
       "      <td>24</td>\n",
       "      <td>25.0</td>\n",
       "      <td>Fruit and Field Beer</td>\n",
       "    </tr>\n",
       "    <tr>\n",
       "      <th>1306</th>\n",
       "      <td>1295</td>\n",
       "      <td>Pumpkin Lager</td>\n",
       "      <td>Fruit and Field Beer</td>\n",
       "      <td>77</td>\n",
       "      <td>Lakefront Brewery, Inc.</td>\n",
       "      <td>Notes:Beer Brewed with Pumpkin and Spices\\t</td>\n",
       "      <td>6.00</td>\n",
       "      <td>3.52</td>\n",
       "      <td>5</td>\n",
       "      <td>45</td>\n",
       "      <td>12</td>\n",
       "      <td>36</td>\n",
       "      <td>8</td>\n",
       "      <td>7</td>\n",
       "      <td>38</td>\n",
       "      <td>19</td>\n",
       "      <td>0</td>\n",
       "      <td>90</td>\n",
       "      <td>20</td>\n",
       "      <td>93</td>\n",
       "      <td>53</td>\n",
       "      <td>25.0</td>\n",
       "      <td>Fruit and Field Beer</td>\n",
       "    </tr>\n",
       "    <tr>\n",
       "      <th>1307</th>\n",
       "      <td>1296</td>\n",
       "      <td>Delirium Red</td>\n",
       "      <td>Fruit and Field Beer</td>\n",
       "      <td>77</td>\n",
       "      <td>Brouwerij Huyghe</td>\n",
       "      <td>Notes:Also known as La Bouffonne Rouge\\t</td>\n",
       "      <td>8.00</td>\n",
       "      <td>3.68</td>\n",
       "      <td>5</td>\n",
       "      <td>45</td>\n",
       "      <td>8</td>\n",
       "      <td>27</td>\n",
       "      <td>17</td>\n",
       "      <td>7</td>\n",
       "      <td>108</td>\n",
       "      <td>51</td>\n",
       "      <td>1</td>\n",
       "      <td>115</td>\n",
       "      <td>28</td>\n",
       "      <td>5</td>\n",
       "      <td>28</td>\n",
       "      <td>25.0</td>\n",
       "      <td>Fruit and Field Beer</td>\n",
       "    </tr>\n",
       "    <tr>\n",
       "      <th>1308</th>\n",
       "      <td>1297</td>\n",
       "      <td>Orange Blossom Cream Ale</td>\n",
       "      <td>Fruit and Field Beer</td>\n",
       "      <td>77</td>\n",
       "      <td>Buffalo Bill's Brewery</td>\n",
       "      <td>Notes:A light ale with hints of fresh orange. ...</td>\n",
       "      <td>5.20</td>\n",
       "      <td>3.05</td>\n",
       "      <td>5</td>\n",
       "      <td>45</td>\n",
       "      <td>12</td>\n",
       "      <td>27</td>\n",
       "      <td>8</td>\n",
       "      <td>28</td>\n",
       "      <td>46</td>\n",
       "      <td>86</td>\n",
       "      <td>0</td>\n",
       "      <td>86</td>\n",
       "      <td>35</td>\n",
       "      <td>5</td>\n",
       "      <td>30</td>\n",
       "      <td>25.0</td>\n",
       "      <td>Fruit and Field Beer</td>\n",
       "    </tr>\n",
       "    <tr>\n",
       "      <th>1309</th>\n",
       "      <td>1298</td>\n",
       "      <td>Curious Traveler Lemon Shandy</td>\n",
       "      <td>Fruit and Field Beer</td>\n",
       "      <td>77</td>\n",
       "      <td>The Traveler Beer Co.</td>\n",
       "      <td>Notes:Curious Traveler is our take on a classi...</td>\n",
       "      <td>4.40</td>\n",
       "      <td>3.41</td>\n",
       "      <td>5</td>\n",
       "      <td>45</td>\n",
       "      <td>25</td>\n",
       "      <td>35</td>\n",
       "      <td>10</td>\n",
       "      <td>17</td>\n",
       "      <td>39</td>\n",
       "      <td>103</td>\n",
       "      <td>3</td>\n",
       "      <td>99</td>\n",
       "      <td>19</td>\n",
       "      <td>3</td>\n",
       "      <td>46</td>\n",
       "      <td>25.0</td>\n",
       "      <td>Fruit and Field Beer</td>\n",
       "    </tr>\n",
       "    <tr>\n",
       "      <th>1310</th>\n",
       "      <td>1299</td>\n",
       "      <td>Pugsley's Signature Series: Smashed Blueberry</td>\n",
       "      <td>Fruit and Field Beer</td>\n",
       "      <td>77</td>\n",
       "      <td>Shipyard Brewing Company</td>\n",
       "      <td>Notes:</td>\n",
       "      <td>9.00</td>\n",
       "      <td>3.90</td>\n",
       "      <td>5</td>\n",
       "      <td>45</td>\n",
       "      <td>13</td>\n",
       "      <td>87</td>\n",
       "      <td>26</td>\n",
       "      <td>43</td>\n",
       "      <td>171</td>\n",
       "      <td>16</td>\n",
       "      <td>0</td>\n",
       "      <td>102</td>\n",
       "      <td>26</td>\n",
       "      <td>5</td>\n",
       "      <td>109</td>\n",
       "      <td>25.0</td>\n",
       "      <td>Fruit and Field Beer</td>\n",
       "    </tr>\n",
       "    <tr>\n",
       "      <th>1311</th>\n",
       "      <td>1300</td>\n",
       "      <td>Organic StrawberrySamuel Smith Old Brewery (Ta...</td>\n",
       "      <td>Fruit and Field Beer</td>\n",
       "      <td>77</td>\n",
       "      <td>Samuel Smith Old Brewery (Tadcaster)</td>\n",
       "      <td>Notes:</td>\n",
       "      <td>5.10</td>\n",
       "      <td>3.87</td>\n",
       "      <td>5</td>\n",
       "      <td>45</td>\n",
       "      <td>11</td>\n",
       "      <td>45</td>\n",
       "      <td>7</td>\n",
       "      <td>12</td>\n",
       "      <td>91</td>\n",
       "      <td>64</td>\n",
       "      <td>0</td>\n",
       "      <td>129</td>\n",
       "      <td>12</td>\n",
       "      <td>0</td>\n",
       "      <td>28</td>\n",
       "      <td>25.0</td>\n",
       "      <td>Fruit and Field Beer</td>\n",
       "    </tr>\n",
       "  </tbody>\n",
       "</table>\n",
       "</div>"
      ],
      "text/plain": [
       "      beer_id                                          beer_name  \\\n",
       "1261     1251                                                 #9   \n",
       "1262     1252  Samuel Adams Cherry WheatBoston Beer Company (...   \n",
       "1263     1253                                     Raspberry Tart   \n",
       "1264     1254                                      Summer Shandy   \n",
       "1265     1255                                             Rübæus   \n",
       "1266     1256                              Wisconsin Belgian Red   \n",
       "1267     1257                                        Purple Haze   \n",
       "1268     1258                                  Banana Bread Beer   \n",
       "1269     1259                                        Serendipity   \n",
       "1270     1260                 Hell Or High Watermelon Wheat Beer   \n",
       "1271     1261                                      Blushing Monk   \n",
       "1272     1262                                   Éphémère (Apple)   \n",
       "1273     1263                                       Autumn Maple   \n",
       "1274     1264  Samuel Adams Porch RockerBoston Beer Company (...   \n",
       "1275     1265                               Thumbprint Apple Ale   \n",
       "1276     1266                                       Black & Blue   \n",
       "1277     1267                                 Strawberry Rhubarb   \n",
       "1278     1268                                    Mango Magnifico   \n",
       "1279     1269                                             Cerise   \n",
       "1280     1270                                   Strawberry Lager   \n",
       "1281     1271  Samuel Adams Cranberry LambicBoston Beer Compa...   \n",
       "1282     1272                                Shiner Ruby Redbird   \n",
       "1284     1273                                        Tweason'ale   \n",
       "1286     1275                                        Soft Parade   \n",
       "1287     1276                                               Blue   \n",
       "1288     1277                                Pyramid Apricot Ale   \n",
       "1289     1278                                   Redd's Apple Ale   \n",
       "1290     1279                           Wild Blueberry Wheat Ale   \n",
       "1292     1281                                    Tangerine Wheat   \n",
       "1293     1282                                    Cucumber Saison   \n",
       "1294     1283                                        Pumpkinfest   \n",
       "1295     1284                                      Apricot Wheat   \n",
       "1296     1285                           UFO Raspberry Hefeweizen   \n",
       "1297     1286  Samuel Adams Blueberry Hill LagerBoston Beer C...   \n",
       "1298     1287                                Shiner Prickly Pear   \n",
       "1299     1288                                     Son Of A Peach   \n",
       "1300     1289                             Shock Top Lemon Shandy   \n",
       "1301     1290                                      Orange Shandy   \n",
       "1302     1291                   Bumble Berry Honey Blueberry Ale   \n",
       "1303     1292                                   Blackbeary Wheat   \n",
       "1304     1293                                      Raspberry Ale   \n",
       "1305     1294                                      Blueberry Ale   \n",
       "1306     1295                                      Pumpkin Lager   \n",
       "1307     1296                                       Delirium Red   \n",
       "1308     1297                           Orange Blossom Cream Ale   \n",
       "1309     1298                      Curious Traveler Lemon Shandy   \n",
       "1310     1299      Pugsley's Signature Series: Smashed Blueberry   \n",
       "1311     1300  Organic StrawberrySamuel Smith Old Brewery (Ta...   \n",
       "\n",
       "                beer_style  style_key                               brewery  \\\n",
       "1261  Fruit and Field Beer         77             Magic Hat Brewing Company   \n",
       "1262  Fruit and Field Beer         77    Boston Beer Company (Samuel Adams)   \n",
       "1263  Fruit and Field Beer         77            New Glarus Brewing Company   \n",
       "1264  Fruit and Field Beer         77     Jacob Leinenkugel Brewing Company   \n",
       "1265  Fruit and Field Beer         77              Founders Brewing Company   \n",
       "1266  Fruit and Field Beer         77            New Glarus Brewing Company   \n",
       "1267  Fruit and Field Beer         77                     Abita Brewing Co.   \n",
       "1268  Fruit and Field Beer         77                         Eagle Brewery   \n",
       "1269  Fruit and Field Beer         77            New Glarus Brewing Company   \n",
       "1270  Fruit and Field Beer         77                21st Amendment Brewery   \n",
       "1271  Fruit and Field Beer         77              Founders Brewing Company   \n",
       "1272  Fruit and Field Beer         77                              Unibroue   \n",
       "1273  Fruit and Field Beer         77                            The Bruery   \n",
       "1274  Fruit and Field Beer         77    Boston Beer Company (Samuel Adams)   \n",
       "1275  Fruit and Field Beer         77            New Glarus Brewing Company   \n",
       "1276  Fruit and Field Beer         77            Dogfish Head Craft Brewery   \n",
       "1277  Fruit and Field Beer         77            New Glarus Brewing Company   \n",
       "1278  Fruit and Field Beer         77              Founders Brewing Company   \n",
       "1279  Fruit and Field Beer         77              Founders Brewing Company   \n",
       "1280  Fruit and Field Beer         77                     Abita Brewing Co.   \n",
       "1281  Fruit and Field Beer         77    Boston Beer Company (Samuel Adams)   \n",
       "1282  Fruit and Field Beer         77                       Spoetzl Brewery   \n",
       "1284  Fruit and Field Beer         77            Dogfish Head Craft Brewery   \n",
       "1286  Fruit and Field Beer         77               Short's Brewing Company   \n",
       "1287  Fruit and Field Beer         77            SweetWater Brewing Company   \n",
       "1288  Fruit and Field Beer         77               Pyramid Breweries, Inc.   \n",
       "1289  Fruit and Field Beer         77                    Miller Brewing Co.   \n",
       "1290  Fruit and Field Beer         77               Sea Dog Brewing Company   \n",
       "1292  Fruit and Field Beer         77           Lost Coast Brewery and Cafe   \n",
       "1293  Fruit and Field Beer         77                    Cigar City Brewing   \n",
       "1294  Fruit and Field Beer         77                 Terrapin Beer Company   \n",
       "1295  Fruit and Field Beer         77                   Ithaca Beer Company   \n",
       "1296  Fruit and Field Beer         77           Harpoon Brewery & Beer Hall   \n",
       "1297  Fruit and Field Beer         77    Boston Beer Company (Samuel Adams)   \n",
       "1298  Fruit and Field Beer         77                       Spoetzl Brewery   \n",
       "1299  Fruit and Field Beer         77            RJ Rockers Brewing Company   \n",
       "1300  Fruit and Field Beer         77                        Anheuser-Busch   \n",
       "1301  Fruit and Field Beer         77     Jacob Leinenkugel Brewing Company   \n",
       "1302  Fruit and Field Beer         77           Fat Head's Brewery & Saloon   \n",
       "1303  Fruit and Field Beer         77                Long Trail Brewing Co.   \n",
       "1304  Fruit and Field Beer         77            Dark Horse Brewing Company   \n",
       "1305  Fruit and Field Beer         77            Blue Point Brewing Company   \n",
       "1306  Fruit and Field Beer         77               Lakefront Brewery, Inc.   \n",
       "1307  Fruit and Field Beer         77                      Brouwerij Huyghe   \n",
       "1308  Fruit and Field Beer         77                Buffalo Bill's Brewery   \n",
       "1309  Fruit and Field Beer         77                 The Traveler Beer Co.   \n",
       "1310  Fruit and Field Beer         77              Shipyard Brewing Company   \n",
       "1311  Fruit and Field Beer         77  Samuel Smith Old Brewery (Tadcaster)   \n",
       "\n",
       "                                            description    abv  ave_rating  \\\n",
       "1261  Notes:A beer cloaked in secrecy. An ale whose ...   5.10        3.42   \n",
       "1262                                             Notes:   5.30        3.19   \n",
       "1263  Notes:Treat yourself to a rare delight. The vo...   4.00        4.41   \n",
       "1264                                             Notes:   4.20        3.20   \n",
       "1265  Notes:This brew achieves its unique raspberry ...   5.70        3.91   \n",
       "1266  Notes:You hold the marriage of wine and beer. ...   4.00        4.42   \n",
       "1267  Notes:Experience the magic of Purple Haze.® Cl...   4.20        3.32   \n",
       "1268  Notes:Long ago, ale was known as 'liquid bread...   5.20        3.56   \n",
       "1269  Notes:Severe Drought, we shared the farmer’s h...   4.00        4.38   \n",
       "1270  Notes:Like Lady Liberty, we stand for independ...   4.90        3.40   \n",
       "1271  Notes:When our love of fruit and our love of b...   9.20        4.21   \n",
       "1272  Notes:As its name suggests, Éphémère is an eph...   5.50        3.64   \n",
       "1273  Notes:Brewed with 17 lbs. of yams per barrel (...  10.00        3.81   \n",
       "1274                                             Notes:   4.50        3.34   \n",
       "1275                                             Notes:   4.00        4.15   \n",
       "1276  Notes:Black & Blue is a Belgian-style golden a...  10.00        3.71   \n",
       "1277  Notes:Diploma Master Brewer Dan employed juicy...   4.00        4.35   \n",
       "1278  Notes:Mango Magnifico is a high-gravity fruit ...  10.00        3.66   \n",
       "1279  Notes:You’ll have a soft spot for this one. Us...   6.50        3.65   \n",
       "1280  Notes:Strawberry Harvest Lager is a wheat beer...   4.20        3.50   \n",
       "1281                                             Notes:   5.90        2.68   \n",
       "1282  Notes:This refreshing brew is made with juice ...   4.01        3.22   \n",
       "1284  Notes:For our first new 12-ounce 4-packs in ne...   6.00        3.13   \n",
       "1286  Notes:Soft Parade is a Fruit Rye Ale brewed wi...   7.50        3.69   \n",
       "1287                                             Notes:   4.90        3.41   \n",
       "1288            Notes:Originally named Apricot Weizen\\t   5.10        3.47   \n",
       "1289                                             Notes:   5.00        2.73   \n",
       "1290  Notes:Our unique contribution to the fruit ale...   4.70        3.47   \n",
       "1292                                             Notes:   5.50        3.46   \n",
       "1293  Notes:We employ the humble cucumber in a low g...   5.00        3.73   \n",
       "1294  Notes:Although this is a pumpkin beer, it is a...   6.10        3.69   \n",
       "1295  Notes:Our smooth wheat beer is light in color ...   4.90        3.32   \n",
       "1296  Notes:We have added natural raspberry flavor t...   4.80        3.61   \n",
       "1297                                             Notes:   5.50        3.26   \n",
       "1298  Notes:Doubly good in triple digits, our unique...   4.90        3.39   \n",
       "1299  Notes:An unfiltered American wheat ale made wi...   6.00        3.58   \n",
       "1300  Notes:Our Lemon Shandy is a unique take on the...   4.20        2.85   \n",
       "1301                                             Notes:   4.20        3.17   \n",
       "1302  Notes:Brewed with fresh harvested spring honey...   5.30        3.73   \n",
       "1303  Notes:This brew combines 2-Row Pilsen malt, a ...   4.00        3.14   \n",
       "1304  Notes:This beer is a light bodied, easy drinki...   5.50        3.39   \n",
       "1305                                             Notes:   4.60        3.52   \n",
       "1306        Notes:Beer Brewed with Pumpkin and Spices\\t   6.00        3.52   \n",
       "1307           Notes:Also known as La Bouffonne Rouge\\t   8.00        3.68   \n",
       "1308  Notes:A light ale with hints of fresh orange. ...   5.20        3.05   \n",
       "1309  Notes:Curious Traveler is our take on a classi...   4.40        3.41   \n",
       "1310                                             Notes:   9.00        3.90   \n",
       "1311                                             Notes:   5.10        3.87   \n",
       "\n",
       "      min_ibu  max_ibu  astringency  body  alcohol  bitter  sweet  sour  \\\n",
       "1261        5       45           22    23        1      31     73    38   \n",
       "1262        5       45            4     9        8       7     40    16   \n",
       "1263        5       45           25    32       14       7    193    90   \n",
       "1264        5       45            8    23        9       6     22    55   \n",
       "1265        5       45           14    37        7      12    138    50   \n",
       "1266        5       45           22    34        8       9     81    67   \n",
       "1267        5       45           11    30        3      11     90    49   \n",
       "1268        5       45           14    34        7      26     44    21   \n",
       "1269        5       45           13    34       12       3    204   137   \n",
       "1270        5       45           31    27        9      17     66    49   \n",
       "1271        5       45           16    29       29       8    129    61   \n",
       "1272        5       45           18    31        7       4    134   120   \n",
       "1273        5       45            6    37       31      17    101    22   \n",
       "1274        5       45           16    18        4      14     40   107   \n",
       "1275        5       45           32    34       13       8    196   173   \n",
       "1276        5       45           12    28       19       6    170    76   \n",
       "1277        5       45           27    43       14       4    100   147   \n",
       "1278        5       45            5    31       37      10    110    44   \n",
       "1279        5       45           16    28       13       1     59    53   \n",
       "1280        5       45           10    20        6       8     30    13   \n",
       "1281        5       45           15    25        7       4     89    67   \n",
       "1282        5       45           14    19        6      21     28    80   \n",
       "1284        5       45            3    18        5       4     52    35   \n",
       "1286        5       45           18    60       11       5    168    68   \n",
       "1287        5       45           14    10        2       9     84    21   \n",
       "1288        5       45           12    29        8       9     96    50   \n",
       "1289        5       45           10    10        9       4    135   113   \n",
       "1290        5       45           19    28        9      10    102    28   \n",
       "1292        5       45           11    27       11      13     30    61   \n",
       "1293        5       45           43    14        8      17     21    41   \n",
       "1294        5       45           10    24        6       5     22    13   \n",
       "1295        5       45           13    20       11       7     99    31   \n",
       "1296        5       45           19    28       10       3    122    54   \n",
       "1297        5       45           10    19        9      14    103    33   \n",
       "1298        5       45           13    26        3      18     75    69   \n",
       "1299        5       45           15    20        6       8     28    26   \n",
       "1300        5       45           14    32        8      13     41   111   \n",
       "1301        5       45           19    30        9      17     64   134   \n",
       "1302        5       45           22    19        7      12    143    22   \n",
       "1303        5       45           13    13        7       7     73    28   \n",
       "1304        5       45           12    26       11      21    121    50   \n",
       "1305        5       45            8    17        4       7     79    17   \n",
       "1306        5       45           12    36        8       7     38    19   \n",
       "1307        5       45            8    27       17       7    108    51   \n",
       "1308        5       45           12    27        8      28     46    86   \n",
       "1309        5       45           25    35       10      17     39   103   \n",
       "1310        5       45           13    87       26      43    171    16   \n",
       "1311        5       45           11    45        7      12     91    64   \n",
       "\n",
       "      salty  fruits  hoppy  spices  malty  avg_ibu       condensed_style  \n",
       "1261      0      74     50       2     28     25.0  Fruit and Field Beer  \n",
       "1262      0      69     12       0     25     25.0  Fruit and Field Beer  \n",
       "1263      0     137     11       4     16     25.0  Fruit and Field Beer  \n",
       "1264      0      51      5       1     28     25.0  Fruit and Field Beer  \n",
       "1265      0      88     16       1     20     25.0  Fruit and Field Beer  \n",
       "1266      0     137     16       6     32     25.0  Fruit and Field Beer  \n",
       "1267      1      77     19       1     59     25.0  Fruit and Field Beer  \n",
       "1268      2      92     27      14     73     25.0  Fruit and Field Beer  \n",
       "1269      2     202      9       4     15     25.0  Fruit and Field Beer  \n",
       "1270      5     100     37      17     63     25.0  Fruit and Field Beer  \n",
       "1271      0     109     19      10     17     25.0  Fruit and Field Beer  \n",
       "1272      1     140     18      15     33     25.0  Fruit and Field Beer  \n",
       "1273      1      49     17      64     63     25.0  Fruit and Field Beer  \n",
       "1274      0      89     11       8     18     25.0  Fruit and Field Beer  \n",
       "1275      1     152     19      21     61     25.0  Fruit and Field Beer  \n",
       "1276      2     147      5      19     21     25.0  Fruit and Field Beer  \n",
       "1277      1     162     15       4     49     25.0  Fruit and Field Beer  \n",
       "1278      0      98      6      62     22     25.0  Fruit and Field Beer  \n",
       "1279      0      87      9       2     24     25.0  Fruit and Field Beer  \n",
       "1280      1      69     11       7     24     25.0  Fruit and Field Beer  \n",
       "1281      0      77      4       1     35     25.0  Fruit and Field Beer  \n",
       "1282      0      79     19      27     31     25.0  Fruit and Field Beer  \n",
       "1284      0      55      3       0     36     25.0  Fruit and Field Beer  \n",
       "1286      0     154     14       6     53     25.0  Fruit and Field Beer  \n",
       "1287      0      64     11       0     43     25.0  Fruit and Field Beer  \n",
       "1288      0     100     16       3     47     25.0  Fruit and Field Beer  \n",
       "1289      0     124      4       1      9     25.0  Fruit and Field Beer  \n",
       "1290      0      85     10       1     46     25.0  Fruit and Field Beer  \n",
       "1292      0     105     14       0     33     25.0  Fruit and Field Beer  \n",
       "1293      3      36     21      11     13     25.0  Fruit and Field Beer  \n",
       "1294      1      71      7      82     35     25.0  Fruit and Field Beer  \n",
       "1295      0      88     13       2     56     25.0  Fruit and Field Beer  \n",
       "1296      1     119     10       2     33     25.0  Fruit and Field Beer  \n",
       "1297      0      96     15       0     23     25.0  Fruit and Field Beer  \n",
       "1298      2      98     28       1     40     25.0  Fruit and Field Beer  \n",
       "1299      0      92     10       3     32     25.0  Fruit and Field Beer  \n",
       "1300      5     115     33       6     57     25.0  Fruit and Field Beer  \n",
       "1301      4     161     20      20     55     25.0  Fruit and Field Beer  \n",
       "1302      6      81     19       6     77     25.0  Fruit and Field Beer  \n",
       "1303      0      61      9       3     44     25.0  Fruit and Field Beer  \n",
       "1304      0      86     22       0     52     25.0  Fruit and Field Beer  \n",
       "1305      0      67     10       1     24     25.0  Fruit and Field Beer  \n",
       "1306      0      90     20      93     53     25.0  Fruit and Field Beer  \n",
       "1307      1     115     28       5     28     25.0  Fruit and Field Beer  \n",
       "1308      0      86     35       5     30     25.0  Fruit and Field Beer  \n",
       "1309      3      99     19       3     46     25.0  Fruit and Field Beer  \n",
       "1310      0     102     26       5    109     25.0  Fruit and Field Beer  \n",
       "1311      0     129     12       0     28     25.0  Fruit and Field Beer  "
      ]
     },
     "execution_count": 326,
     "metadata": {},
     "output_type": "execute_result"
    }
   ],
   "source": [
    "df[df.beer_style == \"Fruit and Field Beer\"]"
   ]
  },
  {
   "cell_type": "code",
   "execution_count": 351,
   "metadata": {},
   "outputs": [],
   "source": [
    "styles = [\n",
    "    {\"style\": \"Bock\", \"substyles\":[\"Bock - Doppelbock\", \"Bock - Eisbock\", \"Bock - Maibock\", \"Bock - Traditional\", \"Bock - Weizenbock\"]},\n",
    "    {\"style\": \"Brown Ales\", \"substyles\": [\"Altbier\", \"Brown Ale - American\", \"Brown Ale - Belgian Dark\", \"Brown Ale - English\", \"Mild Ale - English Dark\"]},\n",
    "    {\"style\": \"Dark Ales\", \"substyles\": [\"Dubbel\", \"Rye Beer - Roggenbier\", \"Scottish Ale\", \"Winter Warmer\"]},\n",
    "    {\"style\": \"Dark Lagers\", \"substyles\": [\"Lager - American Amber / Red\", \"Lager - European Dark\", \"Lager - Märzen\", \"Lager - Munich Dunkel\", \"Lager - Rauchbier\", \"Lager - Schwarzbier\", \"Lager - Vienna\"]},\n",
    "    {\"style\": \"Hybrid Beers\", \"substyles\": [\"Bière de Champagne / Bière Brut\", \"Braggot\", \"California Common / Steam Beer\", \"Cream Ale\"]},\n",
    "    {\"style\": \"India Pale Ales\", \"substyles\": [\"IPA - American\", \"IPA - Belgian\", \"IPA - Black / Cascadian Dark Ale\", \"IPA - Brut\", \"IPA - English\", \"IPA - Imperial\", \"IPA - New England\"]},\n",
    "    {\"style\": \"Pale Ales\", \"substyles\": [\"Bitter - English\", \"Bitter - English Extra Special / Strong Bitter (ESB)\", \"Blonde Ale - Belgian\", \"Blonde Ale - American\", \"Farmhouse Ale - Bière de Garde\", \"Farmhouse Ale - Saison\", \"Kölsch\", \"Mild Ale - English Pale\", \"Pale Ale - American\", \"Pale Ale - Belgian\", \"Pale Ale - English\", \"Red Ale - American Amber / Red\", \"Red Ale - Irish\"]},\n",
    "    {\"style\": \"Porters\", \"substyles\": [\"Porter - American\", \"Porter - Baltic\", \"Porter - English\", \"Porter - Imperial\", \"Porter - Robust\", \"Porter - Smoked\"]},\n",
    "    {\"style\": \"Specialty Beers\", \"substyles\": [\"Chile Beer\", \"Farmhouse Ale - Sahti\", \"Fruit and Field Beer\", \"Gruit / Ancient Herbed Ale\", \"Happoshu\", \"Herb and Spice Beer\", \"Kvass\", \"Lager - Japanese Rice\", \"Low Alcohol Beer\", \"Pumpkin Beer\", \"Rye Beer\", \"Smoked Beer\"]},\n",
    "    {\"style\": \"Stouts\", \"substyles\":  [\"Stout - Sweet / Milk\", \"Stout - Russian Imperial\", \"Stout - Oatmeal\", \"Stout - Irish Dry\", \"Stout - Foreign / Export\", \"Stout - English\", \"Stout - American Imperial\", \"Stout - American\" ]},\n",
    "    {\"style\": \"Strong Ales\", \"substyles\": [\"Wheat Beer - Wheatwine\", \"Tripel\", \"Strong Ale - English\", \"Strong Ale - Belgian Pale\", \"Strong Ale - Belgian Dark\" , \"Strong Ale - American\", \"Scotch Ale / Wee Heavy\", \"Red Ale - Imperial\", \"Quadrupel (Quad)\", \"Old Ale\", \"Barleywine - English\", \"Barleywine - American\"]},\n",
    "    {\"style\": \"Wheat Beers\", \"substyles\": [\"Wheat Beer - Witbier\", \"Wheat Beer - Kristallweizen\", \"Wheat Beer - Hefeweizen\", \"Wheat Beer - Dunkelweizen\", \"Wheat Beer - American Pale\", \"Wheat Beer - American Dark\"]},\n",
    "    {\"style\": \"Wild/Sour \", \"substyles\": [ \"Brett Beer\", \"Lambic - Faro\", \"Lambic - Fruit\", \"Lambic - Gueuze\", \"Lambic - Traditional\", \"Sour - Berliner Weisse\", \"Sour - Flanders Oud Bruin\", \"Sour - Flanders Red Ale\", \"Sour - Fruited Kettle Sour\", \"Sour - Gose\", \"Wild Ale\"]},\n",
    "    {\"style\": \"Pale Lagers\", \"substyles\": [\"Lager - Adjunct\", \"Lager - American\", \"Lager - European / Dortmunder Export\", \"Lager - European Pale\", \"Lager - European Strong\", \"Lager - Festbier / Wiesnbier\", \"Lager - Helles\", \"Lager - India Pale Lager (IPL)\", \"Lager - India Pale Lager\", \"Lager - Kellerbier / Zwickelbier\", \"Lager - Light\", \"Lager - Malt Liquor\", \"Pilsner - Bohemian / Czech\", \"Pilsner - German\", \"Pilsner - Imperial\", \"Lager - Märzen / Oktoberfest\"]}\n",
    "]"
   ]
  },
  {
   "cell_type": "code",
   "execution_count": 352,
   "metadata": {},
   "outputs": [],
   "source": [
    "def get_big_style(x):\n",
    "    for item in styles:\n",
    "        if x in item[\"substyles\"]:\n",
    "            return item[\"style\"]"
   ]
  },
  {
   "cell_type": "code",
   "execution_count": 353,
   "metadata": {},
   "outputs": [],
   "source": [
    "df[\"BA_Big_styles\"] = df.beer_style.apply(get_big_style)"
   ]
  },
  {
   "cell_type": "code",
   "execution_count": 354,
   "metadata": {},
   "outputs": [
    {
     "data": {
      "text/plain": [
       "{'Bock',\n",
       " 'Brown Ales',\n",
       " 'Dark Ales',\n",
       " 'Dark Lagers',\n",
       " 'Hybrid Beers',\n",
       " 'India Pale Ales',\n",
       " 'Pale Ales',\n",
       " 'Pale Lagers',\n",
       " 'Porters',\n",
       " 'Specialty Beers',\n",
       " 'Stouts',\n",
       " 'Strong Ales',\n",
       " 'Wheat Beers',\n",
       " 'Wild/Sour '}"
      ]
     },
     "execution_count": 354,
     "metadata": {},
     "output_type": "execute_result"
    }
   ],
   "source": [
    "set(df.BA_Big_styles.to_list())"
   ]
  },
  {
   "cell_type": "code",
   "execution_count": 355,
   "metadata": {},
   "outputs": [],
   "source": [
    "# Calculate average ibu and add to column\n",
    "df[\"avg_ibu\"] = (df.min_ibu + df.max_ibu) /2"
   ]
  },
  {
   "cell_type": "code",
   "execution_count": 356,
   "metadata": {},
   "outputs": [],
   "source": [
    "# Filter out beers with abv > 13\n",
    "df = df[df.abv <= 13]\n",
    "df = df[df.abv >= 3]"
   ]
  },
  {
   "cell_type": "code",
   "execution_count": 357,
   "metadata": {},
   "outputs": [
    {
     "name": "stdout",
     "output_type": "stream",
     "text": [
      "5348\n",
      "111\n"
     ]
    }
   ],
   "source": [
    "# Get list of unique styles\n",
    "beer_styles = df.beer_style.to_list()\n",
    "beer_styles_unique = set(beer_styles)\n",
    "print(len(beer_styles))\n",
    "print(len(beer_styles_unique))"
   ]
  },
  {
   "cell_type": "code",
   "execution_count": 358,
   "metadata": {},
   "outputs": [
    {
     "name": "stdout",
     "output_type": "stream",
     "text": [
      "Porter - English 50\n",
      "Scottish Ale 50\n",
      "Lambic - Faro 16\n",
      "Lager - Malt Liquor 50\n",
      "Brown Ale - English 50\n",
      "Stout - English 50\n",
      "Wheat Beer - Hefeweizen 49\n",
      "Strong Ale - American 41\n",
      "Brown Ale - Belgian Dark 48\n",
      "Fruit and Field Beer 48\n",
      "Lambic - Gueuze 49\n",
      "Porter - Imperial 49\n",
      "Barleywine - American 44\n",
      "Sour - Flanders Red Ale 49\n",
      "Wheat Beer - Wheatwine 42\n",
      "Lager - European / Dortmunder Export 50\n",
      "Pale Ale - Belgian 50\n",
      "Stout - American Imperial 42\n",
      "Lager - Light 47\n",
      "Blonde Ale - Belgian 50\n",
      "Pale Ale - English 50\n",
      "Strong Ale - Belgian Pale 50\n",
      "Lager - European Pale 49\n",
      "Cream Ale 50\n",
      "Lager - European Strong 48\n",
      "Sour - Flanders Oud Bruin 49\n",
      "Kölsch 50\n",
      "Stout - Irish Dry 50\n",
      "Sour - Berliner Weisse 48\n",
      "Porter - Smoked 48\n",
      "Lager - Märzen / Oktoberfest 50\n",
      "Wheat Beer - Dunkelweizen 49\n",
      "Bitter - English 50\n",
      "Stout - Russian Imperial 43\n",
      "Old Ale 46\n",
      "Lager - European Dark 49\n",
      "Sour - Gose 49\n",
      "Wheat Beer - American Pale 50\n",
      "Red Ale - Irish 50\n",
      "Bock - Weizenbock 50\n",
      "Brett Beer 50\n",
      "Herb and Spice Beer 50\n",
      "Red Ale - American Amber / Red 50\n",
      "Lager - Adjunct 50\n",
      "California Common / Steam Beer 50\n",
      "Braggot 46\n",
      "Dubbel 50\n",
      "Stout - Oatmeal 47\n",
      "Wheat Beer - Witbier 50\n",
      "Porter - American 50\n",
      "Lager - Munich Dunkel 50\n",
      "Lager - Helles 50\n",
      "Lager - American 50\n",
      "Rye Beer 48\n",
      "Strong Ale - English 50\n",
      "Lager - Schwarzbier 50\n",
      "Gruit / Ancient Herbed Ale 50\n",
      "IPA - Imperial 49\n",
      "IPA - Brut 49\n",
      "Smoked Beer 50\n",
      "Lambic - Traditional 49\n",
      "Porter - Baltic 50\n",
      "Chile Beer 50\n",
      "Pilsner - Imperial 50\n",
      "Lager - American Amber / Red 48\n",
      "Bock - Maibock 49\n",
      "Blonde Ale - American 50\n",
      "Scotch Ale / Wee Heavy 49\n",
      "IPA - Belgian 50\n",
      "Quadrupel (Quad) 49\n",
      "Pilsner - Bohemian / Czech 50\n",
      "IPA - English 50\n",
      "Winter Warmer 50\n",
      "Pumpkin Beer 48\n",
      "Farmhouse Ale - Saison 50\n",
      "Farmhouse Ale - Sahti 48\n",
      "IPA - Black / Cascadian Dark Ale 50\n",
      "Rye Beer - Roggenbier 50\n",
      "Mild Ale - English Pale 47\n",
      "Happoshu 50\n",
      "Brown Ale - American 49\n",
      "Farmhouse Ale - Bière de Garde 50\n",
      "Stout - American 50\n",
      "Mild Ale - English Dark 48\n",
      "Bock - Traditional 50\n",
      "Bitter - English Extra Special / Strong Bitter (ESB) 50\n",
      "Kvass 9\n",
      "Lager - Rauchbier 50\n",
      "Lager - Kellerbier / Zwickelbier 50\n",
      "Barleywine - English 40\n",
      "Wild Ale 49\n",
      "Altbier 50\n",
      "IPA - American 50\n",
      "Bock - Eisbock 42\n",
      "Lager - India Pale Lager (IPL) 50\n",
      "Wheat Beer - Kristallweizen 46\n",
      "Red Ale - Imperial 50\n",
      "Porter - Robust 50\n",
      "Pilsner - German 50\n",
      "Bock - Doppelbock 48\n",
      "Lager - Vienna 49\n",
      "Tripel 50\n",
      "Strong Ale - Belgian Dark 49\n",
      "IPA - New England 50\n",
      "Lambic - Fruit 47\n",
      "Wheat Beer - American Dark 46\n",
      "Lager - Japanese Rice 50\n",
      "Stout - Foreign / Export 50\n",
      "Bière de Champagne / Bière Brut 49\n",
      "Pale Ale - American 50\n",
      "Stout - Sweet / Milk 49\n"
     ]
    }
   ],
   "source": [
    "# Calculate number of items for each style\n",
    "for item in beer_styles_unique:\n",
    "    counter = 0\n",
    "    for x in beer_styles:\n",
    "        if item == x:\n",
    "            counter += 1\n",
    "    print(item, counter)"
   ]
  },
  {
   "cell_type": "code",
   "execution_count": 359,
   "metadata": {},
   "outputs": [],
   "source": [
    "beer_styles_condensed = [\"IPA\", \"Porter\", \"Lager\", \"Pale Ale\", \"Pilsner\", \"Stout\", \"Wheat Beer\", \"Bock\",  \n",
    "                         \"Blonde Ale\", \"Sour\", \"Lambic\", \"Brown Ale\", \"Barleywine\", \"Strong Ale\", \"Farmhouse Ale\",\n",
    "                         \"Bitter\", \"Red Ale\"]"
   ]
  },
  {
   "cell_type": "code",
   "execution_count": 360,
   "metadata": {},
   "outputs": [],
   "source": [
    "# Function to reduce styles\n",
    "\n",
    "def reduce_styles(style):\n",
    "    for count, item in enumerate (beer_styles_condensed, start=1):\n",
    "#         print(item, style)\n",
    "        if item in style:\n",
    "            return(item)\n",
    "        elif count == len(beer_styles_condensed):\n",
    "            return(style)\n",
    "        else:\n",
    "            continue"
   ]
  },
  {
   "cell_type": "code",
   "execution_count": 361,
   "metadata": {},
   "outputs": [],
   "source": [
    "df[\"condensed_style\"] = df.beer_style.apply(reduce_styles)"
   ]
  },
  {
   "cell_type": "code",
   "execution_count": 362,
   "metadata": {},
   "outputs": [
    {
     "data": {
      "text/html": [
       "<div>\n",
       "<style scoped>\n",
       "    .dataframe tbody tr th:only-of-type {\n",
       "        vertical-align: middle;\n",
       "    }\n",
       "\n",
       "    .dataframe tbody tr th {\n",
       "        vertical-align: top;\n",
       "    }\n",
       "\n",
       "    .dataframe thead th {\n",
       "        text-align: right;\n",
       "    }\n",
       "</style>\n",
       "<table border=\"1\" class=\"dataframe\">\n",
       "  <thead>\n",
       "    <tr style=\"text-align: right;\">\n",
       "      <th></th>\n",
       "      <th>beer_id</th>\n",
       "      <th>beer_name</th>\n",
       "      <th>beer_style</th>\n",
       "      <th>style_key</th>\n",
       "      <th>brewery</th>\n",
       "      <th>description</th>\n",
       "      <th>abv</th>\n",
       "      <th>ave_rating</th>\n",
       "      <th>min_ibu</th>\n",
       "      <th>max_ibu</th>\n",
       "      <th>astringency</th>\n",
       "      <th>body</th>\n",
       "      <th>alcohol</th>\n",
       "      <th>bitter</th>\n",
       "      <th>sweet</th>\n",
       "      <th>sour</th>\n",
       "      <th>salty</th>\n",
       "      <th>fruits</th>\n",
       "      <th>hoppy</th>\n",
       "      <th>spices</th>\n",
       "      <th>malty</th>\n",
       "      <th>avg_ibu</th>\n",
       "      <th>condensed_style</th>\n",
       "      <th>BA_Big_styles</th>\n",
       "    </tr>\n",
       "  </thead>\n",
       "  <tbody>\n",
       "    <tr>\n",
       "      <th>0</th>\n",
       "      <td>1</td>\n",
       "      <td>Amber</td>\n",
       "      <td>Altbier</td>\n",
       "      <td>8</td>\n",
       "      <td>Alaskan Brewing Co.</td>\n",
       "      <td>Notes:Richly malty and long on the palate, wit...</td>\n",
       "      <td>5.3</td>\n",
       "      <td>3.65</td>\n",
       "      <td>25</td>\n",
       "      <td>50</td>\n",
       "      <td>13</td>\n",
       "      <td>32</td>\n",
       "      <td>9</td>\n",
       "      <td>47</td>\n",
       "      <td>74</td>\n",
       "      <td>33</td>\n",
       "      <td>0</td>\n",
       "      <td>33</td>\n",
       "      <td>57</td>\n",
       "      <td>8</td>\n",
       "      <td>111</td>\n",
       "      <td>37.5</td>\n",
       "      <td>Altbier</td>\n",
       "      <td>Brown Ales</td>\n",
       "    </tr>\n",
       "    <tr>\n",
       "      <th>1</th>\n",
       "      <td>2</td>\n",
       "      <td>Double Bag</td>\n",
       "      <td>Altbier</td>\n",
       "      <td>8</td>\n",
       "      <td>Long Trail Brewing Co.</td>\n",
       "      <td>Notes:This malty, full-bodied double alt is al...</td>\n",
       "      <td>7.2</td>\n",
       "      <td>3.90</td>\n",
       "      <td>25</td>\n",
       "      <td>50</td>\n",
       "      <td>12</td>\n",
       "      <td>57</td>\n",
       "      <td>18</td>\n",
       "      <td>33</td>\n",
       "      <td>55</td>\n",
       "      <td>16</td>\n",
       "      <td>0</td>\n",
       "      <td>24</td>\n",
       "      <td>35</td>\n",
       "      <td>12</td>\n",
       "      <td>84</td>\n",
       "      <td>37.5</td>\n",
       "      <td>Altbier</td>\n",
       "      <td>Brown Ales</td>\n",
       "    </tr>\n",
       "    <tr>\n",
       "      <th>2</th>\n",
       "      <td>3</td>\n",
       "      <td>Long Trail Ale</td>\n",
       "      <td>Altbier</td>\n",
       "      <td>8</td>\n",
       "      <td>Long Trail Brewing Co.</td>\n",
       "      <td>Notes:Long Trail Ale is a full-bodied amber al...</td>\n",
       "      <td>5.0</td>\n",
       "      <td>3.58</td>\n",
       "      <td>25</td>\n",
       "      <td>50</td>\n",
       "      <td>14</td>\n",
       "      <td>37</td>\n",
       "      <td>6</td>\n",
       "      <td>42</td>\n",
       "      <td>43</td>\n",
       "      <td>11</td>\n",
       "      <td>0</td>\n",
       "      <td>10</td>\n",
       "      <td>54</td>\n",
       "      <td>4</td>\n",
       "      <td>62</td>\n",
       "      <td>37.5</td>\n",
       "      <td>Altbier</td>\n",
       "      <td>Brown Ales</td>\n",
       "    </tr>\n",
       "    <tr>\n",
       "      <th>3</th>\n",
       "      <td>4</td>\n",
       "      <td>Doppelsticke</td>\n",
       "      <td>Altbier</td>\n",
       "      <td>8</td>\n",
       "      <td>Uerige Obergärige Hausbrauerei</td>\n",
       "      <td>Notes:</td>\n",
       "      <td>8.5</td>\n",
       "      <td>4.15</td>\n",
       "      <td>25</td>\n",
       "      <td>50</td>\n",
       "      <td>13</td>\n",
       "      <td>55</td>\n",
       "      <td>31</td>\n",
       "      <td>47</td>\n",
       "      <td>101</td>\n",
       "      <td>18</td>\n",
       "      <td>1</td>\n",
       "      <td>49</td>\n",
       "      <td>40</td>\n",
       "      <td>16</td>\n",
       "      <td>119</td>\n",
       "      <td>37.5</td>\n",
       "      <td>Altbier</td>\n",
       "      <td>Brown Ales</td>\n",
       "    </tr>\n",
       "    <tr>\n",
       "      <th>4</th>\n",
       "      <td>5</td>\n",
       "      <td>Scurry</td>\n",
       "      <td>Altbier</td>\n",
       "      <td>8</td>\n",
       "      <td>Off Color Brewing</td>\n",
       "      <td>Notes:Just cause it's dark and German doesn't ...</td>\n",
       "      <td>5.3</td>\n",
       "      <td>3.67</td>\n",
       "      <td>25</td>\n",
       "      <td>50</td>\n",
       "      <td>21</td>\n",
       "      <td>69</td>\n",
       "      <td>10</td>\n",
       "      <td>63</td>\n",
       "      <td>120</td>\n",
       "      <td>14</td>\n",
       "      <td>0</td>\n",
       "      <td>19</td>\n",
       "      <td>36</td>\n",
       "      <td>15</td>\n",
       "      <td>218</td>\n",
       "      <td>37.5</td>\n",
       "      <td>Altbier</td>\n",
       "      <td>Brown Ales</td>\n",
       "    </tr>\n",
       "    <tr>\n",
       "      <th>...</th>\n",
       "      <td>...</td>\n",
       "      <td>...</td>\n",
       "      <td>...</td>\n",
       "      <td>...</td>\n",
       "      <td>...</td>\n",
       "      <td>...</td>\n",
       "      <td>...</td>\n",
       "      <td>...</td>\n",
       "      <td>...</td>\n",
       "      <td>...</td>\n",
       "      <td>...</td>\n",
       "      <td>...</td>\n",
       "      <td>...</td>\n",
       "      <td>...</td>\n",
       "      <td>...</td>\n",
       "      <td>...</td>\n",
       "      <td>...</td>\n",
       "      <td>...</td>\n",
       "      <td>...</td>\n",
       "      <td>...</td>\n",
       "      <td>...</td>\n",
       "      <td>...</td>\n",
       "      <td>...</td>\n",
       "      <td>...</td>\n",
       "    </tr>\n",
       "    <tr>\n",
       "      <th>5551</th>\n",
       "      <td>5551</td>\n",
       "      <td>The First Snow Ale</td>\n",
       "      <td>Winter Warmer</td>\n",
       "      <td>17</td>\n",
       "      <td>RJ Rockers Brewing Company</td>\n",
       "      <td>Notes:This hearty American pale ale contains a...</td>\n",
       "      <td>6.0</td>\n",
       "      <td>3.63</td>\n",
       "      <td>35</td>\n",
       "      <td>50</td>\n",
       "      <td>15</td>\n",
       "      <td>31</td>\n",
       "      <td>23</td>\n",
       "      <td>16</td>\n",
       "      <td>54</td>\n",
       "      <td>43</td>\n",
       "      <td>0</td>\n",
       "      <td>54</td>\n",
       "      <td>14</td>\n",
       "      <td>140</td>\n",
       "      <td>58</td>\n",
       "      <td>42.5</td>\n",
       "      <td>Winter Warmer</td>\n",
       "      <td>Dark Ales</td>\n",
       "    </tr>\n",
       "    <tr>\n",
       "      <th>5552</th>\n",
       "      <td>5553</td>\n",
       "      <td>Our Special Ale 2019 (Anchor Christmas Ale)</td>\n",
       "      <td>Winter Warmer</td>\n",
       "      <td>17</td>\n",
       "      <td>Anchor Brewing Company</td>\n",
       "      <td>Notes:This is the forty-fifth annual Our Speci...</td>\n",
       "      <td>6.9</td>\n",
       "      <td>3.79</td>\n",
       "      <td>35</td>\n",
       "      <td>50</td>\n",
       "      <td>22</td>\n",
       "      <td>73</td>\n",
       "      <td>9</td>\n",
       "      <td>58</td>\n",
       "      <td>87</td>\n",
       "      <td>23</td>\n",
       "      <td>0</td>\n",
       "      <td>48</td>\n",
       "      <td>91</td>\n",
       "      <td>44</td>\n",
       "      <td>104</td>\n",
       "      <td>42.5</td>\n",
       "      <td>Winter Warmer</td>\n",
       "      <td>Dark Ales</td>\n",
       "    </tr>\n",
       "    <tr>\n",
       "      <th>5553</th>\n",
       "      <td>5554</td>\n",
       "      <td>Fish Tale Winterfish</td>\n",
       "      <td>Winter Warmer</td>\n",
       "      <td>17</td>\n",
       "      <td>Fish Brewing Company / Fishbowl Brewpub</td>\n",
       "      <td>Notes:</td>\n",
       "      <td>7.5</td>\n",
       "      <td>3.76</td>\n",
       "      <td>35</td>\n",
       "      <td>50</td>\n",
       "      <td>11</td>\n",
       "      <td>36</td>\n",
       "      <td>50</td>\n",
       "      <td>70</td>\n",
       "      <td>72</td>\n",
       "      <td>59</td>\n",
       "      <td>0</td>\n",
       "      <td>81</td>\n",
       "      <td>110</td>\n",
       "      <td>18</td>\n",
       "      <td>73</td>\n",
       "      <td>42.5</td>\n",
       "      <td>Winter Warmer</td>\n",
       "      <td>Dark Ales</td>\n",
       "    </tr>\n",
       "    <tr>\n",
       "      <th>5554</th>\n",
       "      <td>5555</td>\n",
       "      <td>He'Brew Hanukkah, Chanukah: Pass The Beer</td>\n",
       "      <td>Winter Warmer</td>\n",
       "      <td>17</td>\n",
       "      <td>Shmaltz Brewing Company</td>\n",
       "      <td>Notes:Chanukah Beer pours a rich crystal clear...</td>\n",
       "      <td>8.0</td>\n",
       "      <td>3.61</td>\n",
       "      <td>35</td>\n",
       "      <td>50</td>\n",
       "      <td>6</td>\n",
       "      <td>64</td>\n",
       "      <td>30</td>\n",
       "      <td>57</td>\n",
       "      <td>78</td>\n",
       "      <td>15</td>\n",
       "      <td>1</td>\n",
       "      <td>28</td>\n",
       "      <td>57</td>\n",
       "      <td>23</td>\n",
       "      <td>129</td>\n",
       "      <td>42.5</td>\n",
       "      <td>Winter Warmer</td>\n",
       "      <td>Dark Ales</td>\n",
       "    </tr>\n",
       "    <tr>\n",
       "      <th>5555</th>\n",
       "      <td>5556</td>\n",
       "      <td>Frosted Frog Christmas Ale - Barrel-Aged</td>\n",
       "      <td>Winter Warmer</td>\n",
       "      <td>17</td>\n",
       "      <td>Hoppin' Frog Brewery</td>\n",
       "      <td>Notes:The essence of Christmas is captured in ...</td>\n",
       "      <td>8.6</td>\n",
       "      <td>3.89</td>\n",
       "      <td>35</td>\n",
       "      <td>50</td>\n",
       "      <td>8</td>\n",
       "      <td>50</td>\n",
       "      <td>49</td>\n",
       "      <td>13</td>\n",
       "      <td>71</td>\n",
       "      <td>17</td>\n",
       "      <td>0</td>\n",
       "      <td>33</td>\n",
       "      <td>16</td>\n",
       "      <td>148</td>\n",
       "      <td>69</td>\n",
       "      <td>42.5</td>\n",
       "      <td>Winter Warmer</td>\n",
       "      <td>Dark Ales</td>\n",
       "    </tr>\n",
       "  </tbody>\n",
       "</table>\n",
       "<p>5348 rows × 24 columns</p>\n",
       "</div>"
      ],
      "text/plain": [
       "      beer_id                                    beer_name     beer_style  \\\n",
       "0           1                                        Amber        Altbier   \n",
       "1           2                                   Double Bag        Altbier   \n",
       "2           3                               Long Trail Ale        Altbier   \n",
       "3           4                                 Doppelsticke        Altbier   \n",
       "4           5                                       Scurry        Altbier   \n",
       "...       ...                                          ...            ...   \n",
       "5551     5551                           The First Snow Ale  Winter Warmer   \n",
       "5552     5553  Our Special Ale 2019 (Anchor Christmas Ale)  Winter Warmer   \n",
       "5553     5554                         Fish Tale Winterfish  Winter Warmer   \n",
       "5554     5555    He'Brew Hanukkah, Chanukah: Pass The Beer  Winter Warmer   \n",
       "5555     5556     Frosted Frog Christmas Ale - Barrel-Aged  Winter Warmer   \n",
       "\n",
       "      style_key                                  brewery  \\\n",
       "0             8                      Alaskan Brewing Co.   \n",
       "1             8                   Long Trail Brewing Co.   \n",
       "2             8                   Long Trail Brewing Co.   \n",
       "3             8           Uerige Obergärige Hausbrauerei   \n",
       "4             8                        Off Color Brewing   \n",
       "...         ...                                      ...   \n",
       "5551         17               RJ Rockers Brewing Company   \n",
       "5552         17                   Anchor Brewing Company   \n",
       "5553         17  Fish Brewing Company / Fishbowl Brewpub   \n",
       "5554         17                  Shmaltz Brewing Company   \n",
       "5555         17                     Hoppin' Frog Brewery   \n",
       "\n",
       "                                            description  abv  ave_rating  \\\n",
       "0     Notes:Richly malty and long on the palate, wit...  5.3        3.65   \n",
       "1     Notes:This malty, full-bodied double alt is al...  7.2        3.90   \n",
       "2     Notes:Long Trail Ale is a full-bodied amber al...  5.0        3.58   \n",
       "3                                                Notes:  8.5        4.15   \n",
       "4     Notes:Just cause it's dark and German doesn't ...  5.3        3.67   \n",
       "...                                                 ...  ...         ...   \n",
       "5551  Notes:This hearty American pale ale contains a...  6.0        3.63   \n",
       "5552  Notes:This is the forty-fifth annual Our Speci...  6.9        3.79   \n",
       "5553                                             Notes:  7.5        3.76   \n",
       "5554  Notes:Chanukah Beer pours a rich crystal clear...  8.0        3.61   \n",
       "5555  Notes:The essence of Christmas is captured in ...  8.6        3.89   \n",
       "\n",
       "      min_ibu  max_ibu  astringency  body  alcohol  bitter  sweet  sour  \\\n",
       "0          25       50           13    32        9      47     74    33   \n",
       "1          25       50           12    57       18      33     55    16   \n",
       "2          25       50           14    37        6      42     43    11   \n",
       "3          25       50           13    55       31      47    101    18   \n",
       "4          25       50           21    69       10      63    120    14   \n",
       "...       ...      ...          ...   ...      ...     ...    ...   ...   \n",
       "5551       35       50           15    31       23      16     54    43   \n",
       "5552       35       50           22    73        9      58     87    23   \n",
       "5553       35       50           11    36       50      70     72    59   \n",
       "5554       35       50            6    64       30      57     78    15   \n",
       "5555       35       50            8    50       49      13     71    17   \n",
       "\n",
       "      salty  fruits  hoppy  spices  malty  avg_ibu condensed_style  \\\n",
       "0         0      33     57       8    111     37.5         Altbier   \n",
       "1         0      24     35      12     84     37.5         Altbier   \n",
       "2         0      10     54       4     62     37.5         Altbier   \n",
       "3         1      49     40      16    119     37.5         Altbier   \n",
       "4         0      19     36      15    218     37.5         Altbier   \n",
       "...     ...     ...    ...     ...    ...      ...             ...   \n",
       "5551      0      54     14     140     58     42.5   Winter Warmer   \n",
       "5552      0      48     91      44    104     42.5   Winter Warmer   \n",
       "5553      0      81    110      18     73     42.5   Winter Warmer   \n",
       "5554      1      28     57      23    129     42.5   Winter Warmer   \n",
       "5555      0      33     16     148     69     42.5   Winter Warmer   \n",
       "\n",
       "     BA_Big_styles  \n",
       "0       Brown Ales  \n",
       "1       Brown Ales  \n",
       "2       Brown Ales  \n",
       "3       Brown Ales  \n",
       "4       Brown Ales  \n",
       "...            ...  \n",
       "5551     Dark Ales  \n",
       "5552     Dark Ales  \n",
       "5553     Dark Ales  \n",
       "5554     Dark Ales  \n",
       "5555     Dark Ales  \n",
       "\n",
       "[5348 rows x 24 columns]"
      ]
     },
     "execution_count": 362,
     "metadata": {},
     "output_type": "execute_result"
    }
   ],
   "source": [
    "df"
   ]
  },
  {
   "cell_type": "code",
   "execution_count": 363,
   "metadata": {},
   "outputs": [
    {
     "data": {
      "text/plain": [
       "44"
      ]
     },
     "execution_count": 363,
     "metadata": {},
     "output_type": "execute_result"
    }
   ],
   "source": [
    "# Count of Unique styles\n",
    "# passing \"set()\" to a list adds only unique values from the list to the set\n",
    "condensed_styles = set(df.condensed_style.to_list())\n",
    "len(condensed_styles)"
   ]
  },
  {
   "cell_type": "code",
   "execution_count": 364,
   "metadata": {},
   "outputs": [
    {
     "data": {
      "text/plain": [
       "{'Altbier',\n",
       " 'Barleywine',\n",
       " 'Bitter',\n",
       " 'Bière de Champagne / Bière Brut',\n",
       " 'Blonde Ale',\n",
       " 'Bock',\n",
       " 'Braggot',\n",
       " 'Brett Beer',\n",
       " 'Brown Ale',\n",
       " 'California Common / Steam Beer',\n",
       " 'Chile Beer',\n",
       " 'Cream Ale',\n",
       " 'Dubbel',\n",
       " 'Farmhouse Ale',\n",
       " 'Fruit and Field Beer',\n",
       " 'Gruit / Ancient Herbed Ale',\n",
       " 'Happoshu',\n",
       " 'Herb and Spice Beer',\n",
       " 'IPA',\n",
       " 'Kvass',\n",
       " 'Kölsch',\n",
       " 'Lager',\n",
       " 'Lambic',\n",
       " 'Mild Ale - English Dark',\n",
       " 'Mild Ale - English Pale',\n",
       " 'Old Ale',\n",
       " 'Pale Ale',\n",
       " 'Pilsner',\n",
       " 'Porter',\n",
       " 'Pumpkin Beer',\n",
       " 'Quadrupel (Quad)',\n",
       " 'Red Ale',\n",
       " 'Rye Beer',\n",
       " 'Rye Beer - Roggenbier',\n",
       " 'Scotch Ale / Wee Heavy',\n",
       " 'Scottish Ale',\n",
       " 'Smoked Beer',\n",
       " 'Sour',\n",
       " 'Stout',\n",
       " 'Strong Ale',\n",
       " 'Tripel',\n",
       " 'Wheat Beer',\n",
       " 'Wild Ale',\n",
       " 'Winter Warmer'}"
      ]
     },
     "execution_count": 364,
     "metadata": {},
     "output_type": "execute_result"
    }
   ],
   "source": [
    "condensed_styles"
   ]
  },
  {
   "cell_type": "markdown",
   "metadata": {},
   "source": [
    "### K-Means"
   ]
  },
  {
   "cell_type": "code",
   "execution_count": 365,
   "metadata": {},
   "outputs": [
    {
     "data": {
      "text/plain": [
       "Index(['beer_id', 'beer_name', 'beer_style', 'style_key', 'brewery',\n",
       "       'description', 'abv', 'ave_rating', 'min_ibu', 'max_ibu', 'astringency',\n",
       "       'body', 'alcohol', 'bitter', 'sweet', 'sour', 'salty', 'fruits',\n",
       "       'hoppy', 'spices', 'malty', 'avg_ibu', 'condensed_style',\n",
       "       'BA_Big_styles'],\n",
       "      dtype='object')"
      ]
     },
     "execution_count": 365,
     "metadata": {},
     "output_type": "execute_result"
    }
   ],
   "source": [
    "df.columns"
   ]
  },
  {
   "cell_type": "code",
   "execution_count": 386,
   "metadata": {},
   "outputs": [],
   "source": [
    "# Drop columns unnecessary for analysis\n",
    "new_df = df.drop(['beer_id', 'beer_name', 'beer_style', 'style_key', 'brewery',\n",
    "       'description', 'ave_rating', \"min_ibu\", \"max_ibu\", \"salty\", \"alcohol\",\n",
    "        \"condensed_style\", \"avg_ibu\", \"BA_Big_styles\"], axis=1)"
   ]
  },
  {
   "cell_type": "code",
   "execution_count": 387,
   "metadata": {
    "scrolled": true
   },
   "outputs": [
    {
     "data": {
      "text/html": [
       "<div>\n",
       "<style scoped>\n",
       "    .dataframe tbody tr th:only-of-type {\n",
       "        vertical-align: middle;\n",
       "    }\n",
       "\n",
       "    .dataframe tbody tr th {\n",
       "        vertical-align: top;\n",
       "    }\n",
       "\n",
       "    .dataframe thead th {\n",
       "        text-align: right;\n",
       "    }\n",
       "</style>\n",
       "<table border=\"1\" class=\"dataframe\">\n",
       "  <thead>\n",
       "    <tr style=\"text-align: right;\">\n",
       "      <th></th>\n",
       "      <th>abv</th>\n",
       "      <th>astringency</th>\n",
       "      <th>body</th>\n",
       "      <th>bitter</th>\n",
       "      <th>sweet</th>\n",
       "      <th>sour</th>\n",
       "      <th>fruits</th>\n",
       "      <th>hoppy</th>\n",
       "      <th>spices</th>\n",
       "      <th>malty</th>\n",
       "    </tr>\n",
       "  </thead>\n",
       "  <tbody>\n",
       "    <tr>\n",
       "      <th>0</th>\n",
       "      <td>5.3</td>\n",
       "      <td>13</td>\n",
       "      <td>32</td>\n",
       "      <td>47</td>\n",
       "      <td>74</td>\n",
       "      <td>33</td>\n",
       "      <td>33</td>\n",
       "      <td>57</td>\n",
       "      <td>8</td>\n",
       "      <td>111</td>\n",
       "    </tr>\n",
       "    <tr>\n",
       "      <th>1</th>\n",
       "      <td>7.2</td>\n",
       "      <td>12</td>\n",
       "      <td>57</td>\n",
       "      <td>33</td>\n",
       "      <td>55</td>\n",
       "      <td>16</td>\n",
       "      <td>24</td>\n",
       "      <td>35</td>\n",
       "      <td>12</td>\n",
       "      <td>84</td>\n",
       "    </tr>\n",
       "    <tr>\n",
       "      <th>2</th>\n",
       "      <td>5.0</td>\n",
       "      <td>14</td>\n",
       "      <td>37</td>\n",
       "      <td>42</td>\n",
       "      <td>43</td>\n",
       "      <td>11</td>\n",
       "      <td>10</td>\n",
       "      <td>54</td>\n",
       "      <td>4</td>\n",
       "      <td>62</td>\n",
       "    </tr>\n",
       "    <tr>\n",
       "      <th>3</th>\n",
       "      <td>8.5</td>\n",
       "      <td>13</td>\n",
       "      <td>55</td>\n",
       "      <td>47</td>\n",
       "      <td>101</td>\n",
       "      <td>18</td>\n",
       "      <td>49</td>\n",
       "      <td>40</td>\n",
       "      <td>16</td>\n",
       "      <td>119</td>\n",
       "    </tr>\n",
       "    <tr>\n",
       "      <th>4</th>\n",
       "      <td>5.3</td>\n",
       "      <td>21</td>\n",
       "      <td>69</td>\n",
       "      <td>63</td>\n",
       "      <td>120</td>\n",
       "      <td>14</td>\n",
       "      <td>19</td>\n",
       "      <td>36</td>\n",
       "      <td>15</td>\n",
       "      <td>218</td>\n",
       "    </tr>\n",
       "  </tbody>\n",
       "</table>\n",
       "</div>"
      ],
      "text/plain": [
       "   abv  astringency  body  bitter  sweet  sour  fruits  hoppy  spices  malty\n",
       "0  5.3           13    32      47     74    33      33     57       8    111\n",
       "1  7.2           12    57      33     55    16      24     35      12     84\n",
       "2  5.0           14    37      42     43    11      10     54       4     62\n",
       "3  8.5           13    55      47    101    18      49     40      16    119\n",
       "4  5.3           21    69      63    120    14      19     36      15    218"
      ]
     },
     "execution_count": 387,
     "metadata": {},
     "output_type": "execute_result"
    }
   ],
   "source": [
    "new_df.head()"
   ]
  },
  {
   "cell_type": "code",
   "execution_count": 388,
   "metadata": {},
   "outputs": [],
   "source": [
    "# define standard scaler\n",
    "scaler = StandardScaler()\n",
    "# transform data\n",
    "scaled_df = scaler.fit_transform(new_df)"
   ]
  },
  {
   "cell_type": "code",
   "execution_count": 389,
   "metadata": {},
   "outputs": [],
   "source": [
    "# Looking for the best K - unscaled\n",
    "# inertia = []\n",
    "# k = list(range(1, 15))\n",
    "\n",
    "# for i in k:\n",
    "#     km = KMeans(n_clusters=i, random_state=0)\n",
    "#     km.fit(new_df)\n",
    "#     inertia.append(km.inertia_)\n",
    "    \n",
    "# Looking for the best K - scaled\n",
    "inertia = []\n",
    "k = list(range(1, 15))\n",
    "\n",
    "for i in k:\n",
    "    km = KMeans(n_clusters=i, random_state=0)\n",
    "    km.fit(scaled_df)\n",
    "    inertia.append(km.inertia_)\n"
   ]
  },
  {
   "cell_type": "code",
   "execution_count": 390,
   "metadata": {},
   "outputs": [
    {
     "data": {},
     "metadata": {},
     "output_type": "display_data"
    },
    {
     "data": {
      "application/vnd.holoviews_exec.v0+json": "",
      "text/html": [
       "<div id='2418'>\n",
       "\n",
       "\n",
       "\n",
       "\n",
       "\n",
       "  <div class=\"bk-root\" id=\"44a29efc-5d16-409d-9462-410aa745965c\" data-root-id=\"2418\"></div>\n",
       "</div>\n",
       "<script type=\"application/javascript\">(function(root) {\n",
       "  function embed_document(root) {\n",
       "    var docs_json = {\"9b8879bc-5be3-493d-8ede-9c440cd80861\":{\"defs\":[{\"extends\":null,\"module\":null,\"name\":\"ReactiveHTML1\",\"overrides\":[],\"properties\":[]},{\"extends\":null,\"module\":null,\"name\":\"FlexBox1\",\"overrides\":[],\"properties\":[{\"default\":\"flex-start\",\"kind\":null,\"name\":\"align_content\"},{\"default\":\"flex-start\",\"kind\":null,\"name\":\"align_items\"},{\"default\":\"row\",\"kind\":null,\"name\":\"flex_direction\"},{\"default\":\"wrap\",\"kind\":null,\"name\":\"flex_wrap\"},{\"default\":\"flex-start\",\"kind\":null,\"name\":\"justify_content\"}]},{\"extends\":null,\"module\":null,\"name\":\"TemplateActions1\",\"overrides\":[],\"properties\":[{\"default\":0,\"kind\":null,\"name\":\"open_modal\"},{\"default\":0,\"kind\":null,\"name\":\"close_modal\"}]},{\"extends\":null,\"module\":null,\"name\":\"MaterialTemplateActions1\",\"overrides\":[],\"properties\":[{\"default\":0,\"kind\":null,\"name\":\"open_modal\"},{\"default\":0,\"kind\":null,\"name\":\"close_modal\"}]}],\"roots\":{\"references\":[{\"attributes\":{\"children\":[{\"id\":\"2419\"},{\"id\":\"2423\"},{\"id\":\"2489\"}],\"margin\":[0,0,0,0],\"name\":\"Row03763\",\"tags\":[\"embedded\"]},\"id\":\"2418\",\"type\":\"Row\"},{\"attributes\":{\"text\":\"Elbow Curve\",\"text_color\":\"black\",\"text_font_size\":\"12pt\"},\"id\":\"2424\",\"type\":\"Title\"},{\"attributes\":{\"source\":{\"id\":\"2453\"}},\"id\":\"2460\",\"type\":\"CDSView\"},{\"attributes\":{\"line_color\":\"#30a2da\",\"line_width\":2,\"x\":{\"field\":\"k\"},\"y\":{\"field\":\"inertia\"}},\"id\":\"2461\",\"type\":\"Line\"},{\"attributes\":{\"ticks\":[1,2,3,4,5,6,7,8,9,10,11,12,13,14]},\"id\":\"2462\",\"type\":\"FixedTicker\"},{\"attributes\":{\"line_alpha\":0.1,\"line_color\":\"#30a2da\",\"line_width\":2,\"x\":{\"field\":\"k\"},\"y\":{\"field\":\"inertia\"}},\"id\":\"2457\",\"type\":\"Line\"},{\"attributes\":{\"below\":[{\"id\":\"2432\"}],\"center\":[{\"id\":\"2435\"},{\"id\":\"2439\"}],\"height\":300,\"left\":[{\"id\":\"2436\"}],\"margin\":[5,5,5,5],\"min_border_bottom\":10,\"min_border_left\":10,\"min_border_right\":10,\"min_border_top\":10,\"renderers\":[{\"id\":\"2459\"}],\"sizing_mode\":\"fixed\",\"title\":{\"id\":\"2424\"},\"toolbar\":{\"id\":\"2446\"},\"width\":700,\"x_range\":{\"id\":\"2420\"},\"x_scale\":{\"id\":\"2428\"},\"y_range\":{\"id\":\"2421\"},\"y_scale\":{\"id\":\"2430\"}},\"id\":\"2423\",\"subtype\":\"Figure\",\"type\":\"Plot\"},{\"attributes\":{\"line_color\":\"#30a2da\",\"line_width\":2,\"x\":{\"field\":\"k\"},\"y\":{\"field\":\"inertia\"}},\"id\":\"2456\",\"type\":\"Line\"},{\"attributes\":{\"line_alpha\":0.2,\"line_color\":\"#30a2da\",\"line_width\":2,\"x\":{\"field\":\"k\"},\"y\":{\"field\":\"inertia\"}},\"id\":\"2458\",\"type\":\"Line\"},{\"attributes\":{\"end\":57199.49802100559,\"reset_end\":57199.49802100559,\"reset_start\":12565.521768938945,\"start\":12565.521768938945,\"tags\":[[[\"inertia\",\"inertia\",null]]]},\"id\":\"2421\",\"type\":\"Range1d\"},{\"attributes\":{},\"id\":\"2454\",\"type\":\"Selection\"},{\"attributes\":{\"margin\":[5,5,5,5],\"name\":\"HSpacer03767\",\"sizing_mode\":\"stretch_width\"},\"id\":\"2419\",\"type\":\"Spacer\"},{\"attributes\":{},\"id\":\"2463\",\"type\":\"BasicTickFormatter\"},{\"attributes\":{\"bottom_units\":\"screen\",\"fill_alpha\":0.5,\"fill_color\":\"lightgrey\",\"left_units\":\"screen\",\"level\":\"overlay\",\"line_alpha\":1.0,\"line_color\":\"black\",\"line_dash\":[4,4],\"line_width\":2,\"right_units\":\"screen\",\"syncable\":false,\"top_units\":\"screen\"},\"id\":\"2445\",\"type\":\"BoxAnnotation\"},{\"attributes\":{\"callback\":null,\"renderers\":[{\"id\":\"2459\"}],\"tags\":[\"hv_created\"],\"tooltips\":[[\"k\",\"@{k}\"],[\"inertia\",\"@{inertia}\"]]},\"id\":\"2422\",\"type\":\"HoverTool\"},{\"attributes\":{\"data_source\":{\"id\":\"2453\"},\"glyph\":{\"id\":\"2456\"},\"hover_glyph\":null,\"muted_glyph\":{\"id\":\"2458\"},\"nonselection_glyph\":{\"id\":\"2457\"},\"selection_glyph\":{\"id\":\"2461\"},\"view\":{\"id\":\"2460\"}},\"id\":\"2459\",\"type\":\"GlyphRenderer\"},{\"attributes\":{\"end\":14.0,\"reset_end\":14.0,\"reset_start\":1.0,\"start\":1.0,\"tags\":[[[\"k\",\"k\",null]]]},\"id\":\"2420\",\"type\":\"Range1d\"},{\"attributes\":{},\"id\":\"2465\",\"type\":\"AllLabels\"},{\"attributes\":{},\"id\":\"2441\",\"type\":\"PanTool\"},{\"attributes\":{},\"id\":\"2428\",\"type\":\"LinearScale\"},{\"attributes\":{},\"id\":\"2430\",\"type\":\"LinearScale\"},{\"attributes\":{},\"id\":\"2468\",\"type\":\"BasicTickFormatter\"},{\"attributes\":{},\"id\":\"2470\",\"type\":\"AllLabels\"},{\"attributes\":{\"axis_label\":\"k\",\"formatter\":{\"id\":\"2463\"},\"major_label_policy\":{\"id\":\"2465\"},\"ticker\":{\"id\":\"2462\"}},\"id\":\"2432\",\"type\":\"LinearAxis\"},{\"attributes\":{},\"id\":\"2444\",\"type\":\"ResetTool\"},{\"attributes\":{\"axis\":{\"id\":\"2432\"},\"grid_line_color\":null,\"ticker\":null},\"id\":\"2435\",\"type\":\"Grid\"},{\"attributes\":{\"axis\":{\"id\":\"2436\"},\"dimension\":1,\"grid_line_color\":null,\"ticker\":null},\"id\":\"2439\",\"type\":\"Grid\"},{\"attributes\":{\"axis_label\":\"inertia\",\"formatter\":{\"id\":\"2468\"},\"major_label_policy\":{\"id\":\"2470\"},\"ticker\":{\"id\":\"2437\"}},\"id\":\"2436\",\"type\":\"LinearAxis\"},{\"attributes\":{},\"id\":\"2437\",\"type\":\"BasicTicker\"},{\"attributes\":{},\"id\":\"2442\",\"type\":\"WheelZoomTool\"},{\"attributes\":{},\"id\":\"2440\",\"type\":\"SaveTool\"},{\"attributes\":{\"data\":{\"inertia\":{\"__ndarray__\":\"BQAAAAAd6kCsnTxUM+7kQP+jU0sFBeFAegIXaMwO3UDK31+NMujZQKRrKbT/dNdAUGuxlbka1UCgW3pCH/TTQLVhL25E5NJAlTDSHJsY0kBW0ue4B2LRQJfaTXu14tBAlyjwU3xM0EA1FnqIgs7PQA==\",\"dtype\":\"float64\",\"order\":\"little\",\"shape\":[14]},\"k\":[1,2,3,4,5,6,7,8,9,10,11,12,13,14]},\"selected\":{\"id\":\"2454\"},\"selection_policy\":{\"id\":\"2478\"}},\"id\":\"2453\",\"type\":\"ColumnDataSource\"},{\"attributes\":{},\"id\":\"2478\",\"type\":\"UnionRenderers\"},{\"attributes\":{\"active_multi\":null,\"tools\":[{\"id\":\"2422\"},{\"id\":\"2440\"},{\"id\":\"2441\"},{\"id\":\"2442\"},{\"id\":\"2443\"},{\"id\":\"2444\"}]},\"id\":\"2446\",\"type\":\"Toolbar\"},{\"attributes\":{\"overlay\":{\"id\":\"2445\"}},\"id\":\"2443\",\"type\":\"BoxZoomTool\"},{\"attributes\":{\"margin\":[5,5,5,5],\"name\":\"HSpacer03768\",\"sizing_mode\":\"stretch_width\"},\"id\":\"2489\",\"type\":\"Spacer\"}],\"root_ids\":[\"2418\"]},\"title\":\"Bokeh Application\",\"version\":\"2.3.2\"}};\n",
       "    var render_items = [{\"docid\":\"9b8879bc-5be3-493d-8ede-9c440cd80861\",\"root_ids\":[\"2418\"],\"roots\":{\"2418\":\"44a29efc-5d16-409d-9462-410aa745965c\"}}];\n",
       "    root.Bokeh.embed.embed_items_notebook(docs_json, render_items);\n",
       "  }\n",
       "  if (root.Bokeh !== undefined && root.Bokeh.Panel !== undefined) {\n",
       "    embed_document(root);\n",
       "  } else {\n",
       "    var attempts = 0;\n",
       "    var timer = setInterval(function(root) {\n",
       "      if (root.Bokeh !== undefined && root.Bokeh.Panel !== undefined) {\n",
       "        clearInterval(timer);\n",
       "        embed_document(root);\n",
       "      } else if (document.readyState == \"complete\") {\n",
       "        attempts++;\n",
       "        if (attempts > 200) {\n",
       "          clearInterval(timer);\n",
       "          console.log(\"Bokeh: ERROR: Unable to run BokehJS code because BokehJS library is missing\");\n",
       "        }\n",
       "      }\n",
       "    }, 25, root)\n",
       "  }\n",
       "})(window);</script>"
      ],
      "text/plain": [
       ":Curve   [k]   (inertia)"
      ]
     },
     "execution_count": 390,
     "metadata": {
      "application/vnd.holoviews_exec.v0+json": {
       "id": "2418"
      }
     },
     "output_type": "execute_result"
    }
   ],
   "source": [
    "# Define a DataFrame to plot the Elbow Curve using hvPlot\n",
    "elbow_data = {\"k\": k, \"inertia\": inertia}\n",
    "df_elbow = pd.DataFrame(elbow_data)\n",
    "df_elbow.hvplot.line(x=\"k\", y=\"inertia\", title=\"Elbow Curve\", xticks=k)"
   ]
  },
  {
   "cell_type": "code",
   "execution_count": 391,
   "metadata": {},
   "outputs": [
    {
     "data": {
      "text/plain": [
       "KMeans(n_clusters=7, random_state=5)"
      ]
     },
     "execution_count": 391,
     "metadata": {},
     "output_type": "execute_result"
    }
   ],
   "source": [
    "# Initializing model with K = 3 \n",
    "model = KMeans(n_clusters=7, random_state=5)\n",
    "model"
   ]
  },
  {
   "cell_type": "code",
   "execution_count": 392,
   "metadata": {},
   "outputs": [
    {
     "data": {
      "text/plain": [
       "KMeans(n_clusters=7, random_state=5)"
      ]
     },
     "execution_count": 392,
     "metadata": {},
     "output_type": "execute_result"
    }
   ],
   "source": [
    "# Fitting model\n",
    "model.fit(new_df)"
   ]
  },
  {
   "cell_type": "code",
   "execution_count": 393,
   "metadata": {},
   "outputs": [
    {
     "name": "stdout",
     "output_type": "stream",
     "text": [
      "[5 5 5 ... 2 4 6]\n"
     ]
    }
   ],
   "source": [
    "# Get the predictions\n",
    "predictions = model.predict(new_df)\n",
    "print(predictions)"
   ]
  },
  {
   "cell_type": "code",
   "execution_count": 394,
   "metadata": {},
   "outputs": [
    {
     "data": {
      "text/html": [
       "<div>\n",
       "<style scoped>\n",
       "    .dataframe tbody tr th:only-of-type {\n",
       "        vertical-align: middle;\n",
       "    }\n",
       "\n",
       "    .dataframe tbody tr th {\n",
       "        vertical-align: top;\n",
       "    }\n",
       "\n",
       "    .dataframe thead th {\n",
       "        text-align: right;\n",
       "    }\n",
       "</style>\n",
       "<table border=\"1\" class=\"dataframe\">\n",
       "  <thead>\n",
       "    <tr style=\"text-align: right;\">\n",
       "      <th></th>\n",
       "      <th>abv</th>\n",
       "      <th>astringency</th>\n",
       "      <th>body</th>\n",
       "      <th>bitter</th>\n",
       "      <th>sweet</th>\n",
       "      <th>sour</th>\n",
       "      <th>fruits</th>\n",
       "      <th>hoppy</th>\n",
       "      <th>spices</th>\n",
       "      <th>malty</th>\n",
       "      <th>class</th>\n",
       "    </tr>\n",
       "  </thead>\n",
       "  <tbody>\n",
       "    <tr>\n",
       "      <th>0</th>\n",
       "      <td>5.3</td>\n",
       "      <td>13</td>\n",
       "      <td>32</td>\n",
       "      <td>47</td>\n",
       "      <td>74</td>\n",
       "      <td>33</td>\n",
       "      <td>33</td>\n",
       "      <td>57</td>\n",
       "      <td>8</td>\n",
       "      <td>111</td>\n",
       "      <td>5</td>\n",
       "    </tr>\n",
       "    <tr>\n",
       "      <th>1</th>\n",
       "      <td>7.2</td>\n",
       "      <td>12</td>\n",
       "      <td>57</td>\n",
       "      <td>33</td>\n",
       "      <td>55</td>\n",
       "      <td>16</td>\n",
       "      <td>24</td>\n",
       "      <td>35</td>\n",
       "      <td>12</td>\n",
       "      <td>84</td>\n",
       "      <td>5</td>\n",
       "    </tr>\n",
       "    <tr>\n",
       "      <th>2</th>\n",
       "      <td>5.0</td>\n",
       "      <td>14</td>\n",
       "      <td>37</td>\n",
       "      <td>42</td>\n",
       "      <td>43</td>\n",
       "      <td>11</td>\n",
       "      <td>10</td>\n",
       "      <td>54</td>\n",
       "      <td>4</td>\n",
       "      <td>62</td>\n",
       "      <td>5</td>\n",
       "    </tr>\n",
       "    <tr>\n",
       "      <th>3</th>\n",
       "      <td>8.5</td>\n",
       "      <td>13</td>\n",
       "      <td>55</td>\n",
       "      <td>47</td>\n",
       "      <td>101</td>\n",
       "      <td>18</td>\n",
       "      <td>49</td>\n",
       "      <td>40</td>\n",
       "      <td>16</td>\n",
       "      <td>119</td>\n",
       "      <td>0</td>\n",
       "    </tr>\n",
       "    <tr>\n",
       "      <th>4</th>\n",
       "      <td>5.3</td>\n",
       "      <td>21</td>\n",
       "      <td>69</td>\n",
       "      <td>63</td>\n",
       "      <td>120</td>\n",
       "      <td>14</td>\n",
       "      <td>19</td>\n",
       "      <td>36</td>\n",
       "      <td>15</td>\n",
       "      <td>218</td>\n",
       "      <td>4</td>\n",
       "    </tr>\n",
       "  </tbody>\n",
       "</table>\n",
       "</div>"
      ],
      "text/plain": [
       "   abv  astringency  body  bitter  sweet  sour  fruits  hoppy  spices  malty  \\\n",
       "0  5.3           13    32      47     74    33      33     57       8    111   \n",
       "1  7.2           12    57      33     55    16      24     35      12     84   \n",
       "2  5.0           14    37      42     43    11      10     54       4     62   \n",
       "3  8.5           13    55      47    101    18      49     40      16    119   \n",
       "4  5.3           21    69      63    120    14      19     36      15    218   \n",
       "\n",
       "   class  \n",
       "0      5  \n",
       "1      5  \n",
       "2      5  \n",
       "3      0  \n",
       "4      4  "
      ]
     },
     "execution_count": 394,
     "metadata": {},
     "output_type": "execute_result"
    }
   ],
   "source": [
    "# Add a new class column to the df\n",
    "new_df[\"class\"] = model.labels_\n",
    "new_df.head()"
   ]
  },
  {
   "cell_type": "code",
   "execution_count": 396,
   "metadata": {},
   "outputs": [],
   "source": [
    "style_df = df[[\"beer_style\", \"style_key\", \"condensed_style\", \"ave_rating\", \"BA_Big_styles\"]]"
   ]
  },
  {
   "cell_type": "code",
   "execution_count": 397,
   "metadata": {},
   "outputs": [],
   "source": [
    "combined_df = new_df.join(style_df)"
   ]
  },
  {
   "cell_type": "code",
   "execution_count": 398,
   "metadata": {},
   "outputs": [
    {
     "data": {
      "text/html": [
       "<div>\n",
       "<style scoped>\n",
       "    .dataframe tbody tr th:only-of-type {\n",
       "        vertical-align: middle;\n",
       "    }\n",
       "\n",
       "    .dataframe tbody tr th {\n",
       "        vertical-align: top;\n",
       "    }\n",
       "\n",
       "    .dataframe thead th {\n",
       "        text-align: right;\n",
       "    }\n",
       "</style>\n",
       "<table border=\"1\" class=\"dataframe\">\n",
       "  <thead>\n",
       "    <tr style=\"text-align: right;\">\n",
       "      <th></th>\n",
       "      <th>abv</th>\n",
       "      <th>astringency</th>\n",
       "      <th>body</th>\n",
       "      <th>bitter</th>\n",
       "      <th>sweet</th>\n",
       "      <th>sour</th>\n",
       "      <th>fruits</th>\n",
       "      <th>hoppy</th>\n",
       "      <th>spices</th>\n",
       "      <th>malty</th>\n",
       "      <th>class</th>\n",
       "      <th>beer_style</th>\n",
       "      <th>style_key</th>\n",
       "      <th>condensed_style</th>\n",
       "      <th>ave_rating</th>\n",
       "      <th>BA_Big_styles</th>\n",
       "    </tr>\n",
       "  </thead>\n",
       "  <tbody>\n",
       "    <tr>\n",
       "      <th>4507</th>\n",
       "      <td>13.0</td>\n",
       "      <td>11</td>\n",
       "      <td>112</td>\n",
       "      <td>80</td>\n",
       "      <td>61</td>\n",
       "      <td>9</td>\n",
       "      <td>17</td>\n",
       "      <td>14</td>\n",
       "      <td>88</td>\n",
       "      <td>137</td>\n",
       "      <td>4</td>\n",
       "      <td>Stout - American Imperial</td>\n",
       "      <td>89</td>\n",
       "      <td>Stout</td>\n",
       "      <td>4.34</td>\n",
       "      <td>Stouts</td>\n",
       "    </tr>\n",
       "    <tr>\n",
       "      <th>4991</th>\n",
       "      <td>13.0</td>\n",
       "      <td>6</td>\n",
       "      <td>20</td>\n",
       "      <td>10</td>\n",
       "      <td>70</td>\n",
       "      <td>28</td>\n",
       "      <td>32</td>\n",
       "      <td>14</td>\n",
       "      <td>7</td>\n",
       "      <td>50</td>\n",
       "      <td>6</td>\n",
       "      <td>Strong Ale - Belgian Pale</td>\n",
       "      <td>105</td>\n",
       "      <td>Strong Ale</td>\n",
       "      <td>3.47</td>\n",
       "      <td>Strong Ales</td>\n",
       "    </tr>\n",
       "    <tr>\n",
       "      <th>801</th>\n",
       "      <td>13.0</td>\n",
       "      <td>8</td>\n",
       "      <td>73</td>\n",
       "      <td>69</td>\n",
       "      <td>79</td>\n",
       "      <td>3</td>\n",
       "      <td>9</td>\n",
       "      <td>7</td>\n",
       "      <td>23</td>\n",
       "      <td>174</td>\n",
       "      <td>4</td>\n",
       "      <td>Brown Ale - American</td>\n",
       "      <td>9</td>\n",
       "      <td>Brown Ale</td>\n",
       "      <td>4.29</td>\n",
       "      <td>Brown Ales</td>\n",
       "    </tr>\n",
       "    <tr>\n",
       "      <th>4894</th>\n",
       "      <td>13.0</td>\n",
       "      <td>3</td>\n",
       "      <td>75</td>\n",
       "      <td>31</td>\n",
       "      <td>73</td>\n",
       "      <td>8</td>\n",
       "      <td>87</td>\n",
       "      <td>4</td>\n",
       "      <td>35</td>\n",
       "      <td>105</td>\n",
       "      <td>0</td>\n",
       "      <td>Strong Ale - American</td>\n",
       "      <td>103</td>\n",
       "      <td>Strong Ale</td>\n",
       "      <td>4.53</td>\n",
       "      <td>Strong Ales</td>\n",
       "    </tr>\n",
       "    <tr>\n",
       "      <th>4875</th>\n",
       "      <td>13.0</td>\n",
       "      <td>4</td>\n",
       "      <td>105</td>\n",
       "      <td>77</td>\n",
       "      <td>69</td>\n",
       "      <td>8</td>\n",
       "      <td>31</td>\n",
       "      <td>10</td>\n",
       "      <td>91</td>\n",
       "      <td>176</td>\n",
       "      <td>4</td>\n",
       "      <td>Strong Ale - American</td>\n",
       "      <td>103</td>\n",
       "      <td>Strong Ale</td>\n",
       "      <td>4.57</td>\n",
       "      <td>Strong Ales</td>\n",
       "    </tr>\n",
       "    <tr>\n",
       "      <th>...</th>\n",
       "      <td>...</td>\n",
       "      <td>...</td>\n",
       "      <td>...</td>\n",
       "      <td>...</td>\n",
       "      <td>...</td>\n",
       "      <td>...</td>\n",
       "      <td>...</td>\n",
       "      <td>...</td>\n",
       "      <td>...</td>\n",
       "      <td>...</td>\n",
       "      <td>...</td>\n",
       "      <td>...</td>\n",
       "      <td>...</td>\n",
       "      <td>...</td>\n",
       "      <td>...</td>\n",
       "      <td>...</td>\n",
       "    </tr>\n",
       "    <tr>\n",
       "      <th>4297</th>\n",
       "      <td>3.0</td>\n",
       "      <td>39</td>\n",
       "      <td>23</td>\n",
       "      <td>7</td>\n",
       "      <td>40</td>\n",
       "      <td>127</td>\n",
       "      <td>66</td>\n",
       "      <td>5</td>\n",
       "      <td>1</td>\n",
       "      <td>34</td>\n",
       "      <td>3</td>\n",
       "      <td>Sour - Berliner Weisse</td>\n",
       "      <td>122</td>\n",
       "      <td>Sour</td>\n",
       "      <td>3.55</td>\n",
       "      <td>Wild/Sour</td>\n",
       "    </tr>\n",
       "    <tr>\n",
       "      <th>4267</th>\n",
       "      <td>3.0</td>\n",
       "      <td>58</td>\n",
       "      <td>27</td>\n",
       "      <td>5</td>\n",
       "      <td>83</td>\n",
       "      <td>181</td>\n",
       "      <td>124</td>\n",
       "      <td>16</td>\n",
       "      <td>10</td>\n",
       "      <td>53</td>\n",
       "      <td>3</td>\n",
       "      <td>Sour - Berliner Weisse</td>\n",
       "      <td>122</td>\n",
       "      <td>Sour</td>\n",
       "      <td>4.18</td>\n",
       "      <td>Wild/Sour</td>\n",
       "    </tr>\n",
       "    <tr>\n",
       "      <th>2479</th>\n",
       "      <td>3.0</td>\n",
       "      <td>0</td>\n",
       "      <td>4</td>\n",
       "      <td>2</td>\n",
       "      <td>1</td>\n",
       "      <td>0</td>\n",
       "      <td>1</td>\n",
       "      <td>2</td>\n",
       "      <td>0</td>\n",
       "      <td>7</td>\n",
       "      <td>1</td>\n",
       "      <td>Lager - Light</td>\n",
       "      <td>62</td>\n",
       "      <td>Lager</td>\n",
       "      <td>1.50</td>\n",
       "      <td>Pale Lagers</td>\n",
       "    </tr>\n",
       "    <tr>\n",
       "      <th>4280</th>\n",
       "      <td>3.0</td>\n",
       "      <td>37</td>\n",
       "      <td>27</td>\n",
       "      <td>6</td>\n",
       "      <td>44</td>\n",
       "      <td>130</td>\n",
       "      <td>55</td>\n",
       "      <td>7</td>\n",
       "      <td>0</td>\n",
       "      <td>33</td>\n",
       "      <td>3</td>\n",
       "      <td>Sour - Berliner Weisse</td>\n",
       "      <td>122</td>\n",
       "      <td>Sour</td>\n",
       "      <td>3.76</td>\n",
       "      <td>Wild/Sour</td>\n",
       "    </tr>\n",
       "    <tr>\n",
       "      <th>4285</th>\n",
       "      <td>3.0</td>\n",
       "      <td>51</td>\n",
       "      <td>33</td>\n",
       "      <td>7</td>\n",
       "      <td>136</td>\n",
       "      <td>221</td>\n",
       "      <td>154</td>\n",
       "      <td>15</td>\n",
       "      <td>6</td>\n",
       "      <td>37</td>\n",
       "      <td>3</td>\n",
       "      <td>Sour - Berliner Weisse</td>\n",
       "      <td>122</td>\n",
       "      <td>Sour</td>\n",
       "      <td>3.94</td>\n",
       "      <td>Wild/Sour</td>\n",
       "    </tr>\n",
       "  </tbody>\n",
       "</table>\n",
       "<p>5348 rows × 16 columns</p>\n",
       "</div>"
      ],
      "text/plain": [
       "       abv  astringency  body  bitter  sweet  sour  fruits  hoppy  spices  \\\n",
       "4507  13.0           11   112      80     61     9      17     14      88   \n",
       "4991  13.0            6    20      10     70    28      32     14       7   \n",
       "801   13.0            8    73      69     79     3       9      7      23   \n",
       "4894  13.0            3    75      31     73     8      87      4      35   \n",
       "4875  13.0            4   105      77     69     8      31     10      91   \n",
       "...    ...          ...   ...     ...    ...   ...     ...    ...     ...   \n",
       "4297   3.0           39    23       7     40   127      66      5       1   \n",
       "4267   3.0           58    27       5     83   181     124     16      10   \n",
       "2479   3.0            0     4       2      1     0       1      2       0   \n",
       "4280   3.0           37    27       6     44   130      55      7       0   \n",
       "4285   3.0           51    33       7    136   221     154     15       6   \n",
       "\n",
       "      malty  class                 beer_style  style_key condensed_style  \\\n",
       "4507    137      4  Stout - American Imperial         89           Stout   \n",
       "4991     50      6  Strong Ale - Belgian Pale        105      Strong Ale   \n",
       "801     174      4       Brown Ale - American          9       Brown Ale   \n",
       "4894    105      0      Strong Ale - American        103      Strong Ale   \n",
       "4875    176      4      Strong Ale - American        103      Strong Ale   \n",
       "...     ...    ...                        ...        ...             ...   \n",
       "4297     34      3     Sour - Berliner Weisse        122            Sour   \n",
       "4267     53      3     Sour - Berliner Weisse        122            Sour   \n",
       "2479      7      1              Lager - Light         62           Lager   \n",
       "4280     33      3     Sour - Berliner Weisse        122            Sour   \n",
       "4285     37      3     Sour - Berliner Weisse        122            Sour   \n",
       "\n",
       "      ave_rating BA_Big_styles  \n",
       "4507        4.34        Stouts  \n",
       "4991        3.47   Strong Ales  \n",
       "801         4.29    Brown Ales  \n",
       "4894        4.53   Strong Ales  \n",
       "4875        4.57   Strong Ales  \n",
       "...          ...           ...  \n",
       "4297        3.55    Wild/Sour   \n",
       "4267        4.18    Wild/Sour   \n",
       "2479        1.50   Pale Lagers  \n",
       "4280        3.76    Wild/Sour   \n",
       "4285        3.94    Wild/Sour   \n",
       "\n",
       "[5348 rows x 16 columns]"
      ]
     },
     "execution_count": 398,
     "metadata": {},
     "output_type": "execute_result"
    }
   ],
   "source": [
    "combined_df.sort_values(\"abv\", ascending=False)"
   ]
  },
  {
   "cell_type": "code",
   "execution_count": 399,
   "metadata": {},
   "outputs": [
    {
     "data": {
      "text/html": [
       "<div>\n",
       "<style scoped>\n",
       "    .dataframe tbody tr th:only-of-type {\n",
       "        vertical-align: middle;\n",
       "    }\n",
       "\n",
       "    .dataframe tbody tr th {\n",
       "        vertical-align: top;\n",
       "    }\n",
       "\n",
       "    .dataframe thead th {\n",
       "        text-align: right;\n",
       "    }\n",
       "</style>\n",
       "<table border=\"1\" class=\"dataframe\">\n",
       "  <thead>\n",
       "    <tr style=\"text-align: right;\">\n",
       "      <th></th>\n",
       "      <th>abv</th>\n",
       "      <th>astringency</th>\n",
       "      <th>body</th>\n",
       "      <th>bitter</th>\n",
       "      <th>sweet</th>\n",
       "      <th>sour</th>\n",
       "      <th>fruits</th>\n",
       "      <th>hoppy</th>\n",
       "      <th>spices</th>\n",
       "      <th>malty</th>\n",
       "      <th>class</th>\n",
       "      <th>beer_style</th>\n",
       "      <th>style_key</th>\n",
       "      <th>condensed_style</th>\n",
       "      <th>ave_rating</th>\n",
       "      <th>BA_Big_styles</th>\n",
       "    </tr>\n",
       "  </thead>\n",
       "  <tbody>\n",
       "    <tr>\n",
       "      <th>0</th>\n",
       "      <td>5.30</td>\n",
       "      <td>13</td>\n",
       "      <td>32</td>\n",
       "      <td>47</td>\n",
       "      <td>74</td>\n",
       "      <td>33</td>\n",
       "      <td>33</td>\n",
       "      <td>57</td>\n",
       "      <td>8</td>\n",
       "      <td>111</td>\n",
       "      <td>5</td>\n",
       "      <td>Altbier</td>\n",
       "      <td>8</td>\n",
       "      <td>Altbier</td>\n",
       "      <td>3.65</td>\n",
       "      <td>Brown Ales</td>\n",
       "    </tr>\n",
       "    <tr>\n",
       "      <th>1</th>\n",
       "      <td>7.20</td>\n",
       "      <td>12</td>\n",
       "      <td>57</td>\n",
       "      <td>33</td>\n",
       "      <td>55</td>\n",
       "      <td>16</td>\n",
       "      <td>24</td>\n",
       "      <td>35</td>\n",
       "      <td>12</td>\n",
       "      <td>84</td>\n",
       "      <td>5</td>\n",
       "      <td>Altbier</td>\n",
       "      <td>8</td>\n",
       "      <td>Altbier</td>\n",
       "      <td>3.90</td>\n",
       "      <td>Brown Ales</td>\n",
       "    </tr>\n",
       "    <tr>\n",
       "      <th>2</th>\n",
       "      <td>5.00</td>\n",
       "      <td>14</td>\n",
       "      <td>37</td>\n",
       "      <td>42</td>\n",
       "      <td>43</td>\n",
       "      <td>11</td>\n",
       "      <td>10</td>\n",
       "      <td>54</td>\n",
       "      <td>4</td>\n",
       "      <td>62</td>\n",
       "      <td>5</td>\n",
       "      <td>Altbier</td>\n",
       "      <td>8</td>\n",
       "      <td>Altbier</td>\n",
       "      <td>3.58</td>\n",
       "      <td>Brown Ales</td>\n",
       "    </tr>\n",
       "    <tr>\n",
       "      <th>3</th>\n",
       "      <td>8.50</td>\n",
       "      <td>13</td>\n",
       "      <td>55</td>\n",
       "      <td>47</td>\n",
       "      <td>101</td>\n",
       "      <td>18</td>\n",
       "      <td>49</td>\n",
       "      <td>40</td>\n",
       "      <td>16</td>\n",
       "      <td>119</td>\n",
       "      <td>0</td>\n",
       "      <td>Altbier</td>\n",
       "      <td>8</td>\n",
       "      <td>Altbier</td>\n",
       "      <td>4.15</td>\n",
       "      <td>Brown Ales</td>\n",
       "    </tr>\n",
       "    <tr>\n",
       "      <th>4</th>\n",
       "      <td>5.30</td>\n",
       "      <td>21</td>\n",
       "      <td>69</td>\n",
       "      <td>63</td>\n",
       "      <td>120</td>\n",
       "      <td>14</td>\n",
       "      <td>19</td>\n",
       "      <td>36</td>\n",
       "      <td>15</td>\n",
       "      <td>218</td>\n",
       "      <td>4</td>\n",
       "      <td>Altbier</td>\n",
       "      <td>8</td>\n",
       "      <td>Altbier</td>\n",
       "      <td>3.67</td>\n",
       "      <td>Brown Ales</td>\n",
       "    </tr>\n",
       "    <tr>\n",
       "      <th>5</th>\n",
       "      <td>7.20</td>\n",
       "      <td>25</td>\n",
       "      <td>51</td>\n",
       "      <td>44</td>\n",
       "      <td>45</td>\n",
       "      <td>9</td>\n",
       "      <td>11</td>\n",
       "      <td>51</td>\n",
       "      <td>20</td>\n",
       "      <td>95</td>\n",
       "      <td>5</td>\n",
       "      <td>Altbier</td>\n",
       "      <td>8</td>\n",
       "      <td>Altbier</td>\n",
       "      <td>3.78</td>\n",
       "      <td>Brown Ales</td>\n",
       "    </tr>\n",
       "    <tr>\n",
       "      <th>6</th>\n",
       "      <td>6.00</td>\n",
       "      <td>22</td>\n",
       "      <td>45</td>\n",
       "      <td>46</td>\n",
       "      <td>62</td>\n",
       "      <td>25</td>\n",
       "      <td>34</td>\n",
       "      <td>60</td>\n",
       "      <td>4</td>\n",
       "      <td>103</td>\n",
       "      <td>5</td>\n",
       "      <td>Altbier</td>\n",
       "      <td>8</td>\n",
       "      <td>Altbier</td>\n",
       "      <td>4.10</td>\n",
       "      <td>Brown Ales</td>\n",
       "    </tr>\n",
       "    <tr>\n",
       "      <th>7</th>\n",
       "      <td>5.30</td>\n",
       "      <td>28</td>\n",
       "      <td>40</td>\n",
       "      <td>40</td>\n",
       "      <td>58</td>\n",
       "      <td>29</td>\n",
       "      <td>36</td>\n",
       "      <td>54</td>\n",
       "      <td>8</td>\n",
       "      <td>97</td>\n",
       "      <td>5</td>\n",
       "      <td>Altbier</td>\n",
       "      <td>8</td>\n",
       "      <td>Altbier</td>\n",
       "      <td>3.46</td>\n",
       "      <td>Brown Ales</td>\n",
       "    </tr>\n",
       "    <tr>\n",
       "      <th>8</th>\n",
       "      <td>5.00</td>\n",
       "      <td>18</td>\n",
       "      <td>49</td>\n",
       "      <td>37</td>\n",
       "      <td>73</td>\n",
       "      <td>22</td>\n",
       "      <td>21</td>\n",
       "      <td>37</td>\n",
       "      <td>4</td>\n",
       "      <td>98</td>\n",
       "      <td>5</td>\n",
       "      <td>Altbier</td>\n",
       "      <td>8</td>\n",
       "      <td>Altbier</td>\n",
       "      <td>3.60</td>\n",
       "      <td>Brown Ales</td>\n",
       "    </tr>\n",
       "    <tr>\n",
       "      <th>9</th>\n",
       "      <td>4.80</td>\n",
       "      <td>25</td>\n",
       "      <td>35</td>\n",
       "      <td>38</td>\n",
       "      <td>39</td>\n",
       "      <td>13</td>\n",
       "      <td>8</td>\n",
       "      <td>60</td>\n",
       "      <td>16</td>\n",
       "      <td>97</td>\n",
       "      <td>5</td>\n",
       "      <td>Altbier</td>\n",
       "      <td>8</td>\n",
       "      <td>Altbier</td>\n",
       "      <td>4.10</td>\n",
       "      <td>Brown Ales</td>\n",
       "    </tr>\n",
       "    <tr>\n",
       "      <th>10</th>\n",
       "      <td>5.10</td>\n",
       "      <td>35</td>\n",
       "      <td>31</td>\n",
       "      <td>35</td>\n",
       "      <td>50</td>\n",
       "      <td>55</td>\n",
       "      <td>52</td>\n",
       "      <td>66</td>\n",
       "      <td>8</td>\n",
       "      <td>77</td>\n",
       "      <td>2</td>\n",
       "      <td>Altbier</td>\n",
       "      <td>8</td>\n",
       "      <td>Altbier</td>\n",
       "      <td>3.70</td>\n",
       "      <td>Brown Ales</td>\n",
       "    </tr>\n",
       "    <tr>\n",
       "      <th>11</th>\n",
       "      <td>4.70</td>\n",
       "      <td>34</td>\n",
       "      <td>48</td>\n",
       "      <td>55</td>\n",
       "      <td>59</td>\n",
       "      <td>25</td>\n",
       "      <td>32</td>\n",
       "      <td>68</td>\n",
       "      <td>12</td>\n",
       "      <td>121</td>\n",
       "      <td>5</td>\n",
       "      <td>Altbier</td>\n",
       "      <td>8</td>\n",
       "      <td>Altbier</td>\n",
       "      <td>4.00</td>\n",
       "      <td>Brown Ales</td>\n",
       "    </tr>\n",
       "    <tr>\n",
       "      <th>12</th>\n",
       "      <td>5.10</td>\n",
       "      <td>10</td>\n",
       "      <td>19</td>\n",
       "      <td>21</td>\n",
       "      <td>30</td>\n",
       "      <td>11</td>\n",
       "      <td>8</td>\n",
       "      <td>24</td>\n",
       "      <td>2</td>\n",
       "      <td>65</td>\n",
       "      <td>5</td>\n",
       "      <td>Altbier</td>\n",
       "      <td>8</td>\n",
       "      <td>Altbier</td>\n",
       "      <td>3.54</td>\n",
       "      <td>Brown Ales</td>\n",
       "    </tr>\n",
       "    <tr>\n",
       "      <th>13</th>\n",
       "      <td>5.60</td>\n",
       "      <td>7</td>\n",
       "      <td>30</td>\n",
       "      <td>43</td>\n",
       "      <td>43</td>\n",
       "      <td>13</td>\n",
       "      <td>13</td>\n",
       "      <td>50</td>\n",
       "      <td>6</td>\n",
       "      <td>93</td>\n",
       "      <td>5</td>\n",
       "      <td>Altbier</td>\n",
       "      <td>8</td>\n",
       "      <td>Altbier</td>\n",
       "      <td>3.69</td>\n",
       "      <td>Brown Ales</td>\n",
       "    </tr>\n",
       "    <tr>\n",
       "      <th>14</th>\n",
       "      <td>7.70</td>\n",
       "      <td>24</td>\n",
       "      <td>44</td>\n",
       "      <td>79</td>\n",
       "      <td>73</td>\n",
       "      <td>88</td>\n",
       "      <td>114</td>\n",
       "      <td>92</td>\n",
       "      <td>9</td>\n",
       "      <td>51</td>\n",
       "      <td>2</td>\n",
       "      <td>Altbier</td>\n",
       "      <td>8</td>\n",
       "      <td>Altbier</td>\n",
       "      <td>4.07</td>\n",
       "      <td>Brown Ales</td>\n",
       "    </tr>\n",
       "    <tr>\n",
       "      <th>15</th>\n",
       "      <td>5.20</td>\n",
       "      <td>9</td>\n",
       "      <td>32</td>\n",
       "      <td>29</td>\n",
       "      <td>54</td>\n",
       "      <td>13</td>\n",
       "      <td>11</td>\n",
       "      <td>32</td>\n",
       "      <td>2</td>\n",
       "      <td>112</td>\n",
       "      <td>5</td>\n",
       "      <td>Altbier</td>\n",
       "      <td>8</td>\n",
       "      <td>Altbier</td>\n",
       "      <td>3.37</td>\n",
       "      <td>Brown Ales</td>\n",
       "    </tr>\n",
       "    <tr>\n",
       "      <th>16</th>\n",
       "      <td>8.50</td>\n",
       "      <td>14</td>\n",
       "      <td>55</td>\n",
       "      <td>48</td>\n",
       "      <td>105</td>\n",
       "      <td>31</td>\n",
       "      <td>37</td>\n",
       "      <td>59</td>\n",
       "      <td>19</td>\n",
       "      <td>115</td>\n",
       "      <td>0</td>\n",
       "      <td>Altbier</td>\n",
       "      <td>8</td>\n",
       "      <td>Altbier</td>\n",
       "      <td>3.96</td>\n",
       "      <td>Brown Ales</td>\n",
       "    </tr>\n",
       "    <tr>\n",
       "      <th>17</th>\n",
       "      <td>5.50</td>\n",
       "      <td>11</td>\n",
       "      <td>58</td>\n",
       "      <td>47</td>\n",
       "      <td>49</td>\n",
       "      <td>5</td>\n",
       "      <td>3</td>\n",
       "      <td>50</td>\n",
       "      <td>5</td>\n",
       "      <td>110</td>\n",
       "      <td>5</td>\n",
       "      <td>Altbier</td>\n",
       "      <td>8</td>\n",
       "      <td>Altbier</td>\n",
       "      <td>3.57</td>\n",
       "      <td>Brown Ales</td>\n",
       "    </tr>\n",
       "    <tr>\n",
       "      <th>18</th>\n",
       "      <td>4.90</td>\n",
       "      <td>17</td>\n",
       "      <td>41</td>\n",
       "      <td>55</td>\n",
       "      <td>43</td>\n",
       "      <td>18</td>\n",
       "      <td>20</td>\n",
       "      <td>80</td>\n",
       "      <td>7</td>\n",
       "      <td>103</td>\n",
       "      <td>5</td>\n",
       "      <td>Altbier</td>\n",
       "      <td>8</td>\n",
       "      <td>Altbier</td>\n",
       "      <td>3.71</td>\n",
       "      <td>Brown Ales</td>\n",
       "    </tr>\n",
       "    <tr>\n",
       "      <th>19</th>\n",
       "      <td>4.50</td>\n",
       "      <td>19</td>\n",
       "      <td>42</td>\n",
       "      <td>54</td>\n",
       "      <td>62</td>\n",
       "      <td>19</td>\n",
       "      <td>25</td>\n",
       "      <td>64</td>\n",
       "      <td>10</td>\n",
       "      <td>135</td>\n",
       "      <td>5</td>\n",
       "      <td>Altbier</td>\n",
       "      <td>8</td>\n",
       "      <td>Altbier</td>\n",
       "      <td>3.69</td>\n",
       "      <td>Brown Ales</td>\n",
       "    </tr>\n",
       "    <tr>\n",
       "      <th>20</th>\n",
       "      <td>5.00</td>\n",
       "      <td>21</td>\n",
       "      <td>43</td>\n",
       "      <td>54</td>\n",
       "      <td>54</td>\n",
       "      <td>7</td>\n",
       "      <td>10</td>\n",
       "      <td>60</td>\n",
       "      <td>9</td>\n",
       "      <td>111</td>\n",
       "      <td>5</td>\n",
       "      <td>Altbier</td>\n",
       "      <td>8</td>\n",
       "      <td>Altbier</td>\n",
       "      <td>3.81</td>\n",
       "      <td>Brown Ales</td>\n",
       "    </tr>\n",
       "    <tr>\n",
       "      <th>21</th>\n",
       "      <td>5.10</td>\n",
       "      <td>21</td>\n",
       "      <td>72</td>\n",
       "      <td>48</td>\n",
       "      <td>102</td>\n",
       "      <td>25</td>\n",
       "      <td>50</td>\n",
       "      <td>43</td>\n",
       "      <td>13</td>\n",
       "      <td>176</td>\n",
       "      <td>4</td>\n",
       "      <td>Altbier</td>\n",
       "      <td>8</td>\n",
       "      <td>Altbier</td>\n",
       "      <td>3.75</td>\n",
       "      <td>Brown Ales</td>\n",
       "    </tr>\n",
       "    <tr>\n",
       "      <th>22</th>\n",
       "      <td>5.50</td>\n",
       "      <td>27</td>\n",
       "      <td>65</td>\n",
       "      <td>45</td>\n",
       "      <td>75</td>\n",
       "      <td>22</td>\n",
       "      <td>29</td>\n",
       "      <td>68</td>\n",
       "      <td>12</td>\n",
       "      <td>132</td>\n",
       "      <td>4</td>\n",
       "      <td>Altbier</td>\n",
       "      <td>8</td>\n",
       "      <td>Altbier</td>\n",
       "      <td>3.80</td>\n",
       "      <td>Brown Ales</td>\n",
       "    </tr>\n",
       "    <tr>\n",
       "      <th>23</th>\n",
       "      <td>4.80</td>\n",
       "      <td>19</td>\n",
       "      <td>43</td>\n",
       "      <td>39</td>\n",
       "      <td>43</td>\n",
       "      <td>13</td>\n",
       "      <td>6</td>\n",
       "      <td>45</td>\n",
       "      <td>8</td>\n",
       "      <td>97</td>\n",
       "      <td>5</td>\n",
       "      <td>Altbier</td>\n",
       "      <td>8</td>\n",
       "      <td>Altbier</td>\n",
       "      <td>3.76</td>\n",
       "      <td>Brown Ales</td>\n",
       "    </tr>\n",
       "    <tr>\n",
       "      <th>24</th>\n",
       "      <td>5.50</td>\n",
       "      <td>37</td>\n",
       "      <td>50</td>\n",
       "      <td>60</td>\n",
       "      <td>84</td>\n",
       "      <td>32</td>\n",
       "      <td>46</td>\n",
       "      <td>83</td>\n",
       "      <td>19</td>\n",
       "      <td>121</td>\n",
       "      <td>2</td>\n",
       "      <td>Altbier</td>\n",
       "      <td>8</td>\n",
       "      <td>Altbier</td>\n",
       "      <td>3.84</td>\n",
       "      <td>Brown Ales</td>\n",
       "    </tr>\n",
       "    <tr>\n",
       "      <th>25</th>\n",
       "      <td>4.90</td>\n",
       "      <td>21</td>\n",
       "      <td>27</td>\n",
       "      <td>37</td>\n",
       "      <td>33</td>\n",
       "      <td>13</td>\n",
       "      <td>13</td>\n",
       "      <td>45</td>\n",
       "      <td>10</td>\n",
       "      <td>70</td>\n",
       "      <td>5</td>\n",
       "      <td>Altbier</td>\n",
       "      <td>8</td>\n",
       "      <td>Altbier</td>\n",
       "      <td>3.72</td>\n",
       "      <td>Brown Ales</td>\n",
       "    </tr>\n",
       "    <tr>\n",
       "      <th>26</th>\n",
       "      <td>5.00</td>\n",
       "      <td>24</td>\n",
       "      <td>36</td>\n",
       "      <td>59</td>\n",
       "      <td>55</td>\n",
       "      <td>20</td>\n",
       "      <td>18</td>\n",
       "      <td>80</td>\n",
       "      <td>7</td>\n",
       "      <td>132</td>\n",
       "      <td>5</td>\n",
       "      <td>Altbier</td>\n",
       "      <td>8</td>\n",
       "      <td>Altbier</td>\n",
       "      <td>3.47</td>\n",
       "      <td>Brown Ales</td>\n",
       "    </tr>\n",
       "    <tr>\n",
       "      <th>27</th>\n",
       "      <td>5.50</td>\n",
       "      <td>22</td>\n",
       "      <td>38</td>\n",
       "      <td>47</td>\n",
       "      <td>54</td>\n",
       "      <td>10</td>\n",
       "      <td>14</td>\n",
       "      <td>68</td>\n",
       "      <td>2</td>\n",
       "      <td>117</td>\n",
       "      <td>5</td>\n",
       "      <td>Altbier</td>\n",
       "      <td>8</td>\n",
       "      <td>Altbier</td>\n",
       "      <td>3.71</td>\n",
       "      <td>Brown Ales</td>\n",
       "    </tr>\n",
       "    <tr>\n",
       "      <th>28</th>\n",
       "      <td>6.30</td>\n",
       "      <td>14</td>\n",
       "      <td>53</td>\n",
       "      <td>69</td>\n",
       "      <td>67</td>\n",
       "      <td>29</td>\n",
       "      <td>23</td>\n",
       "      <td>87</td>\n",
       "      <td>18</td>\n",
       "      <td>103</td>\n",
       "      <td>2</td>\n",
       "      <td>Altbier</td>\n",
       "      <td>8</td>\n",
       "      <td>Altbier</td>\n",
       "      <td>3.58</td>\n",
       "      <td>Brown Ales</td>\n",
       "    </tr>\n",
       "    <tr>\n",
       "      <th>29</th>\n",
       "      <td>7.50</td>\n",
       "      <td>18</td>\n",
       "      <td>55</td>\n",
       "      <td>72</td>\n",
       "      <td>92</td>\n",
       "      <td>21</td>\n",
       "      <td>52</td>\n",
       "      <td>75</td>\n",
       "      <td>47</td>\n",
       "      <td>129</td>\n",
       "      <td>4</td>\n",
       "      <td>Altbier</td>\n",
       "      <td>8</td>\n",
       "      <td>Altbier</td>\n",
       "      <td>3.91</td>\n",
       "      <td>Brown Ales</td>\n",
       "    </tr>\n",
       "    <tr>\n",
       "      <th>30</th>\n",
       "      <td>5.25</td>\n",
       "      <td>11</td>\n",
       "      <td>67</td>\n",
       "      <td>35</td>\n",
       "      <td>86</td>\n",
       "      <td>21</td>\n",
       "      <td>28</td>\n",
       "      <td>54</td>\n",
       "      <td>4</td>\n",
       "      <td>138</td>\n",
       "      <td>4</td>\n",
       "      <td>Altbier</td>\n",
       "      <td>8</td>\n",
       "      <td>Altbier</td>\n",
       "      <td>3.64</td>\n",
       "      <td>Brown Ales</td>\n",
       "    </tr>\n",
       "    <tr>\n",
       "      <th>31</th>\n",
       "      <td>5.20</td>\n",
       "      <td>24</td>\n",
       "      <td>47</td>\n",
       "      <td>43</td>\n",
       "      <td>71</td>\n",
       "      <td>21</td>\n",
       "      <td>26</td>\n",
       "      <td>69</td>\n",
       "      <td>9</td>\n",
       "      <td>134</td>\n",
       "      <td>4</td>\n",
       "      <td>Altbier</td>\n",
       "      <td>8</td>\n",
       "      <td>Altbier</td>\n",
       "      <td>3.73</td>\n",
       "      <td>Brown Ales</td>\n",
       "    </tr>\n",
       "    <tr>\n",
       "      <th>32</th>\n",
       "      <td>6.00</td>\n",
       "      <td>17</td>\n",
       "      <td>57</td>\n",
       "      <td>96</td>\n",
       "      <td>106</td>\n",
       "      <td>23</td>\n",
       "      <td>42</td>\n",
       "      <td>122</td>\n",
       "      <td>11</td>\n",
       "      <td>130</td>\n",
       "      <td>2</td>\n",
       "      <td>Altbier</td>\n",
       "      <td>8</td>\n",
       "      <td>Altbier</td>\n",
       "      <td>3.87</td>\n",
       "      <td>Brown Ales</td>\n",
       "    </tr>\n",
       "    <tr>\n",
       "      <th>33</th>\n",
       "      <td>5.60</td>\n",
       "      <td>36</td>\n",
       "      <td>55</td>\n",
       "      <td>34</td>\n",
       "      <td>88</td>\n",
       "      <td>75</td>\n",
       "      <td>43</td>\n",
       "      <td>45</td>\n",
       "      <td>97</td>\n",
       "      <td>97</td>\n",
       "      <td>0</td>\n",
       "      <td>Altbier</td>\n",
       "      <td>8</td>\n",
       "      <td>Altbier</td>\n",
       "      <td>3.82</td>\n",
       "      <td>Brown Ales</td>\n",
       "    </tr>\n",
       "    <tr>\n",
       "      <th>34</th>\n",
       "      <td>5.10</td>\n",
       "      <td>20</td>\n",
       "      <td>36</td>\n",
       "      <td>76</td>\n",
       "      <td>47</td>\n",
       "      <td>39</td>\n",
       "      <td>40</td>\n",
       "      <td>100</td>\n",
       "      <td>8</td>\n",
       "      <td>76</td>\n",
       "      <td>2</td>\n",
       "      <td>Altbier</td>\n",
       "      <td>8</td>\n",
       "      <td>Altbier</td>\n",
       "      <td>3.88</td>\n",
       "      <td>Brown Ales</td>\n",
       "    </tr>\n",
       "    <tr>\n",
       "      <th>35</th>\n",
       "      <td>7.25</td>\n",
       "      <td>5</td>\n",
       "      <td>48</td>\n",
       "      <td>54</td>\n",
       "      <td>66</td>\n",
       "      <td>11</td>\n",
       "      <td>16</td>\n",
       "      <td>52</td>\n",
       "      <td>9</td>\n",
       "      <td>109</td>\n",
       "      <td>5</td>\n",
       "      <td>Altbier</td>\n",
       "      <td>8</td>\n",
       "      <td>Altbier</td>\n",
       "      <td>3.54</td>\n",
       "      <td>Brown Ales</td>\n",
       "    </tr>\n",
       "    <tr>\n",
       "      <th>36</th>\n",
       "      <td>10.20</td>\n",
       "      <td>6</td>\n",
       "      <td>55</td>\n",
       "      <td>107</td>\n",
       "      <td>97</td>\n",
       "      <td>27</td>\n",
       "      <td>57</td>\n",
       "      <td>120</td>\n",
       "      <td>14</td>\n",
       "      <td>119</td>\n",
       "      <td>2</td>\n",
       "      <td>Barleywine - American</td>\n",
       "      <td>97</td>\n",
       "      <td>Barleywine</td>\n",
       "      <td>4.22</td>\n",
       "      <td>Strong Ales</td>\n",
       "    </tr>\n",
       "    <tr>\n",
       "      <th>37</th>\n",
       "      <td>12.00</td>\n",
       "      <td>10</td>\n",
       "      <td>53</td>\n",
       "      <td>53</td>\n",
       "      <td>71</td>\n",
       "      <td>22</td>\n",
       "      <td>32</td>\n",
       "      <td>56</td>\n",
       "      <td>23</td>\n",
       "      <td>114</td>\n",
       "      <td>5</td>\n",
       "      <td>Barleywine - American</td>\n",
       "      <td>97</td>\n",
       "      <td>Barleywine</td>\n",
       "      <td>4.04</td>\n",
       "      <td>Strong Ales</td>\n",
       "    </tr>\n",
       "    <tr>\n",
       "      <th>38</th>\n",
       "      <td>10.00</td>\n",
       "      <td>14</td>\n",
       "      <td>66</td>\n",
       "      <td>61</td>\n",
       "      <td>107</td>\n",
       "      <td>39</td>\n",
       "      <td>64</td>\n",
       "      <td>69</td>\n",
       "      <td>6</td>\n",
       "      <td>119</td>\n",
       "      <td>0</td>\n",
       "      <td>Barleywine - American</td>\n",
       "      <td>97</td>\n",
       "      <td>Barleywine</td>\n",
       "      <td>3.87</td>\n",
       "      <td>Strong Ales</td>\n",
       "    </tr>\n",
       "    <tr>\n",
       "      <th>39</th>\n",
       "      <td>5.20</td>\n",
       "      <td>27</td>\n",
       "      <td>39</td>\n",
       "      <td>47</td>\n",
       "      <td>52</td>\n",
       "      <td>28</td>\n",
       "      <td>24</td>\n",
       "      <td>59</td>\n",
       "      <td>6</td>\n",
       "      <td>100</td>\n",
       "      <td>5</td>\n",
       "      <td>Altbier</td>\n",
       "      <td>8</td>\n",
       "      <td>Altbier</td>\n",
       "      <td>3.63</td>\n",
       "      <td>Brown Ales</td>\n",
       "    </tr>\n",
       "    <tr>\n",
       "      <th>40</th>\n",
       "      <td>4.70</td>\n",
       "      <td>29</td>\n",
       "      <td>30</td>\n",
       "      <td>72</td>\n",
       "      <td>77</td>\n",
       "      <td>20</td>\n",
       "      <td>20</td>\n",
       "      <td>104</td>\n",
       "      <td>10</td>\n",
       "      <td>141</td>\n",
       "      <td>2</td>\n",
       "      <td>Altbier</td>\n",
       "      <td>8</td>\n",
       "      <td>Altbier</td>\n",
       "      <td>3.69</td>\n",
       "      <td>Brown Ales</td>\n",
       "    </tr>\n",
       "    <tr>\n",
       "      <th>41</th>\n",
       "      <td>4.90</td>\n",
       "      <td>17</td>\n",
       "      <td>31</td>\n",
       "      <td>50</td>\n",
       "      <td>28</td>\n",
       "      <td>10</td>\n",
       "      <td>11</td>\n",
       "      <td>51</td>\n",
       "      <td>15</td>\n",
       "      <td>80</td>\n",
       "      <td>5</td>\n",
       "      <td>Altbier</td>\n",
       "      <td>8</td>\n",
       "      <td>Altbier</td>\n",
       "      <td>3.51</td>\n",
       "      <td>Brown Ales</td>\n",
       "    </tr>\n",
       "    <tr>\n",
       "      <th>42</th>\n",
       "      <td>5.00</td>\n",
       "      <td>26</td>\n",
       "      <td>37</td>\n",
       "      <td>65</td>\n",
       "      <td>57</td>\n",
       "      <td>33</td>\n",
       "      <td>33</td>\n",
       "      <td>107</td>\n",
       "      <td>3</td>\n",
       "      <td>98</td>\n",
       "      <td>2</td>\n",
       "      <td>Altbier</td>\n",
       "      <td>8</td>\n",
       "      <td>Altbier</td>\n",
       "      <td>3.58</td>\n",
       "      <td>Brown Ales</td>\n",
       "    </tr>\n",
       "    <tr>\n",
       "      <th>43</th>\n",
       "      <td>5.10</td>\n",
       "      <td>18</td>\n",
       "      <td>45</td>\n",
       "      <td>29</td>\n",
       "      <td>39</td>\n",
       "      <td>28</td>\n",
       "      <td>21</td>\n",
       "      <td>31</td>\n",
       "      <td>130</td>\n",
       "      <td>91</td>\n",
       "      <td>6</td>\n",
       "      <td>Altbier</td>\n",
       "      <td>8</td>\n",
       "      <td>Altbier</td>\n",
       "      <td>3.68</td>\n",
       "      <td>Brown Ales</td>\n",
       "    </tr>\n",
       "    <tr>\n",
       "      <th>44</th>\n",
       "      <td>8.50</td>\n",
       "      <td>32</td>\n",
       "      <td>64</td>\n",
       "      <td>47</td>\n",
       "      <td>135</td>\n",
       "      <td>49</td>\n",
       "      <td>65</td>\n",
       "      <td>55</td>\n",
       "      <td>15</td>\n",
       "      <td>182</td>\n",
       "      <td>0</td>\n",
       "      <td>Altbier</td>\n",
       "      <td>8</td>\n",
       "      <td>Altbier</td>\n",
       "      <td>3.96</td>\n",
       "      <td>Brown Ales</td>\n",
       "    </tr>\n",
       "    <tr>\n",
       "      <th>45</th>\n",
       "      <td>4.50</td>\n",
       "      <td>33</td>\n",
       "      <td>54</td>\n",
       "      <td>52</td>\n",
       "      <td>57</td>\n",
       "      <td>10</td>\n",
       "      <td>14</td>\n",
       "      <td>68</td>\n",
       "      <td>15</td>\n",
       "      <td>100</td>\n",
       "      <td>5</td>\n",
       "      <td>Altbier</td>\n",
       "      <td>8</td>\n",
       "      <td>Altbier</td>\n",
       "      <td>4.14</td>\n",
       "      <td>Brown Ales</td>\n",
       "    </tr>\n",
       "    <tr>\n",
       "      <th>46</th>\n",
       "      <td>7.50</td>\n",
       "      <td>18</td>\n",
       "      <td>55</td>\n",
       "      <td>51</td>\n",
       "      <td>87</td>\n",
       "      <td>22</td>\n",
       "      <td>39</td>\n",
       "      <td>47</td>\n",
       "      <td>6</td>\n",
       "      <td>96</td>\n",
       "      <td>0</td>\n",
       "      <td>Altbier</td>\n",
       "      <td>8</td>\n",
       "      <td>Altbier</td>\n",
       "      <td>3.41</td>\n",
       "      <td>Brown Ales</td>\n",
       "    </tr>\n",
       "    <tr>\n",
       "      <th>47</th>\n",
       "      <td>5.00</td>\n",
       "      <td>26</td>\n",
       "      <td>61</td>\n",
       "      <td>50</td>\n",
       "      <td>69</td>\n",
       "      <td>27</td>\n",
       "      <td>22</td>\n",
       "      <td>73</td>\n",
       "      <td>8</td>\n",
       "      <td>144</td>\n",
       "      <td>4</td>\n",
       "      <td>Altbier</td>\n",
       "      <td>8</td>\n",
       "      <td>Altbier</td>\n",
       "      <td>3.64</td>\n",
       "      <td>Brown Ales</td>\n",
       "    </tr>\n",
       "    <tr>\n",
       "      <th>48</th>\n",
       "      <td>6.60</td>\n",
       "      <td>21</td>\n",
       "      <td>39</td>\n",
       "      <td>40</td>\n",
       "      <td>62</td>\n",
       "      <td>34</td>\n",
       "      <td>47</td>\n",
       "      <td>65</td>\n",
       "      <td>5</td>\n",
       "      <td>80</td>\n",
       "      <td>5</td>\n",
       "      <td>Altbier</td>\n",
       "      <td>8</td>\n",
       "      <td>Altbier</td>\n",
       "      <td>3.66</td>\n",
       "      <td>Brown Ales</td>\n",
       "    </tr>\n",
       "    <tr>\n",
       "      <th>49</th>\n",
       "      <td>6.30</td>\n",
       "      <td>27</td>\n",
       "      <td>61</td>\n",
       "      <td>56</td>\n",
       "      <td>61</td>\n",
       "      <td>46</td>\n",
       "      <td>40</td>\n",
       "      <td>77</td>\n",
       "      <td>14</td>\n",
       "      <td>110</td>\n",
       "      <td>2</td>\n",
       "      <td>Altbier</td>\n",
       "      <td>8</td>\n",
       "      <td>Altbier</td>\n",
       "      <td>4.05</td>\n",
       "      <td>Brown Ales</td>\n",
       "    </tr>\n",
       "  </tbody>\n",
       "</table>\n",
       "</div>"
      ],
      "text/plain": [
       "      abv  astringency  body  bitter  sweet  sour  fruits  hoppy  spices  \\\n",
       "0    5.30           13    32      47     74    33      33     57       8   \n",
       "1    7.20           12    57      33     55    16      24     35      12   \n",
       "2    5.00           14    37      42     43    11      10     54       4   \n",
       "3    8.50           13    55      47    101    18      49     40      16   \n",
       "4    5.30           21    69      63    120    14      19     36      15   \n",
       "5    7.20           25    51      44     45     9      11     51      20   \n",
       "6    6.00           22    45      46     62    25      34     60       4   \n",
       "7    5.30           28    40      40     58    29      36     54       8   \n",
       "8    5.00           18    49      37     73    22      21     37       4   \n",
       "9    4.80           25    35      38     39    13       8     60      16   \n",
       "10   5.10           35    31      35     50    55      52     66       8   \n",
       "11   4.70           34    48      55     59    25      32     68      12   \n",
       "12   5.10           10    19      21     30    11       8     24       2   \n",
       "13   5.60            7    30      43     43    13      13     50       6   \n",
       "14   7.70           24    44      79     73    88     114     92       9   \n",
       "15   5.20            9    32      29     54    13      11     32       2   \n",
       "16   8.50           14    55      48    105    31      37     59      19   \n",
       "17   5.50           11    58      47     49     5       3     50       5   \n",
       "18   4.90           17    41      55     43    18      20     80       7   \n",
       "19   4.50           19    42      54     62    19      25     64      10   \n",
       "20   5.00           21    43      54     54     7      10     60       9   \n",
       "21   5.10           21    72      48    102    25      50     43      13   \n",
       "22   5.50           27    65      45     75    22      29     68      12   \n",
       "23   4.80           19    43      39     43    13       6     45       8   \n",
       "24   5.50           37    50      60     84    32      46     83      19   \n",
       "25   4.90           21    27      37     33    13      13     45      10   \n",
       "26   5.00           24    36      59     55    20      18     80       7   \n",
       "27   5.50           22    38      47     54    10      14     68       2   \n",
       "28   6.30           14    53      69     67    29      23     87      18   \n",
       "29   7.50           18    55      72     92    21      52     75      47   \n",
       "30   5.25           11    67      35     86    21      28     54       4   \n",
       "31   5.20           24    47      43     71    21      26     69       9   \n",
       "32   6.00           17    57      96    106    23      42    122      11   \n",
       "33   5.60           36    55      34     88    75      43     45      97   \n",
       "34   5.10           20    36      76     47    39      40    100       8   \n",
       "35   7.25            5    48      54     66    11      16     52       9   \n",
       "36  10.20            6    55     107     97    27      57    120      14   \n",
       "37  12.00           10    53      53     71    22      32     56      23   \n",
       "38  10.00           14    66      61    107    39      64     69       6   \n",
       "39   5.20           27    39      47     52    28      24     59       6   \n",
       "40   4.70           29    30      72     77    20      20    104      10   \n",
       "41   4.90           17    31      50     28    10      11     51      15   \n",
       "42   5.00           26    37      65     57    33      33    107       3   \n",
       "43   5.10           18    45      29     39    28      21     31     130   \n",
       "44   8.50           32    64      47    135    49      65     55      15   \n",
       "45   4.50           33    54      52     57    10      14     68      15   \n",
       "46   7.50           18    55      51     87    22      39     47       6   \n",
       "47   5.00           26    61      50     69    27      22     73       8   \n",
       "48   6.60           21    39      40     62    34      47     65       5   \n",
       "49   6.30           27    61      56     61    46      40     77      14   \n",
       "\n",
       "    malty  class             beer_style  style_key condensed_style  \\\n",
       "0     111      5                Altbier          8         Altbier   \n",
       "1      84      5                Altbier          8         Altbier   \n",
       "2      62      5                Altbier          8         Altbier   \n",
       "3     119      0                Altbier          8         Altbier   \n",
       "4     218      4                Altbier          8         Altbier   \n",
       "5      95      5                Altbier          8         Altbier   \n",
       "6     103      5                Altbier          8         Altbier   \n",
       "7      97      5                Altbier          8         Altbier   \n",
       "8      98      5                Altbier          8         Altbier   \n",
       "9      97      5                Altbier          8         Altbier   \n",
       "10     77      2                Altbier          8         Altbier   \n",
       "11    121      5                Altbier          8         Altbier   \n",
       "12     65      5                Altbier          8         Altbier   \n",
       "13     93      5                Altbier          8         Altbier   \n",
       "14     51      2                Altbier          8         Altbier   \n",
       "15    112      5                Altbier          8         Altbier   \n",
       "16    115      0                Altbier          8         Altbier   \n",
       "17    110      5                Altbier          8         Altbier   \n",
       "18    103      5                Altbier          8         Altbier   \n",
       "19    135      5                Altbier          8         Altbier   \n",
       "20    111      5                Altbier          8         Altbier   \n",
       "21    176      4                Altbier          8         Altbier   \n",
       "22    132      4                Altbier          8         Altbier   \n",
       "23     97      5                Altbier          8         Altbier   \n",
       "24    121      2                Altbier          8         Altbier   \n",
       "25     70      5                Altbier          8         Altbier   \n",
       "26    132      5                Altbier          8         Altbier   \n",
       "27    117      5                Altbier          8         Altbier   \n",
       "28    103      2                Altbier          8         Altbier   \n",
       "29    129      4                Altbier          8         Altbier   \n",
       "30    138      4                Altbier          8         Altbier   \n",
       "31    134      4                Altbier          8         Altbier   \n",
       "32    130      2                Altbier          8         Altbier   \n",
       "33     97      0                Altbier          8         Altbier   \n",
       "34     76      2                Altbier          8         Altbier   \n",
       "35    109      5                Altbier          8         Altbier   \n",
       "36    119      2  Barleywine - American         97      Barleywine   \n",
       "37    114      5  Barleywine - American         97      Barleywine   \n",
       "38    119      0  Barleywine - American         97      Barleywine   \n",
       "39    100      5                Altbier          8         Altbier   \n",
       "40    141      2                Altbier          8         Altbier   \n",
       "41     80      5                Altbier          8         Altbier   \n",
       "42     98      2                Altbier          8         Altbier   \n",
       "43     91      6                Altbier          8         Altbier   \n",
       "44    182      0                Altbier          8         Altbier   \n",
       "45    100      5                Altbier          8         Altbier   \n",
       "46     96      0                Altbier          8         Altbier   \n",
       "47    144      4                Altbier          8         Altbier   \n",
       "48     80      5                Altbier          8         Altbier   \n",
       "49    110      2                Altbier          8         Altbier   \n",
       "\n",
       "    ave_rating BA_Big_styles  \n",
       "0         3.65    Brown Ales  \n",
       "1         3.90    Brown Ales  \n",
       "2         3.58    Brown Ales  \n",
       "3         4.15    Brown Ales  \n",
       "4         3.67    Brown Ales  \n",
       "5         3.78    Brown Ales  \n",
       "6         4.10    Brown Ales  \n",
       "7         3.46    Brown Ales  \n",
       "8         3.60    Brown Ales  \n",
       "9         4.10    Brown Ales  \n",
       "10        3.70    Brown Ales  \n",
       "11        4.00    Brown Ales  \n",
       "12        3.54    Brown Ales  \n",
       "13        3.69    Brown Ales  \n",
       "14        4.07    Brown Ales  \n",
       "15        3.37    Brown Ales  \n",
       "16        3.96    Brown Ales  \n",
       "17        3.57    Brown Ales  \n",
       "18        3.71    Brown Ales  \n",
       "19        3.69    Brown Ales  \n",
       "20        3.81    Brown Ales  \n",
       "21        3.75    Brown Ales  \n",
       "22        3.80    Brown Ales  \n",
       "23        3.76    Brown Ales  \n",
       "24        3.84    Brown Ales  \n",
       "25        3.72    Brown Ales  \n",
       "26        3.47    Brown Ales  \n",
       "27        3.71    Brown Ales  \n",
       "28        3.58    Brown Ales  \n",
       "29        3.91    Brown Ales  \n",
       "30        3.64    Brown Ales  \n",
       "31        3.73    Brown Ales  \n",
       "32        3.87    Brown Ales  \n",
       "33        3.82    Brown Ales  \n",
       "34        3.88    Brown Ales  \n",
       "35        3.54    Brown Ales  \n",
       "36        4.22   Strong Ales  \n",
       "37        4.04   Strong Ales  \n",
       "38        3.87   Strong Ales  \n",
       "39        3.63    Brown Ales  \n",
       "40        3.69    Brown Ales  \n",
       "41        3.51    Brown Ales  \n",
       "42        3.58    Brown Ales  \n",
       "43        3.68    Brown Ales  \n",
       "44        3.96    Brown Ales  \n",
       "45        4.14    Brown Ales  \n",
       "46        3.41    Brown Ales  \n",
       "47        3.64    Brown Ales  \n",
       "48        3.66    Brown Ales  \n",
       "49        4.05    Brown Ales  "
      ]
     },
     "execution_count": 399,
     "metadata": {},
     "output_type": "execute_result"
    }
   ],
   "source": [
    "combined_df.head(50)"
   ]
  },
  {
   "cell_type": "code",
   "execution_count": 400,
   "metadata": {},
   "outputs": [
    {
     "data": {
      "text/html": [
       "<div>\n",
       "<style scoped>\n",
       "    .dataframe tbody tr th:only-of-type {\n",
       "        vertical-align: middle;\n",
       "    }\n",
       "\n",
       "    .dataframe tbody tr th {\n",
       "        vertical-align: top;\n",
       "    }\n",
       "\n",
       "    .dataframe thead th {\n",
       "        text-align: right;\n",
       "    }\n",
       "</style>\n",
       "<table border=\"1\" class=\"dataframe\">\n",
       "  <thead>\n",
       "    <tr style=\"text-align: right;\">\n",
       "      <th></th>\n",
       "      <th>abv</th>\n",
       "      <th>astringency</th>\n",
       "      <th>body</th>\n",
       "      <th>bitter</th>\n",
       "      <th>sweet</th>\n",
       "      <th>sour</th>\n",
       "      <th>fruits</th>\n",
       "      <th>hoppy</th>\n",
       "      <th>spices</th>\n",
       "      <th>malty</th>\n",
       "      <th>class</th>\n",
       "      <th>style_key</th>\n",
       "      <th>ave_rating</th>\n",
       "    </tr>\n",
       "    <tr>\n",
       "      <th>BA_Big_styles</th>\n",
       "      <th></th>\n",
       "      <th></th>\n",
       "      <th></th>\n",
       "      <th></th>\n",
       "      <th></th>\n",
       "      <th></th>\n",
       "      <th></th>\n",
       "      <th></th>\n",
       "      <th></th>\n",
       "      <th></th>\n",
       "      <th></th>\n",
       "      <th></th>\n",
       "      <th></th>\n",
       "    </tr>\n",
       "  </thead>\n",
       "  <tbody>\n",
       "    <tr>\n",
       "      <th>Bock</th>\n",
       "      <td>7.50</td>\n",
       "      <td>11.0</td>\n",
       "      <td>47.0</td>\n",
       "      <td>25.0</td>\n",
       "      <td>71.0</td>\n",
       "      <td>20.0</td>\n",
       "      <td>32.0</td>\n",
       "      <td>25.0</td>\n",
       "      <td>9.0</td>\n",
       "      <td>89.0</td>\n",
       "      <td>1</td>\n",
       "      <td>4.0</td>\n",
       "      <td>3.830</td>\n",
       "    </tr>\n",
       "    <tr>\n",
       "      <th>Dark Ales</th>\n",
       "      <td>6.50</td>\n",
       "      <td>9.0</td>\n",
       "      <td>42.0</td>\n",
       "      <td>20.5</td>\n",
       "      <td>66.5</td>\n",
       "      <td>20.0</td>\n",
       "      <td>27.0</td>\n",
       "      <td>22.0</td>\n",
       "      <td>22.0</td>\n",
       "      <td>78.0</td>\n",
       "      <td>1</td>\n",
       "      <td>15.5</td>\n",
       "      <td>3.775</td>\n",
       "    </tr>\n",
       "    <tr>\n",
       "      <th>Hybrid Beers</th>\n",
       "      <td>5.80</td>\n",
       "      <td>9.0</td>\n",
       "      <td>20.0</td>\n",
       "      <td>12.0</td>\n",
       "      <td>27.0</td>\n",
       "      <td>14.0</td>\n",
       "      <td>11.0</td>\n",
       "      <td>19.0</td>\n",
       "      <td>4.0</td>\n",
       "      <td>34.0</td>\n",
       "      <td>1</td>\n",
       "      <td>29.0</td>\n",
       "      <td>3.730</td>\n",
       "    </tr>\n",
       "    <tr>\n",
       "      <th>India Pale Ales</th>\n",
       "      <td>7.10</td>\n",
       "      <td>18.0</td>\n",
       "      <td>38.0</td>\n",
       "      <td>65.0</td>\n",
       "      <td>46.0</td>\n",
       "      <td>51.0</td>\n",
       "      <td>67.0</td>\n",
       "      <td>86.5</td>\n",
       "      <td>6.0</td>\n",
       "      <td>40.0</td>\n",
       "      <td>2</td>\n",
       "      <td>35.0</td>\n",
       "      <td>4.010</td>\n",
       "    </tr>\n",
       "    <tr>\n",
       "      <th>Specialty Beers</th>\n",
       "      <td>5.70</td>\n",
       "      <td>8.0</td>\n",
       "      <td>24.0</td>\n",
       "      <td>10.0</td>\n",
       "      <td>26.0</td>\n",
       "      <td>11.0</td>\n",
       "      <td>15.0</td>\n",
       "      <td>14.0</td>\n",
       "      <td>18.0</td>\n",
       "      <td>33.0</td>\n",
       "      <td>2</td>\n",
       "      <td>80.0</td>\n",
       "      <td>3.710</td>\n",
       "    </tr>\n",
       "    <tr>\n",
       "      <th>Strong Ales</th>\n",
       "      <td>9.45</td>\n",
       "      <td>11.0</td>\n",
       "      <td>48.0</td>\n",
       "      <td>27.0</td>\n",
       "      <td>88.0</td>\n",
       "      <td>34.0</td>\n",
       "      <td>57.0</td>\n",
       "      <td>30.0</td>\n",
       "      <td>20.0</td>\n",
       "      <td>84.0</td>\n",
       "      <td>2</td>\n",
       "      <td>103.0</td>\n",
       "      <td>3.980</td>\n",
       "    </tr>\n",
       "    <tr>\n",
       "      <th>Pale Ales</th>\n",
       "      <td>5.40</td>\n",
       "      <td>19.0</td>\n",
       "      <td>36.0</td>\n",
       "      <td>37.0</td>\n",
       "      <td>48.0</td>\n",
       "      <td>38.0</td>\n",
       "      <td>41.0</td>\n",
       "      <td>58.0</td>\n",
       "      <td>9.0</td>\n",
       "      <td>62.0</td>\n",
       "      <td>3</td>\n",
       "      <td>46.0</td>\n",
       "      <td>3.740</td>\n",
       "    </tr>\n",
       "    <tr>\n",
       "      <th>Wild/Sour</th>\n",
       "      <td>6.00</td>\n",
       "      <td>30.0</td>\n",
       "      <td>29.0</td>\n",
       "      <td>6.0</td>\n",
       "      <td>52.0</td>\n",
       "      <td>129.0</td>\n",
       "      <td>83.0</td>\n",
       "      <td>11.0</td>\n",
       "      <td>6.0</td>\n",
       "      <td>22.0</td>\n",
       "      <td>3</td>\n",
       "      <td>122.0</td>\n",
       "      <td>4.060</td>\n",
       "    </tr>\n",
       "    <tr>\n",
       "      <th>Brown Ales</th>\n",
       "      <td>5.50</td>\n",
       "      <td>12.0</td>\n",
       "      <td>51.0</td>\n",
       "      <td>36.0</td>\n",
       "      <td>62.0</td>\n",
       "      <td>13.0</td>\n",
       "      <td>15.0</td>\n",
       "      <td>33.0</td>\n",
       "      <td>8.0</td>\n",
       "      <td>103.0</td>\n",
       "      <td>4</td>\n",
       "      <td>10.0</td>\n",
       "      <td>3.730</td>\n",
       "    </tr>\n",
       "    <tr>\n",
       "      <th>Porters</th>\n",
       "      <td>6.50</td>\n",
       "      <td>10.0</td>\n",
       "      <td>87.0</td>\n",
       "      <td>52.0</td>\n",
       "      <td>65.0</td>\n",
       "      <td>9.0</td>\n",
       "      <td>11.0</td>\n",
       "      <td>24.0</td>\n",
       "      <td>17.0</td>\n",
       "      <td>119.0</td>\n",
       "      <td>4</td>\n",
       "      <td>70.0</td>\n",
       "      <td>3.960</td>\n",
       "    </tr>\n",
       "    <tr>\n",
       "      <th>Stouts</th>\n",
       "      <td>6.70</td>\n",
       "      <td>11.0</td>\n",
       "      <td>91.0</td>\n",
       "      <td>61.0</td>\n",
       "      <td>62.0</td>\n",
       "      <td>9.0</td>\n",
       "      <td>10.0</td>\n",
       "      <td>24.0</td>\n",
       "      <td>11.0</td>\n",
       "      <td>118.0</td>\n",
       "      <td>4</td>\n",
       "      <td>91.0</td>\n",
       "      <td>3.950</td>\n",
       "    </tr>\n",
       "    <tr>\n",
       "      <th>Dark Lagers</th>\n",
       "      <td>5.20</td>\n",
       "      <td>15.0</td>\n",
       "      <td>43.5</td>\n",
       "      <td>35.0</td>\n",
       "      <td>51.0</td>\n",
       "      <td>11.0</td>\n",
       "      <td>11.0</td>\n",
       "      <td>34.0</td>\n",
       "      <td>8.0</td>\n",
       "      <td>94.0</td>\n",
       "      <td>5</td>\n",
       "      <td>23.0</td>\n",
       "      <td>3.675</td>\n",
       "    </tr>\n",
       "    <tr>\n",
       "      <th>Pale Lagers</th>\n",
       "      <td>5.20</td>\n",
       "      <td>21.0</td>\n",
       "      <td>28.0</td>\n",
       "      <td>32.0</td>\n",
       "      <td>29.0</td>\n",
       "      <td>16.0</td>\n",
       "      <td>17.0</td>\n",
       "      <td>50.0</td>\n",
       "      <td>5.0</td>\n",
       "      <td>57.0</td>\n",
       "      <td>5</td>\n",
       "      <td>59.5</td>\n",
       "      <td>3.545</td>\n",
       "    </tr>\n",
       "    <tr>\n",
       "      <th>Wheat Beers</th>\n",
       "      <td>5.30</td>\n",
       "      <td>14.0</td>\n",
       "      <td>33.0</td>\n",
       "      <td>15.0</td>\n",
       "      <td>27.0</td>\n",
       "      <td>33.0</td>\n",
       "      <td>53.0</td>\n",
       "      <td>20.0</td>\n",
       "      <td>18.0</td>\n",
       "      <td>54.5</td>\n",
       "      <td>5</td>\n",
       "      <td>112.5</td>\n",
       "      <td>3.680</td>\n",
       "    </tr>\n",
       "  </tbody>\n",
       "</table>\n",
       "</div>"
      ],
      "text/plain": [
       "                  abv  astringency  body  bitter  sweet   sour  fruits  hoppy  \\\n",
       "BA_Big_styles                                                                   \n",
       "Bock             7.50         11.0  47.0    25.0   71.0   20.0    32.0   25.0   \n",
       "Dark Ales        6.50          9.0  42.0    20.5   66.5   20.0    27.0   22.0   \n",
       "Hybrid Beers     5.80          9.0  20.0    12.0   27.0   14.0    11.0   19.0   \n",
       "India Pale Ales  7.10         18.0  38.0    65.0   46.0   51.0    67.0   86.5   \n",
       "Specialty Beers  5.70          8.0  24.0    10.0   26.0   11.0    15.0   14.0   \n",
       "Strong Ales      9.45         11.0  48.0    27.0   88.0   34.0    57.0   30.0   \n",
       "Pale Ales        5.40         19.0  36.0    37.0   48.0   38.0    41.0   58.0   \n",
       "Wild/Sour        6.00         30.0  29.0     6.0   52.0  129.0    83.0   11.0   \n",
       "Brown Ales       5.50         12.0  51.0    36.0   62.0   13.0    15.0   33.0   \n",
       "Porters          6.50         10.0  87.0    52.0   65.0    9.0    11.0   24.0   \n",
       "Stouts           6.70         11.0  91.0    61.0   62.0    9.0    10.0   24.0   \n",
       "Dark Lagers      5.20         15.0  43.5    35.0   51.0   11.0    11.0   34.0   \n",
       "Pale Lagers      5.20         21.0  28.0    32.0   29.0   16.0    17.0   50.0   \n",
       "Wheat Beers      5.30         14.0  33.0    15.0   27.0   33.0    53.0   20.0   \n",
       "\n",
       "                 spices  malty  class  style_key  ave_rating  \n",
       "BA_Big_styles                                                 \n",
       "Bock                9.0   89.0      1        4.0       3.830  \n",
       "Dark Ales          22.0   78.0      1       15.5       3.775  \n",
       "Hybrid Beers        4.0   34.0      1       29.0       3.730  \n",
       "India Pale Ales     6.0   40.0      2       35.0       4.010  \n",
       "Specialty Beers    18.0   33.0      2       80.0       3.710  \n",
       "Strong Ales        20.0   84.0      2      103.0       3.980  \n",
       "Pale Ales           9.0   62.0      3       46.0       3.740  \n",
       "Wild/Sour           6.0   22.0      3      122.0       4.060  \n",
       "Brown Ales          8.0  103.0      4       10.0       3.730  \n",
       "Porters            17.0  119.0      4       70.0       3.960  \n",
       "Stouts             11.0  118.0      4       91.0       3.950  \n",
       "Dark Lagers         8.0   94.0      5       23.0       3.675  \n",
       "Pale Lagers         5.0   57.0      5       59.5       3.545  \n",
       "Wheat Beers        18.0   54.5      5      112.5       3.680  "
      ]
     },
     "execution_count": 400,
     "metadata": {},
     "output_type": "execute_result"
    }
   ],
   "source": [
    "combined_df.groupby([\"BA_Big_styles\"]).median().sort_values([\"class\"])"
   ]
  },
  {
   "cell_type": "code",
   "execution_count": 401,
   "metadata": {},
   "outputs": [
    {
     "data": {
      "text/html": [
       "<div>\n",
       "<style scoped>\n",
       "    .dataframe tbody tr th:only-of-type {\n",
       "        vertical-align: middle;\n",
       "    }\n",
       "\n",
       "    .dataframe tbody tr th {\n",
       "        vertical-align: top;\n",
       "    }\n",
       "\n",
       "    .dataframe thead th {\n",
       "        text-align: right;\n",
       "    }\n",
       "</style>\n",
       "<table border=\"1\" class=\"dataframe\">\n",
       "  <thead>\n",
       "    <tr style=\"text-align: right;\">\n",
       "      <th></th>\n",
       "      <th>class</th>\n",
       "      <th>abv</th>\n",
       "      <th>astringency</th>\n",
       "      <th>body</th>\n",
       "      <th>bitter</th>\n",
       "      <th>sweet</th>\n",
       "      <th>sour</th>\n",
       "      <th>fruits</th>\n",
       "      <th>hoppy</th>\n",
       "      <th>spices</th>\n",
       "      <th>malty</th>\n",
       "      <th>style_key</th>\n",
       "      <th>ave_rating</th>\n",
       "    </tr>\n",
       "  </thead>\n",
       "  <tbody>\n",
       "    <tr>\n",
       "      <th>0</th>\n",
       "      <td>0</td>\n",
       "      <td>8.594195</td>\n",
       "      <td>12.703436</td>\n",
       "      <td>54.719711</td>\n",
       "      <td>27.920434</td>\n",
       "      <td>111.857143</td>\n",
       "      <td>37.151899</td>\n",
       "      <td>64.481013</td>\n",
       "      <td>30.598553</td>\n",
       "      <td>22.538879</td>\n",
       "      <td>97.202532</td>\n",
       "      <td>64.146474</td>\n",
       "      <td>3.882803</td>\n",
       "    </tr>\n",
       "    <tr>\n",
       "      <th>1</th>\n",
       "      <td>1</td>\n",
       "      <td>6.139205</td>\n",
       "      <td>6.097007</td>\n",
       "      <td>10.494324</td>\n",
       "      <td>8.433437</td>\n",
       "      <td>12.008256</td>\n",
       "      <td>8.431373</td>\n",
       "      <td>8.344685</td>\n",
       "      <td>11.384933</td>\n",
       "      <td>5.493292</td>\n",
       "      <td>17.442724</td>\n",
       "      <td>62.835913</td>\n",
       "      <td>3.535439</td>\n",
       "    </tr>\n",
       "    <tr>\n",
       "      <th>2</th>\n",
       "      <td>2</td>\n",
       "      <td>6.671366</td>\n",
       "      <td>22.672131</td>\n",
       "      <td>42.009563</td>\n",
       "      <td>69.640710</td>\n",
       "      <td>49.165301</td>\n",
       "      <td>49.908470</td>\n",
       "      <td>61.554645</td>\n",
       "      <td>97.392077</td>\n",
       "      <td>12.561475</td>\n",
       "      <td>67.068306</td>\n",
       "      <td>52.286885</td>\n",
       "      <td>3.901721</td>\n",
       "    </tr>\n",
       "    <tr>\n",
       "      <th>3</th>\n",
       "      <td>3</td>\n",
       "      <td>6.438941</td>\n",
       "      <td>33.957230</td>\n",
       "      <td>35.203666</td>\n",
       "      <td>18.014257</td>\n",
       "      <td>73.069246</td>\n",
       "      <td>137.338086</td>\n",
       "      <td>107.843177</td>\n",
       "      <td>27.914460</td>\n",
       "      <td>12.810591</td>\n",
       "      <td>32.747454</td>\n",
       "      <td>100.346232</td>\n",
       "      <td>4.085906</td>\n",
       "    </tr>\n",
       "    <tr>\n",
       "      <th>4</th>\n",
       "      <td>4</td>\n",
       "      <td>7.177507</td>\n",
       "      <td>13.317694</td>\n",
       "      <td>92.002681</td>\n",
       "      <td>63.907507</td>\n",
       "      <td>74.226542</td>\n",
       "      <td>13.443700</td>\n",
       "      <td>17.894102</td>\n",
       "      <td>35.178284</td>\n",
       "      <td>24.636729</td>\n",
       "      <td>137.205094</td>\n",
       "      <td>66.315013</td>\n",
       "      <td>3.961542</td>\n",
       "    </tr>\n",
       "    <tr>\n",
       "      <th>5</th>\n",
       "      <td>5</td>\n",
       "      <td>5.724996</td>\n",
       "      <td>17.339847</td>\n",
       "      <td>41.572642</td>\n",
       "      <td>36.325404</td>\n",
       "      <td>46.107052</td>\n",
       "      <td>16.429057</td>\n",
       "      <td>18.121495</td>\n",
       "      <td>45.433305</td>\n",
       "      <td>9.781648</td>\n",
       "      <td>81.481733</td>\n",
       "      <td>47.856415</td>\n",
       "      <td>3.579108</td>\n",
       "    </tr>\n",
       "    <tr>\n",
       "      <th>6</th>\n",
       "      <td>6</td>\n",
       "      <td>6.648221</td>\n",
       "      <td>15.157353</td>\n",
       "      <td>35.719118</td>\n",
       "      <td>18.794118</td>\n",
       "      <td>46.882353</td>\n",
       "      <td>39.408824</td>\n",
       "      <td>53.852941</td>\n",
       "      <td>25.814706</td>\n",
       "      <td>46.597059</td>\n",
       "      <td>50.457353</td>\n",
       "      <td>76.491176</td>\n",
       "      <td>3.739515</td>\n",
       "    </tr>\n",
       "  </tbody>\n",
       "</table>\n",
       "</div>"
      ],
      "text/plain": [
       "   class       abv  astringency       body     bitter       sweet        sour  \\\n",
       "0      0  8.594195    12.703436  54.719711  27.920434  111.857143   37.151899   \n",
       "1      1  6.139205     6.097007  10.494324   8.433437   12.008256    8.431373   \n",
       "2      2  6.671366    22.672131  42.009563  69.640710   49.165301   49.908470   \n",
       "3      3  6.438941    33.957230  35.203666  18.014257   73.069246  137.338086   \n",
       "4      4  7.177507    13.317694  92.002681  63.907507   74.226542   13.443700   \n",
       "5      5  5.724996    17.339847  41.572642  36.325404   46.107052   16.429057   \n",
       "6      6  6.648221    15.157353  35.719118  18.794118   46.882353   39.408824   \n",
       "\n",
       "       fruits      hoppy     spices       malty   style_key  ave_rating  \n",
       "0   64.481013  30.598553  22.538879   97.202532   64.146474    3.882803  \n",
       "1    8.344685  11.384933   5.493292   17.442724   62.835913    3.535439  \n",
       "2   61.554645  97.392077  12.561475   67.068306   52.286885    3.901721  \n",
       "3  107.843177  27.914460  12.810591   32.747454  100.346232    4.085906  \n",
       "4   17.894102  35.178284  24.636729  137.205094   66.315013    3.961542  \n",
       "5   18.121495  45.433305   9.781648   81.481733   47.856415    3.579108  \n",
       "6   53.852941  25.814706  46.597059   50.457353   76.491176    3.739515  "
      ]
     },
     "execution_count": 401,
     "metadata": {},
     "output_type": "execute_result"
    }
   ],
   "source": [
    "bar_df = combined_df.groupby([\"class\"]).mean().sort_values([\"class\"])\n",
    "bar_df.reset_index(inplace=True)\n",
    "bar_df"
   ]
  },
  {
   "cell_type": "code",
   "execution_count": 402,
   "metadata": {},
   "outputs": [
    {
     "data": {
      "application/vnd.plotly.v1+json": {
       "config": {
        "plotlyServerURL": "https://plot.ly"
       },
       "data": [
        {
         "alignmentgroup": "True",
         "hovertemplate": "class=%{x}<br>ave_rating=%{y}<extra></extra>",
         "legendgroup": "",
         "marker": {
          "color": "#636efa",
          "pattern": {
           "shape": ""
          }
         },
         "name": "",
         "offsetgroup": "",
         "orientation": "v",
         "showlegend": false,
         "textposition": "auto",
         "type": "bar",
         "x": [
          0,
          1,
          2,
          3,
          4,
          5,
          6
         ],
         "xaxis": "x",
         "y": [
          3.8828028933092233,
          3.535438596491228,
          3.9017213114754146,
          4.085906313645623,
          3.9615415549597883,
          3.5791079014443468,
          3.7395147058823515
         ],
         "yaxis": "y"
        }
       ],
       "layout": {
        "barmode": "relative",
        "legend": {
         "tracegroupgap": 0
        },
        "margin": {
         "t": 60
        },
        "template": {
         "data": {
          "bar": [
           {
            "error_x": {
             "color": "#2a3f5f"
            },
            "error_y": {
             "color": "#2a3f5f"
            },
            "marker": {
             "line": {
              "color": "#E5ECF6",
              "width": 0.5
             },
             "pattern": {
              "fillmode": "overlay",
              "size": 10,
              "solidity": 0.2
             }
            },
            "type": "bar"
           }
          ],
          "barpolar": [
           {
            "marker": {
             "line": {
              "color": "#E5ECF6",
              "width": 0.5
             },
             "pattern": {
              "fillmode": "overlay",
              "size": 10,
              "solidity": 0.2
             }
            },
            "type": "barpolar"
           }
          ],
          "carpet": [
           {
            "aaxis": {
             "endlinecolor": "#2a3f5f",
             "gridcolor": "white",
             "linecolor": "white",
             "minorgridcolor": "white",
             "startlinecolor": "#2a3f5f"
            },
            "baxis": {
             "endlinecolor": "#2a3f5f",
             "gridcolor": "white",
             "linecolor": "white",
             "minorgridcolor": "white",
             "startlinecolor": "#2a3f5f"
            },
            "type": "carpet"
           }
          ],
          "choropleth": [
           {
            "colorbar": {
             "outlinewidth": 0,
             "ticks": ""
            },
            "type": "choropleth"
           }
          ],
          "contour": [
           {
            "colorbar": {
             "outlinewidth": 0,
             "ticks": ""
            },
            "colorscale": [
             [
              0,
              "#0d0887"
             ],
             [
              0.1111111111111111,
              "#46039f"
             ],
             [
              0.2222222222222222,
              "#7201a8"
             ],
             [
              0.3333333333333333,
              "#9c179e"
             ],
             [
              0.4444444444444444,
              "#bd3786"
             ],
             [
              0.5555555555555556,
              "#d8576b"
             ],
             [
              0.6666666666666666,
              "#ed7953"
             ],
             [
              0.7777777777777778,
              "#fb9f3a"
             ],
             [
              0.8888888888888888,
              "#fdca26"
             ],
             [
              1,
              "#f0f921"
             ]
            ],
            "type": "contour"
           }
          ],
          "contourcarpet": [
           {
            "colorbar": {
             "outlinewidth": 0,
             "ticks": ""
            },
            "type": "contourcarpet"
           }
          ],
          "heatmap": [
           {
            "colorbar": {
             "outlinewidth": 0,
             "ticks": ""
            },
            "colorscale": [
             [
              0,
              "#0d0887"
             ],
             [
              0.1111111111111111,
              "#46039f"
             ],
             [
              0.2222222222222222,
              "#7201a8"
             ],
             [
              0.3333333333333333,
              "#9c179e"
             ],
             [
              0.4444444444444444,
              "#bd3786"
             ],
             [
              0.5555555555555556,
              "#d8576b"
             ],
             [
              0.6666666666666666,
              "#ed7953"
             ],
             [
              0.7777777777777778,
              "#fb9f3a"
             ],
             [
              0.8888888888888888,
              "#fdca26"
             ],
             [
              1,
              "#f0f921"
             ]
            ],
            "type": "heatmap"
           }
          ],
          "heatmapgl": [
           {
            "colorbar": {
             "outlinewidth": 0,
             "ticks": ""
            },
            "colorscale": [
             [
              0,
              "#0d0887"
             ],
             [
              0.1111111111111111,
              "#46039f"
             ],
             [
              0.2222222222222222,
              "#7201a8"
             ],
             [
              0.3333333333333333,
              "#9c179e"
             ],
             [
              0.4444444444444444,
              "#bd3786"
             ],
             [
              0.5555555555555556,
              "#d8576b"
             ],
             [
              0.6666666666666666,
              "#ed7953"
             ],
             [
              0.7777777777777778,
              "#fb9f3a"
             ],
             [
              0.8888888888888888,
              "#fdca26"
             ],
             [
              1,
              "#f0f921"
             ]
            ],
            "type": "heatmapgl"
           }
          ],
          "histogram": [
           {
            "marker": {
             "pattern": {
              "fillmode": "overlay",
              "size": 10,
              "solidity": 0.2
             }
            },
            "type": "histogram"
           }
          ],
          "histogram2d": [
           {
            "colorbar": {
             "outlinewidth": 0,
             "ticks": ""
            },
            "colorscale": [
             [
              0,
              "#0d0887"
             ],
             [
              0.1111111111111111,
              "#46039f"
             ],
             [
              0.2222222222222222,
              "#7201a8"
             ],
             [
              0.3333333333333333,
              "#9c179e"
             ],
             [
              0.4444444444444444,
              "#bd3786"
             ],
             [
              0.5555555555555556,
              "#d8576b"
             ],
             [
              0.6666666666666666,
              "#ed7953"
             ],
             [
              0.7777777777777778,
              "#fb9f3a"
             ],
             [
              0.8888888888888888,
              "#fdca26"
             ],
             [
              1,
              "#f0f921"
             ]
            ],
            "type": "histogram2d"
           }
          ],
          "histogram2dcontour": [
           {
            "colorbar": {
             "outlinewidth": 0,
             "ticks": ""
            },
            "colorscale": [
             [
              0,
              "#0d0887"
             ],
             [
              0.1111111111111111,
              "#46039f"
             ],
             [
              0.2222222222222222,
              "#7201a8"
             ],
             [
              0.3333333333333333,
              "#9c179e"
             ],
             [
              0.4444444444444444,
              "#bd3786"
             ],
             [
              0.5555555555555556,
              "#d8576b"
             ],
             [
              0.6666666666666666,
              "#ed7953"
             ],
             [
              0.7777777777777778,
              "#fb9f3a"
             ],
             [
              0.8888888888888888,
              "#fdca26"
             ],
             [
              1,
              "#f0f921"
             ]
            ],
            "type": "histogram2dcontour"
           }
          ],
          "mesh3d": [
           {
            "colorbar": {
             "outlinewidth": 0,
             "ticks": ""
            },
            "type": "mesh3d"
           }
          ],
          "parcoords": [
           {
            "line": {
             "colorbar": {
              "outlinewidth": 0,
              "ticks": ""
             }
            },
            "type": "parcoords"
           }
          ],
          "pie": [
           {
            "automargin": true,
            "type": "pie"
           }
          ],
          "scatter": [
           {
            "marker": {
             "colorbar": {
              "outlinewidth": 0,
              "ticks": ""
             }
            },
            "type": "scatter"
           }
          ],
          "scatter3d": [
           {
            "line": {
             "colorbar": {
              "outlinewidth": 0,
              "ticks": ""
             }
            },
            "marker": {
             "colorbar": {
              "outlinewidth": 0,
              "ticks": ""
             }
            },
            "type": "scatter3d"
           }
          ],
          "scattercarpet": [
           {
            "marker": {
             "colorbar": {
              "outlinewidth": 0,
              "ticks": ""
             }
            },
            "type": "scattercarpet"
           }
          ],
          "scattergeo": [
           {
            "marker": {
             "colorbar": {
              "outlinewidth": 0,
              "ticks": ""
             }
            },
            "type": "scattergeo"
           }
          ],
          "scattergl": [
           {
            "marker": {
             "colorbar": {
              "outlinewidth": 0,
              "ticks": ""
             }
            },
            "type": "scattergl"
           }
          ],
          "scattermapbox": [
           {
            "marker": {
             "colorbar": {
              "outlinewidth": 0,
              "ticks": ""
             }
            },
            "type": "scattermapbox"
           }
          ],
          "scatterpolar": [
           {
            "marker": {
             "colorbar": {
              "outlinewidth": 0,
              "ticks": ""
             }
            },
            "type": "scatterpolar"
           }
          ],
          "scatterpolargl": [
           {
            "marker": {
             "colorbar": {
              "outlinewidth": 0,
              "ticks": ""
             }
            },
            "type": "scatterpolargl"
           }
          ],
          "scatterternary": [
           {
            "marker": {
             "colorbar": {
              "outlinewidth": 0,
              "ticks": ""
             }
            },
            "type": "scatterternary"
           }
          ],
          "surface": [
           {
            "colorbar": {
             "outlinewidth": 0,
             "ticks": ""
            },
            "colorscale": [
             [
              0,
              "#0d0887"
             ],
             [
              0.1111111111111111,
              "#46039f"
             ],
             [
              0.2222222222222222,
              "#7201a8"
             ],
             [
              0.3333333333333333,
              "#9c179e"
             ],
             [
              0.4444444444444444,
              "#bd3786"
             ],
             [
              0.5555555555555556,
              "#d8576b"
             ],
             [
              0.6666666666666666,
              "#ed7953"
             ],
             [
              0.7777777777777778,
              "#fb9f3a"
             ],
             [
              0.8888888888888888,
              "#fdca26"
             ],
             [
              1,
              "#f0f921"
             ]
            ],
            "type": "surface"
           }
          ],
          "table": [
           {
            "cells": {
             "fill": {
              "color": "#EBF0F8"
             },
             "line": {
              "color": "white"
             }
            },
            "header": {
             "fill": {
              "color": "#C8D4E3"
             },
             "line": {
              "color": "white"
             }
            },
            "type": "table"
           }
          ]
         },
         "layout": {
          "annotationdefaults": {
           "arrowcolor": "#2a3f5f",
           "arrowhead": 0,
           "arrowwidth": 1
          },
          "autotypenumbers": "strict",
          "coloraxis": {
           "colorbar": {
            "outlinewidth": 0,
            "ticks": ""
           }
          },
          "colorscale": {
           "diverging": [
            [
             0,
             "#8e0152"
            ],
            [
             0.1,
             "#c51b7d"
            ],
            [
             0.2,
             "#de77ae"
            ],
            [
             0.3,
             "#f1b6da"
            ],
            [
             0.4,
             "#fde0ef"
            ],
            [
             0.5,
             "#f7f7f7"
            ],
            [
             0.6,
             "#e6f5d0"
            ],
            [
             0.7,
             "#b8e186"
            ],
            [
             0.8,
             "#7fbc41"
            ],
            [
             0.9,
             "#4d9221"
            ],
            [
             1,
             "#276419"
            ]
           ],
           "sequential": [
            [
             0,
             "#0d0887"
            ],
            [
             0.1111111111111111,
             "#46039f"
            ],
            [
             0.2222222222222222,
             "#7201a8"
            ],
            [
             0.3333333333333333,
             "#9c179e"
            ],
            [
             0.4444444444444444,
             "#bd3786"
            ],
            [
             0.5555555555555556,
             "#d8576b"
            ],
            [
             0.6666666666666666,
             "#ed7953"
            ],
            [
             0.7777777777777778,
             "#fb9f3a"
            ],
            [
             0.8888888888888888,
             "#fdca26"
            ],
            [
             1,
             "#f0f921"
            ]
           ],
           "sequentialminus": [
            [
             0,
             "#0d0887"
            ],
            [
             0.1111111111111111,
             "#46039f"
            ],
            [
             0.2222222222222222,
             "#7201a8"
            ],
            [
             0.3333333333333333,
             "#9c179e"
            ],
            [
             0.4444444444444444,
             "#bd3786"
            ],
            [
             0.5555555555555556,
             "#d8576b"
            ],
            [
             0.6666666666666666,
             "#ed7953"
            ],
            [
             0.7777777777777778,
             "#fb9f3a"
            ],
            [
             0.8888888888888888,
             "#fdca26"
            ],
            [
             1,
             "#f0f921"
            ]
           ]
          },
          "colorway": [
           "#636efa",
           "#EF553B",
           "#00cc96",
           "#ab63fa",
           "#FFA15A",
           "#19d3f3",
           "#FF6692",
           "#B6E880",
           "#FF97FF",
           "#FECB52"
          ],
          "font": {
           "color": "#2a3f5f"
          },
          "geo": {
           "bgcolor": "white",
           "lakecolor": "white",
           "landcolor": "#E5ECF6",
           "showlakes": true,
           "showland": true,
           "subunitcolor": "white"
          },
          "hoverlabel": {
           "align": "left"
          },
          "hovermode": "closest",
          "mapbox": {
           "style": "light"
          },
          "paper_bgcolor": "white",
          "plot_bgcolor": "#E5ECF6",
          "polar": {
           "angularaxis": {
            "gridcolor": "white",
            "linecolor": "white",
            "ticks": ""
           },
           "bgcolor": "#E5ECF6",
           "radialaxis": {
            "gridcolor": "white",
            "linecolor": "white",
            "ticks": ""
           }
          },
          "scene": {
           "xaxis": {
            "backgroundcolor": "#E5ECF6",
            "gridcolor": "white",
            "gridwidth": 2,
            "linecolor": "white",
            "showbackground": true,
            "ticks": "",
            "zerolinecolor": "white"
           },
           "yaxis": {
            "backgroundcolor": "#E5ECF6",
            "gridcolor": "white",
            "gridwidth": 2,
            "linecolor": "white",
            "showbackground": true,
            "ticks": "",
            "zerolinecolor": "white"
           },
           "zaxis": {
            "backgroundcolor": "#E5ECF6",
            "gridcolor": "white",
            "gridwidth": 2,
            "linecolor": "white",
            "showbackground": true,
            "ticks": "",
            "zerolinecolor": "white"
           }
          },
          "shapedefaults": {
           "line": {
            "color": "#2a3f5f"
           }
          },
          "ternary": {
           "aaxis": {
            "gridcolor": "white",
            "linecolor": "white",
            "ticks": ""
           },
           "baxis": {
            "gridcolor": "white",
            "linecolor": "white",
            "ticks": ""
           },
           "bgcolor": "#E5ECF6",
           "caxis": {
            "gridcolor": "white",
            "linecolor": "white",
            "ticks": ""
           }
          },
          "title": {
           "x": 0.05
          },
          "xaxis": {
           "automargin": true,
           "gridcolor": "white",
           "linecolor": "white",
           "ticks": "",
           "title": {
            "standoff": 15
           },
           "zerolinecolor": "white",
           "zerolinewidth": 2
          },
          "yaxis": {
           "automargin": true,
           "gridcolor": "white",
           "linecolor": "white",
           "ticks": "",
           "title": {
            "standoff": 15
           },
           "zerolinecolor": "white",
           "zerolinewidth": 2
          }
         }
        },
        "xaxis": {
         "anchor": "y",
         "domain": [
          0,
          1
         ],
         "title": {
          "text": "class"
         }
        },
        "yaxis": {
         "anchor": "x",
         "domain": [
          0,
          1
         ],
         "title": {
          "text": "ave_rating"
         }
        }
       }
      },
      "text/html": [
       "<div>                            <div id=\"c56d6fb9-4ed5-4d8d-99f4-69e4f64db2df\" class=\"plotly-graph-div\" style=\"height:525px; width:100%;\"></div>            <script type=\"text/javascript\">                require([\"plotly\"], function(Plotly) {                    window.PLOTLYENV=window.PLOTLYENV || {};                                    if (document.getElementById(\"c56d6fb9-4ed5-4d8d-99f4-69e4f64db2df\")) {                    Plotly.newPlot(                        \"c56d6fb9-4ed5-4d8d-99f4-69e4f64db2df\",                        [{\"alignmentgroup\":\"True\",\"hovertemplate\":\"class=%{x}<br>ave_rating=%{y}<extra></extra>\",\"legendgroup\":\"\",\"marker\":{\"color\":\"#636efa\",\"pattern\":{\"shape\":\"\"}},\"name\":\"\",\"offsetgroup\":\"\",\"orientation\":\"v\",\"showlegend\":false,\"textposition\":\"auto\",\"type\":\"bar\",\"x\":[0,1,2,3,4,5,6],\"xaxis\":\"x\",\"y\":[3.8828028933092233,3.535438596491228,3.9017213114754146,4.085906313645623,3.9615415549597883,3.5791079014443468,3.7395147058823515],\"yaxis\":\"y\"}],                        {\"barmode\":\"relative\",\"legend\":{\"tracegroupgap\":0},\"margin\":{\"t\":60},\"template\":{\"data\":{\"bar\":[{\"error_x\":{\"color\":\"#2a3f5f\"},\"error_y\":{\"color\":\"#2a3f5f\"},\"marker\":{\"line\":{\"color\":\"#E5ECF6\",\"width\":0.5},\"pattern\":{\"fillmode\":\"overlay\",\"size\":10,\"solidity\":0.2}},\"type\":\"bar\"}],\"barpolar\":[{\"marker\":{\"line\":{\"color\":\"#E5ECF6\",\"width\":0.5},\"pattern\":{\"fillmode\":\"overlay\",\"size\":10,\"solidity\":0.2}},\"type\":\"barpolar\"}],\"carpet\":[{\"aaxis\":{\"endlinecolor\":\"#2a3f5f\",\"gridcolor\":\"white\",\"linecolor\":\"white\",\"minorgridcolor\":\"white\",\"startlinecolor\":\"#2a3f5f\"},\"baxis\":{\"endlinecolor\":\"#2a3f5f\",\"gridcolor\":\"white\",\"linecolor\":\"white\",\"minorgridcolor\":\"white\",\"startlinecolor\":\"#2a3f5f\"},\"type\":\"carpet\"}],\"choropleth\":[{\"colorbar\":{\"outlinewidth\":0,\"ticks\":\"\"},\"type\":\"choropleth\"}],\"contour\":[{\"colorbar\":{\"outlinewidth\":0,\"ticks\":\"\"},\"colorscale\":[[0.0,\"#0d0887\"],[0.1111111111111111,\"#46039f\"],[0.2222222222222222,\"#7201a8\"],[0.3333333333333333,\"#9c179e\"],[0.4444444444444444,\"#bd3786\"],[0.5555555555555556,\"#d8576b\"],[0.6666666666666666,\"#ed7953\"],[0.7777777777777778,\"#fb9f3a\"],[0.8888888888888888,\"#fdca26\"],[1.0,\"#f0f921\"]],\"type\":\"contour\"}],\"contourcarpet\":[{\"colorbar\":{\"outlinewidth\":0,\"ticks\":\"\"},\"type\":\"contourcarpet\"}],\"heatmap\":[{\"colorbar\":{\"outlinewidth\":0,\"ticks\":\"\"},\"colorscale\":[[0.0,\"#0d0887\"],[0.1111111111111111,\"#46039f\"],[0.2222222222222222,\"#7201a8\"],[0.3333333333333333,\"#9c179e\"],[0.4444444444444444,\"#bd3786\"],[0.5555555555555556,\"#d8576b\"],[0.6666666666666666,\"#ed7953\"],[0.7777777777777778,\"#fb9f3a\"],[0.8888888888888888,\"#fdca26\"],[1.0,\"#f0f921\"]],\"type\":\"heatmap\"}],\"heatmapgl\":[{\"colorbar\":{\"outlinewidth\":0,\"ticks\":\"\"},\"colorscale\":[[0.0,\"#0d0887\"],[0.1111111111111111,\"#46039f\"],[0.2222222222222222,\"#7201a8\"],[0.3333333333333333,\"#9c179e\"],[0.4444444444444444,\"#bd3786\"],[0.5555555555555556,\"#d8576b\"],[0.6666666666666666,\"#ed7953\"],[0.7777777777777778,\"#fb9f3a\"],[0.8888888888888888,\"#fdca26\"],[1.0,\"#f0f921\"]],\"type\":\"heatmapgl\"}],\"histogram\":[{\"marker\":{\"pattern\":{\"fillmode\":\"overlay\",\"size\":10,\"solidity\":0.2}},\"type\":\"histogram\"}],\"histogram2d\":[{\"colorbar\":{\"outlinewidth\":0,\"ticks\":\"\"},\"colorscale\":[[0.0,\"#0d0887\"],[0.1111111111111111,\"#46039f\"],[0.2222222222222222,\"#7201a8\"],[0.3333333333333333,\"#9c179e\"],[0.4444444444444444,\"#bd3786\"],[0.5555555555555556,\"#d8576b\"],[0.6666666666666666,\"#ed7953\"],[0.7777777777777778,\"#fb9f3a\"],[0.8888888888888888,\"#fdca26\"],[1.0,\"#f0f921\"]],\"type\":\"histogram2d\"}],\"histogram2dcontour\":[{\"colorbar\":{\"outlinewidth\":0,\"ticks\":\"\"},\"colorscale\":[[0.0,\"#0d0887\"],[0.1111111111111111,\"#46039f\"],[0.2222222222222222,\"#7201a8\"],[0.3333333333333333,\"#9c179e\"],[0.4444444444444444,\"#bd3786\"],[0.5555555555555556,\"#d8576b\"],[0.6666666666666666,\"#ed7953\"],[0.7777777777777778,\"#fb9f3a\"],[0.8888888888888888,\"#fdca26\"],[1.0,\"#f0f921\"]],\"type\":\"histogram2dcontour\"}],\"mesh3d\":[{\"colorbar\":{\"outlinewidth\":0,\"ticks\":\"\"},\"type\":\"mesh3d\"}],\"parcoords\":[{\"line\":{\"colorbar\":{\"outlinewidth\":0,\"ticks\":\"\"}},\"type\":\"parcoords\"}],\"pie\":[{\"automargin\":true,\"type\":\"pie\"}],\"scatter\":[{\"marker\":{\"colorbar\":{\"outlinewidth\":0,\"ticks\":\"\"}},\"type\":\"scatter\"}],\"scatter3d\":[{\"line\":{\"colorbar\":{\"outlinewidth\":0,\"ticks\":\"\"}},\"marker\":{\"colorbar\":{\"outlinewidth\":0,\"ticks\":\"\"}},\"type\":\"scatter3d\"}],\"scattercarpet\":[{\"marker\":{\"colorbar\":{\"outlinewidth\":0,\"ticks\":\"\"}},\"type\":\"scattercarpet\"}],\"scattergeo\":[{\"marker\":{\"colorbar\":{\"outlinewidth\":0,\"ticks\":\"\"}},\"type\":\"scattergeo\"}],\"scattergl\":[{\"marker\":{\"colorbar\":{\"outlinewidth\":0,\"ticks\":\"\"}},\"type\":\"scattergl\"}],\"scattermapbox\":[{\"marker\":{\"colorbar\":{\"outlinewidth\":0,\"ticks\":\"\"}},\"type\":\"scattermapbox\"}],\"scatterpolar\":[{\"marker\":{\"colorbar\":{\"outlinewidth\":0,\"ticks\":\"\"}},\"type\":\"scatterpolar\"}],\"scatterpolargl\":[{\"marker\":{\"colorbar\":{\"outlinewidth\":0,\"ticks\":\"\"}},\"type\":\"scatterpolargl\"}],\"scatterternary\":[{\"marker\":{\"colorbar\":{\"outlinewidth\":0,\"ticks\":\"\"}},\"type\":\"scatterternary\"}],\"surface\":[{\"colorbar\":{\"outlinewidth\":0,\"ticks\":\"\"},\"colorscale\":[[0.0,\"#0d0887\"],[0.1111111111111111,\"#46039f\"],[0.2222222222222222,\"#7201a8\"],[0.3333333333333333,\"#9c179e\"],[0.4444444444444444,\"#bd3786\"],[0.5555555555555556,\"#d8576b\"],[0.6666666666666666,\"#ed7953\"],[0.7777777777777778,\"#fb9f3a\"],[0.8888888888888888,\"#fdca26\"],[1.0,\"#f0f921\"]],\"type\":\"surface\"}],\"table\":[{\"cells\":{\"fill\":{\"color\":\"#EBF0F8\"},\"line\":{\"color\":\"white\"}},\"header\":{\"fill\":{\"color\":\"#C8D4E3\"},\"line\":{\"color\":\"white\"}},\"type\":\"table\"}]},\"layout\":{\"annotationdefaults\":{\"arrowcolor\":\"#2a3f5f\",\"arrowhead\":0,\"arrowwidth\":1},\"autotypenumbers\":\"strict\",\"coloraxis\":{\"colorbar\":{\"outlinewidth\":0,\"ticks\":\"\"}},\"colorscale\":{\"diverging\":[[0,\"#8e0152\"],[0.1,\"#c51b7d\"],[0.2,\"#de77ae\"],[0.3,\"#f1b6da\"],[0.4,\"#fde0ef\"],[0.5,\"#f7f7f7\"],[0.6,\"#e6f5d0\"],[0.7,\"#b8e186\"],[0.8,\"#7fbc41\"],[0.9,\"#4d9221\"],[1,\"#276419\"]],\"sequential\":[[0.0,\"#0d0887\"],[0.1111111111111111,\"#46039f\"],[0.2222222222222222,\"#7201a8\"],[0.3333333333333333,\"#9c179e\"],[0.4444444444444444,\"#bd3786\"],[0.5555555555555556,\"#d8576b\"],[0.6666666666666666,\"#ed7953\"],[0.7777777777777778,\"#fb9f3a\"],[0.8888888888888888,\"#fdca26\"],[1.0,\"#f0f921\"]],\"sequentialminus\":[[0.0,\"#0d0887\"],[0.1111111111111111,\"#46039f\"],[0.2222222222222222,\"#7201a8\"],[0.3333333333333333,\"#9c179e\"],[0.4444444444444444,\"#bd3786\"],[0.5555555555555556,\"#d8576b\"],[0.6666666666666666,\"#ed7953\"],[0.7777777777777778,\"#fb9f3a\"],[0.8888888888888888,\"#fdca26\"],[1.0,\"#f0f921\"]]},\"colorway\":[\"#636efa\",\"#EF553B\",\"#00cc96\",\"#ab63fa\",\"#FFA15A\",\"#19d3f3\",\"#FF6692\",\"#B6E880\",\"#FF97FF\",\"#FECB52\"],\"font\":{\"color\":\"#2a3f5f\"},\"geo\":{\"bgcolor\":\"white\",\"lakecolor\":\"white\",\"landcolor\":\"#E5ECF6\",\"showlakes\":true,\"showland\":true,\"subunitcolor\":\"white\"},\"hoverlabel\":{\"align\":\"left\"},\"hovermode\":\"closest\",\"mapbox\":{\"style\":\"light\"},\"paper_bgcolor\":\"white\",\"plot_bgcolor\":\"#E5ECF6\",\"polar\":{\"angularaxis\":{\"gridcolor\":\"white\",\"linecolor\":\"white\",\"ticks\":\"\"},\"bgcolor\":\"#E5ECF6\",\"radialaxis\":{\"gridcolor\":\"white\",\"linecolor\":\"white\",\"ticks\":\"\"}},\"scene\":{\"xaxis\":{\"backgroundcolor\":\"#E5ECF6\",\"gridcolor\":\"white\",\"gridwidth\":2,\"linecolor\":\"white\",\"showbackground\":true,\"ticks\":\"\",\"zerolinecolor\":\"white\"},\"yaxis\":{\"backgroundcolor\":\"#E5ECF6\",\"gridcolor\":\"white\",\"gridwidth\":2,\"linecolor\":\"white\",\"showbackground\":true,\"ticks\":\"\",\"zerolinecolor\":\"white\"},\"zaxis\":{\"backgroundcolor\":\"#E5ECF6\",\"gridcolor\":\"white\",\"gridwidth\":2,\"linecolor\":\"white\",\"showbackground\":true,\"ticks\":\"\",\"zerolinecolor\":\"white\"}},\"shapedefaults\":{\"line\":{\"color\":\"#2a3f5f\"}},\"ternary\":{\"aaxis\":{\"gridcolor\":\"white\",\"linecolor\":\"white\",\"ticks\":\"\"},\"baxis\":{\"gridcolor\":\"white\",\"linecolor\":\"white\",\"ticks\":\"\"},\"bgcolor\":\"#E5ECF6\",\"caxis\":{\"gridcolor\":\"white\",\"linecolor\":\"white\",\"ticks\":\"\"}},\"title\":{\"x\":0.05},\"xaxis\":{\"automargin\":true,\"gridcolor\":\"white\",\"linecolor\":\"white\",\"ticks\":\"\",\"title\":{\"standoff\":15},\"zerolinecolor\":\"white\",\"zerolinewidth\":2},\"yaxis\":{\"automargin\":true,\"gridcolor\":\"white\",\"linecolor\":\"white\",\"ticks\":\"\",\"title\":{\"standoff\":15},\"zerolinecolor\":\"white\",\"zerolinewidth\":2}}},\"xaxis\":{\"anchor\":\"y\",\"domain\":[0.0,1.0],\"title\":{\"text\":\"class\"}},\"yaxis\":{\"anchor\":\"x\",\"domain\":[0.0,1.0],\"title\":{\"text\":\"ave_rating\"}}},                        {\"responsive\": true}                    ).then(function(){\n",
       "                            \n",
       "var gd = document.getElementById('c56d6fb9-4ed5-4d8d-99f4-69e4f64db2df');\n",
       "var x = new MutationObserver(function (mutations, observer) {{\n",
       "        var display = window.getComputedStyle(gd).display;\n",
       "        if (!display || display === 'none') {{\n",
       "            console.log([gd, 'removed!']);\n",
       "            Plotly.purge(gd);\n",
       "            observer.disconnect();\n",
       "        }}\n",
       "}});\n",
       "\n",
       "// Listen for the removal of the full notebook cells\n",
       "var notebookContainer = gd.closest('#notebook-container');\n",
       "if (notebookContainer) {{\n",
       "    x.observe(notebookContainer, {childList: true});\n",
       "}}\n",
       "\n",
       "// Listen for the clearing of the current output cell\n",
       "var outputEl = gd.closest('.output');\n",
       "if (outputEl) {{\n",
       "    x.observe(outputEl, {childList: true});\n",
       "}}\n",
       "\n",
       "                        })                };                });            </script>        </div>"
      ]
     },
     "metadata": {},
     "output_type": "display_data"
    }
   ],
   "source": [
    "fig = px.bar(bar_df, x=\"class\", y=\"ave_rating\")\n",
    "fig.show()"
   ]
  },
  {
   "cell_type": "code",
   "execution_count": 403,
   "metadata": {},
   "outputs": [
    {
     "data": {
      "text/plain": [
       "Index(['class', 'abv', 'astringency', 'body', 'bitter', 'sweet', 'sour',\n",
       "       'fruits', 'hoppy', 'spices', 'malty', 'style_key', 'ave_rating'],\n",
       "      dtype='object')"
      ]
     },
     "execution_count": 403,
     "metadata": {},
     "output_type": "execute_result"
    }
   ],
   "source": [
    "bar_df.columns"
   ]
  },
  {
   "cell_type": "code",
   "execution_count": 404,
   "metadata": {
    "scrolled": false
   },
   "outputs": [
    {
     "data": {
      "application/vnd.plotly.v1+json": {
       "config": {
        "plotlyServerURL": "https://plot.ly"
       },
       "data": [
        {
         "alignmentgroup": "True",
         "hovertemplate": "variable=abv<br>class=%{x}<br>value=%{y}<extra></extra>",
         "legendgroup": "abv",
         "marker": {
          "color": "#636efa",
          "pattern": {
           "shape": ""
          }
         },
         "name": "abv",
         "offsetgroup": "abv",
         "orientation": "v",
         "showlegend": true,
         "textposition": "auto",
         "type": "bar",
         "x": [
          0,
          1,
          2,
          3,
          4,
          5,
          6
         ],
         "xaxis": "x",
         "y": [
          8.594195298372508,
          6.139205366357066,
          6.671366120218577,
          6.438940936863544,
          7.177506702412865,
          5.72499575191164,
          6.648220588235298
         ],
         "yaxis": "y"
        },
        {
         "alignmentgroup": "True",
         "hovertemplate": "variable=astringency<br>class=%{x}<br>value=%{y}<extra></extra>",
         "legendgroup": "astringency",
         "marker": {
          "color": "#EF553B",
          "pattern": {
           "shape": ""
          }
         },
         "name": "astringency",
         "offsetgroup": "astringency",
         "orientation": "v",
         "showlegend": true,
         "textposition": "auto",
         "type": "bar",
         "x": [
          0,
          1,
          2,
          3,
          4,
          5,
          6
         ],
         "xaxis": "x",
         "y": [
          12.703435804701627,
          6.097007223942208,
          22.672131147540984,
          33.95723014256619,
          13.317694369973191,
          17.339847068819033,
          15.157352941176471
         ],
         "yaxis": "y"
        },
        {
         "alignmentgroup": "True",
         "hovertemplate": "variable=body<br>class=%{x}<br>value=%{y}<extra></extra>",
         "legendgroup": "body",
         "marker": {
          "color": "#00cc96",
          "pattern": {
           "shape": ""
          }
         },
         "name": "body",
         "offsetgroup": "body",
         "orientation": "v",
         "showlegend": true,
         "textposition": "auto",
         "type": "bar",
         "x": [
          0,
          1,
          2,
          3,
          4,
          5,
          6
         ],
         "xaxis": "x",
         "y": [
          54.719710669077756,
          10.494324045407637,
          42.009562841530055,
          35.20366598778004,
          92.00268096514745,
          41.57264231096007,
          35.71911764705882
         ],
         "yaxis": "y"
        },
        {
         "alignmentgroup": "True",
         "hovertemplate": "variable=bitter<br>class=%{x}<br>value=%{y}<extra></extra>",
         "legendgroup": "bitter",
         "marker": {
          "color": "#ab63fa",
          "pattern": {
           "shape": ""
          }
         },
         "name": "bitter",
         "offsetgroup": "bitter",
         "orientation": "v",
         "showlegend": true,
         "textposition": "auto",
         "type": "bar",
         "x": [
          0,
          1,
          2,
          3,
          4,
          5,
          6
         ],
         "xaxis": "x",
         "y": [
          27.920433996383363,
          8.43343653250774,
          69.64071038251366,
          18.014256619144604,
          63.90750670241287,
          36.32540356839422,
          18.794117647058822
         ],
         "yaxis": "y"
        },
        {
         "alignmentgroup": "True",
         "hovertemplate": "variable=sweet<br>class=%{x}<br>value=%{y}<extra></extra>",
         "legendgroup": "sweet",
         "marker": {
          "color": "#FFA15A",
          "pattern": {
           "shape": ""
          }
         },
         "name": "sweet",
         "offsetgroup": "sweet",
         "orientation": "v",
         "showlegend": true,
         "textposition": "auto",
         "type": "bar",
         "x": [
          0,
          1,
          2,
          3,
          4,
          5,
          6
         ],
         "xaxis": "x",
         "y": [
          111.85714285714286,
          12.008255933952528,
          49.16530054644809,
          73.06924643584522,
          74.22654155495978,
          46.107051826677996,
          46.88235294117647
         ],
         "yaxis": "y"
        },
        {
         "alignmentgroup": "True",
         "hovertemplate": "variable=sour<br>class=%{x}<br>value=%{y}<extra></extra>",
         "legendgroup": "sour",
         "marker": {
          "color": "#19d3f3",
          "pattern": {
           "shape": ""
          }
         },
         "name": "sour",
         "offsetgroup": "sour",
         "orientation": "v",
         "showlegend": true,
         "textposition": "auto",
         "type": "bar",
         "x": [
          0,
          1,
          2,
          3,
          4,
          5,
          6
         ],
         "xaxis": "x",
         "y": [
          37.151898734177216,
          8.431372549019608,
          49.90846994535519,
          137.33808553971485,
          13.443699731903486,
          16.429056924384028,
          39.40882352941176
         ],
         "yaxis": "y"
        },
        {
         "alignmentgroup": "True",
         "hovertemplate": "variable=fruits<br>class=%{x}<br>value=%{y}<extra></extra>",
         "legendgroup": "fruits",
         "marker": {
          "color": "#FF6692",
          "pattern": {
           "shape": ""
          }
         },
         "name": "fruits",
         "offsetgroup": "fruits",
         "orientation": "v",
         "showlegend": true,
         "textposition": "auto",
         "type": "bar",
         "x": [
          0,
          1,
          2,
          3,
          4,
          5,
          6
         ],
         "xaxis": "x",
         "y": [
          64.48101265822785,
          8.344685242518059,
          61.55464480874317,
          107.84317718940937,
          17.894101876675602,
          18.121495327102803,
          53.85294117647059
         ],
         "yaxis": "y"
        },
        {
         "alignmentgroup": "True",
         "hovertemplate": "variable=hoppy<br>class=%{x}<br>value=%{y}<extra></extra>",
         "legendgroup": "hoppy",
         "marker": {
          "color": "#B6E880",
          "pattern": {
           "shape": ""
          }
         },
         "name": "hoppy",
         "offsetgroup": "hoppy",
         "orientation": "v",
         "showlegend": true,
         "textposition": "auto",
         "type": "bar",
         "x": [
          0,
          1,
          2,
          3,
          4,
          5,
          6
         ],
         "xaxis": "x",
         "y": [
          30.598553345388787,
          11.384932920536636,
          97.39207650273224,
          27.91446028513238,
          35.17828418230563,
          45.43330501274426,
          25.814705882352943
         ],
         "yaxis": "y"
        },
        {
         "alignmentgroup": "True",
         "hovertemplate": "variable=spices<br>class=%{x}<br>value=%{y}<extra></extra>",
         "legendgroup": "spices",
         "marker": {
          "color": "#FF97FF",
          "pattern": {
           "shape": ""
          }
         },
         "name": "spices",
         "offsetgroup": "spices",
         "orientation": "v",
         "showlegend": true,
         "textposition": "auto",
         "type": "bar",
         "x": [
          0,
          1,
          2,
          3,
          4,
          5,
          6
         ],
         "xaxis": "x",
         "y": [
          22.53887884267631,
          5.493292053663571,
          12.561475409836065,
          12.810590631364562,
          24.636729222520106,
          9.781648258283772,
          46.59705882352941
         ],
         "yaxis": "y"
        }
       ],
       "layout": {
        "barmode": "relative",
        "legend": {
         "title": {
          "text": "variable"
         },
         "tracegroupgap": 0
        },
        "margin": {
         "t": 60
        },
        "template": {
         "data": {
          "bar": [
           {
            "error_x": {
             "color": "#2a3f5f"
            },
            "error_y": {
             "color": "#2a3f5f"
            },
            "marker": {
             "line": {
              "color": "#E5ECF6",
              "width": 0.5
             },
             "pattern": {
              "fillmode": "overlay",
              "size": 10,
              "solidity": 0.2
             }
            },
            "type": "bar"
           }
          ],
          "barpolar": [
           {
            "marker": {
             "line": {
              "color": "#E5ECF6",
              "width": 0.5
             },
             "pattern": {
              "fillmode": "overlay",
              "size": 10,
              "solidity": 0.2
             }
            },
            "type": "barpolar"
           }
          ],
          "carpet": [
           {
            "aaxis": {
             "endlinecolor": "#2a3f5f",
             "gridcolor": "white",
             "linecolor": "white",
             "minorgridcolor": "white",
             "startlinecolor": "#2a3f5f"
            },
            "baxis": {
             "endlinecolor": "#2a3f5f",
             "gridcolor": "white",
             "linecolor": "white",
             "minorgridcolor": "white",
             "startlinecolor": "#2a3f5f"
            },
            "type": "carpet"
           }
          ],
          "choropleth": [
           {
            "colorbar": {
             "outlinewidth": 0,
             "ticks": ""
            },
            "type": "choropleth"
           }
          ],
          "contour": [
           {
            "colorbar": {
             "outlinewidth": 0,
             "ticks": ""
            },
            "colorscale": [
             [
              0,
              "#0d0887"
             ],
             [
              0.1111111111111111,
              "#46039f"
             ],
             [
              0.2222222222222222,
              "#7201a8"
             ],
             [
              0.3333333333333333,
              "#9c179e"
             ],
             [
              0.4444444444444444,
              "#bd3786"
             ],
             [
              0.5555555555555556,
              "#d8576b"
             ],
             [
              0.6666666666666666,
              "#ed7953"
             ],
             [
              0.7777777777777778,
              "#fb9f3a"
             ],
             [
              0.8888888888888888,
              "#fdca26"
             ],
             [
              1,
              "#f0f921"
             ]
            ],
            "type": "contour"
           }
          ],
          "contourcarpet": [
           {
            "colorbar": {
             "outlinewidth": 0,
             "ticks": ""
            },
            "type": "contourcarpet"
           }
          ],
          "heatmap": [
           {
            "colorbar": {
             "outlinewidth": 0,
             "ticks": ""
            },
            "colorscale": [
             [
              0,
              "#0d0887"
             ],
             [
              0.1111111111111111,
              "#46039f"
             ],
             [
              0.2222222222222222,
              "#7201a8"
             ],
             [
              0.3333333333333333,
              "#9c179e"
             ],
             [
              0.4444444444444444,
              "#bd3786"
             ],
             [
              0.5555555555555556,
              "#d8576b"
             ],
             [
              0.6666666666666666,
              "#ed7953"
             ],
             [
              0.7777777777777778,
              "#fb9f3a"
             ],
             [
              0.8888888888888888,
              "#fdca26"
             ],
             [
              1,
              "#f0f921"
             ]
            ],
            "type": "heatmap"
           }
          ],
          "heatmapgl": [
           {
            "colorbar": {
             "outlinewidth": 0,
             "ticks": ""
            },
            "colorscale": [
             [
              0,
              "#0d0887"
             ],
             [
              0.1111111111111111,
              "#46039f"
             ],
             [
              0.2222222222222222,
              "#7201a8"
             ],
             [
              0.3333333333333333,
              "#9c179e"
             ],
             [
              0.4444444444444444,
              "#bd3786"
             ],
             [
              0.5555555555555556,
              "#d8576b"
             ],
             [
              0.6666666666666666,
              "#ed7953"
             ],
             [
              0.7777777777777778,
              "#fb9f3a"
             ],
             [
              0.8888888888888888,
              "#fdca26"
             ],
             [
              1,
              "#f0f921"
             ]
            ],
            "type": "heatmapgl"
           }
          ],
          "histogram": [
           {
            "marker": {
             "pattern": {
              "fillmode": "overlay",
              "size": 10,
              "solidity": 0.2
             }
            },
            "type": "histogram"
           }
          ],
          "histogram2d": [
           {
            "colorbar": {
             "outlinewidth": 0,
             "ticks": ""
            },
            "colorscale": [
             [
              0,
              "#0d0887"
             ],
             [
              0.1111111111111111,
              "#46039f"
             ],
             [
              0.2222222222222222,
              "#7201a8"
             ],
             [
              0.3333333333333333,
              "#9c179e"
             ],
             [
              0.4444444444444444,
              "#bd3786"
             ],
             [
              0.5555555555555556,
              "#d8576b"
             ],
             [
              0.6666666666666666,
              "#ed7953"
             ],
             [
              0.7777777777777778,
              "#fb9f3a"
             ],
             [
              0.8888888888888888,
              "#fdca26"
             ],
             [
              1,
              "#f0f921"
             ]
            ],
            "type": "histogram2d"
           }
          ],
          "histogram2dcontour": [
           {
            "colorbar": {
             "outlinewidth": 0,
             "ticks": ""
            },
            "colorscale": [
             [
              0,
              "#0d0887"
             ],
             [
              0.1111111111111111,
              "#46039f"
             ],
             [
              0.2222222222222222,
              "#7201a8"
             ],
             [
              0.3333333333333333,
              "#9c179e"
             ],
             [
              0.4444444444444444,
              "#bd3786"
             ],
             [
              0.5555555555555556,
              "#d8576b"
             ],
             [
              0.6666666666666666,
              "#ed7953"
             ],
             [
              0.7777777777777778,
              "#fb9f3a"
             ],
             [
              0.8888888888888888,
              "#fdca26"
             ],
             [
              1,
              "#f0f921"
             ]
            ],
            "type": "histogram2dcontour"
           }
          ],
          "mesh3d": [
           {
            "colorbar": {
             "outlinewidth": 0,
             "ticks": ""
            },
            "type": "mesh3d"
           }
          ],
          "parcoords": [
           {
            "line": {
             "colorbar": {
              "outlinewidth": 0,
              "ticks": ""
             }
            },
            "type": "parcoords"
           }
          ],
          "pie": [
           {
            "automargin": true,
            "type": "pie"
           }
          ],
          "scatter": [
           {
            "marker": {
             "colorbar": {
              "outlinewidth": 0,
              "ticks": ""
             }
            },
            "type": "scatter"
           }
          ],
          "scatter3d": [
           {
            "line": {
             "colorbar": {
              "outlinewidth": 0,
              "ticks": ""
             }
            },
            "marker": {
             "colorbar": {
              "outlinewidth": 0,
              "ticks": ""
             }
            },
            "type": "scatter3d"
           }
          ],
          "scattercarpet": [
           {
            "marker": {
             "colorbar": {
              "outlinewidth": 0,
              "ticks": ""
             }
            },
            "type": "scattercarpet"
           }
          ],
          "scattergeo": [
           {
            "marker": {
             "colorbar": {
              "outlinewidth": 0,
              "ticks": ""
             }
            },
            "type": "scattergeo"
           }
          ],
          "scattergl": [
           {
            "marker": {
             "colorbar": {
              "outlinewidth": 0,
              "ticks": ""
             }
            },
            "type": "scattergl"
           }
          ],
          "scattermapbox": [
           {
            "marker": {
             "colorbar": {
              "outlinewidth": 0,
              "ticks": ""
             }
            },
            "type": "scattermapbox"
           }
          ],
          "scatterpolar": [
           {
            "marker": {
             "colorbar": {
              "outlinewidth": 0,
              "ticks": ""
             }
            },
            "type": "scatterpolar"
           }
          ],
          "scatterpolargl": [
           {
            "marker": {
             "colorbar": {
              "outlinewidth": 0,
              "ticks": ""
             }
            },
            "type": "scatterpolargl"
           }
          ],
          "scatterternary": [
           {
            "marker": {
             "colorbar": {
              "outlinewidth": 0,
              "ticks": ""
             }
            },
            "type": "scatterternary"
           }
          ],
          "surface": [
           {
            "colorbar": {
             "outlinewidth": 0,
             "ticks": ""
            },
            "colorscale": [
             [
              0,
              "#0d0887"
             ],
             [
              0.1111111111111111,
              "#46039f"
             ],
             [
              0.2222222222222222,
              "#7201a8"
             ],
             [
              0.3333333333333333,
              "#9c179e"
             ],
             [
              0.4444444444444444,
              "#bd3786"
             ],
             [
              0.5555555555555556,
              "#d8576b"
             ],
             [
              0.6666666666666666,
              "#ed7953"
             ],
             [
              0.7777777777777778,
              "#fb9f3a"
             ],
             [
              0.8888888888888888,
              "#fdca26"
             ],
             [
              1,
              "#f0f921"
             ]
            ],
            "type": "surface"
           }
          ],
          "table": [
           {
            "cells": {
             "fill": {
              "color": "#EBF0F8"
             },
             "line": {
              "color": "white"
             }
            },
            "header": {
             "fill": {
              "color": "#C8D4E3"
             },
             "line": {
              "color": "white"
             }
            },
            "type": "table"
           }
          ]
         },
         "layout": {
          "annotationdefaults": {
           "arrowcolor": "#2a3f5f",
           "arrowhead": 0,
           "arrowwidth": 1
          },
          "autotypenumbers": "strict",
          "coloraxis": {
           "colorbar": {
            "outlinewidth": 0,
            "ticks": ""
           }
          },
          "colorscale": {
           "diverging": [
            [
             0,
             "#8e0152"
            ],
            [
             0.1,
             "#c51b7d"
            ],
            [
             0.2,
             "#de77ae"
            ],
            [
             0.3,
             "#f1b6da"
            ],
            [
             0.4,
             "#fde0ef"
            ],
            [
             0.5,
             "#f7f7f7"
            ],
            [
             0.6,
             "#e6f5d0"
            ],
            [
             0.7,
             "#b8e186"
            ],
            [
             0.8,
             "#7fbc41"
            ],
            [
             0.9,
             "#4d9221"
            ],
            [
             1,
             "#276419"
            ]
           ],
           "sequential": [
            [
             0,
             "#0d0887"
            ],
            [
             0.1111111111111111,
             "#46039f"
            ],
            [
             0.2222222222222222,
             "#7201a8"
            ],
            [
             0.3333333333333333,
             "#9c179e"
            ],
            [
             0.4444444444444444,
             "#bd3786"
            ],
            [
             0.5555555555555556,
             "#d8576b"
            ],
            [
             0.6666666666666666,
             "#ed7953"
            ],
            [
             0.7777777777777778,
             "#fb9f3a"
            ],
            [
             0.8888888888888888,
             "#fdca26"
            ],
            [
             1,
             "#f0f921"
            ]
           ],
           "sequentialminus": [
            [
             0,
             "#0d0887"
            ],
            [
             0.1111111111111111,
             "#46039f"
            ],
            [
             0.2222222222222222,
             "#7201a8"
            ],
            [
             0.3333333333333333,
             "#9c179e"
            ],
            [
             0.4444444444444444,
             "#bd3786"
            ],
            [
             0.5555555555555556,
             "#d8576b"
            ],
            [
             0.6666666666666666,
             "#ed7953"
            ],
            [
             0.7777777777777778,
             "#fb9f3a"
            ],
            [
             0.8888888888888888,
             "#fdca26"
            ],
            [
             1,
             "#f0f921"
            ]
           ]
          },
          "colorway": [
           "#636efa",
           "#EF553B",
           "#00cc96",
           "#ab63fa",
           "#FFA15A",
           "#19d3f3",
           "#FF6692",
           "#B6E880",
           "#FF97FF",
           "#FECB52"
          ],
          "font": {
           "color": "#2a3f5f"
          },
          "geo": {
           "bgcolor": "white",
           "lakecolor": "white",
           "landcolor": "#E5ECF6",
           "showlakes": true,
           "showland": true,
           "subunitcolor": "white"
          },
          "hoverlabel": {
           "align": "left"
          },
          "hovermode": "closest",
          "mapbox": {
           "style": "light"
          },
          "paper_bgcolor": "white",
          "plot_bgcolor": "#E5ECF6",
          "polar": {
           "angularaxis": {
            "gridcolor": "white",
            "linecolor": "white",
            "ticks": ""
           },
           "bgcolor": "#E5ECF6",
           "radialaxis": {
            "gridcolor": "white",
            "linecolor": "white",
            "ticks": ""
           }
          },
          "scene": {
           "xaxis": {
            "backgroundcolor": "#E5ECF6",
            "gridcolor": "white",
            "gridwidth": 2,
            "linecolor": "white",
            "showbackground": true,
            "ticks": "",
            "zerolinecolor": "white"
           },
           "yaxis": {
            "backgroundcolor": "#E5ECF6",
            "gridcolor": "white",
            "gridwidth": 2,
            "linecolor": "white",
            "showbackground": true,
            "ticks": "",
            "zerolinecolor": "white"
           },
           "zaxis": {
            "backgroundcolor": "#E5ECF6",
            "gridcolor": "white",
            "gridwidth": 2,
            "linecolor": "white",
            "showbackground": true,
            "ticks": "",
            "zerolinecolor": "white"
           }
          },
          "shapedefaults": {
           "line": {
            "color": "#2a3f5f"
           }
          },
          "ternary": {
           "aaxis": {
            "gridcolor": "white",
            "linecolor": "white",
            "ticks": ""
           },
           "baxis": {
            "gridcolor": "white",
            "linecolor": "white",
            "ticks": ""
           },
           "bgcolor": "#E5ECF6",
           "caxis": {
            "gridcolor": "white",
            "linecolor": "white",
            "ticks": ""
           }
          },
          "title": {
           "x": 0.05
          },
          "xaxis": {
           "automargin": true,
           "gridcolor": "white",
           "linecolor": "white",
           "ticks": "",
           "title": {
            "standoff": 15
           },
           "zerolinecolor": "white",
           "zerolinewidth": 2
          },
          "yaxis": {
           "automargin": true,
           "gridcolor": "white",
           "linecolor": "white",
           "ticks": "",
           "title": {
            "standoff": 15
           },
           "zerolinecolor": "white",
           "zerolinewidth": 2
          }
         }
        },
        "xaxis": {
         "anchor": "y",
         "domain": [
          0,
          1
         ],
         "title": {
          "text": "class"
         }
        },
        "yaxis": {
         "anchor": "x",
         "domain": [
          0,
          1
         ],
         "title": {
          "text": "value"
         }
        }
       }
      },
      "text/html": [
       "<div>                            <div id=\"44a0dc23-7c7d-444d-80dd-00061d088287\" class=\"plotly-graph-div\" style=\"height:525px; width:100%;\"></div>            <script type=\"text/javascript\">                require([\"plotly\"], function(Plotly) {                    window.PLOTLYENV=window.PLOTLYENV || {};                                    if (document.getElementById(\"44a0dc23-7c7d-444d-80dd-00061d088287\")) {                    Plotly.newPlot(                        \"44a0dc23-7c7d-444d-80dd-00061d088287\",                        [{\"alignmentgroup\":\"True\",\"hovertemplate\":\"variable=abv<br>class=%{x}<br>value=%{y}<extra></extra>\",\"legendgroup\":\"abv\",\"marker\":{\"color\":\"#636efa\",\"pattern\":{\"shape\":\"\"}},\"name\":\"abv\",\"offsetgroup\":\"abv\",\"orientation\":\"v\",\"showlegend\":true,\"textposition\":\"auto\",\"type\":\"bar\",\"x\":[0,1,2,3,4,5,6],\"xaxis\":\"x\",\"y\":[8.594195298372508,6.139205366357066,6.671366120218577,6.438940936863544,7.177506702412865,5.72499575191164,6.648220588235298],\"yaxis\":\"y\"},{\"alignmentgroup\":\"True\",\"hovertemplate\":\"variable=astringency<br>class=%{x}<br>value=%{y}<extra></extra>\",\"legendgroup\":\"astringency\",\"marker\":{\"color\":\"#EF553B\",\"pattern\":{\"shape\":\"\"}},\"name\":\"astringency\",\"offsetgroup\":\"astringency\",\"orientation\":\"v\",\"showlegend\":true,\"textposition\":\"auto\",\"type\":\"bar\",\"x\":[0,1,2,3,4,5,6],\"xaxis\":\"x\",\"y\":[12.703435804701627,6.097007223942208,22.672131147540984,33.95723014256619,13.317694369973191,17.339847068819033,15.157352941176471],\"yaxis\":\"y\"},{\"alignmentgroup\":\"True\",\"hovertemplate\":\"variable=body<br>class=%{x}<br>value=%{y}<extra></extra>\",\"legendgroup\":\"body\",\"marker\":{\"color\":\"#00cc96\",\"pattern\":{\"shape\":\"\"}},\"name\":\"body\",\"offsetgroup\":\"body\",\"orientation\":\"v\",\"showlegend\":true,\"textposition\":\"auto\",\"type\":\"bar\",\"x\":[0,1,2,3,4,5,6],\"xaxis\":\"x\",\"y\":[54.719710669077756,10.494324045407637,42.009562841530055,35.20366598778004,92.00268096514745,41.57264231096007,35.71911764705882],\"yaxis\":\"y\"},{\"alignmentgroup\":\"True\",\"hovertemplate\":\"variable=bitter<br>class=%{x}<br>value=%{y}<extra></extra>\",\"legendgroup\":\"bitter\",\"marker\":{\"color\":\"#ab63fa\",\"pattern\":{\"shape\":\"\"}},\"name\":\"bitter\",\"offsetgroup\":\"bitter\",\"orientation\":\"v\",\"showlegend\":true,\"textposition\":\"auto\",\"type\":\"bar\",\"x\":[0,1,2,3,4,5,6],\"xaxis\":\"x\",\"y\":[27.920433996383363,8.43343653250774,69.64071038251366,18.014256619144604,63.90750670241287,36.32540356839422,18.794117647058822],\"yaxis\":\"y\"},{\"alignmentgroup\":\"True\",\"hovertemplate\":\"variable=sweet<br>class=%{x}<br>value=%{y}<extra></extra>\",\"legendgroup\":\"sweet\",\"marker\":{\"color\":\"#FFA15A\",\"pattern\":{\"shape\":\"\"}},\"name\":\"sweet\",\"offsetgroup\":\"sweet\",\"orientation\":\"v\",\"showlegend\":true,\"textposition\":\"auto\",\"type\":\"bar\",\"x\":[0,1,2,3,4,5,6],\"xaxis\":\"x\",\"y\":[111.85714285714286,12.008255933952528,49.16530054644809,73.06924643584522,74.22654155495978,46.107051826677996,46.88235294117647],\"yaxis\":\"y\"},{\"alignmentgroup\":\"True\",\"hovertemplate\":\"variable=sour<br>class=%{x}<br>value=%{y}<extra></extra>\",\"legendgroup\":\"sour\",\"marker\":{\"color\":\"#19d3f3\",\"pattern\":{\"shape\":\"\"}},\"name\":\"sour\",\"offsetgroup\":\"sour\",\"orientation\":\"v\",\"showlegend\":true,\"textposition\":\"auto\",\"type\":\"bar\",\"x\":[0,1,2,3,4,5,6],\"xaxis\":\"x\",\"y\":[37.151898734177216,8.431372549019608,49.90846994535519,137.33808553971485,13.443699731903486,16.429056924384028,39.40882352941176],\"yaxis\":\"y\"},{\"alignmentgroup\":\"True\",\"hovertemplate\":\"variable=fruits<br>class=%{x}<br>value=%{y}<extra></extra>\",\"legendgroup\":\"fruits\",\"marker\":{\"color\":\"#FF6692\",\"pattern\":{\"shape\":\"\"}},\"name\":\"fruits\",\"offsetgroup\":\"fruits\",\"orientation\":\"v\",\"showlegend\":true,\"textposition\":\"auto\",\"type\":\"bar\",\"x\":[0,1,2,3,4,5,6],\"xaxis\":\"x\",\"y\":[64.48101265822785,8.344685242518059,61.55464480874317,107.84317718940937,17.894101876675602,18.121495327102803,53.85294117647059],\"yaxis\":\"y\"},{\"alignmentgroup\":\"True\",\"hovertemplate\":\"variable=hoppy<br>class=%{x}<br>value=%{y}<extra></extra>\",\"legendgroup\":\"hoppy\",\"marker\":{\"color\":\"#B6E880\",\"pattern\":{\"shape\":\"\"}},\"name\":\"hoppy\",\"offsetgroup\":\"hoppy\",\"orientation\":\"v\",\"showlegend\":true,\"textposition\":\"auto\",\"type\":\"bar\",\"x\":[0,1,2,3,4,5,6],\"xaxis\":\"x\",\"y\":[30.598553345388787,11.384932920536636,97.39207650273224,27.91446028513238,35.17828418230563,45.43330501274426,25.814705882352943],\"yaxis\":\"y\"},{\"alignmentgroup\":\"True\",\"hovertemplate\":\"variable=spices<br>class=%{x}<br>value=%{y}<extra></extra>\",\"legendgroup\":\"spices\",\"marker\":{\"color\":\"#FF97FF\",\"pattern\":{\"shape\":\"\"}},\"name\":\"spices\",\"offsetgroup\":\"spices\",\"orientation\":\"v\",\"showlegend\":true,\"textposition\":\"auto\",\"type\":\"bar\",\"x\":[0,1,2,3,4,5,6],\"xaxis\":\"x\",\"y\":[22.53887884267631,5.493292053663571,12.561475409836065,12.810590631364562,24.636729222520106,9.781648258283772,46.59705882352941],\"yaxis\":\"y\"}],                        {\"barmode\":\"relative\",\"legend\":{\"title\":{\"text\":\"variable\"},\"tracegroupgap\":0},\"margin\":{\"t\":60},\"template\":{\"data\":{\"bar\":[{\"error_x\":{\"color\":\"#2a3f5f\"},\"error_y\":{\"color\":\"#2a3f5f\"},\"marker\":{\"line\":{\"color\":\"#E5ECF6\",\"width\":0.5},\"pattern\":{\"fillmode\":\"overlay\",\"size\":10,\"solidity\":0.2}},\"type\":\"bar\"}],\"barpolar\":[{\"marker\":{\"line\":{\"color\":\"#E5ECF6\",\"width\":0.5},\"pattern\":{\"fillmode\":\"overlay\",\"size\":10,\"solidity\":0.2}},\"type\":\"barpolar\"}],\"carpet\":[{\"aaxis\":{\"endlinecolor\":\"#2a3f5f\",\"gridcolor\":\"white\",\"linecolor\":\"white\",\"minorgridcolor\":\"white\",\"startlinecolor\":\"#2a3f5f\"},\"baxis\":{\"endlinecolor\":\"#2a3f5f\",\"gridcolor\":\"white\",\"linecolor\":\"white\",\"minorgridcolor\":\"white\",\"startlinecolor\":\"#2a3f5f\"},\"type\":\"carpet\"}],\"choropleth\":[{\"colorbar\":{\"outlinewidth\":0,\"ticks\":\"\"},\"type\":\"choropleth\"}],\"contour\":[{\"colorbar\":{\"outlinewidth\":0,\"ticks\":\"\"},\"colorscale\":[[0.0,\"#0d0887\"],[0.1111111111111111,\"#46039f\"],[0.2222222222222222,\"#7201a8\"],[0.3333333333333333,\"#9c179e\"],[0.4444444444444444,\"#bd3786\"],[0.5555555555555556,\"#d8576b\"],[0.6666666666666666,\"#ed7953\"],[0.7777777777777778,\"#fb9f3a\"],[0.8888888888888888,\"#fdca26\"],[1.0,\"#f0f921\"]],\"type\":\"contour\"}],\"contourcarpet\":[{\"colorbar\":{\"outlinewidth\":0,\"ticks\":\"\"},\"type\":\"contourcarpet\"}],\"heatmap\":[{\"colorbar\":{\"outlinewidth\":0,\"ticks\":\"\"},\"colorscale\":[[0.0,\"#0d0887\"],[0.1111111111111111,\"#46039f\"],[0.2222222222222222,\"#7201a8\"],[0.3333333333333333,\"#9c179e\"],[0.4444444444444444,\"#bd3786\"],[0.5555555555555556,\"#d8576b\"],[0.6666666666666666,\"#ed7953\"],[0.7777777777777778,\"#fb9f3a\"],[0.8888888888888888,\"#fdca26\"],[1.0,\"#f0f921\"]],\"type\":\"heatmap\"}],\"heatmapgl\":[{\"colorbar\":{\"outlinewidth\":0,\"ticks\":\"\"},\"colorscale\":[[0.0,\"#0d0887\"],[0.1111111111111111,\"#46039f\"],[0.2222222222222222,\"#7201a8\"],[0.3333333333333333,\"#9c179e\"],[0.4444444444444444,\"#bd3786\"],[0.5555555555555556,\"#d8576b\"],[0.6666666666666666,\"#ed7953\"],[0.7777777777777778,\"#fb9f3a\"],[0.8888888888888888,\"#fdca26\"],[1.0,\"#f0f921\"]],\"type\":\"heatmapgl\"}],\"histogram\":[{\"marker\":{\"pattern\":{\"fillmode\":\"overlay\",\"size\":10,\"solidity\":0.2}},\"type\":\"histogram\"}],\"histogram2d\":[{\"colorbar\":{\"outlinewidth\":0,\"ticks\":\"\"},\"colorscale\":[[0.0,\"#0d0887\"],[0.1111111111111111,\"#46039f\"],[0.2222222222222222,\"#7201a8\"],[0.3333333333333333,\"#9c179e\"],[0.4444444444444444,\"#bd3786\"],[0.5555555555555556,\"#d8576b\"],[0.6666666666666666,\"#ed7953\"],[0.7777777777777778,\"#fb9f3a\"],[0.8888888888888888,\"#fdca26\"],[1.0,\"#f0f921\"]],\"type\":\"histogram2d\"}],\"histogram2dcontour\":[{\"colorbar\":{\"outlinewidth\":0,\"ticks\":\"\"},\"colorscale\":[[0.0,\"#0d0887\"],[0.1111111111111111,\"#46039f\"],[0.2222222222222222,\"#7201a8\"],[0.3333333333333333,\"#9c179e\"],[0.4444444444444444,\"#bd3786\"],[0.5555555555555556,\"#d8576b\"],[0.6666666666666666,\"#ed7953\"],[0.7777777777777778,\"#fb9f3a\"],[0.8888888888888888,\"#fdca26\"],[1.0,\"#f0f921\"]],\"type\":\"histogram2dcontour\"}],\"mesh3d\":[{\"colorbar\":{\"outlinewidth\":0,\"ticks\":\"\"},\"type\":\"mesh3d\"}],\"parcoords\":[{\"line\":{\"colorbar\":{\"outlinewidth\":0,\"ticks\":\"\"}},\"type\":\"parcoords\"}],\"pie\":[{\"automargin\":true,\"type\":\"pie\"}],\"scatter\":[{\"marker\":{\"colorbar\":{\"outlinewidth\":0,\"ticks\":\"\"}},\"type\":\"scatter\"}],\"scatter3d\":[{\"line\":{\"colorbar\":{\"outlinewidth\":0,\"ticks\":\"\"}},\"marker\":{\"colorbar\":{\"outlinewidth\":0,\"ticks\":\"\"}},\"type\":\"scatter3d\"}],\"scattercarpet\":[{\"marker\":{\"colorbar\":{\"outlinewidth\":0,\"ticks\":\"\"}},\"type\":\"scattercarpet\"}],\"scattergeo\":[{\"marker\":{\"colorbar\":{\"outlinewidth\":0,\"ticks\":\"\"}},\"type\":\"scattergeo\"}],\"scattergl\":[{\"marker\":{\"colorbar\":{\"outlinewidth\":0,\"ticks\":\"\"}},\"type\":\"scattergl\"}],\"scattermapbox\":[{\"marker\":{\"colorbar\":{\"outlinewidth\":0,\"ticks\":\"\"}},\"type\":\"scattermapbox\"}],\"scatterpolar\":[{\"marker\":{\"colorbar\":{\"outlinewidth\":0,\"ticks\":\"\"}},\"type\":\"scatterpolar\"}],\"scatterpolargl\":[{\"marker\":{\"colorbar\":{\"outlinewidth\":0,\"ticks\":\"\"}},\"type\":\"scatterpolargl\"}],\"scatterternary\":[{\"marker\":{\"colorbar\":{\"outlinewidth\":0,\"ticks\":\"\"}},\"type\":\"scatterternary\"}],\"surface\":[{\"colorbar\":{\"outlinewidth\":0,\"ticks\":\"\"},\"colorscale\":[[0.0,\"#0d0887\"],[0.1111111111111111,\"#46039f\"],[0.2222222222222222,\"#7201a8\"],[0.3333333333333333,\"#9c179e\"],[0.4444444444444444,\"#bd3786\"],[0.5555555555555556,\"#d8576b\"],[0.6666666666666666,\"#ed7953\"],[0.7777777777777778,\"#fb9f3a\"],[0.8888888888888888,\"#fdca26\"],[1.0,\"#f0f921\"]],\"type\":\"surface\"}],\"table\":[{\"cells\":{\"fill\":{\"color\":\"#EBF0F8\"},\"line\":{\"color\":\"white\"}},\"header\":{\"fill\":{\"color\":\"#C8D4E3\"},\"line\":{\"color\":\"white\"}},\"type\":\"table\"}]},\"layout\":{\"annotationdefaults\":{\"arrowcolor\":\"#2a3f5f\",\"arrowhead\":0,\"arrowwidth\":1},\"autotypenumbers\":\"strict\",\"coloraxis\":{\"colorbar\":{\"outlinewidth\":0,\"ticks\":\"\"}},\"colorscale\":{\"diverging\":[[0,\"#8e0152\"],[0.1,\"#c51b7d\"],[0.2,\"#de77ae\"],[0.3,\"#f1b6da\"],[0.4,\"#fde0ef\"],[0.5,\"#f7f7f7\"],[0.6,\"#e6f5d0\"],[0.7,\"#b8e186\"],[0.8,\"#7fbc41\"],[0.9,\"#4d9221\"],[1,\"#276419\"]],\"sequential\":[[0.0,\"#0d0887\"],[0.1111111111111111,\"#46039f\"],[0.2222222222222222,\"#7201a8\"],[0.3333333333333333,\"#9c179e\"],[0.4444444444444444,\"#bd3786\"],[0.5555555555555556,\"#d8576b\"],[0.6666666666666666,\"#ed7953\"],[0.7777777777777778,\"#fb9f3a\"],[0.8888888888888888,\"#fdca26\"],[1.0,\"#f0f921\"]],\"sequentialminus\":[[0.0,\"#0d0887\"],[0.1111111111111111,\"#46039f\"],[0.2222222222222222,\"#7201a8\"],[0.3333333333333333,\"#9c179e\"],[0.4444444444444444,\"#bd3786\"],[0.5555555555555556,\"#d8576b\"],[0.6666666666666666,\"#ed7953\"],[0.7777777777777778,\"#fb9f3a\"],[0.8888888888888888,\"#fdca26\"],[1.0,\"#f0f921\"]]},\"colorway\":[\"#636efa\",\"#EF553B\",\"#00cc96\",\"#ab63fa\",\"#FFA15A\",\"#19d3f3\",\"#FF6692\",\"#B6E880\",\"#FF97FF\",\"#FECB52\"],\"font\":{\"color\":\"#2a3f5f\"},\"geo\":{\"bgcolor\":\"white\",\"lakecolor\":\"white\",\"landcolor\":\"#E5ECF6\",\"showlakes\":true,\"showland\":true,\"subunitcolor\":\"white\"},\"hoverlabel\":{\"align\":\"left\"},\"hovermode\":\"closest\",\"mapbox\":{\"style\":\"light\"},\"paper_bgcolor\":\"white\",\"plot_bgcolor\":\"#E5ECF6\",\"polar\":{\"angularaxis\":{\"gridcolor\":\"white\",\"linecolor\":\"white\",\"ticks\":\"\"},\"bgcolor\":\"#E5ECF6\",\"radialaxis\":{\"gridcolor\":\"white\",\"linecolor\":\"white\",\"ticks\":\"\"}},\"scene\":{\"xaxis\":{\"backgroundcolor\":\"#E5ECF6\",\"gridcolor\":\"white\",\"gridwidth\":2,\"linecolor\":\"white\",\"showbackground\":true,\"ticks\":\"\",\"zerolinecolor\":\"white\"},\"yaxis\":{\"backgroundcolor\":\"#E5ECF6\",\"gridcolor\":\"white\",\"gridwidth\":2,\"linecolor\":\"white\",\"showbackground\":true,\"ticks\":\"\",\"zerolinecolor\":\"white\"},\"zaxis\":{\"backgroundcolor\":\"#E5ECF6\",\"gridcolor\":\"white\",\"gridwidth\":2,\"linecolor\":\"white\",\"showbackground\":true,\"ticks\":\"\",\"zerolinecolor\":\"white\"}},\"shapedefaults\":{\"line\":{\"color\":\"#2a3f5f\"}},\"ternary\":{\"aaxis\":{\"gridcolor\":\"white\",\"linecolor\":\"white\",\"ticks\":\"\"},\"baxis\":{\"gridcolor\":\"white\",\"linecolor\":\"white\",\"ticks\":\"\"},\"bgcolor\":\"#E5ECF6\",\"caxis\":{\"gridcolor\":\"white\",\"linecolor\":\"white\",\"ticks\":\"\"}},\"title\":{\"x\":0.05},\"xaxis\":{\"automargin\":true,\"gridcolor\":\"white\",\"linecolor\":\"white\",\"ticks\":\"\",\"title\":{\"standoff\":15},\"zerolinecolor\":\"white\",\"zerolinewidth\":2},\"yaxis\":{\"automargin\":true,\"gridcolor\":\"white\",\"linecolor\":\"white\",\"ticks\":\"\",\"title\":{\"standoff\":15},\"zerolinecolor\":\"white\",\"zerolinewidth\":2}}},\"xaxis\":{\"anchor\":\"y\",\"domain\":[0.0,1.0],\"title\":{\"text\":\"class\"}},\"yaxis\":{\"anchor\":\"x\",\"domain\":[0.0,1.0],\"title\":{\"text\":\"value\"}}},                        {\"responsive\": true}                    ).then(function(){\n",
       "                            \n",
       "var gd = document.getElementById('44a0dc23-7c7d-444d-80dd-00061d088287');\n",
       "var x = new MutationObserver(function (mutations, observer) {{\n",
       "        var display = window.getComputedStyle(gd).display;\n",
       "        if (!display || display === 'none') {{\n",
       "            console.log([gd, 'removed!']);\n",
       "            Plotly.purge(gd);\n",
       "            observer.disconnect();\n",
       "        }}\n",
       "}});\n",
       "\n",
       "// Listen for the removal of the full notebook cells\n",
       "var notebookContainer = gd.closest('#notebook-container');\n",
       "if (notebookContainer) {{\n",
       "    x.observe(notebookContainer, {childList: true});\n",
       "}}\n",
       "\n",
       "// Listen for the clearing of the current output cell\n",
       "var outputEl = gd.closest('.output');\n",
       "if (outputEl) {{\n",
       "    x.observe(outputEl, {childList: true});\n",
       "}}\n",
       "\n",
       "                        })                };                });            </script>        </div>"
      ]
     },
     "metadata": {},
     "output_type": "display_data"
    }
   ],
   "source": [
    "fig = px.bar(bar_df, x=\"class\", y=['abv', 'astringency', 'body', 'bitter', 'sweet', 'sour',\n",
    "       'fruits', 'hoppy', 'spices'])\n",
    "fig.show()"
   ]
  },
  {
   "cell_type": "code",
   "execution_count": 292,
   "metadata": {},
   "outputs": [],
   "source": [
    "\n",
    "# fig = px.scatter_3d(combined_df, x='abv', y='style_key', z='malty',\n",
    "#               color='class')\n",
    "# fig.show()"
   ]
  },
  {
   "cell_type": "markdown",
   "metadata": {},
   "source": [
    "### KNN"
   ]
  },
  {
   "cell_type": "code",
   "execution_count": 373,
   "metadata": {},
   "outputs": [],
   "source": [
    "# Drop columns unnecessary for analysis\n",
    "knn_df = df.drop(['beer_id', 'beer_name', 'beer_style', 'style_key', 'brewery',\n",
    "       'description', 'ave_rating', \"min_ibu\", \"max_ibu\", \"salty\", \"alcohol\",\n",
    "        \"avg_ibu\"], axis=1)"
   ]
  },
  {
   "cell_type": "code",
   "execution_count": 374,
   "metadata": {},
   "outputs": [
    {
     "data": {
      "text/html": [
       "<div>\n",
       "<style scoped>\n",
       "    .dataframe tbody tr th:only-of-type {\n",
       "        vertical-align: middle;\n",
       "    }\n",
       "\n",
       "    .dataframe tbody tr th {\n",
       "        vertical-align: top;\n",
       "    }\n",
       "\n",
       "    .dataframe thead th {\n",
       "        text-align: right;\n",
       "    }\n",
       "</style>\n",
       "<table border=\"1\" class=\"dataframe\">\n",
       "  <thead>\n",
       "    <tr style=\"text-align: right;\">\n",
       "      <th></th>\n",
       "      <th>abv</th>\n",
       "      <th>astringency</th>\n",
       "      <th>body</th>\n",
       "      <th>bitter</th>\n",
       "      <th>sweet</th>\n",
       "      <th>sour</th>\n",
       "      <th>fruits</th>\n",
       "      <th>hoppy</th>\n",
       "      <th>spices</th>\n",
       "      <th>malty</th>\n",
       "      <th>condensed_style</th>\n",
       "      <th>BA_Big_styles</th>\n",
       "    </tr>\n",
       "  </thead>\n",
       "  <tbody>\n",
       "    <tr>\n",
       "      <th>0</th>\n",
       "      <td>5.3</td>\n",
       "      <td>13</td>\n",
       "      <td>32</td>\n",
       "      <td>47</td>\n",
       "      <td>74</td>\n",
       "      <td>33</td>\n",
       "      <td>33</td>\n",
       "      <td>57</td>\n",
       "      <td>8</td>\n",
       "      <td>111</td>\n",
       "      <td>Altbier</td>\n",
       "      <td>Brown Ales</td>\n",
       "    </tr>\n",
       "    <tr>\n",
       "      <th>1</th>\n",
       "      <td>7.2</td>\n",
       "      <td>12</td>\n",
       "      <td>57</td>\n",
       "      <td>33</td>\n",
       "      <td>55</td>\n",
       "      <td>16</td>\n",
       "      <td>24</td>\n",
       "      <td>35</td>\n",
       "      <td>12</td>\n",
       "      <td>84</td>\n",
       "      <td>Altbier</td>\n",
       "      <td>Brown Ales</td>\n",
       "    </tr>\n",
       "    <tr>\n",
       "      <th>2</th>\n",
       "      <td>5.0</td>\n",
       "      <td>14</td>\n",
       "      <td>37</td>\n",
       "      <td>42</td>\n",
       "      <td>43</td>\n",
       "      <td>11</td>\n",
       "      <td>10</td>\n",
       "      <td>54</td>\n",
       "      <td>4</td>\n",
       "      <td>62</td>\n",
       "      <td>Altbier</td>\n",
       "      <td>Brown Ales</td>\n",
       "    </tr>\n",
       "    <tr>\n",
       "      <th>3</th>\n",
       "      <td>8.5</td>\n",
       "      <td>13</td>\n",
       "      <td>55</td>\n",
       "      <td>47</td>\n",
       "      <td>101</td>\n",
       "      <td>18</td>\n",
       "      <td>49</td>\n",
       "      <td>40</td>\n",
       "      <td>16</td>\n",
       "      <td>119</td>\n",
       "      <td>Altbier</td>\n",
       "      <td>Brown Ales</td>\n",
       "    </tr>\n",
       "    <tr>\n",
       "      <th>4</th>\n",
       "      <td>5.3</td>\n",
       "      <td>21</td>\n",
       "      <td>69</td>\n",
       "      <td>63</td>\n",
       "      <td>120</td>\n",
       "      <td>14</td>\n",
       "      <td>19</td>\n",
       "      <td>36</td>\n",
       "      <td>15</td>\n",
       "      <td>218</td>\n",
       "      <td>Altbier</td>\n",
       "      <td>Brown Ales</td>\n",
       "    </tr>\n",
       "    <tr>\n",
       "      <th>...</th>\n",
       "      <td>...</td>\n",
       "      <td>...</td>\n",
       "      <td>...</td>\n",
       "      <td>...</td>\n",
       "      <td>...</td>\n",
       "      <td>...</td>\n",
       "      <td>...</td>\n",
       "      <td>...</td>\n",
       "      <td>...</td>\n",
       "      <td>...</td>\n",
       "      <td>...</td>\n",
       "      <td>...</td>\n",
       "    </tr>\n",
       "    <tr>\n",
       "      <th>5551</th>\n",
       "      <td>6.0</td>\n",
       "      <td>15</td>\n",
       "      <td>31</td>\n",
       "      <td>16</td>\n",
       "      <td>54</td>\n",
       "      <td>43</td>\n",
       "      <td>54</td>\n",
       "      <td>14</td>\n",
       "      <td>140</td>\n",
       "      <td>58</td>\n",
       "      <td>Winter Warmer</td>\n",
       "      <td>Dark Ales</td>\n",
       "    </tr>\n",
       "    <tr>\n",
       "      <th>5552</th>\n",
       "      <td>6.9</td>\n",
       "      <td>22</td>\n",
       "      <td>73</td>\n",
       "      <td>58</td>\n",
       "      <td>87</td>\n",
       "      <td>23</td>\n",
       "      <td>48</td>\n",
       "      <td>91</td>\n",
       "      <td>44</td>\n",
       "      <td>104</td>\n",
       "      <td>Winter Warmer</td>\n",
       "      <td>Dark Ales</td>\n",
       "    </tr>\n",
       "    <tr>\n",
       "      <th>5553</th>\n",
       "      <td>7.5</td>\n",
       "      <td>11</td>\n",
       "      <td>36</td>\n",
       "      <td>70</td>\n",
       "      <td>72</td>\n",
       "      <td>59</td>\n",
       "      <td>81</td>\n",
       "      <td>110</td>\n",
       "      <td>18</td>\n",
       "      <td>73</td>\n",
       "      <td>Winter Warmer</td>\n",
       "      <td>Dark Ales</td>\n",
       "    </tr>\n",
       "    <tr>\n",
       "      <th>5554</th>\n",
       "      <td>8.0</td>\n",
       "      <td>6</td>\n",
       "      <td>64</td>\n",
       "      <td>57</td>\n",
       "      <td>78</td>\n",
       "      <td>15</td>\n",
       "      <td>28</td>\n",
       "      <td>57</td>\n",
       "      <td>23</td>\n",
       "      <td>129</td>\n",
       "      <td>Winter Warmer</td>\n",
       "      <td>Dark Ales</td>\n",
       "    </tr>\n",
       "    <tr>\n",
       "      <th>5555</th>\n",
       "      <td>8.6</td>\n",
       "      <td>8</td>\n",
       "      <td>50</td>\n",
       "      <td>13</td>\n",
       "      <td>71</td>\n",
       "      <td>17</td>\n",
       "      <td>33</td>\n",
       "      <td>16</td>\n",
       "      <td>148</td>\n",
       "      <td>69</td>\n",
       "      <td>Winter Warmer</td>\n",
       "      <td>Dark Ales</td>\n",
       "    </tr>\n",
       "  </tbody>\n",
       "</table>\n",
       "<p>5348 rows × 12 columns</p>\n",
       "</div>"
      ],
      "text/plain": [
       "      abv  astringency  body  bitter  sweet  sour  fruits  hoppy  spices  \\\n",
       "0     5.3           13    32      47     74    33      33     57       8   \n",
       "1     7.2           12    57      33     55    16      24     35      12   \n",
       "2     5.0           14    37      42     43    11      10     54       4   \n",
       "3     8.5           13    55      47    101    18      49     40      16   \n",
       "4     5.3           21    69      63    120    14      19     36      15   \n",
       "...   ...          ...   ...     ...    ...   ...     ...    ...     ...   \n",
       "5551  6.0           15    31      16     54    43      54     14     140   \n",
       "5552  6.9           22    73      58     87    23      48     91      44   \n",
       "5553  7.5           11    36      70     72    59      81    110      18   \n",
       "5554  8.0            6    64      57     78    15      28     57      23   \n",
       "5555  8.6            8    50      13     71    17      33     16     148   \n",
       "\n",
       "      malty condensed_style BA_Big_styles  \n",
       "0       111         Altbier    Brown Ales  \n",
       "1        84         Altbier    Brown Ales  \n",
       "2        62         Altbier    Brown Ales  \n",
       "3       119         Altbier    Brown Ales  \n",
       "4       218         Altbier    Brown Ales  \n",
       "...     ...             ...           ...  \n",
       "5551     58   Winter Warmer     Dark Ales  \n",
       "5552    104   Winter Warmer     Dark Ales  \n",
       "5553     73   Winter Warmer     Dark Ales  \n",
       "5554    129   Winter Warmer     Dark Ales  \n",
       "5555     69   Winter Warmer     Dark Ales  \n",
       "\n",
       "[5348 rows x 12 columns]"
      ]
     },
     "execution_count": 374,
     "metadata": {},
     "output_type": "execute_result"
    }
   ],
   "source": [
    "knn_df"
   ]
  },
  {
   "cell_type": "code",
   "execution_count": 375,
   "metadata": {},
   "outputs": [
    {
     "data": {
      "text/plain": [
       "Index(['abv', 'astringency', 'body', 'bitter', 'sweet', 'sour', 'fruits',\n",
       "       'hoppy', 'spices', 'malty', 'condensed_style', 'BA_Big_styles'],\n",
       "      dtype='object')"
      ]
     },
     "execution_count": 375,
     "metadata": {},
     "output_type": "execute_result"
    }
   ],
   "source": [
    "knn_df.columns"
   ]
  },
  {
   "cell_type": "code",
   "execution_count": 376,
   "metadata": {},
   "outputs": [],
   "source": [
    "# Dependent value/value we are trying to predict = style\n",
    "y = df[\"BA_Big_styles\"]\n",
    "X = df[['abv', 'astringency', 'body', 'bitter', 'sweet', 'sour', 'fruits',\n",
    "       'hoppy', 'spices', 'malty']]"
   ]
  },
  {
   "cell_type": "code",
   "execution_count": 377,
   "metadata": {},
   "outputs": [],
   "source": [
    "# Split into testing and training data\n",
    "X_train, X_test, y_train, y_test = train_test_split(X, y, test_size=0.20)"
   ]
  },
  {
   "cell_type": "code",
   "execution_count": 378,
   "metadata": {},
   "outputs": [],
   "source": [
    "# Scale data\n",
    "scaler = StandardScaler()\n",
    "scaler.fit(X_train)\n",
    "X_train = scaler.transform(X_train)\n",
    "X_test = scaler.transform(X_test)"
   ]
  },
  {
   "cell_type": "code",
   "execution_count": 384,
   "metadata": {},
   "outputs": [
    {
     "data": {
      "text/plain": [
       "KNeighborsClassifier(n_neighbors=7)"
      ]
     },
     "execution_count": 384,
     "metadata": {},
     "output_type": "execute_result"
    }
   ],
   "source": [
    "# Instatiate KNN class and train model\n",
    "classifier = KNeighborsClassifier(n_neighbors=7)\n",
    "classifier.fit(X_train, y_train)"
   ]
  },
  {
   "cell_type": "code",
   "execution_count": 385,
   "metadata": {},
   "outputs": [
    {
     "name": "stdout",
     "output_type": "stream",
     "text": [
      "                 precision    recall  f1-score   support\n",
      "\n",
      "           Bock       0.31      0.40      0.35        45\n",
      "     Brown Ales       0.40      0.31      0.35        59\n",
      "      Dark Ales       0.46      0.41      0.43        39\n",
      "    Dark Lagers       0.32      0.31      0.31        62\n",
      "   Hybrid Beers       0.19      0.15      0.17        33\n",
      "India Pale Ales       0.68      0.75      0.71        81\n",
      "      Pale Ales       0.50      0.55      0.53       130\n",
      "    Pale Lagers       0.66      0.69      0.67       133\n",
      "        Porters       0.52      0.57      0.54        58\n",
      "Specialty Beers       0.45      0.40      0.43        94\n",
      "         Stouts       0.63      0.62      0.62        71\n",
      "    Strong Ales       0.66      0.69      0.67       112\n",
      "    Wheat Beers       0.62      0.47      0.54        59\n",
      "     Wild/Sour        0.85      0.83      0.84        94\n",
      "\n",
      "       accuracy                           0.56      1070\n",
      "      macro avg       0.52      0.51      0.51      1070\n",
      "   weighted avg       0.56      0.56      0.56      1070\n",
      "\n"
     ]
    }
   ],
   "source": [
    "# View results\n",
    "y_pred = classifier.predict(X_test)\n",
    "# print(confusion_matrix(y_test, y_pred))\n",
    "print(classification_report(y_test, y_pred))\n",
    "# output_dict = classification_report(y_test, y_pred, output_dict=True)"
   ]
  },
  {
   "cell_type": "code",
   "execution_count": 311,
   "metadata": {},
   "outputs": [
    {
     "data": {
      "text/plain": [
       "{'Altbier': {'precision': 0.0, 'recall': 0.0, 'f1-score': 0.0, 'support': 5},\n",
       " 'Barleywine': {'precision': 0.4583333333333333,\n",
       "  'recall': 0.6470588235294118,\n",
       "  'f1-score': 0.5365853658536585,\n",
       "  'support': 17},\n",
       " 'Bitter': {'precision': 0.6666666666666666,\n",
       "  'recall': 0.6086956521739131,\n",
       "  'f1-score': 0.6363636363636365,\n",
       "  'support': 23},\n",
       " 'Bière de Champagne / Bière Brut': {'precision': 0.0,\n",
       "  'recall': 0.0,\n",
       "  'f1-score': 0.0,\n",
       "  'support': 5},\n",
       " 'Blonde Ale': {'precision': 0.2222222222222222,\n",
       "  'recall': 0.35294117647058826,\n",
       "  'f1-score': 0.27272727272727276,\n",
       "  'support': 17},\n",
       " 'Bock': {'precision': 0.3125,\n",
       "  'recall': 0.39215686274509803,\n",
       "  'f1-score': 0.34782608695652173,\n",
       "  'support': 51},\n",
       " 'Braggot': {'precision': 0.5,\n",
       "  'recall': 0.25,\n",
       "  'f1-score': 0.3333333333333333,\n",
       "  'support': 4},\n",
       " 'Brett Beer': {'precision': 0.25,\n",
       "  'recall': 0.08333333333333333,\n",
       "  'f1-score': 0.125,\n",
       "  'support': 12},\n",
       " 'Brown Ale': {'precision': 0.2631578947368421,\n",
       "  'recall': 0.17857142857142858,\n",
       "  'f1-score': 0.2127659574468085,\n",
       "  'support': 28},\n",
       " 'California Common / Steam Beer': {'precision': 0.0,\n",
       "  'recall': 0.0,\n",
       "  'f1-score': 0.0,\n",
       "  'support': 7},\n",
       " 'Chile Beer': {'precision': 0.6666666666666666,\n",
       "  'recall': 0.5,\n",
       "  'f1-score': 0.5714285714285715,\n",
       "  'support': 8},\n",
       " 'Cream Ale': {'precision': 0.5,\n",
       "  'recall': 0.2,\n",
       "  'f1-score': 0.28571428571428575,\n",
       "  'support': 5},\n",
       " 'Dubbel': {'precision': 0.29411764705882354,\n",
       "  'recall': 0.5555555555555556,\n",
       "  'f1-score': 0.3846153846153846,\n",
       "  'support': 9},\n",
       " 'Farmhouse Ale': {'precision': 0.3125,\n",
       "  'recall': 0.16129032258064516,\n",
       "  'f1-score': 0.2127659574468085,\n",
       "  'support': 31},\n",
       " 'Fruit and Field Beer': {'precision': 0.6666666666666666,\n",
       "  'recall': 0.6666666666666666,\n",
       "  'f1-score': 0.6666666666666666,\n",
       "  'support': 12},\n",
       " 'Gruit / Ancient Herbed Ale': {'precision': 1.0,\n",
       "  'recall': 0.09090909090909091,\n",
       "  'f1-score': 0.16666666666666669,\n",
       "  'support': 11},\n",
       " 'Happoshu': {'precision': 0.2631578947368421,\n",
       "  'recall': 0.5555555555555556,\n",
       "  'f1-score': 0.35714285714285715,\n",
       "  'support': 9},\n",
       " 'Herb and Spice Beer': {'precision': 0.0,\n",
       "  'recall': 0.0,\n",
       "  'f1-score': 0.0,\n",
       "  'support': 9},\n",
       " 'IPA': {'precision': 0.5,\n",
       "  'recall': 0.8507462686567164,\n",
       "  'f1-score': 0.6298342541436465,\n",
       "  'support': 67},\n",
       " 'Kvass': {'precision': 0.0, 'recall': 0.0, 'f1-score': 0.0, 'support': 3},\n",
       " 'Kölsch': {'precision': 0.8333333333333334,\n",
       "  'recall': 0.45454545454545453,\n",
       "  'f1-score': 0.5882352941176471,\n",
       "  'support': 11},\n",
       " 'Lager': {'precision': 0.5375939849624061,\n",
       "  'recall': 0.7486910994764397,\n",
       "  'f1-score': 0.6258205689277899,\n",
       "  'support': 191},\n",
       " 'Lambic': {'precision': 0.4222222222222222,\n",
       "  'recall': 0.6785714285714286,\n",
       "  'f1-score': 0.5205479452054794,\n",
       "  'support': 28},\n",
       " 'Mild Ale - English Dark': {'precision': 0.0,\n",
       "  'recall': 0.0,\n",
       "  'f1-score': 0.0,\n",
       "  'support': 9},\n",
       " 'Mild Ale - English Pale': {'precision': 0.0,\n",
       "  'recall': 0.0,\n",
       "  'f1-score': 0.0,\n",
       "  'support': 13},\n",
       " 'Old Ale': {'precision': 0.0, 'recall': 0.0, 'f1-score': 0.0, 'support': 9},\n",
       " 'Pale Ale': {'precision': 0.3076923076923077,\n",
       "  'recall': 0.125,\n",
       "  'f1-score': 0.17777777777777778,\n",
       "  'support': 32},\n",
       " 'Pilsner': {'precision': 0.5,\n",
       "  'recall': 0.23333333333333334,\n",
       "  'f1-score': 0.3181818181818182,\n",
       "  'support': 30},\n",
       " 'Porter': {'precision': 0.40425531914893614,\n",
       "  'recall': 0.3064516129032258,\n",
       "  'f1-score': 0.34862385321100914,\n",
       "  'support': 62},\n",
       " 'Pumpkin Beer': {'precision': 0.6666666666666666,\n",
       "  'recall': 0.6666666666666666,\n",
       "  'f1-score': 0.6666666666666666,\n",
       "  'support': 6},\n",
       " 'Quadrupel (Quad)': {'precision': 0.42857142857142855,\n",
       "  'recall': 0.6666666666666666,\n",
       "  'f1-score': 0.5217391304347826,\n",
       "  'support': 9},\n",
       " 'Red Ale': {'precision': 0.45,\n",
       "  'recall': 0.2727272727272727,\n",
       "  'f1-score': 0.339622641509434,\n",
       "  'support': 33},\n",
       " 'Rye Beer': {'precision': 0.6666666666666666,\n",
       "  'recall': 0.2222222222222222,\n",
       "  'f1-score': 0.3333333333333333,\n",
       "  'support': 9},\n",
       " 'Rye Beer - Roggenbier': {'precision': 0.5,\n",
       "  'recall': 0.8333333333333334,\n",
       "  'f1-score': 0.625,\n",
       "  'support': 6},\n",
       " 'Scotch Ale / Wee Heavy': {'precision': 0.25,\n",
       "  'recall': 0.125,\n",
       "  'f1-score': 0.16666666666666666,\n",
       "  'support': 8},\n",
       " 'Scottish Ale': {'precision': 0.0,\n",
       "  'recall': 0.0,\n",
       "  'f1-score': 0.0,\n",
       "  'support': 9},\n",
       " 'Smoked Beer': {'precision': 0.0,\n",
       "  'recall': 0.0,\n",
       "  'f1-score': 0.0,\n",
       "  'support': 13},\n",
       " 'Sour': {'precision': 0.5384615384615384,\n",
       "  'recall': 0.7,\n",
       "  'f1-score': 0.608695652173913,\n",
       "  'support': 40},\n",
       " 'Stout': {'precision': 0.55,\n",
       "  'recall': 0.7432432432432432,\n",
       "  'f1-score': 0.632183908045977,\n",
       "  'support': 74},\n",
       " 'Strong Ale': {'precision': 0.2222222222222222,\n",
       "  'recall': 0.16666666666666666,\n",
       "  'f1-score': 0.1904761904761905,\n",
       "  'support': 36},\n",
       " 'Tripel': {'precision': 0.625,\n",
       "  'recall': 0.35714285714285715,\n",
       "  'f1-score': 0.45454545454545453,\n",
       "  'support': 14},\n",
       " 'Wheat Beer': {'precision': 0.6607142857142857,\n",
       "  'recall': 0.5068493150684932,\n",
       "  'f1-score': 0.5736434108527132,\n",
       "  'support': 73},\n",
       " 'Wild Ale': {'precision': 0.0, 'recall': 0.0, 'f1-score': 0.0, 'support': 12},\n",
       " 'Winter Warmer': {'precision': 0.5714285714285714,\n",
       "  'recall': 0.4,\n",
       "  'f1-score': 0.47058823529411764,\n",
       "  'support': 10},\n",
       " 'accuracy': 0.4700934579439252,\n",
       " 'macro avg': {'precision': 0.36388221679951477,\n",
       "  'recall': 0.3250134524844388,\n",
       "  'f1-score': 0.3159496555437929,\n",
       "  'support': 1070},\n",
       " 'weighted avg': {'precision': 0.43968819500657286,\n",
       "  'recall': 0.4700934579439252,\n",
       "  'f1-score': 0.432311837861276,\n",
       "  'support': 1070}}"
      ]
     },
     "execution_count": 311,
     "metadata": {},
     "output_type": "execute_result"
    }
   ],
   "source": [
    "output_dict"
   ]
  },
  {
   "cell_type": "code",
   "execution_count": 306,
   "metadata": {},
   "outputs": [
    {
     "data": {
      "text/plain": [
       "0.36388221679951477"
      ]
     },
     "execution_count": 306,
     "metadata": {},
     "output_type": "execute_result"
    }
   ],
   "source": [
    "output_dict[\"macro avg\"][\"precision\"]"
   ]
  },
  {
   "cell_type": "code",
   "execution_count": 380,
   "metadata": {},
   "outputs": [],
   "source": [
    "accuracies = []\n",
    "precisions = []\n",
    "recalls = []\n",
    "\n",
    "for n in range(1,31):\n",
    "    classifier = KNeighborsClassifier(n_neighbors=n)\n",
    "    classifier.fit(X_train, y_train)\n",
    "    y_pred = classifier.predict(X_test)\n",
    "    # print(confusion_matrix(y_test, y_pred))\n",
    "    # print(classification_report(y_test, y_pred))\n",
    "    output_dict = classification_report(y_test, y_pred, output_dict=True)\n",
    "    accuracies.append(output_dict[\"accuracy\"])\n",
    "    precisions.append(output_dict[\"macro avg\"][\"precision\"])\n",
    "    recalls.append(output_dict[\"macro avg\"][\"recall\"])"
   ]
  },
  {
   "cell_type": "code",
   "execution_count": 381,
   "metadata": {},
   "outputs": [
    {
     "data": {
      "application/vnd.plotly.v1+json": {
       "config": {
        "plotlyServerURL": "https://plot.ly"
       },
       "data": [
        {
         "hovertemplate": "x=%{x}<br>y=%{y}<extra></extra>",
         "legendgroup": "",
         "marker": {
          "color": "#636efa",
          "symbol": "circle"
         },
         "mode": "markers",
         "name": "",
         "orientation": "v",
         "showlegend": false,
         "type": "scatter",
         "x": [
          1,
          2,
          3,
          4,
          5,
          6,
          7,
          8,
          9,
          10,
          11,
          12,
          13,
          14,
          15,
          16,
          17,
          18,
          19,
          20,
          21,
          22,
          23,
          24,
          25,
          26,
          27,
          28,
          29,
          30
         ],
         "xaxis": "x",
         "y": [
          0.49252336448598133,
          0.47289719626168225,
          0.5242990654205607,
          0.5439252336448598,
          0.5495327102803739,
          0.5532710280373832,
          0.5598130841121496,
          0.5514018691588785,
          0.5514018691588785,
          0.5570093457943925,
          0.5598130841121496,
          0.5579439252336449,
          0.5504672897196262,
          0.5542056074766355,
          0.5588785046728972,
          0.5551401869158878,
          0.5598130841121496,
          0.5560747663551402,
          0.5476635514018692,
          0.5588785046728972,
          0.5532710280373832,
          0.5560747663551402,
          0.5495327102803739,
          0.5523364485981308,
          0.5504672897196262,
          0.5448598130841121,
          0.5485981308411215,
          0.5429906542056074,
          0.5457943925233645,
          0.5457943925233645
         ],
         "yaxis": "y"
        }
       ],
       "layout": {
        "legend": {
         "tracegroupgap": 0
        },
        "margin": {
         "t": 60
        },
        "template": {
         "data": {
          "bar": [
           {
            "error_x": {
             "color": "#2a3f5f"
            },
            "error_y": {
             "color": "#2a3f5f"
            },
            "marker": {
             "line": {
              "color": "#E5ECF6",
              "width": 0.5
             },
             "pattern": {
              "fillmode": "overlay",
              "size": 10,
              "solidity": 0.2
             }
            },
            "type": "bar"
           }
          ],
          "barpolar": [
           {
            "marker": {
             "line": {
              "color": "#E5ECF6",
              "width": 0.5
             },
             "pattern": {
              "fillmode": "overlay",
              "size": 10,
              "solidity": 0.2
             }
            },
            "type": "barpolar"
           }
          ],
          "carpet": [
           {
            "aaxis": {
             "endlinecolor": "#2a3f5f",
             "gridcolor": "white",
             "linecolor": "white",
             "minorgridcolor": "white",
             "startlinecolor": "#2a3f5f"
            },
            "baxis": {
             "endlinecolor": "#2a3f5f",
             "gridcolor": "white",
             "linecolor": "white",
             "minorgridcolor": "white",
             "startlinecolor": "#2a3f5f"
            },
            "type": "carpet"
           }
          ],
          "choropleth": [
           {
            "colorbar": {
             "outlinewidth": 0,
             "ticks": ""
            },
            "type": "choropleth"
           }
          ],
          "contour": [
           {
            "colorbar": {
             "outlinewidth": 0,
             "ticks": ""
            },
            "colorscale": [
             [
              0,
              "#0d0887"
             ],
             [
              0.1111111111111111,
              "#46039f"
             ],
             [
              0.2222222222222222,
              "#7201a8"
             ],
             [
              0.3333333333333333,
              "#9c179e"
             ],
             [
              0.4444444444444444,
              "#bd3786"
             ],
             [
              0.5555555555555556,
              "#d8576b"
             ],
             [
              0.6666666666666666,
              "#ed7953"
             ],
             [
              0.7777777777777778,
              "#fb9f3a"
             ],
             [
              0.8888888888888888,
              "#fdca26"
             ],
             [
              1,
              "#f0f921"
             ]
            ],
            "type": "contour"
           }
          ],
          "contourcarpet": [
           {
            "colorbar": {
             "outlinewidth": 0,
             "ticks": ""
            },
            "type": "contourcarpet"
           }
          ],
          "heatmap": [
           {
            "colorbar": {
             "outlinewidth": 0,
             "ticks": ""
            },
            "colorscale": [
             [
              0,
              "#0d0887"
             ],
             [
              0.1111111111111111,
              "#46039f"
             ],
             [
              0.2222222222222222,
              "#7201a8"
             ],
             [
              0.3333333333333333,
              "#9c179e"
             ],
             [
              0.4444444444444444,
              "#bd3786"
             ],
             [
              0.5555555555555556,
              "#d8576b"
             ],
             [
              0.6666666666666666,
              "#ed7953"
             ],
             [
              0.7777777777777778,
              "#fb9f3a"
             ],
             [
              0.8888888888888888,
              "#fdca26"
             ],
             [
              1,
              "#f0f921"
             ]
            ],
            "type": "heatmap"
           }
          ],
          "heatmapgl": [
           {
            "colorbar": {
             "outlinewidth": 0,
             "ticks": ""
            },
            "colorscale": [
             [
              0,
              "#0d0887"
             ],
             [
              0.1111111111111111,
              "#46039f"
             ],
             [
              0.2222222222222222,
              "#7201a8"
             ],
             [
              0.3333333333333333,
              "#9c179e"
             ],
             [
              0.4444444444444444,
              "#bd3786"
             ],
             [
              0.5555555555555556,
              "#d8576b"
             ],
             [
              0.6666666666666666,
              "#ed7953"
             ],
             [
              0.7777777777777778,
              "#fb9f3a"
             ],
             [
              0.8888888888888888,
              "#fdca26"
             ],
             [
              1,
              "#f0f921"
             ]
            ],
            "type": "heatmapgl"
           }
          ],
          "histogram": [
           {
            "marker": {
             "pattern": {
              "fillmode": "overlay",
              "size": 10,
              "solidity": 0.2
             }
            },
            "type": "histogram"
           }
          ],
          "histogram2d": [
           {
            "colorbar": {
             "outlinewidth": 0,
             "ticks": ""
            },
            "colorscale": [
             [
              0,
              "#0d0887"
             ],
             [
              0.1111111111111111,
              "#46039f"
             ],
             [
              0.2222222222222222,
              "#7201a8"
             ],
             [
              0.3333333333333333,
              "#9c179e"
             ],
             [
              0.4444444444444444,
              "#bd3786"
             ],
             [
              0.5555555555555556,
              "#d8576b"
             ],
             [
              0.6666666666666666,
              "#ed7953"
             ],
             [
              0.7777777777777778,
              "#fb9f3a"
             ],
             [
              0.8888888888888888,
              "#fdca26"
             ],
             [
              1,
              "#f0f921"
             ]
            ],
            "type": "histogram2d"
           }
          ],
          "histogram2dcontour": [
           {
            "colorbar": {
             "outlinewidth": 0,
             "ticks": ""
            },
            "colorscale": [
             [
              0,
              "#0d0887"
             ],
             [
              0.1111111111111111,
              "#46039f"
             ],
             [
              0.2222222222222222,
              "#7201a8"
             ],
             [
              0.3333333333333333,
              "#9c179e"
             ],
             [
              0.4444444444444444,
              "#bd3786"
             ],
             [
              0.5555555555555556,
              "#d8576b"
             ],
             [
              0.6666666666666666,
              "#ed7953"
             ],
             [
              0.7777777777777778,
              "#fb9f3a"
             ],
             [
              0.8888888888888888,
              "#fdca26"
             ],
             [
              1,
              "#f0f921"
             ]
            ],
            "type": "histogram2dcontour"
           }
          ],
          "mesh3d": [
           {
            "colorbar": {
             "outlinewidth": 0,
             "ticks": ""
            },
            "type": "mesh3d"
           }
          ],
          "parcoords": [
           {
            "line": {
             "colorbar": {
              "outlinewidth": 0,
              "ticks": ""
             }
            },
            "type": "parcoords"
           }
          ],
          "pie": [
           {
            "automargin": true,
            "type": "pie"
           }
          ],
          "scatter": [
           {
            "marker": {
             "colorbar": {
              "outlinewidth": 0,
              "ticks": ""
             }
            },
            "type": "scatter"
           }
          ],
          "scatter3d": [
           {
            "line": {
             "colorbar": {
              "outlinewidth": 0,
              "ticks": ""
             }
            },
            "marker": {
             "colorbar": {
              "outlinewidth": 0,
              "ticks": ""
             }
            },
            "type": "scatter3d"
           }
          ],
          "scattercarpet": [
           {
            "marker": {
             "colorbar": {
              "outlinewidth": 0,
              "ticks": ""
             }
            },
            "type": "scattercarpet"
           }
          ],
          "scattergeo": [
           {
            "marker": {
             "colorbar": {
              "outlinewidth": 0,
              "ticks": ""
             }
            },
            "type": "scattergeo"
           }
          ],
          "scattergl": [
           {
            "marker": {
             "colorbar": {
              "outlinewidth": 0,
              "ticks": ""
             }
            },
            "type": "scattergl"
           }
          ],
          "scattermapbox": [
           {
            "marker": {
             "colorbar": {
              "outlinewidth": 0,
              "ticks": ""
             }
            },
            "type": "scattermapbox"
           }
          ],
          "scatterpolar": [
           {
            "marker": {
             "colorbar": {
              "outlinewidth": 0,
              "ticks": ""
             }
            },
            "type": "scatterpolar"
           }
          ],
          "scatterpolargl": [
           {
            "marker": {
             "colorbar": {
              "outlinewidth": 0,
              "ticks": ""
             }
            },
            "type": "scatterpolargl"
           }
          ],
          "scatterternary": [
           {
            "marker": {
             "colorbar": {
              "outlinewidth": 0,
              "ticks": ""
             }
            },
            "type": "scatterternary"
           }
          ],
          "surface": [
           {
            "colorbar": {
             "outlinewidth": 0,
             "ticks": ""
            },
            "colorscale": [
             [
              0,
              "#0d0887"
             ],
             [
              0.1111111111111111,
              "#46039f"
             ],
             [
              0.2222222222222222,
              "#7201a8"
             ],
             [
              0.3333333333333333,
              "#9c179e"
             ],
             [
              0.4444444444444444,
              "#bd3786"
             ],
             [
              0.5555555555555556,
              "#d8576b"
             ],
             [
              0.6666666666666666,
              "#ed7953"
             ],
             [
              0.7777777777777778,
              "#fb9f3a"
             ],
             [
              0.8888888888888888,
              "#fdca26"
             ],
             [
              1,
              "#f0f921"
             ]
            ],
            "type": "surface"
           }
          ],
          "table": [
           {
            "cells": {
             "fill": {
              "color": "#EBF0F8"
             },
             "line": {
              "color": "white"
             }
            },
            "header": {
             "fill": {
              "color": "#C8D4E3"
             },
             "line": {
              "color": "white"
             }
            },
            "type": "table"
           }
          ]
         },
         "layout": {
          "annotationdefaults": {
           "arrowcolor": "#2a3f5f",
           "arrowhead": 0,
           "arrowwidth": 1
          },
          "autotypenumbers": "strict",
          "coloraxis": {
           "colorbar": {
            "outlinewidth": 0,
            "ticks": ""
           }
          },
          "colorscale": {
           "diverging": [
            [
             0,
             "#8e0152"
            ],
            [
             0.1,
             "#c51b7d"
            ],
            [
             0.2,
             "#de77ae"
            ],
            [
             0.3,
             "#f1b6da"
            ],
            [
             0.4,
             "#fde0ef"
            ],
            [
             0.5,
             "#f7f7f7"
            ],
            [
             0.6,
             "#e6f5d0"
            ],
            [
             0.7,
             "#b8e186"
            ],
            [
             0.8,
             "#7fbc41"
            ],
            [
             0.9,
             "#4d9221"
            ],
            [
             1,
             "#276419"
            ]
           ],
           "sequential": [
            [
             0,
             "#0d0887"
            ],
            [
             0.1111111111111111,
             "#46039f"
            ],
            [
             0.2222222222222222,
             "#7201a8"
            ],
            [
             0.3333333333333333,
             "#9c179e"
            ],
            [
             0.4444444444444444,
             "#bd3786"
            ],
            [
             0.5555555555555556,
             "#d8576b"
            ],
            [
             0.6666666666666666,
             "#ed7953"
            ],
            [
             0.7777777777777778,
             "#fb9f3a"
            ],
            [
             0.8888888888888888,
             "#fdca26"
            ],
            [
             1,
             "#f0f921"
            ]
           ],
           "sequentialminus": [
            [
             0,
             "#0d0887"
            ],
            [
             0.1111111111111111,
             "#46039f"
            ],
            [
             0.2222222222222222,
             "#7201a8"
            ],
            [
             0.3333333333333333,
             "#9c179e"
            ],
            [
             0.4444444444444444,
             "#bd3786"
            ],
            [
             0.5555555555555556,
             "#d8576b"
            ],
            [
             0.6666666666666666,
             "#ed7953"
            ],
            [
             0.7777777777777778,
             "#fb9f3a"
            ],
            [
             0.8888888888888888,
             "#fdca26"
            ],
            [
             1,
             "#f0f921"
            ]
           ]
          },
          "colorway": [
           "#636efa",
           "#EF553B",
           "#00cc96",
           "#ab63fa",
           "#FFA15A",
           "#19d3f3",
           "#FF6692",
           "#B6E880",
           "#FF97FF",
           "#FECB52"
          ],
          "font": {
           "color": "#2a3f5f"
          },
          "geo": {
           "bgcolor": "white",
           "lakecolor": "white",
           "landcolor": "#E5ECF6",
           "showlakes": true,
           "showland": true,
           "subunitcolor": "white"
          },
          "hoverlabel": {
           "align": "left"
          },
          "hovermode": "closest",
          "mapbox": {
           "style": "light"
          },
          "paper_bgcolor": "white",
          "plot_bgcolor": "#E5ECF6",
          "polar": {
           "angularaxis": {
            "gridcolor": "white",
            "linecolor": "white",
            "ticks": ""
           },
           "bgcolor": "#E5ECF6",
           "radialaxis": {
            "gridcolor": "white",
            "linecolor": "white",
            "ticks": ""
           }
          },
          "scene": {
           "xaxis": {
            "backgroundcolor": "#E5ECF6",
            "gridcolor": "white",
            "gridwidth": 2,
            "linecolor": "white",
            "showbackground": true,
            "ticks": "",
            "zerolinecolor": "white"
           },
           "yaxis": {
            "backgroundcolor": "#E5ECF6",
            "gridcolor": "white",
            "gridwidth": 2,
            "linecolor": "white",
            "showbackground": true,
            "ticks": "",
            "zerolinecolor": "white"
           },
           "zaxis": {
            "backgroundcolor": "#E5ECF6",
            "gridcolor": "white",
            "gridwidth": 2,
            "linecolor": "white",
            "showbackground": true,
            "ticks": "",
            "zerolinecolor": "white"
           }
          },
          "shapedefaults": {
           "line": {
            "color": "#2a3f5f"
           }
          },
          "ternary": {
           "aaxis": {
            "gridcolor": "white",
            "linecolor": "white",
            "ticks": ""
           },
           "baxis": {
            "gridcolor": "white",
            "linecolor": "white",
            "ticks": ""
           },
           "bgcolor": "#E5ECF6",
           "caxis": {
            "gridcolor": "white",
            "linecolor": "white",
            "ticks": ""
           }
          },
          "title": {
           "x": 0.05
          },
          "xaxis": {
           "automargin": true,
           "gridcolor": "white",
           "linecolor": "white",
           "ticks": "",
           "title": {
            "standoff": 15
           },
           "zerolinecolor": "white",
           "zerolinewidth": 2
          },
          "yaxis": {
           "automargin": true,
           "gridcolor": "white",
           "linecolor": "white",
           "ticks": "",
           "title": {
            "standoff": 15
           },
           "zerolinecolor": "white",
           "zerolinewidth": 2
          }
         }
        },
        "xaxis": {
         "anchor": "y",
         "domain": [
          0,
          1
         ],
         "title": {
          "text": "x"
         }
        },
        "yaxis": {
         "anchor": "x",
         "domain": [
          0,
          1
         ],
         "title": {
          "text": "y"
         }
        }
       }
      },
      "text/html": [
       "<div>                            <div id=\"2992d507-e4a8-4b9d-9a02-65383a1c6666\" class=\"plotly-graph-div\" style=\"height:525px; width:100%;\"></div>            <script type=\"text/javascript\">                require([\"plotly\"], function(Plotly) {                    window.PLOTLYENV=window.PLOTLYENV || {};                                    if (document.getElementById(\"2992d507-e4a8-4b9d-9a02-65383a1c6666\")) {                    Plotly.newPlot(                        \"2992d507-e4a8-4b9d-9a02-65383a1c6666\",                        [{\"hovertemplate\":\"x=%{x}<br>y=%{y}<extra></extra>\",\"legendgroup\":\"\",\"marker\":{\"color\":\"#636efa\",\"symbol\":\"circle\"},\"mode\":\"markers\",\"name\":\"\",\"orientation\":\"v\",\"showlegend\":false,\"type\":\"scatter\",\"x\":[1,2,3,4,5,6,7,8,9,10,11,12,13,14,15,16,17,18,19,20,21,22,23,24,25,26,27,28,29,30],\"xaxis\":\"x\",\"y\":[0.49252336448598133,0.47289719626168225,0.5242990654205607,0.5439252336448598,0.5495327102803739,0.5532710280373832,0.5598130841121496,0.5514018691588785,0.5514018691588785,0.5570093457943925,0.5598130841121496,0.5579439252336449,0.5504672897196262,0.5542056074766355,0.5588785046728972,0.5551401869158878,0.5598130841121496,0.5560747663551402,0.5476635514018692,0.5588785046728972,0.5532710280373832,0.5560747663551402,0.5495327102803739,0.5523364485981308,0.5504672897196262,0.5448598130841121,0.5485981308411215,0.5429906542056074,0.5457943925233645,0.5457943925233645],\"yaxis\":\"y\"}],                        {\"legend\":{\"tracegroupgap\":0},\"margin\":{\"t\":60},\"template\":{\"data\":{\"bar\":[{\"error_x\":{\"color\":\"#2a3f5f\"},\"error_y\":{\"color\":\"#2a3f5f\"},\"marker\":{\"line\":{\"color\":\"#E5ECF6\",\"width\":0.5},\"pattern\":{\"fillmode\":\"overlay\",\"size\":10,\"solidity\":0.2}},\"type\":\"bar\"}],\"barpolar\":[{\"marker\":{\"line\":{\"color\":\"#E5ECF6\",\"width\":0.5},\"pattern\":{\"fillmode\":\"overlay\",\"size\":10,\"solidity\":0.2}},\"type\":\"barpolar\"}],\"carpet\":[{\"aaxis\":{\"endlinecolor\":\"#2a3f5f\",\"gridcolor\":\"white\",\"linecolor\":\"white\",\"minorgridcolor\":\"white\",\"startlinecolor\":\"#2a3f5f\"},\"baxis\":{\"endlinecolor\":\"#2a3f5f\",\"gridcolor\":\"white\",\"linecolor\":\"white\",\"minorgridcolor\":\"white\",\"startlinecolor\":\"#2a3f5f\"},\"type\":\"carpet\"}],\"choropleth\":[{\"colorbar\":{\"outlinewidth\":0,\"ticks\":\"\"},\"type\":\"choropleth\"}],\"contour\":[{\"colorbar\":{\"outlinewidth\":0,\"ticks\":\"\"},\"colorscale\":[[0.0,\"#0d0887\"],[0.1111111111111111,\"#46039f\"],[0.2222222222222222,\"#7201a8\"],[0.3333333333333333,\"#9c179e\"],[0.4444444444444444,\"#bd3786\"],[0.5555555555555556,\"#d8576b\"],[0.6666666666666666,\"#ed7953\"],[0.7777777777777778,\"#fb9f3a\"],[0.8888888888888888,\"#fdca26\"],[1.0,\"#f0f921\"]],\"type\":\"contour\"}],\"contourcarpet\":[{\"colorbar\":{\"outlinewidth\":0,\"ticks\":\"\"},\"type\":\"contourcarpet\"}],\"heatmap\":[{\"colorbar\":{\"outlinewidth\":0,\"ticks\":\"\"},\"colorscale\":[[0.0,\"#0d0887\"],[0.1111111111111111,\"#46039f\"],[0.2222222222222222,\"#7201a8\"],[0.3333333333333333,\"#9c179e\"],[0.4444444444444444,\"#bd3786\"],[0.5555555555555556,\"#d8576b\"],[0.6666666666666666,\"#ed7953\"],[0.7777777777777778,\"#fb9f3a\"],[0.8888888888888888,\"#fdca26\"],[1.0,\"#f0f921\"]],\"type\":\"heatmap\"}],\"heatmapgl\":[{\"colorbar\":{\"outlinewidth\":0,\"ticks\":\"\"},\"colorscale\":[[0.0,\"#0d0887\"],[0.1111111111111111,\"#46039f\"],[0.2222222222222222,\"#7201a8\"],[0.3333333333333333,\"#9c179e\"],[0.4444444444444444,\"#bd3786\"],[0.5555555555555556,\"#d8576b\"],[0.6666666666666666,\"#ed7953\"],[0.7777777777777778,\"#fb9f3a\"],[0.8888888888888888,\"#fdca26\"],[1.0,\"#f0f921\"]],\"type\":\"heatmapgl\"}],\"histogram\":[{\"marker\":{\"pattern\":{\"fillmode\":\"overlay\",\"size\":10,\"solidity\":0.2}},\"type\":\"histogram\"}],\"histogram2d\":[{\"colorbar\":{\"outlinewidth\":0,\"ticks\":\"\"},\"colorscale\":[[0.0,\"#0d0887\"],[0.1111111111111111,\"#46039f\"],[0.2222222222222222,\"#7201a8\"],[0.3333333333333333,\"#9c179e\"],[0.4444444444444444,\"#bd3786\"],[0.5555555555555556,\"#d8576b\"],[0.6666666666666666,\"#ed7953\"],[0.7777777777777778,\"#fb9f3a\"],[0.8888888888888888,\"#fdca26\"],[1.0,\"#f0f921\"]],\"type\":\"histogram2d\"}],\"histogram2dcontour\":[{\"colorbar\":{\"outlinewidth\":0,\"ticks\":\"\"},\"colorscale\":[[0.0,\"#0d0887\"],[0.1111111111111111,\"#46039f\"],[0.2222222222222222,\"#7201a8\"],[0.3333333333333333,\"#9c179e\"],[0.4444444444444444,\"#bd3786\"],[0.5555555555555556,\"#d8576b\"],[0.6666666666666666,\"#ed7953\"],[0.7777777777777778,\"#fb9f3a\"],[0.8888888888888888,\"#fdca26\"],[1.0,\"#f0f921\"]],\"type\":\"histogram2dcontour\"}],\"mesh3d\":[{\"colorbar\":{\"outlinewidth\":0,\"ticks\":\"\"},\"type\":\"mesh3d\"}],\"parcoords\":[{\"line\":{\"colorbar\":{\"outlinewidth\":0,\"ticks\":\"\"}},\"type\":\"parcoords\"}],\"pie\":[{\"automargin\":true,\"type\":\"pie\"}],\"scatter\":[{\"marker\":{\"colorbar\":{\"outlinewidth\":0,\"ticks\":\"\"}},\"type\":\"scatter\"}],\"scatter3d\":[{\"line\":{\"colorbar\":{\"outlinewidth\":0,\"ticks\":\"\"}},\"marker\":{\"colorbar\":{\"outlinewidth\":0,\"ticks\":\"\"}},\"type\":\"scatter3d\"}],\"scattercarpet\":[{\"marker\":{\"colorbar\":{\"outlinewidth\":0,\"ticks\":\"\"}},\"type\":\"scattercarpet\"}],\"scattergeo\":[{\"marker\":{\"colorbar\":{\"outlinewidth\":0,\"ticks\":\"\"}},\"type\":\"scattergeo\"}],\"scattergl\":[{\"marker\":{\"colorbar\":{\"outlinewidth\":0,\"ticks\":\"\"}},\"type\":\"scattergl\"}],\"scattermapbox\":[{\"marker\":{\"colorbar\":{\"outlinewidth\":0,\"ticks\":\"\"}},\"type\":\"scattermapbox\"}],\"scatterpolar\":[{\"marker\":{\"colorbar\":{\"outlinewidth\":0,\"ticks\":\"\"}},\"type\":\"scatterpolar\"}],\"scatterpolargl\":[{\"marker\":{\"colorbar\":{\"outlinewidth\":0,\"ticks\":\"\"}},\"type\":\"scatterpolargl\"}],\"scatterternary\":[{\"marker\":{\"colorbar\":{\"outlinewidth\":0,\"ticks\":\"\"}},\"type\":\"scatterternary\"}],\"surface\":[{\"colorbar\":{\"outlinewidth\":0,\"ticks\":\"\"},\"colorscale\":[[0.0,\"#0d0887\"],[0.1111111111111111,\"#46039f\"],[0.2222222222222222,\"#7201a8\"],[0.3333333333333333,\"#9c179e\"],[0.4444444444444444,\"#bd3786\"],[0.5555555555555556,\"#d8576b\"],[0.6666666666666666,\"#ed7953\"],[0.7777777777777778,\"#fb9f3a\"],[0.8888888888888888,\"#fdca26\"],[1.0,\"#f0f921\"]],\"type\":\"surface\"}],\"table\":[{\"cells\":{\"fill\":{\"color\":\"#EBF0F8\"},\"line\":{\"color\":\"white\"}},\"header\":{\"fill\":{\"color\":\"#C8D4E3\"},\"line\":{\"color\":\"white\"}},\"type\":\"table\"}]},\"layout\":{\"annotationdefaults\":{\"arrowcolor\":\"#2a3f5f\",\"arrowhead\":0,\"arrowwidth\":1},\"autotypenumbers\":\"strict\",\"coloraxis\":{\"colorbar\":{\"outlinewidth\":0,\"ticks\":\"\"}},\"colorscale\":{\"diverging\":[[0,\"#8e0152\"],[0.1,\"#c51b7d\"],[0.2,\"#de77ae\"],[0.3,\"#f1b6da\"],[0.4,\"#fde0ef\"],[0.5,\"#f7f7f7\"],[0.6,\"#e6f5d0\"],[0.7,\"#b8e186\"],[0.8,\"#7fbc41\"],[0.9,\"#4d9221\"],[1,\"#276419\"]],\"sequential\":[[0.0,\"#0d0887\"],[0.1111111111111111,\"#46039f\"],[0.2222222222222222,\"#7201a8\"],[0.3333333333333333,\"#9c179e\"],[0.4444444444444444,\"#bd3786\"],[0.5555555555555556,\"#d8576b\"],[0.6666666666666666,\"#ed7953\"],[0.7777777777777778,\"#fb9f3a\"],[0.8888888888888888,\"#fdca26\"],[1.0,\"#f0f921\"]],\"sequentialminus\":[[0.0,\"#0d0887\"],[0.1111111111111111,\"#46039f\"],[0.2222222222222222,\"#7201a8\"],[0.3333333333333333,\"#9c179e\"],[0.4444444444444444,\"#bd3786\"],[0.5555555555555556,\"#d8576b\"],[0.6666666666666666,\"#ed7953\"],[0.7777777777777778,\"#fb9f3a\"],[0.8888888888888888,\"#fdca26\"],[1.0,\"#f0f921\"]]},\"colorway\":[\"#636efa\",\"#EF553B\",\"#00cc96\",\"#ab63fa\",\"#FFA15A\",\"#19d3f3\",\"#FF6692\",\"#B6E880\",\"#FF97FF\",\"#FECB52\"],\"font\":{\"color\":\"#2a3f5f\"},\"geo\":{\"bgcolor\":\"white\",\"lakecolor\":\"white\",\"landcolor\":\"#E5ECF6\",\"showlakes\":true,\"showland\":true,\"subunitcolor\":\"white\"},\"hoverlabel\":{\"align\":\"left\"},\"hovermode\":\"closest\",\"mapbox\":{\"style\":\"light\"},\"paper_bgcolor\":\"white\",\"plot_bgcolor\":\"#E5ECF6\",\"polar\":{\"angularaxis\":{\"gridcolor\":\"white\",\"linecolor\":\"white\",\"ticks\":\"\"},\"bgcolor\":\"#E5ECF6\",\"radialaxis\":{\"gridcolor\":\"white\",\"linecolor\":\"white\",\"ticks\":\"\"}},\"scene\":{\"xaxis\":{\"backgroundcolor\":\"#E5ECF6\",\"gridcolor\":\"white\",\"gridwidth\":2,\"linecolor\":\"white\",\"showbackground\":true,\"ticks\":\"\",\"zerolinecolor\":\"white\"},\"yaxis\":{\"backgroundcolor\":\"#E5ECF6\",\"gridcolor\":\"white\",\"gridwidth\":2,\"linecolor\":\"white\",\"showbackground\":true,\"ticks\":\"\",\"zerolinecolor\":\"white\"},\"zaxis\":{\"backgroundcolor\":\"#E5ECF6\",\"gridcolor\":\"white\",\"gridwidth\":2,\"linecolor\":\"white\",\"showbackground\":true,\"ticks\":\"\",\"zerolinecolor\":\"white\"}},\"shapedefaults\":{\"line\":{\"color\":\"#2a3f5f\"}},\"ternary\":{\"aaxis\":{\"gridcolor\":\"white\",\"linecolor\":\"white\",\"ticks\":\"\"},\"baxis\":{\"gridcolor\":\"white\",\"linecolor\":\"white\",\"ticks\":\"\"},\"bgcolor\":\"#E5ECF6\",\"caxis\":{\"gridcolor\":\"white\",\"linecolor\":\"white\",\"ticks\":\"\"}},\"title\":{\"x\":0.05},\"xaxis\":{\"automargin\":true,\"gridcolor\":\"white\",\"linecolor\":\"white\",\"ticks\":\"\",\"title\":{\"standoff\":15},\"zerolinecolor\":\"white\",\"zerolinewidth\":2},\"yaxis\":{\"automargin\":true,\"gridcolor\":\"white\",\"linecolor\":\"white\",\"ticks\":\"\",\"title\":{\"standoff\":15},\"zerolinecolor\":\"white\",\"zerolinewidth\":2}}},\"xaxis\":{\"anchor\":\"y\",\"domain\":[0.0,1.0],\"title\":{\"text\":\"x\"}},\"yaxis\":{\"anchor\":\"x\",\"domain\":[0.0,1.0],\"title\":{\"text\":\"y\"}}},                        {\"responsive\": true}                    ).then(function(){\n",
       "                            \n",
       "var gd = document.getElementById('2992d507-e4a8-4b9d-9a02-65383a1c6666');\n",
       "var x = new MutationObserver(function (mutations, observer) {{\n",
       "        var display = window.getComputedStyle(gd).display;\n",
       "        if (!display || display === 'none') {{\n",
       "            console.log([gd, 'removed!']);\n",
       "            Plotly.purge(gd);\n",
       "            observer.disconnect();\n",
       "        }}\n",
       "}});\n",
       "\n",
       "// Listen for the removal of the full notebook cells\n",
       "var notebookContainer = gd.closest('#notebook-container');\n",
       "if (notebookContainer) {{\n",
       "    x.observe(notebookContainer, {childList: true});\n",
       "}}\n",
       "\n",
       "// Listen for the clearing of the current output cell\n",
       "var outputEl = gd.closest('.output');\n",
       "if (outputEl) {{\n",
       "    x.observe(outputEl, {childList: true});\n",
       "}}\n",
       "\n",
       "                        })                };                });            </script>        </div>"
      ]
     },
     "metadata": {},
     "output_type": "display_data"
    }
   ],
   "source": [
    "fig = px.scatter(x=range(1,31), y=accuracies)\n",
    "fig.show()"
   ]
  },
  {
   "cell_type": "code",
   "execution_count": 382,
   "metadata": {},
   "outputs": [
    {
     "data": {
      "application/vnd.plotly.v1+json": {
       "config": {
        "plotlyServerURL": "https://plot.ly"
       },
       "data": [
        {
         "hovertemplate": "x=%{x}<br>y=%{y}<extra></extra>",
         "legendgroup": "",
         "marker": {
          "color": "#636efa",
          "symbol": "circle"
         },
         "mode": "markers",
         "name": "",
         "orientation": "v",
         "showlegend": false,
         "type": "scatter",
         "x": [
          1,
          2,
          3,
          4,
          5,
          6,
          7,
          8,
          9,
          10,
          11,
          12,
          13,
          14,
          15,
          16,
          17,
          18,
          19,
          20,
          21,
          22,
          23,
          24,
          25,
          26,
          27,
          28,
          29,
          30
         ],
         "xaxis": "x",
         "y": [
          0.4446602834790602,
          0.4861034624771216,
          0.49034978020074405,
          0.5115081346569592,
          0.5092818705074321,
          0.5106082151554034,
          0.5168662876339172,
          0.5126217254393769,
          0.5106179591386175,
          0.5123195890369993,
          0.5160525327160376,
          0.5147947195856953,
          0.5101695548885344,
          0.5125799986803025,
          0.5194759580902395,
          0.5081830912268496,
          0.5179231159872787,
          0.5137415935131511,
          0.5018761374086195,
          0.5204817629820907,
          0.5116430213603004,
          0.5131441191885837,
          0.4992949131270775,
          0.5043890860417504,
          0.5085340933639977,
          0.49964487198879354,
          0.5075170454996087,
          0.49649707540070637,
          0.501820651311806,
          0.5005267210708849
         ],
         "yaxis": "y"
        }
       ],
       "layout": {
        "legend": {
         "tracegroupgap": 0
        },
        "margin": {
         "t": 60
        },
        "template": {
         "data": {
          "bar": [
           {
            "error_x": {
             "color": "#2a3f5f"
            },
            "error_y": {
             "color": "#2a3f5f"
            },
            "marker": {
             "line": {
              "color": "#E5ECF6",
              "width": 0.5
             },
             "pattern": {
              "fillmode": "overlay",
              "size": 10,
              "solidity": 0.2
             }
            },
            "type": "bar"
           }
          ],
          "barpolar": [
           {
            "marker": {
             "line": {
              "color": "#E5ECF6",
              "width": 0.5
             },
             "pattern": {
              "fillmode": "overlay",
              "size": 10,
              "solidity": 0.2
             }
            },
            "type": "barpolar"
           }
          ],
          "carpet": [
           {
            "aaxis": {
             "endlinecolor": "#2a3f5f",
             "gridcolor": "white",
             "linecolor": "white",
             "minorgridcolor": "white",
             "startlinecolor": "#2a3f5f"
            },
            "baxis": {
             "endlinecolor": "#2a3f5f",
             "gridcolor": "white",
             "linecolor": "white",
             "minorgridcolor": "white",
             "startlinecolor": "#2a3f5f"
            },
            "type": "carpet"
           }
          ],
          "choropleth": [
           {
            "colorbar": {
             "outlinewidth": 0,
             "ticks": ""
            },
            "type": "choropleth"
           }
          ],
          "contour": [
           {
            "colorbar": {
             "outlinewidth": 0,
             "ticks": ""
            },
            "colorscale": [
             [
              0,
              "#0d0887"
             ],
             [
              0.1111111111111111,
              "#46039f"
             ],
             [
              0.2222222222222222,
              "#7201a8"
             ],
             [
              0.3333333333333333,
              "#9c179e"
             ],
             [
              0.4444444444444444,
              "#bd3786"
             ],
             [
              0.5555555555555556,
              "#d8576b"
             ],
             [
              0.6666666666666666,
              "#ed7953"
             ],
             [
              0.7777777777777778,
              "#fb9f3a"
             ],
             [
              0.8888888888888888,
              "#fdca26"
             ],
             [
              1,
              "#f0f921"
             ]
            ],
            "type": "contour"
           }
          ],
          "contourcarpet": [
           {
            "colorbar": {
             "outlinewidth": 0,
             "ticks": ""
            },
            "type": "contourcarpet"
           }
          ],
          "heatmap": [
           {
            "colorbar": {
             "outlinewidth": 0,
             "ticks": ""
            },
            "colorscale": [
             [
              0,
              "#0d0887"
             ],
             [
              0.1111111111111111,
              "#46039f"
             ],
             [
              0.2222222222222222,
              "#7201a8"
             ],
             [
              0.3333333333333333,
              "#9c179e"
             ],
             [
              0.4444444444444444,
              "#bd3786"
             ],
             [
              0.5555555555555556,
              "#d8576b"
             ],
             [
              0.6666666666666666,
              "#ed7953"
             ],
             [
              0.7777777777777778,
              "#fb9f3a"
             ],
             [
              0.8888888888888888,
              "#fdca26"
             ],
             [
              1,
              "#f0f921"
             ]
            ],
            "type": "heatmap"
           }
          ],
          "heatmapgl": [
           {
            "colorbar": {
             "outlinewidth": 0,
             "ticks": ""
            },
            "colorscale": [
             [
              0,
              "#0d0887"
             ],
             [
              0.1111111111111111,
              "#46039f"
             ],
             [
              0.2222222222222222,
              "#7201a8"
             ],
             [
              0.3333333333333333,
              "#9c179e"
             ],
             [
              0.4444444444444444,
              "#bd3786"
             ],
             [
              0.5555555555555556,
              "#d8576b"
             ],
             [
              0.6666666666666666,
              "#ed7953"
             ],
             [
              0.7777777777777778,
              "#fb9f3a"
             ],
             [
              0.8888888888888888,
              "#fdca26"
             ],
             [
              1,
              "#f0f921"
             ]
            ],
            "type": "heatmapgl"
           }
          ],
          "histogram": [
           {
            "marker": {
             "pattern": {
              "fillmode": "overlay",
              "size": 10,
              "solidity": 0.2
             }
            },
            "type": "histogram"
           }
          ],
          "histogram2d": [
           {
            "colorbar": {
             "outlinewidth": 0,
             "ticks": ""
            },
            "colorscale": [
             [
              0,
              "#0d0887"
             ],
             [
              0.1111111111111111,
              "#46039f"
             ],
             [
              0.2222222222222222,
              "#7201a8"
             ],
             [
              0.3333333333333333,
              "#9c179e"
             ],
             [
              0.4444444444444444,
              "#bd3786"
             ],
             [
              0.5555555555555556,
              "#d8576b"
             ],
             [
              0.6666666666666666,
              "#ed7953"
             ],
             [
              0.7777777777777778,
              "#fb9f3a"
             ],
             [
              0.8888888888888888,
              "#fdca26"
             ],
             [
              1,
              "#f0f921"
             ]
            ],
            "type": "histogram2d"
           }
          ],
          "histogram2dcontour": [
           {
            "colorbar": {
             "outlinewidth": 0,
             "ticks": ""
            },
            "colorscale": [
             [
              0,
              "#0d0887"
             ],
             [
              0.1111111111111111,
              "#46039f"
             ],
             [
              0.2222222222222222,
              "#7201a8"
             ],
             [
              0.3333333333333333,
              "#9c179e"
             ],
             [
              0.4444444444444444,
              "#bd3786"
             ],
             [
              0.5555555555555556,
              "#d8576b"
             ],
             [
              0.6666666666666666,
              "#ed7953"
             ],
             [
              0.7777777777777778,
              "#fb9f3a"
             ],
             [
              0.8888888888888888,
              "#fdca26"
             ],
             [
              1,
              "#f0f921"
             ]
            ],
            "type": "histogram2dcontour"
           }
          ],
          "mesh3d": [
           {
            "colorbar": {
             "outlinewidth": 0,
             "ticks": ""
            },
            "type": "mesh3d"
           }
          ],
          "parcoords": [
           {
            "line": {
             "colorbar": {
              "outlinewidth": 0,
              "ticks": ""
             }
            },
            "type": "parcoords"
           }
          ],
          "pie": [
           {
            "automargin": true,
            "type": "pie"
           }
          ],
          "scatter": [
           {
            "marker": {
             "colorbar": {
              "outlinewidth": 0,
              "ticks": ""
             }
            },
            "type": "scatter"
           }
          ],
          "scatter3d": [
           {
            "line": {
             "colorbar": {
              "outlinewidth": 0,
              "ticks": ""
             }
            },
            "marker": {
             "colorbar": {
              "outlinewidth": 0,
              "ticks": ""
             }
            },
            "type": "scatter3d"
           }
          ],
          "scattercarpet": [
           {
            "marker": {
             "colorbar": {
              "outlinewidth": 0,
              "ticks": ""
             }
            },
            "type": "scattercarpet"
           }
          ],
          "scattergeo": [
           {
            "marker": {
             "colorbar": {
              "outlinewidth": 0,
              "ticks": ""
             }
            },
            "type": "scattergeo"
           }
          ],
          "scattergl": [
           {
            "marker": {
             "colorbar": {
              "outlinewidth": 0,
              "ticks": ""
             }
            },
            "type": "scattergl"
           }
          ],
          "scattermapbox": [
           {
            "marker": {
             "colorbar": {
              "outlinewidth": 0,
              "ticks": ""
             }
            },
            "type": "scattermapbox"
           }
          ],
          "scatterpolar": [
           {
            "marker": {
             "colorbar": {
              "outlinewidth": 0,
              "ticks": ""
             }
            },
            "type": "scatterpolar"
           }
          ],
          "scatterpolargl": [
           {
            "marker": {
             "colorbar": {
              "outlinewidth": 0,
              "ticks": ""
             }
            },
            "type": "scatterpolargl"
           }
          ],
          "scatterternary": [
           {
            "marker": {
             "colorbar": {
              "outlinewidth": 0,
              "ticks": ""
             }
            },
            "type": "scatterternary"
           }
          ],
          "surface": [
           {
            "colorbar": {
             "outlinewidth": 0,
             "ticks": ""
            },
            "colorscale": [
             [
              0,
              "#0d0887"
             ],
             [
              0.1111111111111111,
              "#46039f"
             ],
             [
              0.2222222222222222,
              "#7201a8"
             ],
             [
              0.3333333333333333,
              "#9c179e"
             ],
             [
              0.4444444444444444,
              "#bd3786"
             ],
             [
              0.5555555555555556,
              "#d8576b"
             ],
             [
              0.6666666666666666,
              "#ed7953"
             ],
             [
              0.7777777777777778,
              "#fb9f3a"
             ],
             [
              0.8888888888888888,
              "#fdca26"
             ],
             [
              1,
              "#f0f921"
             ]
            ],
            "type": "surface"
           }
          ],
          "table": [
           {
            "cells": {
             "fill": {
              "color": "#EBF0F8"
             },
             "line": {
              "color": "white"
             }
            },
            "header": {
             "fill": {
              "color": "#C8D4E3"
             },
             "line": {
              "color": "white"
             }
            },
            "type": "table"
           }
          ]
         },
         "layout": {
          "annotationdefaults": {
           "arrowcolor": "#2a3f5f",
           "arrowhead": 0,
           "arrowwidth": 1
          },
          "autotypenumbers": "strict",
          "coloraxis": {
           "colorbar": {
            "outlinewidth": 0,
            "ticks": ""
           }
          },
          "colorscale": {
           "diverging": [
            [
             0,
             "#8e0152"
            ],
            [
             0.1,
             "#c51b7d"
            ],
            [
             0.2,
             "#de77ae"
            ],
            [
             0.3,
             "#f1b6da"
            ],
            [
             0.4,
             "#fde0ef"
            ],
            [
             0.5,
             "#f7f7f7"
            ],
            [
             0.6,
             "#e6f5d0"
            ],
            [
             0.7,
             "#b8e186"
            ],
            [
             0.8,
             "#7fbc41"
            ],
            [
             0.9,
             "#4d9221"
            ],
            [
             1,
             "#276419"
            ]
           ],
           "sequential": [
            [
             0,
             "#0d0887"
            ],
            [
             0.1111111111111111,
             "#46039f"
            ],
            [
             0.2222222222222222,
             "#7201a8"
            ],
            [
             0.3333333333333333,
             "#9c179e"
            ],
            [
             0.4444444444444444,
             "#bd3786"
            ],
            [
             0.5555555555555556,
             "#d8576b"
            ],
            [
             0.6666666666666666,
             "#ed7953"
            ],
            [
             0.7777777777777778,
             "#fb9f3a"
            ],
            [
             0.8888888888888888,
             "#fdca26"
            ],
            [
             1,
             "#f0f921"
            ]
           ],
           "sequentialminus": [
            [
             0,
             "#0d0887"
            ],
            [
             0.1111111111111111,
             "#46039f"
            ],
            [
             0.2222222222222222,
             "#7201a8"
            ],
            [
             0.3333333333333333,
             "#9c179e"
            ],
            [
             0.4444444444444444,
             "#bd3786"
            ],
            [
             0.5555555555555556,
             "#d8576b"
            ],
            [
             0.6666666666666666,
             "#ed7953"
            ],
            [
             0.7777777777777778,
             "#fb9f3a"
            ],
            [
             0.8888888888888888,
             "#fdca26"
            ],
            [
             1,
             "#f0f921"
            ]
           ]
          },
          "colorway": [
           "#636efa",
           "#EF553B",
           "#00cc96",
           "#ab63fa",
           "#FFA15A",
           "#19d3f3",
           "#FF6692",
           "#B6E880",
           "#FF97FF",
           "#FECB52"
          ],
          "font": {
           "color": "#2a3f5f"
          },
          "geo": {
           "bgcolor": "white",
           "lakecolor": "white",
           "landcolor": "#E5ECF6",
           "showlakes": true,
           "showland": true,
           "subunitcolor": "white"
          },
          "hoverlabel": {
           "align": "left"
          },
          "hovermode": "closest",
          "mapbox": {
           "style": "light"
          },
          "paper_bgcolor": "white",
          "plot_bgcolor": "#E5ECF6",
          "polar": {
           "angularaxis": {
            "gridcolor": "white",
            "linecolor": "white",
            "ticks": ""
           },
           "bgcolor": "#E5ECF6",
           "radialaxis": {
            "gridcolor": "white",
            "linecolor": "white",
            "ticks": ""
           }
          },
          "scene": {
           "xaxis": {
            "backgroundcolor": "#E5ECF6",
            "gridcolor": "white",
            "gridwidth": 2,
            "linecolor": "white",
            "showbackground": true,
            "ticks": "",
            "zerolinecolor": "white"
           },
           "yaxis": {
            "backgroundcolor": "#E5ECF6",
            "gridcolor": "white",
            "gridwidth": 2,
            "linecolor": "white",
            "showbackground": true,
            "ticks": "",
            "zerolinecolor": "white"
           },
           "zaxis": {
            "backgroundcolor": "#E5ECF6",
            "gridcolor": "white",
            "gridwidth": 2,
            "linecolor": "white",
            "showbackground": true,
            "ticks": "",
            "zerolinecolor": "white"
           }
          },
          "shapedefaults": {
           "line": {
            "color": "#2a3f5f"
           }
          },
          "ternary": {
           "aaxis": {
            "gridcolor": "white",
            "linecolor": "white",
            "ticks": ""
           },
           "baxis": {
            "gridcolor": "white",
            "linecolor": "white",
            "ticks": ""
           },
           "bgcolor": "#E5ECF6",
           "caxis": {
            "gridcolor": "white",
            "linecolor": "white",
            "ticks": ""
           }
          },
          "title": {
           "x": 0.05
          },
          "xaxis": {
           "automargin": true,
           "gridcolor": "white",
           "linecolor": "white",
           "ticks": "",
           "title": {
            "standoff": 15
           },
           "zerolinecolor": "white",
           "zerolinewidth": 2
          },
          "yaxis": {
           "automargin": true,
           "gridcolor": "white",
           "linecolor": "white",
           "ticks": "",
           "title": {
            "standoff": 15
           },
           "zerolinecolor": "white",
           "zerolinewidth": 2
          }
         }
        },
        "xaxis": {
         "anchor": "y",
         "domain": [
          0,
          1
         ],
         "title": {
          "text": "x"
         }
        },
        "yaxis": {
         "anchor": "x",
         "domain": [
          0,
          1
         ],
         "title": {
          "text": "y"
         }
        }
       }
      },
      "text/html": [
       "<div>                            <div id=\"a74f2c59-c703-4e04-936c-7229951a3432\" class=\"plotly-graph-div\" style=\"height:525px; width:100%;\"></div>            <script type=\"text/javascript\">                require([\"plotly\"], function(Plotly) {                    window.PLOTLYENV=window.PLOTLYENV || {};                                    if (document.getElementById(\"a74f2c59-c703-4e04-936c-7229951a3432\")) {                    Plotly.newPlot(                        \"a74f2c59-c703-4e04-936c-7229951a3432\",                        [{\"hovertemplate\":\"x=%{x}<br>y=%{y}<extra></extra>\",\"legendgroup\":\"\",\"marker\":{\"color\":\"#636efa\",\"symbol\":\"circle\"},\"mode\":\"markers\",\"name\":\"\",\"orientation\":\"v\",\"showlegend\":false,\"type\":\"scatter\",\"x\":[1,2,3,4,5,6,7,8,9,10,11,12,13,14,15,16,17,18,19,20,21,22,23,24,25,26,27,28,29,30],\"xaxis\":\"x\",\"y\":[0.4446602834790602,0.4861034624771216,0.49034978020074405,0.5115081346569592,0.5092818705074321,0.5106082151554034,0.5168662876339172,0.5126217254393769,0.5106179591386175,0.5123195890369993,0.5160525327160376,0.5147947195856953,0.5101695548885344,0.5125799986803025,0.5194759580902395,0.5081830912268496,0.5179231159872787,0.5137415935131511,0.5018761374086195,0.5204817629820907,0.5116430213603004,0.5131441191885837,0.4992949131270775,0.5043890860417504,0.5085340933639977,0.49964487198879354,0.5075170454996087,0.49649707540070637,0.501820651311806,0.5005267210708849],\"yaxis\":\"y\"}],                        {\"legend\":{\"tracegroupgap\":0},\"margin\":{\"t\":60},\"template\":{\"data\":{\"bar\":[{\"error_x\":{\"color\":\"#2a3f5f\"},\"error_y\":{\"color\":\"#2a3f5f\"},\"marker\":{\"line\":{\"color\":\"#E5ECF6\",\"width\":0.5},\"pattern\":{\"fillmode\":\"overlay\",\"size\":10,\"solidity\":0.2}},\"type\":\"bar\"}],\"barpolar\":[{\"marker\":{\"line\":{\"color\":\"#E5ECF6\",\"width\":0.5},\"pattern\":{\"fillmode\":\"overlay\",\"size\":10,\"solidity\":0.2}},\"type\":\"barpolar\"}],\"carpet\":[{\"aaxis\":{\"endlinecolor\":\"#2a3f5f\",\"gridcolor\":\"white\",\"linecolor\":\"white\",\"minorgridcolor\":\"white\",\"startlinecolor\":\"#2a3f5f\"},\"baxis\":{\"endlinecolor\":\"#2a3f5f\",\"gridcolor\":\"white\",\"linecolor\":\"white\",\"minorgridcolor\":\"white\",\"startlinecolor\":\"#2a3f5f\"},\"type\":\"carpet\"}],\"choropleth\":[{\"colorbar\":{\"outlinewidth\":0,\"ticks\":\"\"},\"type\":\"choropleth\"}],\"contour\":[{\"colorbar\":{\"outlinewidth\":0,\"ticks\":\"\"},\"colorscale\":[[0.0,\"#0d0887\"],[0.1111111111111111,\"#46039f\"],[0.2222222222222222,\"#7201a8\"],[0.3333333333333333,\"#9c179e\"],[0.4444444444444444,\"#bd3786\"],[0.5555555555555556,\"#d8576b\"],[0.6666666666666666,\"#ed7953\"],[0.7777777777777778,\"#fb9f3a\"],[0.8888888888888888,\"#fdca26\"],[1.0,\"#f0f921\"]],\"type\":\"contour\"}],\"contourcarpet\":[{\"colorbar\":{\"outlinewidth\":0,\"ticks\":\"\"},\"type\":\"contourcarpet\"}],\"heatmap\":[{\"colorbar\":{\"outlinewidth\":0,\"ticks\":\"\"},\"colorscale\":[[0.0,\"#0d0887\"],[0.1111111111111111,\"#46039f\"],[0.2222222222222222,\"#7201a8\"],[0.3333333333333333,\"#9c179e\"],[0.4444444444444444,\"#bd3786\"],[0.5555555555555556,\"#d8576b\"],[0.6666666666666666,\"#ed7953\"],[0.7777777777777778,\"#fb9f3a\"],[0.8888888888888888,\"#fdca26\"],[1.0,\"#f0f921\"]],\"type\":\"heatmap\"}],\"heatmapgl\":[{\"colorbar\":{\"outlinewidth\":0,\"ticks\":\"\"},\"colorscale\":[[0.0,\"#0d0887\"],[0.1111111111111111,\"#46039f\"],[0.2222222222222222,\"#7201a8\"],[0.3333333333333333,\"#9c179e\"],[0.4444444444444444,\"#bd3786\"],[0.5555555555555556,\"#d8576b\"],[0.6666666666666666,\"#ed7953\"],[0.7777777777777778,\"#fb9f3a\"],[0.8888888888888888,\"#fdca26\"],[1.0,\"#f0f921\"]],\"type\":\"heatmapgl\"}],\"histogram\":[{\"marker\":{\"pattern\":{\"fillmode\":\"overlay\",\"size\":10,\"solidity\":0.2}},\"type\":\"histogram\"}],\"histogram2d\":[{\"colorbar\":{\"outlinewidth\":0,\"ticks\":\"\"},\"colorscale\":[[0.0,\"#0d0887\"],[0.1111111111111111,\"#46039f\"],[0.2222222222222222,\"#7201a8\"],[0.3333333333333333,\"#9c179e\"],[0.4444444444444444,\"#bd3786\"],[0.5555555555555556,\"#d8576b\"],[0.6666666666666666,\"#ed7953\"],[0.7777777777777778,\"#fb9f3a\"],[0.8888888888888888,\"#fdca26\"],[1.0,\"#f0f921\"]],\"type\":\"histogram2d\"}],\"histogram2dcontour\":[{\"colorbar\":{\"outlinewidth\":0,\"ticks\":\"\"},\"colorscale\":[[0.0,\"#0d0887\"],[0.1111111111111111,\"#46039f\"],[0.2222222222222222,\"#7201a8\"],[0.3333333333333333,\"#9c179e\"],[0.4444444444444444,\"#bd3786\"],[0.5555555555555556,\"#d8576b\"],[0.6666666666666666,\"#ed7953\"],[0.7777777777777778,\"#fb9f3a\"],[0.8888888888888888,\"#fdca26\"],[1.0,\"#f0f921\"]],\"type\":\"histogram2dcontour\"}],\"mesh3d\":[{\"colorbar\":{\"outlinewidth\":0,\"ticks\":\"\"},\"type\":\"mesh3d\"}],\"parcoords\":[{\"line\":{\"colorbar\":{\"outlinewidth\":0,\"ticks\":\"\"}},\"type\":\"parcoords\"}],\"pie\":[{\"automargin\":true,\"type\":\"pie\"}],\"scatter\":[{\"marker\":{\"colorbar\":{\"outlinewidth\":0,\"ticks\":\"\"}},\"type\":\"scatter\"}],\"scatter3d\":[{\"line\":{\"colorbar\":{\"outlinewidth\":0,\"ticks\":\"\"}},\"marker\":{\"colorbar\":{\"outlinewidth\":0,\"ticks\":\"\"}},\"type\":\"scatter3d\"}],\"scattercarpet\":[{\"marker\":{\"colorbar\":{\"outlinewidth\":0,\"ticks\":\"\"}},\"type\":\"scattercarpet\"}],\"scattergeo\":[{\"marker\":{\"colorbar\":{\"outlinewidth\":0,\"ticks\":\"\"}},\"type\":\"scattergeo\"}],\"scattergl\":[{\"marker\":{\"colorbar\":{\"outlinewidth\":0,\"ticks\":\"\"}},\"type\":\"scattergl\"}],\"scattermapbox\":[{\"marker\":{\"colorbar\":{\"outlinewidth\":0,\"ticks\":\"\"}},\"type\":\"scattermapbox\"}],\"scatterpolar\":[{\"marker\":{\"colorbar\":{\"outlinewidth\":0,\"ticks\":\"\"}},\"type\":\"scatterpolar\"}],\"scatterpolargl\":[{\"marker\":{\"colorbar\":{\"outlinewidth\":0,\"ticks\":\"\"}},\"type\":\"scatterpolargl\"}],\"scatterternary\":[{\"marker\":{\"colorbar\":{\"outlinewidth\":0,\"ticks\":\"\"}},\"type\":\"scatterternary\"}],\"surface\":[{\"colorbar\":{\"outlinewidth\":0,\"ticks\":\"\"},\"colorscale\":[[0.0,\"#0d0887\"],[0.1111111111111111,\"#46039f\"],[0.2222222222222222,\"#7201a8\"],[0.3333333333333333,\"#9c179e\"],[0.4444444444444444,\"#bd3786\"],[0.5555555555555556,\"#d8576b\"],[0.6666666666666666,\"#ed7953\"],[0.7777777777777778,\"#fb9f3a\"],[0.8888888888888888,\"#fdca26\"],[1.0,\"#f0f921\"]],\"type\":\"surface\"}],\"table\":[{\"cells\":{\"fill\":{\"color\":\"#EBF0F8\"},\"line\":{\"color\":\"white\"}},\"header\":{\"fill\":{\"color\":\"#C8D4E3\"},\"line\":{\"color\":\"white\"}},\"type\":\"table\"}]},\"layout\":{\"annotationdefaults\":{\"arrowcolor\":\"#2a3f5f\",\"arrowhead\":0,\"arrowwidth\":1},\"autotypenumbers\":\"strict\",\"coloraxis\":{\"colorbar\":{\"outlinewidth\":0,\"ticks\":\"\"}},\"colorscale\":{\"diverging\":[[0,\"#8e0152\"],[0.1,\"#c51b7d\"],[0.2,\"#de77ae\"],[0.3,\"#f1b6da\"],[0.4,\"#fde0ef\"],[0.5,\"#f7f7f7\"],[0.6,\"#e6f5d0\"],[0.7,\"#b8e186\"],[0.8,\"#7fbc41\"],[0.9,\"#4d9221\"],[1,\"#276419\"]],\"sequential\":[[0.0,\"#0d0887\"],[0.1111111111111111,\"#46039f\"],[0.2222222222222222,\"#7201a8\"],[0.3333333333333333,\"#9c179e\"],[0.4444444444444444,\"#bd3786\"],[0.5555555555555556,\"#d8576b\"],[0.6666666666666666,\"#ed7953\"],[0.7777777777777778,\"#fb9f3a\"],[0.8888888888888888,\"#fdca26\"],[1.0,\"#f0f921\"]],\"sequentialminus\":[[0.0,\"#0d0887\"],[0.1111111111111111,\"#46039f\"],[0.2222222222222222,\"#7201a8\"],[0.3333333333333333,\"#9c179e\"],[0.4444444444444444,\"#bd3786\"],[0.5555555555555556,\"#d8576b\"],[0.6666666666666666,\"#ed7953\"],[0.7777777777777778,\"#fb9f3a\"],[0.8888888888888888,\"#fdca26\"],[1.0,\"#f0f921\"]]},\"colorway\":[\"#636efa\",\"#EF553B\",\"#00cc96\",\"#ab63fa\",\"#FFA15A\",\"#19d3f3\",\"#FF6692\",\"#B6E880\",\"#FF97FF\",\"#FECB52\"],\"font\":{\"color\":\"#2a3f5f\"},\"geo\":{\"bgcolor\":\"white\",\"lakecolor\":\"white\",\"landcolor\":\"#E5ECF6\",\"showlakes\":true,\"showland\":true,\"subunitcolor\":\"white\"},\"hoverlabel\":{\"align\":\"left\"},\"hovermode\":\"closest\",\"mapbox\":{\"style\":\"light\"},\"paper_bgcolor\":\"white\",\"plot_bgcolor\":\"#E5ECF6\",\"polar\":{\"angularaxis\":{\"gridcolor\":\"white\",\"linecolor\":\"white\",\"ticks\":\"\"},\"bgcolor\":\"#E5ECF6\",\"radialaxis\":{\"gridcolor\":\"white\",\"linecolor\":\"white\",\"ticks\":\"\"}},\"scene\":{\"xaxis\":{\"backgroundcolor\":\"#E5ECF6\",\"gridcolor\":\"white\",\"gridwidth\":2,\"linecolor\":\"white\",\"showbackground\":true,\"ticks\":\"\",\"zerolinecolor\":\"white\"},\"yaxis\":{\"backgroundcolor\":\"#E5ECF6\",\"gridcolor\":\"white\",\"gridwidth\":2,\"linecolor\":\"white\",\"showbackground\":true,\"ticks\":\"\",\"zerolinecolor\":\"white\"},\"zaxis\":{\"backgroundcolor\":\"#E5ECF6\",\"gridcolor\":\"white\",\"gridwidth\":2,\"linecolor\":\"white\",\"showbackground\":true,\"ticks\":\"\",\"zerolinecolor\":\"white\"}},\"shapedefaults\":{\"line\":{\"color\":\"#2a3f5f\"}},\"ternary\":{\"aaxis\":{\"gridcolor\":\"white\",\"linecolor\":\"white\",\"ticks\":\"\"},\"baxis\":{\"gridcolor\":\"white\",\"linecolor\":\"white\",\"ticks\":\"\"},\"bgcolor\":\"#E5ECF6\",\"caxis\":{\"gridcolor\":\"white\",\"linecolor\":\"white\",\"ticks\":\"\"}},\"title\":{\"x\":0.05},\"xaxis\":{\"automargin\":true,\"gridcolor\":\"white\",\"linecolor\":\"white\",\"ticks\":\"\",\"title\":{\"standoff\":15},\"zerolinecolor\":\"white\",\"zerolinewidth\":2},\"yaxis\":{\"automargin\":true,\"gridcolor\":\"white\",\"linecolor\":\"white\",\"ticks\":\"\",\"title\":{\"standoff\":15},\"zerolinecolor\":\"white\",\"zerolinewidth\":2}}},\"xaxis\":{\"anchor\":\"y\",\"domain\":[0.0,1.0],\"title\":{\"text\":\"x\"}},\"yaxis\":{\"anchor\":\"x\",\"domain\":[0.0,1.0],\"title\":{\"text\":\"y\"}}},                        {\"responsive\": true}                    ).then(function(){\n",
       "                            \n",
       "var gd = document.getElementById('a74f2c59-c703-4e04-936c-7229951a3432');\n",
       "var x = new MutationObserver(function (mutations, observer) {{\n",
       "        var display = window.getComputedStyle(gd).display;\n",
       "        if (!display || display === 'none') {{\n",
       "            console.log([gd, 'removed!']);\n",
       "            Plotly.purge(gd);\n",
       "            observer.disconnect();\n",
       "        }}\n",
       "}});\n",
       "\n",
       "// Listen for the removal of the full notebook cells\n",
       "var notebookContainer = gd.closest('#notebook-container');\n",
       "if (notebookContainer) {{\n",
       "    x.observe(notebookContainer, {childList: true});\n",
       "}}\n",
       "\n",
       "// Listen for the clearing of the current output cell\n",
       "var outputEl = gd.closest('.output');\n",
       "if (outputEl) {{\n",
       "    x.observe(outputEl, {childList: true});\n",
       "}}\n",
       "\n",
       "                        })                };                });            </script>        </div>"
      ]
     },
     "metadata": {},
     "output_type": "display_data"
    }
   ],
   "source": [
    "fig = px.scatter(x=range(1,31), y=precisions)\n",
    "fig.show()"
   ]
  },
  {
   "cell_type": "code",
   "execution_count": 383,
   "metadata": {},
   "outputs": [
    {
     "data": {
      "application/vnd.plotly.v1+json": {
       "config": {
        "plotlyServerURL": "https://plot.ly"
       },
       "data": [
        {
         "hovertemplate": "x=%{x}<br>y=%{y}<extra></extra>",
         "legendgroup": "",
         "marker": {
          "color": "#636efa",
          "symbol": "circle"
         },
         "mode": "markers",
         "name": "",
         "orientation": "v",
         "showlegend": false,
         "type": "scatter",
         "x": [
          1,
          2,
          3,
          4,
          5,
          6,
          7,
          8,
          9,
          10,
          11,
          12,
          13,
          14,
          15,
          16,
          17,
          18,
          19,
          20,
          21,
          22,
          23,
          24,
          25,
          26,
          27,
          28,
          29,
          30
         ],
         "xaxis": "x",
         "y": [
          0.4446036727985603,
          0.4521354748817661,
          0.47980020369563664,
          0.5010277011234753,
          0.4986824570842291,
          0.5047256277603317,
          0.511198033487391,
          0.5001319880221533,
          0.498404493422662,
          0.500105002098686,
          0.506168739647436,
          0.5018227109026284,
          0.49619646985553395,
          0.4995299308298891,
          0.5032435380739413,
          0.4966089694613779,
          0.5024140168683521,
          0.49691431813534936,
          0.4878696105854824,
          0.4990586999437929,
          0.49005763073696185,
          0.49280894296769645,
          0.48436793094038894,
          0.4866960054041387,
          0.486150345114019,
          0.4781520675056247,
          0.4831402882555357,
          0.47562434740626147,
          0.4799613967915667,
          0.47863791866395955
         ],
         "yaxis": "y"
        }
       ],
       "layout": {
        "legend": {
         "tracegroupgap": 0
        },
        "margin": {
         "t": 60
        },
        "template": {
         "data": {
          "bar": [
           {
            "error_x": {
             "color": "#2a3f5f"
            },
            "error_y": {
             "color": "#2a3f5f"
            },
            "marker": {
             "line": {
              "color": "#E5ECF6",
              "width": 0.5
             },
             "pattern": {
              "fillmode": "overlay",
              "size": 10,
              "solidity": 0.2
             }
            },
            "type": "bar"
           }
          ],
          "barpolar": [
           {
            "marker": {
             "line": {
              "color": "#E5ECF6",
              "width": 0.5
             },
             "pattern": {
              "fillmode": "overlay",
              "size": 10,
              "solidity": 0.2
             }
            },
            "type": "barpolar"
           }
          ],
          "carpet": [
           {
            "aaxis": {
             "endlinecolor": "#2a3f5f",
             "gridcolor": "white",
             "linecolor": "white",
             "minorgridcolor": "white",
             "startlinecolor": "#2a3f5f"
            },
            "baxis": {
             "endlinecolor": "#2a3f5f",
             "gridcolor": "white",
             "linecolor": "white",
             "minorgridcolor": "white",
             "startlinecolor": "#2a3f5f"
            },
            "type": "carpet"
           }
          ],
          "choropleth": [
           {
            "colorbar": {
             "outlinewidth": 0,
             "ticks": ""
            },
            "type": "choropleth"
           }
          ],
          "contour": [
           {
            "colorbar": {
             "outlinewidth": 0,
             "ticks": ""
            },
            "colorscale": [
             [
              0,
              "#0d0887"
             ],
             [
              0.1111111111111111,
              "#46039f"
             ],
             [
              0.2222222222222222,
              "#7201a8"
             ],
             [
              0.3333333333333333,
              "#9c179e"
             ],
             [
              0.4444444444444444,
              "#bd3786"
             ],
             [
              0.5555555555555556,
              "#d8576b"
             ],
             [
              0.6666666666666666,
              "#ed7953"
             ],
             [
              0.7777777777777778,
              "#fb9f3a"
             ],
             [
              0.8888888888888888,
              "#fdca26"
             ],
             [
              1,
              "#f0f921"
             ]
            ],
            "type": "contour"
           }
          ],
          "contourcarpet": [
           {
            "colorbar": {
             "outlinewidth": 0,
             "ticks": ""
            },
            "type": "contourcarpet"
           }
          ],
          "heatmap": [
           {
            "colorbar": {
             "outlinewidth": 0,
             "ticks": ""
            },
            "colorscale": [
             [
              0,
              "#0d0887"
             ],
             [
              0.1111111111111111,
              "#46039f"
             ],
             [
              0.2222222222222222,
              "#7201a8"
             ],
             [
              0.3333333333333333,
              "#9c179e"
             ],
             [
              0.4444444444444444,
              "#bd3786"
             ],
             [
              0.5555555555555556,
              "#d8576b"
             ],
             [
              0.6666666666666666,
              "#ed7953"
             ],
             [
              0.7777777777777778,
              "#fb9f3a"
             ],
             [
              0.8888888888888888,
              "#fdca26"
             ],
             [
              1,
              "#f0f921"
             ]
            ],
            "type": "heatmap"
           }
          ],
          "heatmapgl": [
           {
            "colorbar": {
             "outlinewidth": 0,
             "ticks": ""
            },
            "colorscale": [
             [
              0,
              "#0d0887"
             ],
             [
              0.1111111111111111,
              "#46039f"
             ],
             [
              0.2222222222222222,
              "#7201a8"
             ],
             [
              0.3333333333333333,
              "#9c179e"
             ],
             [
              0.4444444444444444,
              "#bd3786"
             ],
             [
              0.5555555555555556,
              "#d8576b"
             ],
             [
              0.6666666666666666,
              "#ed7953"
             ],
             [
              0.7777777777777778,
              "#fb9f3a"
             ],
             [
              0.8888888888888888,
              "#fdca26"
             ],
             [
              1,
              "#f0f921"
             ]
            ],
            "type": "heatmapgl"
           }
          ],
          "histogram": [
           {
            "marker": {
             "pattern": {
              "fillmode": "overlay",
              "size": 10,
              "solidity": 0.2
             }
            },
            "type": "histogram"
           }
          ],
          "histogram2d": [
           {
            "colorbar": {
             "outlinewidth": 0,
             "ticks": ""
            },
            "colorscale": [
             [
              0,
              "#0d0887"
             ],
             [
              0.1111111111111111,
              "#46039f"
             ],
             [
              0.2222222222222222,
              "#7201a8"
             ],
             [
              0.3333333333333333,
              "#9c179e"
             ],
             [
              0.4444444444444444,
              "#bd3786"
             ],
             [
              0.5555555555555556,
              "#d8576b"
             ],
             [
              0.6666666666666666,
              "#ed7953"
             ],
             [
              0.7777777777777778,
              "#fb9f3a"
             ],
             [
              0.8888888888888888,
              "#fdca26"
             ],
             [
              1,
              "#f0f921"
             ]
            ],
            "type": "histogram2d"
           }
          ],
          "histogram2dcontour": [
           {
            "colorbar": {
             "outlinewidth": 0,
             "ticks": ""
            },
            "colorscale": [
             [
              0,
              "#0d0887"
             ],
             [
              0.1111111111111111,
              "#46039f"
             ],
             [
              0.2222222222222222,
              "#7201a8"
             ],
             [
              0.3333333333333333,
              "#9c179e"
             ],
             [
              0.4444444444444444,
              "#bd3786"
             ],
             [
              0.5555555555555556,
              "#d8576b"
             ],
             [
              0.6666666666666666,
              "#ed7953"
             ],
             [
              0.7777777777777778,
              "#fb9f3a"
             ],
             [
              0.8888888888888888,
              "#fdca26"
             ],
             [
              1,
              "#f0f921"
             ]
            ],
            "type": "histogram2dcontour"
           }
          ],
          "mesh3d": [
           {
            "colorbar": {
             "outlinewidth": 0,
             "ticks": ""
            },
            "type": "mesh3d"
           }
          ],
          "parcoords": [
           {
            "line": {
             "colorbar": {
              "outlinewidth": 0,
              "ticks": ""
             }
            },
            "type": "parcoords"
           }
          ],
          "pie": [
           {
            "automargin": true,
            "type": "pie"
           }
          ],
          "scatter": [
           {
            "marker": {
             "colorbar": {
              "outlinewidth": 0,
              "ticks": ""
             }
            },
            "type": "scatter"
           }
          ],
          "scatter3d": [
           {
            "line": {
             "colorbar": {
              "outlinewidth": 0,
              "ticks": ""
             }
            },
            "marker": {
             "colorbar": {
              "outlinewidth": 0,
              "ticks": ""
             }
            },
            "type": "scatter3d"
           }
          ],
          "scattercarpet": [
           {
            "marker": {
             "colorbar": {
              "outlinewidth": 0,
              "ticks": ""
             }
            },
            "type": "scattercarpet"
           }
          ],
          "scattergeo": [
           {
            "marker": {
             "colorbar": {
              "outlinewidth": 0,
              "ticks": ""
             }
            },
            "type": "scattergeo"
           }
          ],
          "scattergl": [
           {
            "marker": {
             "colorbar": {
              "outlinewidth": 0,
              "ticks": ""
             }
            },
            "type": "scattergl"
           }
          ],
          "scattermapbox": [
           {
            "marker": {
             "colorbar": {
              "outlinewidth": 0,
              "ticks": ""
             }
            },
            "type": "scattermapbox"
           }
          ],
          "scatterpolar": [
           {
            "marker": {
             "colorbar": {
              "outlinewidth": 0,
              "ticks": ""
             }
            },
            "type": "scatterpolar"
           }
          ],
          "scatterpolargl": [
           {
            "marker": {
             "colorbar": {
              "outlinewidth": 0,
              "ticks": ""
             }
            },
            "type": "scatterpolargl"
           }
          ],
          "scatterternary": [
           {
            "marker": {
             "colorbar": {
              "outlinewidth": 0,
              "ticks": ""
             }
            },
            "type": "scatterternary"
           }
          ],
          "surface": [
           {
            "colorbar": {
             "outlinewidth": 0,
             "ticks": ""
            },
            "colorscale": [
             [
              0,
              "#0d0887"
             ],
             [
              0.1111111111111111,
              "#46039f"
             ],
             [
              0.2222222222222222,
              "#7201a8"
             ],
             [
              0.3333333333333333,
              "#9c179e"
             ],
             [
              0.4444444444444444,
              "#bd3786"
             ],
             [
              0.5555555555555556,
              "#d8576b"
             ],
             [
              0.6666666666666666,
              "#ed7953"
             ],
             [
              0.7777777777777778,
              "#fb9f3a"
             ],
             [
              0.8888888888888888,
              "#fdca26"
             ],
             [
              1,
              "#f0f921"
             ]
            ],
            "type": "surface"
           }
          ],
          "table": [
           {
            "cells": {
             "fill": {
              "color": "#EBF0F8"
             },
             "line": {
              "color": "white"
             }
            },
            "header": {
             "fill": {
              "color": "#C8D4E3"
             },
             "line": {
              "color": "white"
             }
            },
            "type": "table"
           }
          ]
         },
         "layout": {
          "annotationdefaults": {
           "arrowcolor": "#2a3f5f",
           "arrowhead": 0,
           "arrowwidth": 1
          },
          "autotypenumbers": "strict",
          "coloraxis": {
           "colorbar": {
            "outlinewidth": 0,
            "ticks": ""
           }
          },
          "colorscale": {
           "diverging": [
            [
             0,
             "#8e0152"
            ],
            [
             0.1,
             "#c51b7d"
            ],
            [
             0.2,
             "#de77ae"
            ],
            [
             0.3,
             "#f1b6da"
            ],
            [
             0.4,
             "#fde0ef"
            ],
            [
             0.5,
             "#f7f7f7"
            ],
            [
             0.6,
             "#e6f5d0"
            ],
            [
             0.7,
             "#b8e186"
            ],
            [
             0.8,
             "#7fbc41"
            ],
            [
             0.9,
             "#4d9221"
            ],
            [
             1,
             "#276419"
            ]
           ],
           "sequential": [
            [
             0,
             "#0d0887"
            ],
            [
             0.1111111111111111,
             "#46039f"
            ],
            [
             0.2222222222222222,
             "#7201a8"
            ],
            [
             0.3333333333333333,
             "#9c179e"
            ],
            [
             0.4444444444444444,
             "#bd3786"
            ],
            [
             0.5555555555555556,
             "#d8576b"
            ],
            [
             0.6666666666666666,
             "#ed7953"
            ],
            [
             0.7777777777777778,
             "#fb9f3a"
            ],
            [
             0.8888888888888888,
             "#fdca26"
            ],
            [
             1,
             "#f0f921"
            ]
           ],
           "sequentialminus": [
            [
             0,
             "#0d0887"
            ],
            [
             0.1111111111111111,
             "#46039f"
            ],
            [
             0.2222222222222222,
             "#7201a8"
            ],
            [
             0.3333333333333333,
             "#9c179e"
            ],
            [
             0.4444444444444444,
             "#bd3786"
            ],
            [
             0.5555555555555556,
             "#d8576b"
            ],
            [
             0.6666666666666666,
             "#ed7953"
            ],
            [
             0.7777777777777778,
             "#fb9f3a"
            ],
            [
             0.8888888888888888,
             "#fdca26"
            ],
            [
             1,
             "#f0f921"
            ]
           ]
          },
          "colorway": [
           "#636efa",
           "#EF553B",
           "#00cc96",
           "#ab63fa",
           "#FFA15A",
           "#19d3f3",
           "#FF6692",
           "#B6E880",
           "#FF97FF",
           "#FECB52"
          ],
          "font": {
           "color": "#2a3f5f"
          },
          "geo": {
           "bgcolor": "white",
           "lakecolor": "white",
           "landcolor": "#E5ECF6",
           "showlakes": true,
           "showland": true,
           "subunitcolor": "white"
          },
          "hoverlabel": {
           "align": "left"
          },
          "hovermode": "closest",
          "mapbox": {
           "style": "light"
          },
          "paper_bgcolor": "white",
          "plot_bgcolor": "#E5ECF6",
          "polar": {
           "angularaxis": {
            "gridcolor": "white",
            "linecolor": "white",
            "ticks": ""
           },
           "bgcolor": "#E5ECF6",
           "radialaxis": {
            "gridcolor": "white",
            "linecolor": "white",
            "ticks": ""
           }
          },
          "scene": {
           "xaxis": {
            "backgroundcolor": "#E5ECF6",
            "gridcolor": "white",
            "gridwidth": 2,
            "linecolor": "white",
            "showbackground": true,
            "ticks": "",
            "zerolinecolor": "white"
           },
           "yaxis": {
            "backgroundcolor": "#E5ECF6",
            "gridcolor": "white",
            "gridwidth": 2,
            "linecolor": "white",
            "showbackground": true,
            "ticks": "",
            "zerolinecolor": "white"
           },
           "zaxis": {
            "backgroundcolor": "#E5ECF6",
            "gridcolor": "white",
            "gridwidth": 2,
            "linecolor": "white",
            "showbackground": true,
            "ticks": "",
            "zerolinecolor": "white"
           }
          },
          "shapedefaults": {
           "line": {
            "color": "#2a3f5f"
           }
          },
          "ternary": {
           "aaxis": {
            "gridcolor": "white",
            "linecolor": "white",
            "ticks": ""
           },
           "baxis": {
            "gridcolor": "white",
            "linecolor": "white",
            "ticks": ""
           },
           "bgcolor": "#E5ECF6",
           "caxis": {
            "gridcolor": "white",
            "linecolor": "white",
            "ticks": ""
           }
          },
          "title": {
           "x": 0.05
          },
          "xaxis": {
           "automargin": true,
           "gridcolor": "white",
           "linecolor": "white",
           "ticks": "",
           "title": {
            "standoff": 15
           },
           "zerolinecolor": "white",
           "zerolinewidth": 2
          },
          "yaxis": {
           "automargin": true,
           "gridcolor": "white",
           "linecolor": "white",
           "ticks": "",
           "title": {
            "standoff": 15
           },
           "zerolinecolor": "white",
           "zerolinewidth": 2
          }
         }
        },
        "xaxis": {
         "anchor": "y",
         "domain": [
          0,
          1
         ],
         "title": {
          "text": "x"
         }
        },
        "yaxis": {
         "anchor": "x",
         "domain": [
          0,
          1
         ],
         "title": {
          "text": "y"
         }
        }
       }
      },
      "text/html": [
       "<div>                            <div id=\"1359484c-82a7-45b7-b1e9-4d797f9cee16\" class=\"plotly-graph-div\" style=\"height:525px; width:100%;\"></div>            <script type=\"text/javascript\">                require([\"plotly\"], function(Plotly) {                    window.PLOTLYENV=window.PLOTLYENV || {};                                    if (document.getElementById(\"1359484c-82a7-45b7-b1e9-4d797f9cee16\")) {                    Plotly.newPlot(                        \"1359484c-82a7-45b7-b1e9-4d797f9cee16\",                        [{\"hovertemplate\":\"x=%{x}<br>y=%{y}<extra></extra>\",\"legendgroup\":\"\",\"marker\":{\"color\":\"#636efa\",\"symbol\":\"circle\"},\"mode\":\"markers\",\"name\":\"\",\"orientation\":\"v\",\"showlegend\":false,\"type\":\"scatter\",\"x\":[1,2,3,4,5,6,7,8,9,10,11,12,13,14,15,16,17,18,19,20,21,22,23,24,25,26,27,28,29,30],\"xaxis\":\"x\",\"y\":[0.4446036727985603,0.4521354748817661,0.47980020369563664,0.5010277011234753,0.4986824570842291,0.5047256277603317,0.511198033487391,0.5001319880221533,0.498404493422662,0.500105002098686,0.506168739647436,0.5018227109026284,0.49619646985553395,0.4995299308298891,0.5032435380739413,0.4966089694613779,0.5024140168683521,0.49691431813534936,0.4878696105854824,0.4990586999437929,0.49005763073696185,0.49280894296769645,0.48436793094038894,0.4866960054041387,0.486150345114019,0.4781520675056247,0.4831402882555357,0.47562434740626147,0.4799613967915667,0.47863791866395955],\"yaxis\":\"y\"}],                        {\"legend\":{\"tracegroupgap\":0},\"margin\":{\"t\":60},\"template\":{\"data\":{\"bar\":[{\"error_x\":{\"color\":\"#2a3f5f\"},\"error_y\":{\"color\":\"#2a3f5f\"},\"marker\":{\"line\":{\"color\":\"#E5ECF6\",\"width\":0.5},\"pattern\":{\"fillmode\":\"overlay\",\"size\":10,\"solidity\":0.2}},\"type\":\"bar\"}],\"barpolar\":[{\"marker\":{\"line\":{\"color\":\"#E5ECF6\",\"width\":0.5},\"pattern\":{\"fillmode\":\"overlay\",\"size\":10,\"solidity\":0.2}},\"type\":\"barpolar\"}],\"carpet\":[{\"aaxis\":{\"endlinecolor\":\"#2a3f5f\",\"gridcolor\":\"white\",\"linecolor\":\"white\",\"minorgridcolor\":\"white\",\"startlinecolor\":\"#2a3f5f\"},\"baxis\":{\"endlinecolor\":\"#2a3f5f\",\"gridcolor\":\"white\",\"linecolor\":\"white\",\"minorgridcolor\":\"white\",\"startlinecolor\":\"#2a3f5f\"},\"type\":\"carpet\"}],\"choropleth\":[{\"colorbar\":{\"outlinewidth\":0,\"ticks\":\"\"},\"type\":\"choropleth\"}],\"contour\":[{\"colorbar\":{\"outlinewidth\":0,\"ticks\":\"\"},\"colorscale\":[[0.0,\"#0d0887\"],[0.1111111111111111,\"#46039f\"],[0.2222222222222222,\"#7201a8\"],[0.3333333333333333,\"#9c179e\"],[0.4444444444444444,\"#bd3786\"],[0.5555555555555556,\"#d8576b\"],[0.6666666666666666,\"#ed7953\"],[0.7777777777777778,\"#fb9f3a\"],[0.8888888888888888,\"#fdca26\"],[1.0,\"#f0f921\"]],\"type\":\"contour\"}],\"contourcarpet\":[{\"colorbar\":{\"outlinewidth\":0,\"ticks\":\"\"},\"type\":\"contourcarpet\"}],\"heatmap\":[{\"colorbar\":{\"outlinewidth\":0,\"ticks\":\"\"},\"colorscale\":[[0.0,\"#0d0887\"],[0.1111111111111111,\"#46039f\"],[0.2222222222222222,\"#7201a8\"],[0.3333333333333333,\"#9c179e\"],[0.4444444444444444,\"#bd3786\"],[0.5555555555555556,\"#d8576b\"],[0.6666666666666666,\"#ed7953\"],[0.7777777777777778,\"#fb9f3a\"],[0.8888888888888888,\"#fdca26\"],[1.0,\"#f0f921\"]],\"type\":\"heatmap\"}],\"heatmapgl\":[{\"colorbar\":{\"outlinewidth\":0,\"ticks\":\"\"},\"colorscale\":[[0.0,\"#0d0887\"],[0.1111111111111111,\"#46039f\"],[0.2222222222222222,\"#7201a8\"],[0.3333333333333333,\"#9c179e\"],[0.4444444444444444,\"#bd3786\"],[0.5555555555555556,\"#d8576b\"],[0.6666666666666666,\"#ed7953\"],[0.7777777777777778,\"#fb9f3a\"],[0.8888888888888888,\"#fdca26\"],[1.0,\"#f0f921\"]],\"type\":\"heatmapgl\"}],\"histogram\":[{\"marker\":{\"pattern\":{\"fillmode\":\"overlay\",\"size\":10,\"solidity\":0.2}},\"type\":\"histogram\"}],\"histogram2d\":[{\"colorbar\":{\"outlinewidth\":0,\"ticks\":\"\"},\"colorscale\":[[0.0,\"#0d0887\"],[0.1111111111111111,\"#46039f\"],[0.2222222222222222,\"#7201a8\"],[0.3333333333333333,\"#9c179e\"],[0.4444444444444444,\"#bd3786\"],[0.5555555555555556,\"#d8576b\"],[0.6666666666666666,\"#ed7953\"],[0.7777777777777778,\"#fb9f3a\"],[0.8888888888888888,\"#fdca26\"],[1.0,\"#f0f921\"]],\"type\":\"histogram2d\"}],\"histogram2dcontour\":[{\"colorbar\":{\"outlinewidth\":0,\"ticks\":\"\"},\"colorscale\":[[0.0,\"#0d0887\"],[0.1111111111111111,\"#46039f\"],[0.2222222222222222,\"#7201a8\"],[0.3333333333333333,\"#9c179e\"],[0.4444444444444444,\"#bd3786\"],[0.5555555555555556,\"#d8576b\"],[0.6666666666666666,\"#ed7953\"],[0.7777777777777778,\"#fb9f3a\"],[0.8888888888888888,\"#fdca26\"],[1.0,\"#f0f921\"]],\"type\":\"histogram2dcontour\"}],\"mesh3d\":[{\"colorbar\":{\"outlinewidth\":0,\"ticks\":\"\"},\"type\":\"mesh3d\"}],\"parcoords\":[{\"line\":{\"colorbar\":{\"outlinewidth\":0,\"ticks\":\"\"}},\"type\":\"parcoords\"}],\"pie\":[{\"automargin\":true,\"type\":\"pie\"}],\"scatter\":[{\"marker\":{\"colorbar\":{\"outlinewidth\":0,\"ticks\":\"\"}},\"type\":\"scatter\"}],\"scatter3d\":[{\"line\":{\"colorbar\":{\"outlinewidth\":0,\"ticks\":\"\"}},\"marker\":{\"colorbar\":{\"outlinewidth\":0,\"ticks\":\"\"}},\"type\":\"scatter3d\"}],\"scattercarpet\":[{\"marker\":{\"colorbar\":{\"outlinewidth\":0,\"ticks\":\"\"}},\"type\":\"scattercarpet\"}],\"scattergeo\":[{\"marker\":{\"colorbar\":{\"outlinewidth\":0,\"ticks\":\"\"}},\"type\":\"scattergeo\"}],\"scattergl\":[{\"marker\":{\"colorbar\":{\"outlinewidth\":0,\"ticks\":\"\"}},\"type\":\"scattergl\"}],\"scattermapbox\":[{\"marker\":{\"colorbar\":{\"outlinewidth\":0,\"ticks\":\"\"}},\"type\":\"scattermapbox\"}],\"scatterpolar\":[{\"marker\":{\"colorbar\":{\"outlinewidth\":0,\"ticks\":\"\"}},\"type\":\"scatterpolar\"}],\"scatterpolargl\":[{\"marker\":{\"colorbar\":{\"outlinewidth\":0,\"ticks\":\"\"}},\"type\":\"scatterpolargl\"}],\"scatterternary\":[{\"marker\":{\"colorbar\":{\"outlinewidth\":0,\"ticks\":\"\"}},\"type\":\"scatterternary\"}],\"surface\":[{\"colorbar\":{\"outlinewidth\":0,\"ticks\":\"\"},\"colorscale\":[[0.0,\"#0d0887\"],[0.1111111111111111,\"#46039f\"],[0.2222222222222222,\"#7201a8\"],[0.3333333333333333,\"#9c179e\"],[0.4444444444444444,\"#bd3786\"],[0.5555555555555556,\"#d8576b\"],[0.6666666666666666,\"#ed7953\"],[0.7777777777777778,\"#fb9f3a\"],[0.8888888888888888,\"#fdca26\"],[1.0,\"#f0f921\"]],\"type\":\"surface\"}],\"table\":[{\"cells\":{\"fill\":{\"color\":\"#EBF0F8\"},\"line\":{\"color\":\"white\"}},\"header\":{\"fill\":{\"color\":\"#C8D4E3\"},\"line\":{\"color\":\"white\"}},\"type\":\"table\"}]},\"layout\":{\"annotationdefaults\":{\"arrowcolor\":\"#2a3f5f\",\"arrowhead\":0,\"arrowwidth\":1},\"autotypenumbers\":\"strict\",\"coloraxis\":{\"colorbar\":{\"outlinewidth\":0,\"ticks\":\"\"}},\"colorscale\":{\"diverging\":[[0,\"#8e0152\"],[0.1,\"#c51b7d\"],[0.2,\"#de77ae\"],[0.3,\"#f1b6da\"],[0.4,\"#fde0ef\"],[0.5,\"#f7f7f7\"],[0.6,\"#e6f5d0\"],[0.7,\"#b8e186\"],[0.8,\"#7fbc41\"],[0.9,\"#4d9221\"],[1,\"#276419\"]],\"sequential\":[[0.0,\"#0d0887\"],[0.1111111111111111,\"#46039f\"],[0.2222222222222222,\"#7201a8\"],[0.3333333333333333,\"#9c179e\"],[0.4444444444444444,\"#bd3786\"],[0.5555555555555556,\"#d8576b\"],[0.6666666666666666,\"#ed7953\"],[0.7777777777777778,\"#fb9f3a\"],[0.8888888888888888,\"#fdca26\"],[1.0,\"#f0f921\"]],\"sequentialminus\":[[0.0,\"#0d0887\"],[0.1111111111111111,\"#46039f\"],[0.2222222222222222,\"#7201a8\"],[0.3333333333333333,\"#9c179e\"],[0.4444444444444444,\"#bd3786\"],[0.5555555555555556,\"#d8576b\"],[0.6666666666666666,\"#ed7953\"],[0.7777777777777778,\"#fb9f3a\"],[0.8888888888888888,\"#fdca26\"],[1.0,\"#f0f921\"]]},\"colorway\":[\"#636efa\",\"#EF553B\",\"#00cc96\",\"#ab63fa\",\"#FFA15A\",\"#19d3f3\",\"#FF6692\",\"#B6E880\",\"#FF97FF\",\"#FECB52\"],\"font\":{\"color\":\"#2a3f5f\"},\"geo\":{\"bgcolor\":\"white\",\"lakecolor\":\"white\",\"landcolor\":\"#E5ECF6\",\"showlakes\":true,\"showland\":true,\"subunitcolor\":\"white\"},\"hoverlabel\":{\"align\":\"left\"},\"hovermode\":\"closest\",\"mapbox\":{\"style\":\"light\"},\"paper_bgcolor\":\"white\",\"plot_bgcolor\":\"#E5ECF6\",\"polar\":{\"angularaxis\":{\"gridcolor\":\"white\",\"linecolor\":\"white\",\"ticks\":\"\"},\"bgcolor\":\"#E5ECF6\",\"radialaxis\":{\"gridcolor\":\"white\",\"linecolor\":\"white\",\"ticks\":\"\"}},\"scene\":{\"xaxis\":{\"backgroundcolor\":\"#E5ECF6\",\"gridcolor\":\"white\",\"gridwidth\":2,\"linecolor\":\"white\",\"showbackground\":true,\"ticks\":\"\",\"zerolinecolor\":\"white\"},\"yaxis\":{\"backgroundcolor\":\"#E5ECF6\",\"gridcolor\":\"white\",\"gridwidth\":2,\"linecolor\":\"white\",\"showbackground\":true,\"ticks\":\"\",\"zerolinecolor\":\"white\"},\"zaxis\":{\"backgroundcolor\":\"#E5ECF6\",\"gridcolor\":\"white\",\"gridwidth\":2,\"linecolor\":\"white\",\"showbackground\":true,\"ticks\":\"\",\"zerolinecolor\":\"white\"}},\"shapedefaults\":{\"line\":{\"color\":\"#2a3f5f\"}},\"ternary\":{\"aaxis\":{\"gridcolor\":\"white\",\"linecolor\":\"white\",\"ticks\":\"\"},\"baxis\":{\"gridcolor\":\"white\",\"linecolor\":\"white\",\"ticks\":\"\"},\"bgcolor\":\"#E5ECF6\",\"caxis\":{\"gridcolor\":\"white\",\"linecolor\":\"white\",\"ticks\":\"\"}},\"title\":{\"x\":0.05},\"xaxis\":{\"automargin\":true,\"gridcolor\":\"white\",\"linecolor\":\"white\",\"ticks\":\"\",\"title\":{\"standoff\":15},\"zerolinecolor\":\"white\",\"zerolinewidth\":2},\"yaxis\":{\"automargin\":true,\"gridcolor\":\"white\",\"linecolor\":\"white\",\"ticks\":\"\",\"title\":{\"standoff\":15},\"zerolinecolor\":\"white\",\"zerolinewidth\":2}}},\"xaxis\":{\"anchor\":\"y\",\"domain\":[0.0,1.0],\"title\":{\"text\":\"x\"}},\"yaxis\":{\"anchor\":\"x\",\"domain\":[0.0,1.0],\"title\":{\"text\":\"y\"}}},                        {\"responsive\": true}                    ).then(function(){\n",
       "                            \n",
       "var gd = document.getElementById('1359484c-82a7-45b7-b1e9-4d797f9cee16');\n",
       "var x = new MutationObserver(function (mutations, observer) {{\n",
       "        var display = window.getComputedStyle(gd).display;\n",
       "        if (!display || display === 'none') {{\n",
       "            console.log([gd, 'removed!']);\n",
       "            Plotly.purge(gd);\n",
       "            observer.disconnect();\n",
       "        }}\n",
       "}});\n",
       "\n",
       "// Listen for the removal of the full notebook cells\n",
       "var notebookContainer = gd.closest('#notebook-container');\n",
       "if (notebookContainer) {{\n",
       "    x.observe(notebookContainer, {childList: true});\n",
       "}}\n",
       "\n",
       "// Listen for the clearing of the current output cell\n",
       "var outputEl = gd.closest('.output');\n",
       "if (outputEl) {{\n",
       "    x.observe(outputEl, {childList: true});\n",
       "}}\n",
       "\n",
       "                        })                };                });            </script>        </div>"
      ]
     },
     "metadata": {},
     "output_type": "display_data"
    }
   ],
   "source": [
    "fig = px.scatter(x=range(1,31), y=recalls)\n",
    "fig.show()"
   ]
  },
  {
   "cell_type": "code",
   "execution_count": null,
   "metadata": {},
   "outputs": [],
   "source": []
  }
 ],
 "metadata": {
  "kernelspec": {
   "display_name": "mlenv",
   "language": "python",
   "name": "mlenv"
  },
  "language_info": {
   "codemirror_mode": {
    "name": "ipython",
    "version": 3
   },
   "file_extension": ".py",
   "mimetype": "text/x-python",
   "name": "python",
   "nbconvert_exporter": "python",
   "pygments_lexer": "ipython3",
   "version": "3.7.10"
  }
 },
 "nbformat": 4,
 "nbformat_minor": 4
}
