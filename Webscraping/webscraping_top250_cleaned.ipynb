{
 "cells": [
  {
   "cell_type": "code",
   "execution_count": 66,
   "metadata": {},
   "outputs": [],
   "source": [
    "# Import Dependencies\n",
    "from splinter import Browser\n",
    "from bs4 import BeautifulSoup as soup\n",
    "import pandas as pd\n",
    "from webdriver_manager.chrome import ChromeDriverManager\n",
    "import time\n",
    "from selenium.webdriver.chrome.options import Options"
   ]
  },
  {
   "cell_type": "code",
   "execution_count": 67,
   "metadata": {},
   "outputs": [
    {
     "name": "stderr",
     "output_type": "stream",
     "text": [
      "\n",
      "\n",
      "====== WebDriver manager ======\n",
      "Current google-chrome version is 93.0.4577\n",
      "Get LATEST driver version for 93.0.4577\n",
      "Driver [/Users/curtissmith/.wdm/drivers/chromedriver/mac64/93.0.4577.63/chromedriver] found in cache\n"
     ]
    }
   ],
   "source": [
    "# Set the executable path and initialize Splinter\n",
    "executable_path = {'executable_path': ChromeDriverManager().install()}\n",
    "browser = Browser('chrome', **executable_path, headless=False)"
   ]
  },
  {
   "cell_type": "code",
   "execution_count": 70,
   "metadata": {},
   "outputs": [],
   "source": [
    "# Visit the Beer Advocate Top 250 page\n",
    "url = 'https://www.beeradvocate.com/beer/popular/'\n",
    "browser.visit(url)"
   ]
  },
  {
   "cell_type": "code",
   "execution_count": 71,
   "metadata": {},
   "outputs": [],
   "source": [
    "# Convert the browser html to a soup object and then quit the browser\n",
    "html = browser.html\n",
    "top_250_home = soup(html, 'html.parser')"
   ]
  },
  {
   "cell_type": "code",
   "execution_count": 72,
   "metadata": {},
   "outputs": [],
   "source": [
    "# find all a tags\n",
    "all_a = top_250_home.find_all('a')\n",
    "\n",
    "# select only relevant link (those with \"beer/profile\" in link)\n",
    "links = [x for x in all_a if '/beer/profile/' in str(x)]\n",
    "\n",
    "# iterate and get links to beers - even indices are links to beers, odd are links to brewery\n",
    "beer_a_tags = []\n",
    "for index, item in enumerate(links):\n",
    "    if index % 2 == 0:\n",
    "        beer_a_tags.append(item)\n",
    "        \n",
    "# get href url for navigating to beer webpage\n",
    "beer_href = [x.get('href') for x in beer_a_tags]"
   ]
  },
  {
   "cell_type": "markdown",
   "metadata": {},
   "source": [
    "### Loop Through Links to Retrieve Beer Information"
   ]
  },
  {
   "cell_type": "code",
   "execution_count": 73,
   "metadata": {},
   "outputs": [],
   "source": [
    "# initialize list of dictionaries\n",
    "beer_info = []"
   ]
  },
  {
   "cell_type": "code",
   "execution_count": 74,
   "metadata": {},
   "outputs": [
    {
     "name": "stderr",
     "output_type": "stream",
     "text": [
      "/Users/curtissmith/opt/anaconda3/envs/PythonData/lib/python3.7/site-packages/splinter/driver/webdriver/__init__.py:477: FutureWarning: browser.find_link_by_href is deprecated. Use browser.links.find_by_href instead.\n",
      "  FutureWarning,\n"
     ]
    },
    {
     "ename": "IndexError",
     "evalue": "list index out of range",
     "output_type": "error",
     "traceback": [
      "\u001b[0;31m---------------------------------------------------------------------------\u001b[0m",
      "\u001b[0;31mIndexError\u001b[0m                                Traceback (most recent call last)",
      "\u001b[0;32m<ipython-input-74-e7b84caad06c>\u001b[0m in \u001b[0;36m<module>\u001b[0;34m\u001b[0m\n\u001b[1;32m     28\u001b[0m     \u001b[0;31m# get reviews\u001b[0m\u001b[0;34m\u001b[0m\u001b[0;34m\u001b[0m\u001b[0;34m\u001b[0m\u001b[0m\n\u001b[1;32m     29\u001b[0m     \u001b[0mreview_div\u001b[0m \u001b[0;34m=\u001b[0m \u001b[0mbeer_soup\u001b[0m\u001b[0;34m.\u001b[0m\u001b[0mfind_all\u001b[0m\u001b[0;34m(\u001b[0m\u001b[0;34m'div'\u001b[0m\u001b[0;34m,\u001b[0m \u001b[0;34m{\u001b[0m\u001b[0;34m\"id\"\u001b[0m\u001b[0;34m:\u001b[0m \u001b[0;34m\"rating_fullview_content_2\"\u001b[0m\u001b[0;34m}\u001b[0m\u001b[0;34m)\u001b[0m\u001b[0;34m\u001b[0m\u001b[0;34m\u001b[0m\u001b[0m\n\u001b[0;32m---> 30\u001b[0;31m     \u001b[0mreviews\u001b[0m \u001b[0;34m=\u001b[0m \u001b[0;34m[\u001b[0m\u001b[0mitem\u001b[0m\u001b[0;34m.\u001b[0m\u001b[0mtext\u001b[0m\u001b[0;34m.\u001b[0m\u001b[0msplit\u001b[0m\u001b[0;34m(\u001b[0m\u001b[0;34m\"overall: \"\u001b[0m\u001b[0;34m)\u001b[0m\u001b[0;34m[\u001b[0m\u001b[0;36m1\u001b[0m\u001b[0;34m]\u001b[0m \u001b[0;32mfor\u001b[0m \u001b[0mitem\u001b[0m \u001b[0;32min\u001b[0m \u001b[0mreview_div\u001b[0m\u001b[0;34m]\u001b[0m\u001b[0;34m\u001b[0m\u001b[0;34m\u001b[0m\u001b[0m\n\u001b[0m\u001b[1;32m     31\u001b[0m \u001b[0;34m\u001b[0m\u001b[0m\n\u001b[1;32m     32\u001b[0m     \u001b[0;31m# create dictionary and add to list\u001b[0m\u001b[0;34m\u001b[0m\u001b[0;34m\u001b[0m\u001b[0;34m\u001b[0m\u001b[0m\n",
      "\u001b[0;32m<ipython-input-74-e7b84caad06c>\u001b[0m in \u001b[0;36m<listcomp>\u001b[0;34m(.0)\u001b[0m\n\u001b[1;32m     28\u001b[0m     \u001b[0;31m# get reviews\u001b[0m\u001b[0;34m\u001b[0m\u001b[0;34m\u001b[0m\u001b[0;34m\u001b[0m\u001b[0m\n\u001b[1;32m     29\u001b[0m     \u001b[0mreview_div\u001b[0m \u001b[0;34m=\u001b[0m \u001b[0mbeer_soup\u001b[0m\u001b[0;34m.\u001b[0m\u001b[0mfind_all\u001b[0m\u001b[0;34m(\u001b[0m\u001b[0;34m'div'\u001b[0m\u001b[0;34m,\u001b[0m \u001b[0;34m{\u001b[0m\u001b[0;34m\"id\"\u001b[0m\u001b[0;34m:\u001b[0m \u001b[0;34m\"rating_fullview_content_2\"\u001b[0m\u001b[0;34m}\u001b[0m\u001b[0;34m)\u001b[0m\u001b[0;34m\u001b[0m\u001b[0;34m\u001b[0m\u001b[0m\n\u001b[0;32m---> 30\u001b[0;31m     \u001b[0mreviews\u001b[0m \u001b[0;34m=\u001b[0m \u001b[0;34m[\u001b[0m\u001b[0mitem\u001b[0m\u001b[0;34m.\u001b[0m\u001b[0mtext\u001b[0m\u001b[0;34m.\u001b[0m\u001b[0msplit\u001b[0m\u001b[0;34m(\u001b[0m\u001b[0;34m\"overall: \"\u001b[0m\u001b[0;34m)\u001b[0m\u001b[0;34m[\u001b[0m\u001b[0;36m1\u001b[0m\u001b[0;34m]\u001b[0m \u001b[0;32mfor\u001b[0m \u001b[0mitem\u001b[0m \u001b[0;32min\u001b[0m \u001b[0mreview_div\u001b[0m\u001b[0;34m]\u001b[0m\u001b[0;34m\u001b[0m\u001b[0;34m\u001b[0m\u001b[0m\n\u001b[0m\u001b[1;32m     31\u001b[0m \u001b[0;34m\u001b[0m\u001b[0m\n\u001b[1;32m     32\u001b[0m     \u001b[0;31m# create dictionary and add to list\u001b[0m\u001b[0;34m\u001b[0m\u001b[0;34m\u001b[0m\u001b[0;34m\u001b[0m\u001b[0m\n",
      "\u001b[0;31mIndexError\u001b[0m: list index out of range"
     ]
    }
   ],
   "source": [
    "start_time = time.time()\n",
    "\n",
    "#iterate through links\n",
    "for link in beer_href:\n",
    "    \n",
    "    # navigate to link\n",
    "    browser.click_link_by_href(link)\n",
    "    \n",
    "    # Parse the beer html with soup\n",
    "    html = browser.html\n",
    "    beer_soup = soup(html, 'html.parser')\n",
    "    \n",
    "    # Get beer and brewery\n",
    "    header = beer_soup.find('div', class_='titleBar')\n",
    "    brewery = header.find(\"span\").text\n",
    "    beer_name = header.text.replace(brewery, \"\")\n",
    "    beer_name = beer_name.replace('\\n', \"\")\n",
    "\n",
    "    # get ABV and rating\n",
    "    spans = beer_soup.find_all('span', class_='Tooltip')\n",
    "    abv = spans[2].text\n",
    "    rating = spans[6].text\n",
    "\n",
    "    # get style\n",
    "    a = beer_soup.find_all('a', class_='Tooltip')\n",
    "    style = a[4].text\n",
    "\n",
    "    # get reviews\n",
    "    review_div = beer_soup.find_all('div', {\"id\": \"rating_fullview_content_2\"})\n",
    "    reviews = [item.text.split(\"overall: \")[1] for item in review_div]\n",
    "    \n",
    "    # create dictionary and add to list\n",
    "    beer_info.append({\"beer_name\": beer_name,\n",
    "                      \"beer_style\": style,\n",
    "                      \"brewery\": brewery,\n",
    "                      \"abv\": abv,\n",
    "                      \"rating\": rating,\n",
    "                      \"reviews\": reviews})\n",
    "    \n",
    "    browser.back()\n",
    "    \n",
    "    # Parse the beer html with soup\n",
    "    html = browser.html\n",
    "    top_250 = soup(html, 'html.parser')\n",
    "    \n",
    "length = (time.time() - start_time)\n",
    "print(f'Script ran in {length} seconds / {length/60} minutes')"
   ]
  },
  {
   "cell_type": "code",
   "execution_count": 75,
   "metadata": {},
   "outputs": [
    {
     "data": {
      "text/plain": [
       "245"
      ]
     },
     "execution_count": 75,
     "metadata": {},
     "output_type": "execute_result"
    }
   ],
   "source": [
    "len(beer_info)"
   ]
  },
  {
   "cell_type": "code",
   "execution_count": 76,
   "metadata": {},
   "outputs": [],
   "source": [
    "df = pd.DataFrame(beer_info)"
   ]
  },
  {
   "cell_type": "code",
   "execution_count": 77,
   "metadata": {},
   "outputs": [
    {
     "data": {
      "text/html": [
       "<div>\n",
       "<style scoped>\n",
       "    .dataframe tbody tr th:only-of-type {\n",
       "        vertical-align: middle;\n",
       "    }\n",
       "\n",
       "    .dataframe tbody tr th {\n",
       "        vertical-align: top;\n",
       "    }\n",
       "\n",
       "    .dataframe thead th {\n",
       "        text-align: right;\n",
       "    }\n",
       "</style>\n",
       "<table border=\"1\" class=\"dataframe\">\n",
       "  <thead>\n",
       "    <tr style=\"text-align: right;\">\n",
       "      <th></th>\n",
       "      <th>beer_name</th>\n",
       "      <th>beer_style</th>\n",
       "      <th>brewery</th>\n",
       "      <th>abv</th>\n",
       "      <th>rating</th>\n",
       "      <th>reviews</th>\n",
       "    </tr>\n",
       "  </thead>\n",
       "  <tbody>\n",
       "    <tr>\n",
       "      <th>0</th>\n",
       "      <td>Breakfast Stout</td>\n",
       "      <td>Stout - Oatmeal</td>\n",
       "      <td>Founders Brewing Company</td>\n",
       "      <td>8.3%</td>\n",
       "      <td>4.55</td>\n",
       "      <td>[5I bought this one on a whim. I love stoats, ...</td>\n",
       "    </tr>\n",
       "    <tr>\n",
       "      <th>1</th>\n",
       "      <td>90 Minute IPA</td>\n",
       "      <td>IPA - Imperial</td>\n",
       "      <td>Dogfish Head Craft Brewery</td>\n",
       "      <td>9%</td>\n",
       "      <td>4.3</td>\n",
       "      <td>[4.5I am not a lover of all things IPS. This o...</td>\n",
       "    </tr>\n",
       "    <tr>\n",
       "      <th>2</th>\n",
       "      <td>Two Hearted Ale</td>\n",
       "      <td>IPA - American</td>\n",
       "      <td>Bell's Brewery - Eccentric Café &amp; General Store</td>\n",
       "      <td>7%</td>\n",
       "      <td>4.3</td>\n",
       "      <td>[4I've had this many time over the years, but ...</td>\n",
       "    </tr>\n",
       "    <tr>\n",
       "      <th>3</th>\n",
       "      <td>Pliny The Elder</td>\n",
       "      <td>IPA - Imperial</td>\n",
       "      <td>Russian River Brewing Company</td>\n",
       "      <td>8%</td>\n",
       "      <td>4.69</td>\n",
       "      <td>[5drank while enjoying the Browns v Chiefs gam...</td>\n",
       "    </tr>\n",
       "    <tr>\n",
       "      <th>4</th>\n",
       "      <td>Heady Topper</td>\n",
       "      <td>IPA - New England</td>\n",
       "      <td>The Alchemist</td>\n",
       "      <td>8%</td>\n",
       "      <td>4.76</td>\n",
       "      <td>[4.5Beautiful hazy golden color with thick, wh...</td>\n",
       "    </tr>\n",
       "  </tbody>\n",
       "</table>\n",
       "</div>"
      ],
      "text/plain": [
       "         beer_name         beer_style  \\\n",
       "0  Breakfast Stout    Stout - Oatmeal   \n",
       "1    90 Minute IPA     IPA - Imperial   \n",
       "2  Two Hearted Ale     IPA - American   \n",
       "3  Pliny The Elder     IPA - Imperial   \n",
       "4     Heady Topper  IPA - New England   \n",
       "\n",
       "                                           brewery   abv rating  \\\n",
       "0                         Founders Brewing Company  8.3%   4.55   \n",
       "1                       Dogfish Head Craft Brewery    9%    4.3   \n",
       "2  Bell's Brewery - Eccentric Café & General Store    7%    4.3   \n",
       "3                    Russian River Brewing Company    8%   4.69   \n",
       "4                                    The Alchemist    8%   4.76   \n",
       "\n",
       "                                             reviews  \n",
       "0  [5I bought this one on a whim. I love stoats, ...  \n",
       "1  [4.5I am not a lover of all things IPS. This o...  \n",
       "2  [4I've had this many time over the years, but ...  \n",
       "3  [5drank while enjoying the Browns v Chiefs gam...  \n",
       "4  [4.5Beautiful hazy golden color with thick, wh...  "
      ]
     },
     "execution_count": 77,
     "metadata": {},
     "output_type": "execute_result"
    }
   ],
   "source": [
    "df.head()"
   ]
  },
  {
   "cell_type": "code",
   "execution_count": 60,
   "metadata": {},
   "outputs": [],
   "source": [
    "df.to_csv(\"top_150.csv\", index=False)"
   ]
  },
  {
   "cell_type": "code",
   "execution_count": null,
   "metadata": {},
   "outputs": [],
   "source": []
  }
 ],
 "metadata": {
  "kernelspec": {
   "display_name": "PythonData",
   "language": "python",
   "name": "pythondata"
  },
  "language_info": {
   "codemirror_mode": {
    "name": "ipython",
    "version": 3
   },
   "file_extension": ".py",
   "mimetype": "text/x-python",
   "name": "python",
   "nbconvert_exporter": "python",
   "pygments_lexer": "ipython3",
   "version": "3.7.9"
  }
 },
 "nbformat": 4,
 "nbformat_minor": 4
}
