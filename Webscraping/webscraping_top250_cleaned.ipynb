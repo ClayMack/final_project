{
 "cells": [
  {
   "cell_type": "code",
   "execution_count": 1,
   "metadata": {},
   "outputs": [],
   "source": [
    "# Import Dependencies\n",
    "from splinter import Browser\n",
    "from bs4 import BeautifulSoup as soup\n",
    "import pandas as pd\n",
    "from webdriver_manager.chrome import ChromeDriverManager\n",
    "import time\n",
    "from selenium.webdriver.chrome.options import Options"
   ]
  },
  {
   "cell_type": "code",
   "execution_count": 16,
   "metadata": {},
   "outputs": [
    {
     "name": "stderr",
     "output_type": "stream",
     "text": [
      "\n",
      "\n",
      "====== WebDriver manager ======\n",
      "Current google-chrome version is 93.0.4577\n",
      "Get LATEST driver version for 93.0.4577\n",
      "Driver [/Users/curtissmith/.wdm/drivers/chromedriver/mac64/93.0.4577.63/chromedriver] found in cache\n"
     ]
    }
   ],
   "source": [
    "# Set the executable path and initialize Splinter\n",
    "executable_path = {'executable_path': ChromeDriverManager().install()}\n",
    "browser = Browser('chrome', **executable_path, headless=False)"
   ]
  },
  {
   "cell_type": "code",
   "execution_count": 129,
   "metadata": {},
   "outputs": [],
   "source": [
    "# Visit the Beer Advocate Top 250 page\n",
    "url = 'https://www.beeradvocate.com/beer/popular/'\n",
    "browser.visit(url)"
   ]
  },
  {
   "cell_type": "code",
   "execution_count": 130,
   "metadata": {},
   "outputs": [],
   "source": [
    "# Convert the browser html to a soup object and then quit the browser\n",
    "html = browser.html\n",
    "top_250_home = soup(html, 'html.parser')"
   ]
  },
  {
   "cell_type": "code",
   "execution_count": 131,
   "metadata": {},
   "outputs": [],
   "source": [
    "# find all a tags\n",
    "all_a = top_250_home.find_all('a')\n",
    "\n",
    "# select only relevant link (those with \"beer/profile\" in link)\n",
    "links = [x for x in all_a if '/beer/profile/' in str(x)]\n",
    "\n",
    "# iterate and get links to beers - even indices are links to beers, odd are links to brewery\n",
    "beer_a_tags = []\n",
    "for index, item in enumerate(links):\n",
    "    if index % 2 == 0:\n",
    "        beer_a_tags.append(item)\n",
    "        \n",
    "# get href url for navigating to beer webpage\n",
    "beer_href = [x.get('href') for x in beer_a_tags]"
   ]
  },
  {
   "cell_type": "markdown",
   "metadata": {},
   "source": [
    "### Loop Through Links to Retrieve Beer Information"
   ]
  },
  {
   "cell_type": "code",
   "execution_count": 132,
   "metadata": {},
   "outputs": [
    {
     "name": "stdout",
     "output_type": "stream",
     "text": [
      "50\n",
      "100\n",
      "150\n",
      "200\n",
      "250\n",
      "Script ran in 1782.4382178783417 seconds / 29.707303631305695 minutes\n",
      "Skipped 0 beers\n"
     ]
    },
    {
     "ename": "NameError",
     "evalue": "name 'erros' is not defined",
     "output_type": "error",
     "traceback": [
      "\u001b[0;31m---------------------------------------------------------------------------\u001b[0m",
      "\u001b[0;31mNameError\u001b[0m                                 Traceback (most recent call last)",
      "\u001b[0;32m<ipython-input-132-2d619f49778d>\u001b[0m in \u001b[0;36m<module>\u001b[0;34m\u001b[0m\n\u001b[1;32m    100\u001b[0m \u001b[0mprint\u001b[0m\u001b[0;34m(\u001b[0m\u001b[0;34mf'Script ran in {length} seconds / {length/60} minutes'\u001b[0m\u001b[0;34m)\u001b[0m\u001b[0;34m\u001b[0m\u001b[0;34m\u001b[0m\u001b[0m\n\u001b[1;32m    101\u001b[0m \u001b[0mprint\u001b[0m\u001b[0;34m(\u001b[0m\u001b[0;34mf'Skipped {num_skipped} beers'\u001b[0m\u001b[0;34m)\u001b[0m\u001b[0;34m\u001b[0m\u001b[0;34m\u001b[0m\u001b[0m\n\u001b[0;32m--> 102\u001b[0;31m \u001b[0mprint\u001b[0m\u001b[0;34m(\u001b[0m\u001b[0;34mf'There were {erros} errors'\u001b[0m\u001b[0;34m)\u001b[0m\u001b[0;34m\u001b[0m\u001b[0;34m\u001b[0m\u001b[0m\n\u001b[0m",
      "\u001b[0;31mNameError\u001b[0m: name 'erros' is not defined"
     ]
    }
   ],
   "source": [
    "start_time = time.time()\n",
    "\n",
    "# initialize list of dictionaries\n",
    "beer_info = []\n",
    "errors =[]\n",
    "count = 0\n",
    "num_skipped = 0\n",
    "\n",
    "#iterate through links\n",
    "for link in beer_href:\n",
    "    \n",
    "    count += 1\n",
    "    if count % 50 == 0:\n",
    "        length = (time.time() - start_time)\n",
    "        print(f'Elapsed Time: {length} seconds / {length/60} minutes')\n",
    "        print(count)\n",
    "    \n",
    "    # navigate to link\n",
    "    browser.click_link_by_href(link)\n",
    "    \n",
    "    # Parse the beer html with soup\n",
    "    html = browser.html\n",
    "    beer_soup = soup(html, 'html.parser')\n",
    "    \n",
    "    try:\n",
    "        \n",
    "        reviews = []\n",
    "        \n",
    "        spans = beer_soup.find_all('span', class_='Tooltip')\n",
    "        num_reviews = spans[10].text\n",
    "        num_reviews = int(num_reviews.replace(\",\", \"\"))\n",
    "        \n",
    "        # Only have beers with > 100 reviews\n",
    "        if num_reviews < 100:\n",
    "            print(num_reviews)\n",
    "            num_skipped += 1\n",
    "            continue\n",
    "\n",
    "        sorting_links = [f\"{link}?sort=top\",\n",
    "                        f\"{link}?view=beer&sort=top&start=25\",\n",
    "                        f\"{link}?view=beer&sort=top&start=50\",\n",
    "                        f\"{link}?view=beer&sort=top&start=100\"]\n",
    "\n",
    "\n",
    "        for item in sorting_links:\n",
    "\n",
    "            browser.click_link_by_href(item)\n",
    "\n",
    "            html = browser.html\n",
    "            beer_soup = soup(html, 'html.parser')\n",
    "\n",
    "            # Get beer and brewery\n",
    "            header = beer_soup.find('div', class_='titleBar')\n",
    "            brewery = header.find(\"span\").text\n",
    "            beer_name = header.text.replace(brewery, \"\")\n",
    "            beer_name = beer_name.replace('\\n', \"\")\n",
    "\n",
    "            # get ABV and rating\n",
    "            spans = beer_soup.find_all('span', class_='Tooltip')\n",
    "            abv = spans[2].text\n",
    "            rating = spans[6].text\n",
    "\n",
    "            # get style\n",
    "            a = beer_soup.find_all('a', class_='Tooltip')\n",
    "            style = a[4].text\n",
    "\n",
    "            # get reviews\n",
    "            review_div = beer_soup.find_all('div', {\"id\": \"rating_fullview_content_2\"})\n",
    "            for item in review_div:\n",
    "                reviews.append(item.text.split(\"%\")[1])\n",
    "#                 reviews.append(item)\n",
    "\n",
    "    \n",
    "\n",
    "        # create dictionary and add to list\n",
    "        beer_info.append({\"beer_name\": beer_name,\n",
    "                          \"beer_style\": style,\n",
    "                          \"brewery\": brewery,\n",
    "                          \"abv\": abv,\n",
    "                          \"rating\": rating,\n",
    "                          \"reviews\": reviews})\n",
    "\n",
    "        #print(len(reviews))\n",
    "\n",
    "        browser.visit(url)\n",
    "\n",
    "        # Parse the beer html with soup\n",
    "        html = browser.html\n",
    "        top_250 = soup(html, 'html.parser')\n",
    "    \n",
    "    except Exception as exception:\n",
    "        print(exception)\n",
    "        errors.append(beer_name)\n",
    "        browser.visit(url)\n",
    "        print(errors)\n",
    "        \n",
    "        # Parse the beer html with soup\n",
    "        html = browser.html\n",
    "        top_250 = soup(html, 'html.parser')\n",
    "    \n",
    "length = (time.time() - start_time)\n",
    "print(f'Script ran in {length} seconds / {length/60} minutes')\n",
    "print(f'Skipped {num_skipped} beers')\n",
    "print(f'There were {errors} errors')"
   ]
  },
  {
   "cell_type": "code",
   "execution_count": null,
   "metadata": {},
   "outputs": [],
   "source": [
    "\"/beer/profile/1199/11757/?view=beer&sort=top&start=25\""
   ]
  },
  {
   "cell_type": "code",
   "execution_count": 121,
   "metadata": {},
   "outputs": [
    {
     "data": {
      "text/plain": [
       "4"
      ]
     },
     "execution_count": 121,
     "metadata": {},
     "output_type": "execute_result"
    }
   ],
   "source": [
    "len(beer_info)"
   ]
  },
  {
   "cell_type": "code",
   "execution_count": 122,
   "metadata": {},
   "outputs": [],
   "source": [
    "df = pd.DataFrame(beer_info)"
   ]
  },
  {
   "cell_type": "code",
   "execution_count": 123,
   "metadata": {},
   "outputs": [
    {
     "data": {
      "text/html": [
       "<div>\n",
       "<style scoped>\n",
       "    .dataframe tbody tr th:only-of-type {\n",
       "        vertical-align: middle;\n",
       "    }\n",
       "\n",
       "    .dataframe tbody tr th {\n",
       "        vertical-align: top;\n",
       "    }\n",
       "\n",
       "    .dataframe thead th {\n",
       "        text-align: right;\n",
       "    }\n",
       "</style>\n",
       "<table border=\"1\" class=\"dataframe\">\n",
       "  <thead>\n",
       "    <tr style=\"text-align: right;\">\n",
       "      <th></th>\n",
       "      <th>beer_name</th>\n",
       "      <th>beer_style</th>\n",
       "      <th>brewery</th>\n",
       "      <th>abv</th>\n",
       "      <th>rating</th>\n",
       "      <th>reviews</th>\n",
       "    </tr>\n",
       "  </thead>\n",
       "  <tbody>\n",
       "    <tr>\n",
       "      <th>0</th>\n",
       "      <td>Breakfast Stout</td>\n",
       "      <td>Stout - Oatmeal</td>\n",
       "      <td>Founders Brewing Company</td>\n",
       "      <td>ABV:</td>\n",
       "      <td>Avg:</td>\n",
       "      <td>[[[&lt;b&gt;&lt;a class=\"username\" href=\"/community/mem...</td>\n",
       "    </tr>\n",
       "    <tr>\n",
       "      <th>1</th>\n",
       "      <td>90 Minute IPA</td>\n",
       "      <td>IPA - Imperial</td>\n",
       "      <td>Dogfish Head Craft Brewery</td>\n",
       "      <td>ABV:</td>\n",
       "      <td>Avg:</td>\n",
       "      <td>[[[&lt;b&gt;&lt;a class=\"username\" href=\"/community/mem...</td>\n",
       "    </tr>\n",
       "    <tr>\n",
       "      <th>2</th>\n",
       "      <td>Two Hearted Ale</td>\n",
       "      <td>IPA - American</td>\n",
       "      <td>Bell's Brewery - Eccentric Café &amp; General Store</td>\n",
       "      <td>ABV:</td>\n",
       "      <td>Avg:</td>\n",
       "      <td>[[[&lt;b&gt;&lt;a class=\"username\" href=\"/community/mem...</td>\n",
       "    </tr>\n",
       "    <tr>\n",
       "      <th>3</th>\n",
       "      <td>Pliny The Elder</td>\n",
       "      <td>IPA - Imperial</td>\n",
       "      <td>Russian River Brewing Company</td>\n",
       "      <td>ABV:</td>\n",
       "      <td>Avg:</td>\n",
       "      <td>[[[&lt;b&gt;&lt;a class=\"username\" href=\"/community/mem...</td>\n",
       "    </tr>\n",
       "  </tbody>\n",
       "</table>\n",
       "</div>"
      ],
      "text/plain": [
       "         beer_name       beer_style  \\\n",
       "0  Breakfast Stout  Stout - Oatmeal   \n",
       "1    90 Minute IPA   IPA - Imperial   \n",
       "2  Two Hearted Ale   IPA - American   \n",
       "3  Pliny The Elder   IPA - Imperial   \n",
       "\n",
       "                                           brewery   abv rating  \\\n",
       "0                         Founders Brewing Company  ABV:   Avg:   \n",
       "1                       Dogfish Head Craft Brewery  ABV:   Avg:   \n",
       "2  Bell's Brewery - Eccentric Café & General Store  ABV:   Avg:   \n",
       "3                    Russian River Brewing Company  ABV:   Avg:   \n",
       "\n",
       "                                             reviews  \n",
       "0  [[[<b><a class=\"username\" href=\"/community/mem...  \n",
       "1  [[[<b><a class=\"username\" href=\"/community/mem...  \n",
       "2  [[[<b><a class=\"username\" href=\"/community/mem...  \n",
       "3  [[[<b><a class=\"username\" href=\"/community/mem...  "
      ]
     },
     "execution_count": 123,
     "metadata": {},
     "output_type": "execute_result"
    }
   ],
   "source": [
    "df.head()"
   ]
  },
  {
   "cell_type": "code",
   "execution_count": 124,
   "metadata": {},
   "outputs": [],
   "source": [
    "df.to_csv(\"test.csv\", index=False)"
   ]
  },
  {
   "cell_type": "code",
   "execution_count": null,
   "metadata": {},
   "outputs": [],
   "source": []
  }
 ],
 "metadata": {
  "kernelspec": {
   "display_name": "PythonData",
   "language": "python",
   "name": "pythondata"
  },
  "language_info": {
   "codemirror_mode": {
    "name": "ipython",
    "version": 3
   },
   "file_extension": ".py",
   "mimetype": "text/x-python",
   "name": "python",
   "nbconvert_exporter": "python",
   "pygments_lexer": "ipython3",
   "version": "3.7.9"
  }
 },
 "nbformat": 4,
 "nbformat_minor": 4
}
