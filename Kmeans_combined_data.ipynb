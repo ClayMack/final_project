{
 "cells": [
  {
   "cell_type": "code",
   "execution_count": 47,
   "metadata": {},
   "outputs": [],
   "source": [
    "# Import Dependencies\n",
    "import sqlite3\n",
    "import csv\n",
    "import pandas as pd\n",
    "import plotly.express as px\n",
    "import hvplot.pandas\n",
    "from sklearn.cluster import KMeans\n",
    "from sklearn.preprocessing import StandardScaler\n",
    "from sklearn.preprocessing import MinMaxScaler\n",
    "from sklearn.model_selection import train_test_split\n",
    "from sklearn.metrics import silhouette_score"
   ]
  },
  {
   "cell_type": "code",
   "execution_count": 2,
   "metadata": {},
   "outputs": [],
   "source": [
    "# Display all columns\n",
    "pd.set_option('display.max_columns', None)\n",
    "# Do not display false positive warnings\n",
    "pd.options.mode.chained_assignment = None  # default='warn'"
   ]
  },
  {
   "cell_type": "code",
   "execution_count": 24,
   "metadata": {},
   "outputs": [],
   "source": [
    "# Connect to database\n",
    "connection = sqlite3.connect('SQL/beer.sqlite')"
   ]
  },
  {
   "cell_type": "code",
   "execution_count": 25,
   "metadata": {},
   "outputs": [],
   "source": [
    "# Read database table to dataframe\n",
    "df = pd.read_sql_query(\"SELECT * from combined_beer_data_major_style\", connection)"
   ]
  },
  {
   "cell_type": "code",
   "execution_count": 26,
   "metadata": {},
   "outputs": [
    {
     "data": {
      "text/html": [
       "<div>\n",
       "<style scoped>\n",
       "    .dataframe tbody tr th:only-of-type {\n",
       "        vertical-align: middle;\n",
       "    }\n",
       "\n",
       "    .dataframe tbody tr th {\n",
       "        vertical-align: top;\n",
       "    }\n",
       "\n",
       "    .dataframe thead th {\n",
       "        text-align: right;\n",
       "    }\n",
       "</style>\n",
       "<table border=\"1\" class=\"dataframe\">\n",
       "  <thead>\n",
       "    <tr style=\"text-align: right;\">\n",
       "      <th></th>\n",
       "      <th>index</th>\n",
       "      <th>beer_id</th>\n",
       "      <th>beer_name</th>\n",
       "      <th>beer_style</th>\n",
       "      <th>style_key</th>\n",
       "      <th>brewery</th>\n",
       "      <th>description</th>\n",
       "      <th>abv</th>\n",
       "      <th>ave_rating</th>\n",
       "      <th>min_ibu</th>\n",
       "      <th>max_ibu</th>\n",
       "      <th>astringency</th>\n",
       "      <th>body</th>\n",
       "      <th>alcohol</th>\n",
       "      <th>bitter</th>\n",
       "      <th>sweet</th>\n",
       "      <th>sour</th>\n",
       "      <th>salty</th>\n",
       "      <th>fruits</th>\n",
       "      <th>hoppy</th>\n",
       "      <th>spices</th>\n",
       "      <th>malty</th>\n",
       "      <th>sum_of_factors</th>\n",
       "      <th>BA_Big_styles</th>\n",
       "    </tr>\n",
       "  </thead>\n",
       "  <tbody>\n",
       "    <tr>\n",
       "      <th>0</th>\n",
       "      <td>0</td>\n",
       "      <td>2813</td>\n",
       "      <td>Golden Faro</td>\n",
       "      <td>Lambic - Faro</td>\n",
       "      <td>118.0</td>\n",
       "      <td>Van Dyck - Mad Jack Brewing</td>\n",
       "      <td>Notes:</td>\n",
       "      <td>4.2</td>\n",
       "      <td>3.88</td>\n",
       "      <td>0.0</td>\n",
       "      <td>10.0</td>\n",
       "      <td>0</td>\n",
       "      <td>0</td>\n",
       "      <td>0</td>\n",
       "      <td>0</td>\n",
       "      <td>0</td>\n",
       "      <td>0</td>\n",
       "      <td>0</td>\n",
       "      <td>0</td>\n",
       "      <td>0</td>\n",
       "      <td>0</td>\n",
       "      <td>0</td>\n",
       "      <td>0</td>\n",
       "      <td>Wild/Sour</td>\n",
       "    </tr>\n",
       "    <tr>\n",
       "      <th>1</th>\n",
       "      <td>1</td>\n",
       "      <td>2882</td>\n",
       "      <td>Doesjel</td>\n",
       "      <td>Lambic - Gueuze</td>\n",
       "      <td>120.0</td>\n",
       "      <td>Brouwerij 3 Fonteinen</td>\n",
       "      <td>Notes:</td>\n",
       "      <td>6.0</td>\n",
       "      <td>4.12</td>\n",
       "      <td>0.0</td>\n",
       "      <td>10.0</td>\n",
       "      <td>48</td>\n",
       "      <td>41</td>\n",
       "      <td>4</td>\n",
       "      <td>14</td>\n",
       "      <td>53</td>\n",
       "      <td>160</td>\n",
       "      <td>0</td>\n",
       "      <td>80</td>\n",
       "      <td>26</td>\n",
       "      <td>5</td>\n",
       "      <td>28</td>\n",
       "      <td>459</td>\n",
       "      <td>Wild/Sour</td>\n",
       "    </tr>\n",
       "    <tr>\n",
       "      <th>2</th>\n",
       "      <td>2</td>\n",
       "      <td>5393</td>\n",
       "      <td>Anodyne</td>\n",
       "      <td>Wheat Beer - Wheatwine</td>\n",
       "      <td>108.0</td>\n",
       "      <td>Revolver Brewing</td>\n",
       "      <td>Notes:</td>\n",
       "      <td>9.0</td>\n",
       "      <td>3.88</td>\n",
       "      <td>45.0</td>\n",
       "      <td>85.0</td>\n",
       "      <td>0</td>\n",
       "      <td>0</td>\n",
       "      <td>7</td>\n",
       "      <td>0</td>\n",
       "      <td>2</td>\n",
       "      <td>3</td>\n",
       "      <td>0</td>\n",
       "      <td>3</td>\n",
       "      <td>0</td>\n",
       "      <td>1</td>\n",
       "      <td>0</td>\n",
       "      <td>16</td>\n",
       "      <td>Strong Ales</td>\n",
       "    </tr>\n",
       "    <tr>\n",
       "      <th>3</th>\n",
       "      <td>3</td>\n",
       "      <td>1</td>\n",
       "      <td>Amber</td>\n",
       "      <td>Altbier</td>\n",
       "      <td>8.0</td>\n",
       "      <td>Alaskan Brewing Co.</td>\n",
       "      <td>Notes:Richly malty and long on the palate, wit...</td>\n",
       "      <td>5.3</td>\n",
       "      <td>3.65</td>\n",
       "      <td>25.0</td>\n",
       "      <td>50.0</td>\n",
       "      <td>13</td>\n",
       "      <td>32</td>\n",
       "      <td>9</td>\n",
       "      <td>47</td>\n",
       "      <td>74</td>\n",
       "      <td>33</td>\n",
       "      <td>0</td>\n",
       "      <td>33</td>\n",
       "      <td>57</td>\n",
       "      <td>8</td>\n",
       "      <td>111</td>\n",
       "      <td>417</td>\n",
       "      <td>Brown Ales</td>\n",
       "    </tr>\n",
       "    <tr>\n",
       "      <th>4</th>\n",
       "      <td>4</td>\n",
       "      <td>2</td>\n",
       "      <td>Double Bag</td>\n",
       "      <td>Altbier</td>\n",
       "      <td>8.0</td>\n",
       "      <td>Long Trail Brewing Co.</td>\n",
       "      <td>Notes:This malty, full-bodied double alt is al...</td>\n",
       "      <td>7.2</td>\n",
       "      <td>3.90</td>\n",
       "      <td>25.0</td>\n",
       "      <td>50.0</td>\n",
       "      <td>12</td>\n",
       "      <td>57</td>\n",
       "      <td>18</td>\n",
       "      <td>33</td>\n",
       "      <td>55</td>\n",
       "      <td>16</td>\n",
       "      <td>0</td>\n",
       "      <td>24</td>\n",
       "      <td>35</td>\n",
       "      <td>12</td>\n",
       "      <td>84</td>\n",
       "      <td>346</td>\n",
       "      <td>Brown Ales</td>\n",
       "    </tr>\n",
       "  </tbody>\n",
       "</table>\n",
       "</div>"
      ],
      "text/plain": [
       "   index  beer_id    beer_name              beer_style  style_key  \\\n",
       "0      0     2813  Golden Faro           Lambic - Faro      118.0   \n",
       "1      1     2882      Doesjel         Lambic - Gueuze      120.0   \n",
       "2      2     5393      Anodyne  Wheat Beer - Wheatwine      108.0   \n",
       "3      3        1        Amber                 Altbier        8.0   \n",
       "4      4        2   Double Bag                 Altbier        8.0   \n",
       "\n",
       "                       brewery  \\\n",
       "0  Van Dyck - Mad Jack Brewing   \n",
       "1        Brouwerij 3 Fonteinen   \n",
       "2             Revolver Brewing   \n",
       "3          Alaskan Brewing Co.   \n",
       "4       Long Trail Brewing Co.   \n",
       "\n",
       "                                         description  abv  ave_rating  \\\n",
       "0                                             Notes:  4.2        3.88   \n",
       "1                                             Notes:  6.0        4.12   \n",
       "2                                             Notes:  9.0        3.88   \n",
       "3  Notes:Richly malty and long on the palate, wit...  5.3        3.65   \n",
       "4  Notes:This malty, full-bodied double alt is al...  7.2        3.90   \n",
       "\n",
       "   min_ibu  max_ibu  astringency  body  alcohol  bitter  sweet  sour  salty  \\\n",
       "0      0.0     10.0            0     0        0       0      0     0      0   \n",
       "1      0.0     10.0           48    41        4      14     53   160      0   \n",
       "2     45.0     85.0            0     0        7       0      2     3      0   \n",
       "3     25.0     50.0           13    32        9      47     74    33      0   \n",
       "4     25.0     50.0           12    57       18      33     55    16      0   \n",
       "\n",
       "   fruits  hoppy  spices  malty  sum_of_factors BA_Big_styles  \n",
       "0       0      0       0      0               0    Wild/Sour   \n",
       "1      80     26       5     28             459    Wild/Sour   \n",
       "2       3      0       1      0              16   Strong Ales  \n",
       "3      33     57       8    111             417    Brown Ales  \n",
       "4      24     35      12     84             346    Brown Ales  "
      ]
     },
     "execution_count": 26,
     "metadata": {},
     "output_type": "execute_result"
    }
   ],
   "source": [
    "df.head()"
   ]
  },
  {
   "cell_type": "markdown",
   "metadata": {},
   "source": [
    "### Filter Dataframe"
   ]
  },
  {
   "cell_type": "code",
   "execution_count": 27,
   "metadata": {},
   "outputs": [
    {
     "name": "stdout",
     "output_type": "stream",
     "text": [
      "Dropped 213 rows\n",
      "New length: 5587\n"
     ]
    }
   ],
   "source": [
    "# Filter out beers with abv > 13\n",
    "original_length = len(df)\n",
    "df = df[df.abv <= 13]\n",
    "df = df[df.abv >= 3]\n",
    "new_length = len(df)\n",
    "print(f'Dropped {original_length - new_length} rows')\n",
    "print(f'New length: {new_length}')"
   ]
  },
  {
   "cell_type": "code",
   "execution_count": 28,
   "metadata": {},
   "outputs": [
    {
     "name": "stdout",
     "output_type": "stream",
     "text": [
      "Dropped 211 rows\n",
      "New length: 5376\n"
     ]
    }
   ],
   "source": [
    "# Remove duplicate beers\n",
    "original_length = len(df)\n",
    "df[\"beer_brewary\"] = df.beer_name + df.brewery\n",
    "df.drop_duplicates(subset=['beer_brewary'], inplace=True)\n",
    "df.drop(columns = [\"beer_brewary\"], inplace=True)\n",
    "new_length = len(df)\n",
    "print(f'Dropped {original_length - new_length} rows')\n",
    "print(f'New length: {new_length}')"
   ]
  },
  {
   "cell_type": "code",
   "execution_count": 29,
   "metadata": {},
   "outputs": [
    {
     "name": "stdout",
     "output_type": "stream",
     "text": [
      "Dropped 352 rows\n",
      "New length: 5024\n"
     ]
    }
   ],
   "source": [
    "# Filter for entries with over 50 cumulative factors\n",
    "original_length = len(df)\n",
    "df = df[df['sum_of_factors'] > 50]\n",
    "new_length = len(df)\n",
    "print(f'Dropped {original_length - new_length} rows')\n",
    "print(f'New length: {new_length}')"
   ]
  },
  {
   "cell_type": "code",
   "execution_count": 30,
   "metadata": {},
   "outputs": [
    {
     "data": {
      "text/plain": [
       "Index(['index', 'beer_id', 'beer_name', 'beer_style', 'style_key', 'brewery',\n",
       "       'description', 'abv', 'ave_rating', 'min_ibu', 'max_ibu', 'astringency',\n",
       "       'body', 'alcohol', 'bitter', 'sweet', 'sour', 'salty', 'fruits',\n",
       "       'hoppy', 'spices', 'malty', 'sum_of_factors', 'BA_Big_styles'],\n",
       "      dtype='object')"
      ]
     },
     "execution_count": 30,
     "metadata": {},
     "output_type": "execute_result"
    }
   ],
   "source": [
    "df.columns"
   ]
  },
  {
   "cell_type": "code",
   "execution_count": 31,
   "metadata": {},
   "outputs": [],
   "source": [
    "# Drop unnecessary index column\n",
    "df.drop(columns = [\"index\"], inplace=True)"
   ]
  },
  {
   "cell_type": "markdown",
   "metadata": {},
   "source": [
    "### K-Means\n",
    "First k-means to obtain majoy groupings"
   ]
  },
  {
   "cell_type": "code",
   "execution_count": 209,
   "metadata": {},
   "outputs": [],
   "source": [
    "# Drop columns unnecessary for analysis\n",
    "new_df = df.drop(['beer_id', 'beer_name', 'beer_style', 'style_key', 'brewery',\n",
    "       'description', 'ave_rating', \"min_ibu\", \"max_ibu\",\n",
    "        \"sum_of_factors\", \"BA_Big_styles\"], axis=1)"
   ]
  },
  {
   "cell_type": "code",
   "execution_count": 210,
   "metadata": {},
   "outputs": [],
   "source": [
    "# define standard scaler\n",
    "scaler = StandardScaler()\n",
    "# transform data\n",
    "scaled_df = scaler.fit_transform(new_df)"
   ]
  },
  {
   "cell_type": "code",
   "execution_count": 211,
   "metadata": {},
   "outputs": [
    {
     "data": {},
     "metadata": {},
     "output_type": "display_data"
    },
    {
     "data": {
      "application/vnd.holoviews_exec.v0+json": "",
      "text/html": [
       "<div id='2064'>\n",
       "\n",
       "\n",
       "\n",
       "\n",
       "\n",
       "  <div class=\"bk-root\" id=\"7be2c44a-ef38-4701-88aa-91eb5dad27c0\" data-root-id=\"2064\"></div>\n",
       "</div>\n",
       "<script type=\"application/javascript\">(function(root) {\n",
       "  function embed_document(root) {\n",
       "    var docs_json = {\"bae80b98-b7d5-4257-8816-668cfc0e84ef\":{\"defs\":[{\"extends\":null,\"module\":null,\"name\":\"ReactiveHTML1\",\"overrides\":[],\"properties\":[]},{\"extends\":null,\"module\":null,\"name\":\"FlexBox1\",\"overrides\":[],\"properties\":[{\"default\":\"flex-start\",\"kind\":null,\"name\":\"align_content\"},{\"default\":\"flex-start\",\"kind\":null,\"name\":\"align_items\"},{\"default\":\"row\",\"kind\":null,\"name\":\"flex_direction\"},{\"default\":\"wrap\",\"kind\":null,\"name\":\"flex_wrap\"},{\"default\":\"flex-start\",\"kind\":null,\"name\":\"justify_content\"}]},{\"extends\":null,\"module\":null,\"name\":\"TemplateActions1\",\"overrides\":[],\"properties\":[{\"default\":0,\"kind\":null,\"name\":\"open_modal\"},{\"default\":0,\"kind\":null,\"name\":\"close_modal\"}]},{\"extends\":null,\"module\":null,\"name\":\"MaterialTemplateActions1\",\"overrides\":[],\"properties\":[{\"default\":0,\"kind\":null,\"name\":\"open_modal\"},{\"default\":0,\"kind\":null,\"name\":\"close_modal\"}]}],\"roots\":{\"references\":[{\"attributes\":{},\"id\":\"2086\",\"type\":\"SaveTool\"},{\"attributes\":{\"bottom_units\":\"screen\",\"fill_alpha\":0.5,\"fill_color\":\"lightgrey\",\"left_units\":\"screen\",\"level\":\"overlay\",\"line_alpha\":1.0,\"line_color\":\"black\",\"line_dash\":[4,4],\"line_width\":2,\"right_units\":\"screen\",\"syncable\":false,\"top_units\":\"screen\"},\"id\":\"2091\",\"type\":\"BoxAnnotation\"},{\"attributes\":{\"axis\":{\"id\":\"2078\"},\"grid_line_color\":null,\"ticker\":null},\"id\":\"2081\",\"type\":\"Grid\"},{\"attributes\":{\"line_alpha\":0.1,\"line_color\":\"#30a2da\",\"line_width\":2,\"x\":{\"field\":\"k\"},\"y\":{\"field\":\"inertia\"}},\"id\":\"2103\",\"type\":\"Line\"},{\"attributes\":{\"callback\":null,\"renderers\":[{\"id\":\"2105\"}],\"tags\":[\"hv_created\"],\"tooltips\":[[\"k\",\"@{k}\"],[\"inertia\",\"@{inertia}\"]]},\"id\":\"2068\",\"type\":\"HoverTool\"},{\"attributes\":{},\"id\":\"2074\",\"type\":\"LinearScale\"},{\"attributes\":{},\"id\":\"2076\",\"type\":\"LinearScale\"},{\"attributes\":{\"data\":{\"inertia\":{\"__ndarray__\":\"EQAAAABw7UDpkM8PT2joQPJkRYNDxuRAcCVhmSIy4kDajb9pUkXgQA65UX8Jfd1Akly8CYkD20BOntSeEUDZQFsQoC+m09dAHUyHUuOc1kABxqUxKLvVQOzJypsz/tRAXrpEZY5j1EBbH+1pfN3TQGi815adbNNAq3RnwMb/0kBmylMVeY3SQG+bW6czQNJANoqoUx/a0UBE+zTec3jRQA==\",\"dtype\":\"float64\",\"order\":\"little\",\"shape\":[20]},\"k\":[1,2,3,4,5,6,7,8,9,10,11,12,13,14,15,16,17,18,19,20]},\"selected\":{\"id\":\"2100\"},\"selection_policy\":{\"id\":\"2125\"}},\"id\":\"2099\",\"type\":\"ColumnDataSource\"},{\"attributes\":{\"margin\":[5,5,5,5],\"name\":\"HSpacer03233\",\"sizing_mode\":\"stretch_width\"},\"id\":\"2065\",\"type\":\"Spacer\"},{\"attributes\":{\"margin\":[5,5,5,5],\"name\":\"HSpacer03234\",\"sizing_mode\":\"stretch_width\"},\"id\":\"2135\",\"type\":\"Spacer\"},{\"attributes\":{\"end\":64527.81895625649,\"reset_end\":64527.81895625649,\"reset_start\":13649.991481180095,\"start\":13649.991481180095,\"tags\":[[[\"inertia\",\"inertia\",null]]]},\"id\":\"2067\",\"type\":\"Range1d\"},{\"attributes\":{\"line_color\":\"#30a2da\",\"line_width\":2,\"x\":{\"field\":\"k\"},\"y\":{\"field\":\"inertia\"}},\"id\":\"2107\",\"type\":\"Line\"},{\"attributes\":{\"ticks\":[1,2,3,4,5,6,7,8,9,10,11,12,13,14,15,16,17,18,19,20]},\"id\":\"2108\",\"type\":\"FixedTicker\"},{\"attributes\":{},\"id\":\"2110\",\"type\":\"BasicTickFormatter\"},{\"attributes\":{\"line_color\":\"#30a2da\",\"line_width\":2,\"x\":{\"field\":\"k\"},\"y\":{\"field\":\"inertia\"}},\"id\":\"2102\",\"type\":\"Line\"},{\"attributes\":{\"line_alpha\":0.2,\"line_color\":\"#30a2da\",\"line_width\":2,\"x\":{\"field\":\"k\"},\"y\":{\"field\":\"inertia\"}},\"id\":\"2104\",\"type\":\"Line\"},{\"attributes\":{},\"id\":\"2125\",\"type\":\"UnionRenderers\"},{\"attributes\":{\"axis_label\":\"inertia\",\"formatter\":{\"id\":\"2115\"},\"major_label_policy\":{\"id\":\"2116\"},\"ticker\":{\"id\":\"2083\"}},\"id\":\"2082\",\"type\":\"LinearAxis\"},{\"attributes\":{\"axis\":{\"id\":\"2082\"},\"dimension\":1,\"grid_line_color\":null,\"ticker\":null},\"id\":\"2085\",\"type\":\"Grid\"},{\"attributes\":{\"children\":[{\"id\":\"2065\"},{\"id\":\"2069\"},{\"id\":\"2135\"}],\"margin\":[0,0,0,0],\"name\":\"Row03229\",\"tags\":[\"embedded\"]},\"id\":\"2064\",\"type\":\"Row\"},{\"attributes\":{\"data_source\":{\"id\":\"2099\"},\"glyph\":{\"id\":\"2102\"},\"hover_glyph\":null,\"muted_glyph\":{\"id\":\"2104\"},\"nonselection_glyph\":{\"id\":\"2103\"},\"selection_glyph\":{\"id\":\"2107\"},\"view\":{\"id\":\"2106\"}},\"id\":\"2105\",\"type\":\"GlyphRenderer\"},{\"attributes\":{},\"id\":\"2088\",\"type\":\"WheelZoomTool\"},{\"attributes\":{},\"id\":\"2087\",\"type\":\"PanTool\"},{\"attributes\":{},\"id\":\"2100\",\"type\":\"Selection\"},{\"attributes\":{},\"id\":\"2111\",\"type\":\"AllLabels\"},{\"attributes\":{\"below\":[{\"id\":\"2078\"}],\"center\":[{\"id\":\"2081\"},{\"id\":\"2085\"}],\"height\":300,\"left\":[{\"id\":\"2082\"}],\"margin\":[5,5,5,5],\"min_border_bottom\":10,\"min_border_left\":10,\"min_border_right\":10,\"min_border_top\":10,\"renderers\":[{\"id\":\"2105\"}],\"sizing_mode\":\"fixed\",\"title\":{\"id\":\"2070\"},\"toolbar\":{\"id\":\"2092\"},\"width\":700,\"x_range\":{\"id\":\"2066\"},\"x_scale\":{\"id\":\"2074\"},\"y_range\":{\"id\":\"2067\"},\"y_scale\":{\"id\":\"2076\"}},\"id\":\"2069\",\"subtype\":\"Figure\",\"type\":\"Plot\"},{\"attributes\":{\"axis_label\":\"k\",\"formatter\":{\"id\":\"2110\"},\"major_label_policy\":{\"id\":\"2111\"},\"ticker\":{\"id\":\"2108\"}},\"id\":\"2078\",\"type\":\"LinearAxis\"},{\"attributes\":{},\"id\":\"2116\",\"type\":\"AllLabels\"},{\"attributes\":{},\"id\":\"2115\",\"type\":\"BasicTickFormatter\"},{\"attributes\":{\"source\":{\"id\":\"2099\"}},\"id\":\"2106\",\"type\":\"CDSView\"},{\"attributes\":{},\"id\":\"2083\",\"type\":\"BasicTicker\"},{\"attributes\":{\"overlay\":{\"id\":\"2091\"}},\"id\":\"2089\",\"type\":\"BoxZoomTool\"},{\"attributes\":{\"active_multi\":null,\"tools\":[{\"id\":\"2068\"},{\"id\":\"2086\"},{\"id\":\"2087\"},{\"id\":\"2088\"},{\"id\":\"2089\"},{\"id\":\"2090\"}]},\"id\":\"2092\",\"type\":\"Toolbar\"},{\"attributes\":{\"text\":\"Elbow Curve\",\"text_color\":\"black\",\"text_font_size\":\"12pt\"},\"id\":\"2070\",\"type\":\"Title\"},{\"attributes\":{},\"id\":\"2090\",\"type\":\"ResetTool\"},{\"attributes\":{\"end\":20.0,\"reset_end\":20.0,\"reset_start\":1.0,\"start\":1.0,\"tags\":[[[\"k\",\"k\",null]]]},\"id\":\"2066\",\"type\":\"Range1d\"}],\"root_ids\":[\"2064\"]},\"title\":\"Bokeh Application\",\"version\":\"2.3.2\"}};\n",
       "    var render_items = [{\"docid\":\"bae80b98-b7d5-4257-8816-668cfc0e84ef\",\"root_ids\":[\"2064\"],\"roots\":{\"2064\":\"7be2c44a-ef38-4701-88aa-91eb5dad27c0\"}}];\n",
       "    root.Bokeh.embed.embed_items_notebook(docs_json, render_items);\n",
       "  }\n",
       "  if (root.Bokeh !== undefined && root.Bokeh.Panel !== undefined) {\n",
       "    embed_document(root);\n",
       "  } else {\n",
       "    var attempts = 0;\n",
       "    var timer = setInterval(function(root) {\n",
       "      if (root.Bokeh !== undefined && root.Bokeh.Panel !== undefined) {\n",
       "        clearInterval(timer);\n",
       "        embed_document(root);\n",
       "      } else if (document.readyState == \"complete\") {\n",
       "        attempts++;\n",
       "        if (attempts > 200) {\n",
       "          clearInterval(timer);\n",
       "          console.log(\"Bokeh: ERROR: Unable to run BokehJS code because BokehJS library is missing\");\n",
       "        }\n",
       "      }\n",
       "    }, 25, root)\n",
       "  }\n",
       "})(window);</script>"
      ],
      "text/plain": [
       ":Curve   [k]   (inertia)"
      ]
     },
     "execution_count": 211,
     "metadata": {
      "application/vnd.holoviews_exec.v0+json": {
       "id": "2064"
      }
     },
     "output_type": "execute_result"
    }
   ],
   "source": [
    "# Create Elbow Plot\n",
    "inertia = []\n",
    "k = list(range(1, 21))\n",
    "\n",
    "for i in k:\n",
    "    km = KMeans(n_clusters=i, random_state=0)\n",
    "    km.fit(scaled_df)\n",
    "    inertia.append(km.inertia_)\n",
    "    \n",
    "# Define a DataFrame to plot the Elbow Curve using hvPlot\n",
    "elbow_data = {\"k\": k, \"inertia\": inertia}\n",
    "df_elbow = pd.DataFrame(elbow_data)\n",
    "df_elbow.hvplot.line(x=\"k\", y=\"inertia\", title=\"Elbow Curve\", xticks=k)"
   ]
  },
  {
   "cell_type": "code",
   "execution_count": 212,
   "metadata": {},
   "outputs": [
    {
     "name": "stdout",
     "output_type": "stream",
     "text": [
      "Silhoutte average: [0.18206123012985367, 0.20136045360157004, 0.18310459998135187, 0.20880750380064572, 0.21884155620609458, 0.22836783385332, 0.19443568406978867, 0.19414151039245123, 0.19421658910782114, 0.18998530209411083, 0.1914369453566042, 0.19204037270546975, 0.16586544923595514, 0.1637081423190597, 0.15818389281925915, 0.16008536419639466, 0.15551155442159098, 0.15344881737171975]\n",
      "\n",
      "\n",
      "Best K: 7; Max Silhoutte: 0.22836783385332\n"
     ]
    }
   ],
   "source": [
    "silhouette_avg = []\n",
    "for num_clusters in range(2, 20):\n",
    "\n",
    "    # Produce model\n",
    "    model = KMeans(n_clusters=num_clusters)\n",
    "    model.fit(scaled_df)\n",
    "    cluster_labels = model.labels_\n",
    "\n",
    "    # Get silhoutte score\n",
    "    silhouette_avg.append(silhouette_score(scaled_df, cluster_labels))\n",
    "print(f'Silhoutte average: {silhouette_avg}')\n",
    "\n",
    "# Number of clusters for subclass will be number of clusters with greatest silhoutte score\n",
    "max_silhouette_avg = max(silhouette_avg)\n",
    "max_index = silhouette_avg.index(max_silhouette_avg)\n",
    "k = max_index + 2\n",
    "print(\"\\n\")\n",
    "print(f'Best K: {k}; Max Silhoutte: {max_silhouette_avg}')"
   ]
  },
  {
   "cell_type": "code",
   "execution_count": 213,
   "metadata": {},
   "outputs": [],
   "source": [
    "# Drop columns unnecessary for analysis\n",
    "minmax_df = df.drop(['beer_id', 'beer_name', 'beer_style', 'style_key', 'brewery',\n",
    "       'description', 'ave_rating', \"min_ibu\", \"max_ibu\",\n",
    "        \"sum_of_factors\", \"BA_Big_styles\"], axis=1)"
   ]
  },
  {
   "cell_type": "code",
   "execution_count": 214,
   "metadata": {},
   "outputs": [],
   "source": [
    "# define min max scaler\n",
    "scaler = MinMaxScaler()\n",
    "# transform data\n",
    "minmax_scaled_df = scaler.fit_transform(minmax_df)"
   ]
  },
  {
   "cell_type": "code",
   "execution_count": 215,
   "metadata": {},
   "outputs": [
    {
     "data": {},
     "metadata": {},
     "output_type": "display_data"
    },
    {
     "data": {
      "application/vnd.holoviews_exec.v0+json": "",
      "text/html": [
       "<div id='2182'>\n",
       "\n",
       "\n",
       "\n",
       "\n",
       "\n",
       "  <div class=\"bk-root\" id=\"38040f65-d728-4539-912a-cdb9a13249a1\" data-root-id=\"2182\"></div>\n",
       "</div>\n",
       "<script type=\"application/javascript\">(function(root) {\n",
       "  function embed_document(root) {\n",
       "    var docs_json = {\"f9d69157-b33c-478e-b49c-465b1d4ec9c7\":{\"defs\":[{\"extends\":null,\"module\":null,\"name\":\"ReactiveHTML1\",\"overrides\":[],\"properties\":[]},{\"extends\":null,\"module\":null,\"name\":\"FlexBox1\",\"overrides\":[],\"properties\":[{\"default\":\"flex-start\",\"kind\":null,\"name\":\"align_content\"},{\"default\":\"flex-start\",\"kind\":null,\"name\":\"align_items\"},{\"default\":\"row\",\"kind\":null,\"name\":\"flex_direction\"},{\"default\":\"wrap\",\"kind\":null,\"name\":\"flex_wrap\"},{\"default\":\"flex-start\",\"kind\":null,\"name\":\"justify_content\"}]},{\"extends\":null,\"module\":null,\"name\":\"TemplateActions1\",\"overrides\":[],\"properties\":[{\"default\":0,\"kind\":null,\"name\":\"open_modal\"},{\"default\":0,\"kind\":null,\"name\":\"close_modal\"}]},{\"extends\":null,\"module\":null,\"name\":\"MaterialTemplateActions1\",\"overrides\":[],\"properties\":[{\"default\":0,\"kind\":null,\"name\":\"open_modal\"},{\"default\":0,\"kind\":null,\"name\":\"close_modal\"}]}],\"roots\":{\"references\":[{\"attributes\":{\"margin\":[5,5,5,5],\"name\":\"HSpacer03412\",\"sizing_mode\":\"stretch_width\"},\"id\":\"2253\",\"type\":\"Spacer\"},{\"attributes\":{\"callback\":null,\"renderers\":[{\"id\":\"2223\"}],\"tags\":[\"hv_created\"],\"tooltips\":[[\"k\",\"@{k}\"],[\"inertia\",\"@{inertia}\"]]},\"id\":\"2186\",\"type\":\"HoverTool\"},{\"attributes\":{},\"id\":\"2233\",\"type\":\"BasicTickFormatter\"},{\"attributes\":{\"bottom_units\":\"screen\",\"fill_alpha\":0.5,\"fill_color\":\"lightgrey\",\"left_units\":\"screen\",\"level\":\"overlay\",\"line_alpha\":1.0,\"line_color\":\"black\",\"line_dash\":[4,4],\"line_width\":2,\"right_units\":\"screen\",\"syncable\":false,\"top_units\":\"screen\"},\"id\":\"2209\",\"type\":\"BoxAnnotation\"},{\"attributes\":{},\"id\":\"2228\",\"type\":\"BasicTickFormatter\"},{\"attributes\":{},\"id\":\"2229\",\"type\":\"AllLabels\"},{\"attributes\":{},\"id\":\"2192\",\"type\":\"LinearScale\"},{\"attributes\":{\"ticks\":[1,2,3,4,5,6,7,8,9,10,11,12,13,14,15,16,17,18,19,20]},\"id\":\"2226\",\"type\":\"FixedTicker\"},{\"attributes\":{},\"id\":\"2205\",\"type\":\"PanTool\"},{\"attributes\":{\"active_multi\":null,\"tools\":[{\"id\":\"2186\"},{\"id\":\"2204\"},{\"id\":\"2205\"},{\"id\":\"2206\"},{\"id\":\"2207\"},{\"id\":\"2208\"}]},\"id\":\"2210\",\"type\":\"Toolbar\"},{\"attributes\":{\"children\":[{\"id\":\"2183\"},{\"id\":\"2187\"},{\"id\":\"2253\"}],\"margin\":[0,0,0,0],\"name\":\"Row03407\",\"tags\":[\"embedded\"]},\"id\":\"2182\",\"type\":\"Row\"},{\"attributes\":{\"axis\":{\"id\":\"2196\"},\"grid_line_color\":null,\"ticker\":null},\"id\":\"2199\",\"type\":\"Grid\"},{\"attributes\":{},\"id\":\"2194\",\"type\":\"LinearScale\"},{\"attributes\":{\"axis\":{\"id\":\"2200\"},\"dimension\":1,\"grid_line_color\":null,\"ticker\":null},\"id\":\"2203\",\"type\":\"Grid\"},{\"attributes\":{\"margin\":[5,5,5,5],\"name\":\"HSpacer03411\",\"sizing_mode\":\"stretch_width\"},\"id\":\"2183\",\"type\":\"Spacer\"},{\"attributes\":{\"axis_label\":\"k\",\"formatter\":{\"id\":\"2228\"},\"major_label_policy\":{\"id\":\"2229\"},\"ticker\":{\"id\":\"2226\"}},\"id\":\"2196\",\"type\":\"LinearAxis\"},{\"attributes\":{},\"id\":\"2234\",\"type\":\"AllLabels\"},{\"attributes\":{\"axis_label\":\"inertia\",\"formatter\":{\"id\":\"2233\"},\"major_label_policy\":{\"id\":\"2234\"},\"ticker\":{\"id\":\"2201\"}},\"id\":\"2200\",\"type\":\"LinearAxis\"},{\"attributes\":{},\"id\":\"2201\",\"type\":\"BasicTicker\"},{\"attributes\":{},\"id\":\"2206\",\"type\":\"WheelZoomTool\"},{\"attributes\":{},\"id\":\"2204\",\"type\":\"SaveTool\"},{\"attributes\":{\"overlay\":{\"id\":\"2209\"}},\"id\":\"2207\",\"type\":\"BoxZoomTool\"},{\"attributes\":{},\"id\":\"2208\",\"type\":\"ResetTool\"},{\"attributes\":{},\"id\":\"2243\",\"type\":\"UnionRenderers\"},{\"attributes\":{\"text\":\"Elbow Curve\",\"text_color\":\"black\",\"text_font_size\":\"12pt\"},\"id\":\"2188\",\"type\":\"Title\"},{\"attributes\":{\"data_source\":{\"id\":\"2217\"},\"glyph\":{\"id\":\"2220\"},\"hover_glyph\":null,\"muted_glyph\":{\"id\":\"2222\"},\"nonselection_glyph\":{\"id\":\"2221\"},\"selection_glyph\":{\"id\":\"2225\"},\"view\":{\"id\":\"2224\"}},\"id\":\"2223\",\"type\":\"GlyphRenderer\"},{\"attributes\":{\"source\":{\"id\":\"2217\"}},\"id\":\"2224\",\"type\":\"CDSView\"},{\"attributes\":{\"data\":{\"inertia\":{\"__ndarray__\":\"z594SIbgk0AqrY+DAkGQQDx0hzhlj4tANiGCmi1mh0Cr+e645MKEQE/5mJ9WQ4NAJOD41IntgUA/7dIABdyAQF4/OAZ7BoBAb6NjEJPHfkDOWt9tpZl9QP9w//cDqnxAwoPNujXce0AD/i3IJBd7QIrTyno7jXpAnv4j2PfheUBubSsYST15QBGRpWYjzHhAWPuXdEEZeECFy7R97r93QA==\",\"dtype\":\"float64\",\"order\":\"little\",\"shape\":[20]},\"k\":[1,2,3,4,5,6,7,8,9,10,11,12,13,14,15,16,17,18,19,20]},\"selected\":{\"id\":\"2218\"},\"selection_policy\":{\"id\":\"2243\"}},\"id\":\"2217\",\"type\":\"ColumnDataSource\"},{\"attributes\":{\"line_color\":\"#30a2da\",\"line_width\":2,\"x\":{\"field\":\"k\"},\"y\":{\"field\":\"inertia\"}},\"id\":\"2225\",\"type\":\"Line\"},{\"attributes\":{\"line_alpha\":0.1,\"line_color\":\"#30a2da\",\"line_width\":2,\"x\":{\"field\":\"k\"},\"y\":{\"field\":\"inertia\"}},\"id\":\"2221\",\"type\":\"Line\"},{\"attributes\":{\"end\":1361.3446768785536,\"reset_end\":1361.3446768785536,\"reset_start\":290.78218430364427,\"start\":290.78218430364427,\"tags\":[[[\"inertia\",\"inertia\",null]]]},\"id\":\"2185\",\"type\":\"Range1d\"},{\"attributes\":{\"line_color\":\"#30a2da\",\"line_width\":2,\"x\":{\"field\":\"k\"},\"y\":{\"field\":\"inertia\"}},\"id\":\"2220\",\"type\":\"Line\"},{\"attributes\":{\"line_alpha\":0.2,\"line_color\":\"#30a2da\",\"line_width\":2,\"x\":{\"field\":\"k\"},\"y\":{\"field\":\"inertia\"}},\"id\":\"2222\",\"type\":\"Line\"},{\"attributes\":{},\"id\":\"2218\",\"type\":\"Selection\"},{\"attributes\":{\"below\":[{\"id\":\"2196\"}],\"center\":[{\"id\":\"2199\"},{\"id\":\"2203\"}],\"height\":300,\"left\":[{\"id\":\"2200\"}],\"margin\":[5,5,5,5],\"min_border_bottom\":10,\"min_border_left\":10,\"min_border_right\":10,\"min_border_top\":10,\"renderers\":[{\"id\":\"2223\"}],\"sizing_mode\":\"fixed\",\"title\":{\"id\":\"2188\"},\"toolbar\":{\"id\":\"2210\"},\"width\":700,\"x_range\":{\"id\":\"2184\"},\"x_scale\":{\"id\":\"2192\"},\"y_range\":{\"id\":\"2185\"},\"y_scale\":{\"id\":\"2194\"}},\"id\":\"2187\",\"subtype\":\"Figure\",\"type\":\"Plot\"},{\"attributes\":{\"end\":20.0,\"reset_end\":20.0,\"reset_start\":1.0,\"start\":1.0,\"tags\":[[[\"k\",\"k\",null]]]},\"id\":\"2184\",\"type\":\"Range1d\"}],\"root_ids\":[\"2182\"]},\"title\":\"Bokeh Application\",\"version\":\"2.3.2\"}};\n",
       "    var render_items = [{\"docid\":\"f9d69157-b33c-478e-b49c-465b1d4ec9c7\",\"root_ids\":[\"2182\"],\"roots\":{\"2182\":\"38040f65-d728-4539-912a-cdb9a13249a1\"}}];\n",
       "    root.Bokeh.embed.embed_items_notebook(docs_json, render_items);\n",
       "  }\n",
       "  if (root.Bokeh !== undefined && root.Bokeh.Panel !== undefined) {\n",
       "    embed_document(root);\n",
       "  } else {\n",
       "    var attempts = 0;\n",
       "    var timer = setInterval(function(root) {\n",
       "      if (root.Bokeh !== undefined && root.Bokeh.Panel !== undefined) {\n",
       "        clearInterval(timer);\n",
       "        embed_document(root);\n",
       "      } else if (document.readyState == \"complete\") {\n",
       "        attempts++;\n",
       "        if (attempts > 200) {\n",
       "          clearInterval(timer);\n",
       "          console.log(\"Bokeh: ERROR: Unable to run BokehJS code because BokehJS library is missing\");\n",
       "        }\n",
       "      }\n",
       "    }, 25, root)\n",
       "  }\n",
       "})(window);</script>"
      ],
      "text/plain": [
       ":Curve   [k]   (inertia)"
      ]
     },
     "execution_count": 215,
     "metadata": {
      "application/vnd.holoviews_exec.v0+json": {
       "id": "2182"
      }
     },
     "output_type": "execute_result"
    }
   ],
   "source": [
    "# Create Elbow Plot\n",
    "inertia = []\n",
    "k = list(range(1, 21))\n",
    "\n",
    "for i in k:\n",
    "    km = KMeans(n_clusters=i, random_state=0)\n",
    "    km.fit(minmax_scaled_df)\n",
    "    inertia.append(km.inertia_)\n",
    "    \n",
    "# Define a DataFrame to plot the Elbow Curve using hvPlot\n",
    "elbow_data = {\"k\": k, \"inertia\": inertia}\n",
    "df_elbow = pd.DataFrame(elbow_data)\n",
    "df_elbow.hvplot.line(x=\"k\", y=\"inertia\", title=\"Elbow Curve\", xticks=k)"
   ]
  },
  {
   "cell_type": "code",
   "execution_count": 216,
   "metadata": {},
   "outputs": [
    {
     "name": "stdout",
     "output_type": "stream",
     "text": [
      "Silhoutte average: [0.21560618889493077, 0.18622869618263804, 0.20534219328642334, 0.22291567721468009, 0.1825373607969787, 0.19535613687358075, 0.1927836173644396, 0.18726691936142248, 0.18253560714142072, 0.18664639356102333, 0.18337175982902756, 0.18010769625441178, 0.17737833798783126, 0.15927093898945585, 0.1752758606720499, 0.17619675928788117, 0.15612624860616253, 0.1585321024086346]\n",
      "\n",
      "\n",
      "Best K: 5; Max Silhoutte: 0.22291567721468009\n"
     ]
    }
   ],
   "source": [
    "silhouette_avg = []\n",
    "for num_clusters in range(2, 20):\n",
    "\n",
    "    # Produce model\n",
    "    model = KMeans(n_clusters=num_clusters)\n",
    "    model.fit(minmax_scaled_df)\n",
    "    cluster_labels = model.labels_\n",
    "\n",
    "    # Get silhoutte score\n",
    "    silhouette_avg.append(silhouette_score(minmax_scaled_df, cluster_labels))\n",
    "print(f'Silhoutte average: {silhouette_avg}')\n",
    "\n",
    "# Number of clusters for subclass will be number of clusters with greatest silhoutte score\n",
    "max_silhouette_avg = max(silhouette_avg)\n",
    "max_index = silhouette_avg.index(max_silhouette_avg)\n",
    "k = max_index + 2\n",
    "print(\"\\n\")\n",
    "print(f'Best K: {k}; Max Silhoutte: {max_silhouette_avg}')"
   ]
  },
  {
   "cell_type": "markdown",
   "metadata": {},
   "source": [
    "Notes: Ran k-means using min/max and standard scaler; the standard scaler resulted in a slightly higher silhoutte score - will proceed with 7 clusters and scale with the standard scaler"
   ]
  },
  {
   "cell_type": "code",
   "execution_count": 217,
   "metadata": {},
   "outputs": [
    {
     "data": {
      "text/html": [
       "<div>\n",
       "<style scoped>\n",
       "    .dataframe tbody tr th:only-of-type {\n",
       "        vertical-align: middle;\n",
       "    }\n",
       "\n",
       "    .dataframe tbody tr th {\n",
       "        vertical-align: top;\n",
       "    }\n",
       "\n",
       "    .dataframe thead th {\n",
       "        text-align: right;\n",
       "    }\n",
       "</style>\n",
       "<table border=\"1\" class=\"dataframe\">\n",
       "  <thead>\n",
       "    <tr style=\"text-align: right;\">\n",
       "      <th></th>\n",
       "      <th>abv</th>\n",
       "      <th>astringency</th>\n",
       "      <th>body</th>\n",
       "      <th>alcohol</th>\n",
       "      <th>bitter</th>\n",
       "      <th>sweet</th>\n",
       "      <th>sour</th>\n",
       "      <th>salty</th>\n",
       "      <th>fruits</th>\n",
       "      <th>hoppy</th>\n",
       "      <th>spices</th>\n",
       "      <th>malty</th>\n",
       "      <th>class</th>\n",
       "    </tr>\n",
       "  </thead>\n",
       "  <tbody>\n",
       "    <tr>\n",
       "      <th>1</th>\n",
       "      <td>6.0</td>\n",
       "      <td>48</td>\n",
       "      <td>41</td>\n",
       "      <td>4</td>\n",
       "      <td>14</td>\n",
       "      <td>53</td>\n",
       "      <td>160</td>\n",
       "      <td>0</td>\n",
       "      <td>80</td>\n",
       "      <td>26</td>\n",
       "      <td>5</td>\n",
       "      <td>28</td>\n",
       "      <td>0</td>\n",
       "    </tr>\n",
       "    <tr>\n",
       "      <th>3</th>\n",
       "      <td>5.3</td>\n",
       "      <td>13</td>\n",
       "      <td>32</td>\n",
       "      <td>9</td>\n",
       "      <td>47</td>\n",
       "      <td>74</td>\n",
       "      <td>33</td>\n",
       "      <td>0</td>\n",
       "      <td>33</td>\n",
       "      <td>57</td>\n",
       "      <td>8</td>\n",
       "      <td>111</td>\n",
       "      <td>6</td>\n",
       "    </tr>\n",
       "    <tr>\n",
       "      <th>4</th>\n",
       "      <td>7.2</td>\n",
       "      <td>12</td>\n",
       "      <td>57</td>\n",
       "      <td>18</td>\n",
       "      <td>33</td>\n",
       "      <td>55</td>\n",
       "      <td>16</td>\n",
       "      <td>0</td>\n",
       "      <td>24</td>\n",
       "      <td>35</td>\n",
       "      <td>12</td>\n",
       "      <td>84</td>\n",
       "      <td>6</td>\n",
       "    </tr>\n",
       "    <tr>\n",
       "      <th>5</th>\n",
       "      <td>5.0</td>\n",
       "      <td>14</td>\n",
       "      <td>37</td>\n",
       "      <td>6</td>\n",
       "      <td>42</td>\n",
       "      <td>43</td>\n",
       "      <td>11</td>\n",
       "      <td>0</td>\n",
       "      <td>10</td>\n",
       "      <td>54</td>\n",
       "      <td>4</td>\n",
       "      <td>62</td>\n",
       "      <td>6</td>\n",
       "    </tr>\n",
       "    <tr>\n",
       "      <th>6</th>\n",
       "      <td>8.5</td>\n",
       "      <td>13</td>\n",
       "      <td>55</td>\n",
       "      <td>31</td>\n",
       "      <td>47</td>\n",
       "      <td>101</td>\n",
       "      <td>18</td>\n",
       "      <td>1</td>\n",
       "      <td>49</td>\n",
       "      <td>40</td>\n",
       "      <td>16</td>\n",
       "      <td>119</td>\n",
       "      <td>8</td>\n",
       "    </tr>\n",
       "  </tbody>\n",
       "</table>\n",
       "</div>"
      ],
      "text/plain": [
       "   abv  astringency  body  alcohol  bitter  sweet  sour  salty  fruits  hoppy  \\\n",
       "1  6.0           48    41        4      14     53   160      0      80     26   \n",
       "3  5.3           13    32        9      47     74    33      0      33     57   \n",
       "4  7.2           12    57       18      33     55    16      0      24     35   \n",
       "5  5.0           14    37        6      42     43    11      0      10     54   \n",
       "6  8.5           13    55       31      47    101    18      1      49     40   \n",
       "\n",
       "   spices  malty  class  \n",
       "1       5     28      0  \n",
       "3       8    111      6  \n",
       "4      12     84      6  \n",
       "5       4     62      6  \n",
       "6      16    119      8  "
      ]
     },
     "execution_count": 217,
     "metadata": {},
     "output_type": "execute_result"
    }
   ],
   "source": [
    "# Initializing model with K = 7\n",
    "clusters = 10\n",
    "model = KMeans(n_clusters=clusters)\n",
    "\n",
    "# Fit model\n",
    "model.fit(scaled_df)\n",
    "\n",
    "# Get predictions\n",
    "predictions = model.predict(scaled_df)\n",
    "\n",
    "# Add a new class column to the df\n",
    "new_df[\"class\"] = model.labels_\n",
    "new_df.head()"
   ]
  },
  {
   "cell_type": "code",
   "execution_count": 218,
   "metadata": {},
   "outputs": [],
   "source": [
    "# Select columns from original df to add to newdf\n",
    "combined_df = new_df.join(df[[\"beer_style\", \"ave_rating\", \"BA_Big_styles\", 'beer_name', 'brewery']])"
   ]
  },
  {
   "cell_type": "code",
   "execution_count": 219,
   "metadata": {},
   "outputs": [
    {
     "data": {
      "text/html": [
       "<div>\n",
       "<style scoped>\n",
       "    .dataframe tbody tr th:only-of-type {\n",
       "        vertical-align: middle;\n",
       "    }\n",
       "\n",
       "    .dataframe tbody tr th {\n",
       "        vertical-align: top;\n",
       "    }\n",
       "\n",
       "    .dataframe thead th {\n",
       "        text-align: right;\n",
       "    }\n",
       "</style>\n",
       "<table border=\"1\" class=\"dataframe\">\n",
       "  <thead>\n",
       "    <tr style=\"text-align: right;\">\n",
       "      <th></th>\n",
       "      <th>abv</th>\n",
       "      <th>astringency</th>\n",
       "      <th>body</th>\n",
       "      <th>alcohol</th>\n",
       "      <th>bitter</th>\n",
       "      <th>sweet</th>\n",
       "      <th>sour</th>\n",
       "      <th>salty</th>\n",
       "      <th>fruits</th>\n",
       "      <th>hoppy</th>\n",
       "      <th>spices</th>\n",
       "      <th>malty</th>\n",
       "      <th>class</th>\n",
       "      <th>ave_rating</th>\n",
       "    </tr>\n",
       "    <tr>\n",
       "      <th>BA_Big_styles</th>\n",
       "      <th></th>\n",
       "      <th></th>\n",
       "      <th></th>\n",
       "      <th></th>\n",
       "      <th></th>\n",
       "      <th></th>\n",
       "      <th></th>\n",
       "      <th></th>\n",
       "      <th></th>\n",
       "      <th></th>\n",
       "      <th></th>\n",
       "      <th></th>\n",
       "      <th></th>\n",
       "      <th></th>\n",
       "    </tr>\n",
       "  </thead>\n",
       "  <tbody>\n",
       "    <tr>\n",
       "      <th>Wild/Sour</th>\n",
       "      <td>6.0</td>\n",
       "      <td>31.0</td>\n",
       "      <td>30.0</td>\n",
       "      <td>9.0</td>\n",
       "      <td>6.0</td>\n",
       "      <td>57.0</td>\n",
       "      <td>133.0</td>\n",
       "      <td>1.0</td>\n",
       "      <td>87.0</td>\n",
       "      <td>12.0</td>\n",
       "      <td>7.0</td>\n",
       "      <td>24.0</td>\n",
       "      <td>0</td>\n",
       "      <td>4.070</td>\n",
       "    </tr>\n",
       "    <tr>\n",
       "      <th>Porters</th>\n",
       "      <td>6.5</td>\n",
       "      <td>10.0</td>\n",
       "      <td>88.0</td>\n",
       "      <td>12.0</td>\n",
       "      <td>53.0</td>\n",
       "      <td>65.0</td>\n",
       "      <td>9.0</td>\n",
       "      <td>0.0</td>\n",
       "      <td>11.5</td>\n",
       "      <td>24.0</td>\n",
       "      <td>17.0</td>\n",
       "      <td>119.0</td>\n",
       "      <td>2</td>\n",
       "      <td>3.965</td>\n",
       "    </tr>\n",
       "    <tr>\n",
       "      <th>Stouts</th>\n",
       "      <td>6.8</td>\n",
       "      <td>11.0</td>\n",
       "      <td>91.0</td>\n",
       "      <td>12.0</td>\n",
       "      <td>60.5</td>\n",
       "      <td>62.0</td>\n",
       "      <td>9.0</td>\n",
       "      <td>0.0</td>\n",
       "      <td>10.0</td>\n",
       "      <td>24.0</td>\n",
       "      <td>11.0</td>\n",
       "      <td>117.5</td>\n",
       "      <td>2</td>\n",
       "      <td>3.960</td>\n",
       "    </tr>\n",
       "    <tr>\n",
       "      <th>Hybrid Beers</th>\n",
       "      <td>5.5</td>\n",
       "      <td>14.0</td>\n",
       "      <td>38.5</td>\n",
       "      <td>7.0</td>\n",
       "      <td>20.5</td>\n",
       "      <td>40.5</td>\n",
       "      <td>19.5</td>\n",
       "      <td>0.0</td>\n",
       "      <td>22.0</td>\n",
       "      <td>28.0</td>\n",
       "      <td>6.5</td>\n",
       "      <td>49.0</td>\n",
       "      <td>4</td>\n",
       "      <td>3.680</td>\n",
       "    </tr>\n",
       "    <tr>\n",
       "      <th>Specialty Beers</th>\n",
       "      <td>5.8</td>\n",
       "      <td>11.0</td>\n",
       "      <td>30.0</td>\n",
       "      <td>10.0</td>\n",
       "      <td>15.0</td>\n",
       "      <td>39.0</td>\n",
       "      <td>16.0</td>\n",
       "      <td>0.0</td>\n",
       "      <td>31.0</td>\n",
       "      <td>19.0</td>\n",
       "      <td>34.0</td>\n",
       "      <td>47.0</td>\n",
       "      <td>4</td>\n",
       "      <td>3.710</td>\n",
       "    </tr>\n",
       "    <tr>\n",
       "      <th>Wheat Beers</th>\n",
       "      <td>5.3</td>\n",
       "      <td>15.0</td>\n",
       "      <td>35.0</td>\n",
       "      <td>8.0</td>\n",
       "      <td>17.0</td>\n",
       "      <td>30.0</td>\n",
       "      <td>38.0</td>\n",
       "      <td>0.0</td>\n",
       "      <td>57.0</td>\n",
       "      <td>22.0</td>\n",
       "      <td>24.0</td>\n",
       "      <td>60.0</td>\n",
       "      <td>4</td>\n",
       "      <td>3.680</td>\n",
       "    </tr>\n",
       "    <tr>\n",
       "      <th>Pale Ales</th>\n",
       "      <td>5.5</td>\n",
       "      <td>19.0</td>\n",
       "      <td>36.0</td>\n",
       "      <td>9.0</td>\n",
       "      <td>39.0</td>\n",
       "      <td>48.0</td>\n",
       "      <td>39.0</td>\n",
       "      <td>1.0</td>\n",
       "      <td>42.0</td>\n",
       "      <td>60.0</td>\n",
       "      <td>9.0</td>\n",
       "      <td>64.0</td>\n",
       "      <td>5</td>\n",
       "      <td>3.750</td>\n",
       "    </tr>\n",
       "    <tr>\n",
       "      <th>Pale Lagers</th>\n",
       "      <td>5.2</td>\n",
       "      <td>21.0</td>\n",
       "      <td>28.0</td>\n",
       "      <td>7.0</td>\n",
       "      <td>32.0</td>\n",
       "      <td>29.0</td>\n",
       "      <td>16.0</td>\n",
       "      <td>2.0</td>\n",
       "      <td>17.0</td>\n",
       "      <td>50.0</td>\n",
       "      <td>5.0</td>\n",
       "      <td>57.0</td>\n",
       "      <td>5</td>\n",
       "      <td>3.540</td>\n",
       "    </tr>\n",
       "    <tr>\n",
       "      <th>Bock</th>\n",
       "      <td>7.4</td>\n",
       "      <td>12.0</td>\n",
       "      <td>50.0</td>\n",
       "      <td>20.0</td>\n",
       "      <td>27.0</td>\n",
       "      <td>77.0</td>\n",
       "      <td>23.0</td>\n",
       "      <td>0.0</td>\n",
       "      <td>37.0</td>\n",
       "      <td>27.0</td>\n",
       "      <td>11.0</td>\n",
       "      <td>94.0</td>\n",
       "      <td>6</td>\n",
       "      <td>3.820</td>\n",
       "    </tr>\n",
       "    <tr>\n",
       "      <th>Brown Ales</th>\n",
       "      <td>5.5</td>\n",
       "      <td>12.0</td>\n",
       "      <td>51.5</td>\n",
       "      <td>9.0</td>\n",
       "      <td>36.5</td>\n",
       "      <td>62.0</td>\n",
       "      <td>13.0</td>\n",
       "      <td>0.0</td>\n",
       "      <td>16.0</td>\n",
       "      <td>34.0</td>\n",
       "      <td>8.0</td>\n",
       "      <td>103.0</td>\n",
       "      <td>6</td>\n",
       "      <td>3.725</td>\n",
       "    </tr>\n",
       "    <tr>\n",
       "      <th>Dark Ales</th>\n",
       "      <td>6.7</td>\n",
       "      <td>10.0</td>\n",
       "      <td>45.0</td>\n",
       "      <td>18.0</td>\n",
       "      <td>23.5</td>\n",
       "      <td>71.0</td>\n",
       "      <td>22.5</td>\n",
       "      <td>0.0</td>\n",
       "      <td>30.0</td>\n",
       "      <td>26.0</td>\n",
       "      <td>24.0</td>\n",
       "      <td>80.0</td>\n",
       "      <td>6</td>\n",
       "      <td>3.790</td>\n",
       "    </tr>\n",
       "    <tr>\n",
       "      <th>Dark Lagers</th>\n",
       "      <td>5.2</td>\n",
       "      <td>15.0</td>\n",
       "      <td>44.0</td>\n",
       "      <td>7.0</td>\n",
       "      <td>35.0</td>\n",
       "      <td>51.0</td>\n",
       "      <td>11.0</td>\n",
       "      <td>0.0</td>\n",
       "      <td>11.0</td>\n",
       "      <td>34.0</td>\n",
       "      <td>8.0</td>\n",
       "      <td>94.0</td>\n",
       "      <td>6</td>\n",
       "      <td>3.680</td>\n",
       "    </tr>\n",
       "    <tr>\n",
       "      <th>India Pale Ales</th>\n",
       "      <td>7.1</td>\n",
       "      <td>18.0</td>\n",
       "      <td>38.0</td>\n",
       "      <td>12.0</td>\n",
       "      <td>65.0</td>\n",
       "      <td>47.0</td>\n",
       "      <td>51.0</td>\n",
       "      <td>0.0</td>\n",
       "      <td>68.0</td>\n",
       "      <td>87.0</td>\n",
       "      <td>6.0</td>\n",
       "      <td>40.0</td>\n",
       "      <td>7</td>\n",
       "      <td>4.020</td>\n",
       "    </tr>\n",
       "    <tr>\n",
       "      <th>Strong Ales</th>\n",
       "      <td>9.4</td>\n",
       "      <td>11.0</td>\n",
       "      <td>48.0</td>\n",
       "      <td>37.0</td>\n",
       "      <td>27.0</td>\n",
       "      <td>88.0</td>\n",
       "      <td>34.0</td>\n",
       "      <td>0.0</td>\n",
       "      <td>57.0</td>\n",
       "      <td>30.0</td>\n",
       "      <td>20.0</td>\n",
       "      <td>84.0</td>\n",
       "      <td>7</td>\n",
       "      <td>3.990</td>\n",
       "    </tr>\n",
       "  </tbody>\n",
       "</table>\n",
       "</div>"
      ],
      "text/plain": [
       "                 abv  astringency  body  alcohol  bitter  sweet   sour  salty  \\\n",
       "BA_Big_styles                                                                   \n",
       "Wild/Sour        6.0         31.0  30.0      9.0     6.0   57.0  133.0    1.0   \n",
       "Porters          6.5         10.0  88.0     12.0    53.0   65.0    9.0    0.0   \n",
       "Stouts           6.8         11.0  91.0     12.0    60.5   62.0    9.0    0.0   \n",
       "Hybrid Beers     5.5         14.0  38.5      7.0    20.5   40.5   19.5    0.0   \n",
       "Specialty Beers  5.8         11.0  30.0     10.0    15.0   39.0   16.0    0.0   \n",
       "Wheat Beers      5.3         15.0  35.0      8.0    17.0   30.0   38.0    0.0   \n",
       "Pale Ales        5.5         19.0  36.0      9.0    39.0   48.0   39.0    1.0   \n",
       "Pale Lagers      5.2         21.0  28.0      7.0    32.0   29.0   16.0    2.0   \n",
       "Bock             7.4         12.0  50.0     20.0    27.0   77.0   23.0    0.0   \n",
       "Brown Ales       5.5         12.0  51.5      9.0    36.5   62.0   13.0    0.0   \n",
       "Dark Ales        6.7         10.0  45.0     18.0    23.5   71.0   22.5    0.0   \n",
       "Dark Lagers      5.2         15.0  44.0      7.0    35.0   51.0   11.0    0.0   \n",
       "India Pale Ales  7.1         18.0  38.0     12.0    65.0   47.0   51.0    0.0   \n",
       "Strong Ales      9.4         11.0  48.0     37.0    27.0   88.0   34.0    0.0   \n",
       "\n",
       "                 fruits  hoppy  spices  malty  class  ave_rating  \n",
       "BA_Big_styles                                                     \n",
       "Wild/Sour          87.0   12.0     7.0   24.0      0       4.070  \n",
       "Porters            11.5   24.0    17.0  119.0      2       3.965  \n",
       "Stouts             10.0   24.0    11.0  117.5      2       3.960  \n",
       "Hybrid Beers       22.0   28.0     6.5   49.0      4       3.680  \n",
       "Specialty Beers    31.0   19.0    34.0   47.0      4       3.710  \n",
       "Wheat Beers        57.0   22.0    24.0   60.0      4       3.680  \n",
       "Pale Ales          42.0   60.0     9.0   64.0      5       3.750  \n",
       "Pale Lagers        17.0   50.0     5.0   57.0      5       3.540  \n",
       "Bock               37.0   27.0    11.0   94.0      6       3.820  \n",
       "Brown Ales         16.0   34.0     8.0  103.0      6       3.725  \n",
       "Dark Ales          30.0   26.0    24.0   80.0      6       3.790  \n",
       "Dark Lagers        11.0   34.0     8.0   94.0      6       3.680  \n",
       "India Pale Ales    68.0   87.0     6.0   40.0      7       4.020  \n",
       "Strong Ales        57.0   30.0    20.0   84.0      7       3.990  "
      ]
     },
     "execution_count": 219,
     "metadata": {},
     "output_type": "execute_result"
    }
   ],
   "source": [
    "# View dataframe grouped by major style\n",
    "combined_df.groupby([\"BA_Big_styles\"]).median().sort_values([\"class\"])"
   ]
  },
  {
   "cell_type": "code",
   "execution_count": 220,
   "metadata": {},
   "outputs": [
    {
     "data": {
      "text/html": [
       "<div>\n",
       "<style scoped>\n",
       "    .dataframe tbody tr th:only-of-type {\n",
       "        vertical-align: middle;\n",
       "    }\n",
       "\n",
       "    .dataframe tbody tr th {\n",
       "        vertical-align: top;\n",
       "    }\n",
       "\n",
       "    .dataframe thead th {\n",
       "        text-align: right;\n",
       "    }\n",
       "</style>\n",
       "<table border=\"1\" class=\"dataframe\">\n",
       "  <thead>\n",
       "    <tr style=\"text-align: right;\">\n",
       "      <th></th>\n",
       "      <th>class</th>\n",
       "      <th>abv</th>\n",
       "      <th>astringency</th>\n",
       "      <th>body</th>\n",
       "      <th>alcohol</th>\n",
       "      <th>bitter</th>\n",
       "      <th>sweet</th>\n",
       "      <th>sour</th>\n",
       "      <th>salty</th>\n",
       "      <th>fruits</th>\n",
       "      <th>hoppy</th>\n",
       "      <th>spices</th>\n",
       "      <th>malty</th>\n",
       "      <th>ave_rating</th>\n",
       "    </tr>\n",
       "  </thead>\n",
       "  <tbody>\n",
       "    <tr>\n",
       "      <th>0</th>\n",
       "      <td>0</td>\n",
       "      <td>6.332973</td>\n",
       "      <td>35.783784</td>\n",
       "      <td>34.449631</td>\n",
       "      <td>11.813268</td>\n",
       "      <td>14.368550</td>\n",
       "      <td>74.162162</td>\n",
       "      <td>142.272727</td>\n",
       "      <td>1.734644</td>\n",
       "      <td>104.358722</td>\n",
       "      <td>23.452088</td>\n",
       "      <td>12.717445</td>\n",
       "      <td>32.267813</td>\n",
       "      <td>4.083170</td>\n",
       "    </tr>\n",
       "    <tr>\n",
       "      <th>1</th>\n",
       "      <td>1</td>\n",
       "      <td>6.631401</td>\n",
       "      <td>12.136187</td>\n",
       "      <td>52.568093</td>\n",
       "      <td>17.571984</td>\n",
       "      <td>25.750973</td>\n",
       "      <td>47.793774</td>\n",
       "      <td>18.256809</td>\n",
       "      <td>1.132296</td>\n",
       "      <td>34.536965</td>\n",
       "      <td>23.182879</td>\n",
       "      <td>98.046693</td>\n",
       "      <td>72.439689</td>\n",
       "      <td>3.760156</td>\n",
       "    </tr>\n",
       "    <tr>\n",
       "      <th>2</th>\n",
       "      <td>2</td>\n",
       "      <td>7.325740</td>\n",
       "      <td>13.095672</td>\n",
       "      <td>101.373576</td>\n",
       "      <td>16.904328</td>\n",
       "      <td>75.462415</td>\n",
       "      <td>77.840547</td>\n",
       "      <td>13.621868</td>\n",
       "      <td>0.530752</td>\n",
       "      <td>18.498861</td>\n",
       "      <td>36.086560</td>\n",
       "      <td>18.596811</td>\n",
       "      <td>142.104784</td>\n",
       "      <td>4.003576</td>\n",
       "    </tr>\n",
       "    <tr>\n",
       "      <th>3</th>\n",
       "      <td>3</td>\n",
       "      <td>10.669370</td>\n",
       "      <td>9.762963</td>\n",
       "      <td>69.262963</td>\n",
       "      <td>69.374074</td>\n",
       "      <td>34.537037</td>\n",
       "      <td>105.929630</td>\n",
       "      <td>27.996296</td>\n",
       "      <td>0.429630</td>\n",
       "      <td>52.518519</td>\n",
       "      <td>26.444444</td>\n",
       "      <td>31.470370</td>\n",
       "      <td>119.792593</td>\n",
       "      <td>4.073222</td>\n",
       "    </tr>\n",
       "    <tr>\n",
       "      <th>4</th>\n",
       "      <td>4</td>\n",
       "      <td>5.754089</td>\n",
       "      <td>10.002130</td>\n",
       "      <td>20.261981</td>\n",
       "      <td>6.291800</td>\n",
       "      <td>14.899894</td>\n",
       "      <td>23.626198</td>\n",
       "      <td>18.021299</td>\n",
       "      <td>0.642173</td>\n",
       "      <td>20.191693</td>\n",
       "      <td>19.774228</td>\n",
       "      <td>9.944622</td>\n",
       "      <td>33.206603</td>\n",
       "      <td>3.502993</td>\n",
       "    </tr>\n",
       "    <tr>\n",
       "      <th>5</th>\n",
       "      <td>5</td>\n",
       "      <td>5.199047</td>\n",
       "      <td>28.450000</td>\n",
       "      <td>33.609375</td>\n",
       "      <td>7.814063</td>\n",
       "      <td>43.439062</td>\n",
       "      <td>34.939062</td>\n",
       "      <td>31.737500</td>\n",
       "      <td>2.992188</td>\n",
       "      <td>34.126562</td>\n",
       "      <td>68.117188</td>\n",
       "      <td>11.345313</td>\n",
       "      <td>66.629688</td>\n",
       "      <td>3.641438</td>\n",
       "    </tr>\n",
       "    <tr>\n",
       "      <th>6</th>\n",
       "      <td>6</td>\n",
       "      <td>5.551998</td>\n",
       "      <td>14.298454</td>\n",
       "      <td>54.502973</td>\n",
       "      <td>10.147444</td>\n",
       "      <td>39.318668</td>\n",
       "      <td>60.878716</td>\n",
       "      <td>16.525565</td>\n",
       "      <td>0.668252</td>\n",
       "      <td>20.022592</td>\n",
       "      <td>39.898930</td>\n",
       "      <td>10.976219</td>\n",
       "      <td>101.470868</td>\n",
       "      <td>3.663639</td>\n",
       "    </tr>\n",
       "    <tr>\n",
       "      <th>7</th>\n",
       "      <td>7</td>\n",
       "      <td>7.219583</td>\n",
       "      <td>20.326389</td>\n",
       "      <td>44.538194</td>\n",
       "      <td>15.555556</td>\n",
       "      <td>73.390625</td>\n",
       "      <td>55.300347</td>\n",
       "      <td>54.739583</td>\n",
       "      <td>1.032986</td>\n",
       "      <td>72.255208</td>\n",
       "      <td>99.262153</td>\n",
       "      <td>12.331597</td>\n",
       "      <td>65.904514</td>\n",
       "      <td>3.980503</td>\n",
       "    </tr>\n",
       "    <tr>\n",
       "      <th>8</th>\n",
       "      <td>8</td>\n",
       "      <td>8.396932</td>\n",
       "      <td>12.938640</td>\n",
       "      <td>43.203980</td>\n",
       "      <td>29.988391</td>\n",
       "      <td>23.363184</td>\n",
       "      <td>85.877280</td>\n",
       "      <td>39.854063</td>\n",
       "      <td>0.601990</td>\n",
       "      <td>59.686567</td>\n",
       "      <td>28.810945</td>\n",
       "      <td>23.451078</td>\n",
       "      <td>68.623549</td>\n",
       "      <td>3.781575</td>\n",
       "    </tr>\n",
       "    <tr>\n",
       "      <th>9</th>\n",
       "      <td>9</td>\n",
       "      <td>4.919231</td>\n",
       "      <td>28.961538</td>\n",
       "      <td>33.153846</td>\n",
       "      <td>9.750000</td>\n",
       "      <td>14.173077</td>\n",
       "      <td>44.057692</td>\n",
       "      <td>112.346154</td>\n",
       "      <td>34.576923</td>\n",
       "      <td>80.326923</td>\n",
       "      <td>29.788462</td>\n",
       "      <td>11.480769</td>\n",
       "      <td>47.846154</td>\n",
       "      <td>3.914423</td>\n",
       "    </tr>\n",
       "  </tbody>\n",
       "</table>\n",
       "</div>"
      ],
      "text/plain": [
       "   class        abv  astringency        body    alcohol     bitter  \\\n",
       "0      0   6.332973    35.783784   34.449631  11.813268  14.368550   \n",
       "1      1   6.631401    12.136187   52.568093  17.571984  25.750973   \n",
       "2      2   7.325740    13.095672  101.373576  16.904328  75.462415   \n",
       "3      3  10.669370     9.762963   69.262963  69.374074  34.537037   \n",
       "4      4   5.754089    10.002130   20.261981   6.291800  14.899894   \n",
       "5      5   5.199047    28.450000   33.609375   7.814063  43.439062   \n",
       "6      6   5.551998    14.298454   54.502973  10.147444  39.318668   \n",
       "7      7   7.219583    20.326389   44.538194  15.555556  73.390625   \n",
       "8      8   8.396932    12.938640   43.203980  29.988391  23.363184   \n",
       "9      9   4.919231    28.961538   33.153846   9.750000  14.173077   \n",
       "\n",
       "        sweet        sour      salty      fruits      hoppy     spices  \\\n",
       "0   74.162162  142.272727   1.734644  104.358722  23.452088  12.717445   \n",
       "1   47.793774   18.256809   1.132296   34.536965  23.182879  98.046693   \n",
       "2   77.840547   13.621868   0.530752   18.498861  36.086560  18.596811   \n",
       "3  105.929630   27.996296   0.429630   52.518519  26.444444  31.470370   \n",
       "4   23.626198   18.021299   0.642173   20.191693  19.774228   9.944622   \n",
       "5   34.939062   31.737500   2.992188   34.126562  68.117188  11.345313   \n",
       "6   60.878716   16.525565   0.668252   20.022592  39.898930  10.976219   \n",
       "7   55.300347   54.739583   1.032986   72.255208  99.262153  12.331597   \n",
       "8   85.877280   39.854063   0.601990   59.686567  28.810945  23.451078   \n",
       "9   44.057692  112.346154  34.576923   80.326923  29.788462  11.480769   \n",
       "\n",
       "        malty  ave_rating  \n",
       "0   32.267813    4.083170  \n",
       "1   72.439689    3.760156  \n",
       "2  142.104784    4.003576  \n",
       "3  119.792593    4.073222  \n",
       "4   33.206603    3.502993  \n",
       "5   66.629688    3.641438  \n",
       "6  101.470868    3.663639  \n",
       "7   65.904514    3.980503  \n",
       "8   68.623549    3.781575  \n",
       "9   47.846154    3.914423  "
      ]
     },
     "execution_count": 220,
     "metadata": {},
     "output_type": "execute_result"
    }
   ],
   "source": [
    "# Create DF for barcharts\n",
    "bar_df = combined_df.groupby([\"class\"]).mean().sort_values([\"class\"])\n",
    "bar_df.reset_index(inplace=True)\n",
    "bar_df"
   ]
  },
  {
   "cell_type": "code",
   "execution_count": 221,
   "metadata": {},
   "outputs": [
    {
     "data": {
      "application/vnd.plotly.v1+json": {
       "config": {
        "plotlyServerURL": "https://plot.ly"
       },
       "data": [
        {
         "alignmentgroup": "True",
         "hovertemplate": "variable=abv<br>class=%{x}<br>value=%{y}<extra></extra>",
         "legendgroup": "abv",
         "marker": {
          "color": "#636efa",
          "pattern": {
           "shape": ""
          }
         },
         "name": "abv",
         "offsetgroup": "abv",
         "orientation": "v",
         "showlegend": true,
         "textposition": "auto",
         "type": "bar",
         "x": [
          0,
          1,
          2,
          3,
          4,
          5,
          6,
          7,
          8,
          9
         ],
         "xaxis": "x",
         "y": [
          6.332972972972975,
          6.631400778210115,
          7.325740318906608,
          10.66937037037037,
          5.754089456869009,
          5.199046875000004,
          5.551997621878716,
          7.219583333333328,
          8.396932006633493,
          4.919230769230769
         ],
         "yaxis": "y"
        },
        {
         "alignmentgroup": "True",
         "hovertemplate": "variable=astringency<br>class=%{x}<br>value=%{y}<extra></extra>",
         "legendgroup": "astringency",
         "marker": {
          "color": "#EF553B",
          "pattern": {
           "shape": ""
          }
         },
         "name": "astringency",
         "offsetgroup": "astringency",
         "orientation": "v",
         "showlegend": true,
         "textposition": "auto",
         "type": "bar",
         "x": [
          0,
          1,
          2,
          3,
          4,
          5,
          6,
          7,
          8,
          9
         ],
         "xaxis": "x",
         "y": [
          35.78378378378378,
          12.136186770428015,
          13.095671981776766,
          9.762962962962963,
          10.002129925452609,
          28.45,
          14.29845422116528,
          20.32638888888889,
          12.938640132669983,
          28.96153846153846
         ],
         "yaxis": "y"
        },
        {
         "alignmentgroup": "True",
         "hovertemplate": "variable=body<br>class=%{x}<br>value=%{y}<extra></extra>",
         "legendgroup": "body",
         "marker": {
          "color": "#00cc96",
          "pattern": {
           "shape": ""
          }
         },
         "name": "body",
         "offsetgroup": "body",
         "orientation": "v",
         "showlegend": true,
         "textposition": "auto",
         "type": "bar",
         "x": [
          0,
          1,
          2,
          3,
          4,
          5,
          6,
          7,
          8,
          9
         ],
         "xaxis": "x",
         "y": [
          34.44963144963145,
          52.568093385214006,
          101.37357630979498,
          69.26296296296296,
          20.261980830670925,
          33.609375,
          54.50297265160523,
          44.53819444444444,
          43.20398009950249,
          33.15384615384615
         ],
         "yaxis": "y"
        },
        {
         "alignmentgroup": "True",
         "hovertemplate": "variable=alcohol<br>class=%{x}<br>value=%{y}<extra></extra>",
         "legendgroup": "alcohol",
         "marker": {
          "color": "#ab63fa",
          "pattern": {
           "shape": ""
          }
         },
         "name": "alcohol",
         "offsetgroup": "alcohol",
         "orientation": "v",
         "showlegend": true,
         "textposition": "auto",
         "type": "bar",
         "x": [
          0,
          1,
          2,
          3,
          4,
          5,
          6,
          7,
          8,
          9
         ],
         "xaxis": "x",
         "y": [
          11.813267813267814,
          17.571984435797667,
          16.904328018223236,
          69.37407407407407,
          6.291799787007455,
          7.8140625,
          10.1474435196195,
          15.555555555555555,
          29.988391376451077,
          9.75
         ],
         "yaxis": "y"
        },
        {
         "alignmentgroup": "True",
         "hovertemplate": "variable=bitter<br>class=%{x}<br>value=%{y}<extra></extra>",
         "legendgroup": "bitter",
         "marker": {
          "color": "#FFA15A",
          "pattern": {
           "shape": ""
          }
         },
         "name": "bitter",
         "offsetgroup": "bitter",
         "orientation": "v",
         "showlegend": true,
         "textposition": "auto",
         "type": "bar",
         "x": [
          0,
          1,
          2,
          3,
          4,
          5,
          6,
          7,
          8,
          9
         ],
         "xaxis": "x",
         "y": [
          14.368550368550368,
          25.750972762645915,
          75.4624145785877,
          34.53703703703704,
          14.89989350372737,
          43.4390625,
          39.318668252080855,
          73.390625,
          23.36318407960199,
          14.173076923076923
         ],
         "yaxis": "y"
        },
        {
         "alignmentgroup": "True",
         "hovertemplate": "variable=sweet<br>class=%{x}<br>value=%{y}<extra></extra>",
         "legendgroup": "sweet",
         "marker": {
          "color": "#19d3f3",
          "pattern": {
           "shape": ""
          }
         },
         "name": "sweet",
         "offsetgroup": "sweet",
         "orientation": "v",
         "showlegend": true,
         "textposition": "auto",
         "type": "bar",
         "x": [
          0,
          1,
          2,
          3,
          4,
          5,
          6,
          7,
          8,
          9
         ],
         "xaxis": "x",
         "y": [
          74.16216216216216,
          47.793774319066145,
          77.84054669703872,
          105.92962962962963,
          23.62619808306709,
          34.9390625,
          60.87871581450654,
          55.30034722222222,
          85.87728026533996,
          44.05769230769231
         ],
         "yaxis": "y"
        },
        {
         "alignmentgroup": "True",
         "hovertemplate": "variable=sour<br>class=%{x}<br>value=%{y}<extra></extra>",
         "legendgroup": "sour",
         "marker": {
          "color": "#FF6692",
          "pattern": {
           "shape": ""
          }
         },
         "name": "sour",
         "offsetgroup": "sour",
         "orientation": "v",
         "showlegend": true,
         "textposition": "auto",
         "type": "bar",
         "x": [
          0,
          1,
          2,
          3,
          4,
          5,
          6,
          7,
          8,
          9
         ],
         "xaxis": "x",
         "y": [
          142.27272727272728,
          18.2568093385214,
          13.621867881548974,
          27.996296296296297,
          18.02129925452609,
          31.7375,
          16.525564803804993,
          54.739583333333336,
          39.85406301824212,
          112.34615384615384
         ],
         "yaxis": "y"
        },
        {
         "alignmentgroup": "True",
         "hovertemplate": "variable=salty<br>class=%{x}<br>value=%{y}<extra></extra>",
         "legendgroup": "salty",
         "marker": {
          "color": "#B6E880",
          "pattern": {
           "shape": ""
          }
         },
         "name": "salty",
         "offsetgroup": "salty",
         "orientation": "v",
         "showlegend": true,
         "textposition": "auto",
         "type": "bar",
         "x": [
          0,
          1,
          2,
          3,
          4,
          5,
          6,
          7,
          8,
          9
         ],
         "xaxis": "x",
         "y": [
          1.7346437346437347,
          1.132295719844358,
          0.530751708428246,
          0.42962962962962964,
          0.6421725239616614,
          2.9921875,
          0.6682520808561236,
          1.0329861111111112,
          0.6019900497512438,
          34.57692307692308
         ],
         "yaxis": "y"
        },
        {
         "alignmentgroup": "True",
         "hovertemplate": "variable=fruits<br>class=%{x}<br>value=%{y}<extra></extra>",
         "legendgroup": "fruits",
         "marker": {
          "color": "#FF97FF",
          "pattern": {
           "shape": ""
          }
         },
         "name": "fruits",
         "offsetgroup": "fruits",
         "orientation": "v",
         "showlegend": true,
         "textposition": "auto",
         "type": "bar",
         "x": [
          0,
          1,
          2,
          3,
          4,
          5,
          6,
          7,
          8,
          9
         ],
         "xaxis": "x",
         "y": [
          104.35872235872236,
          34.536964980544745,
          18.49886104783599,
          52.51851851851852,
          20.191693290734825,
          34.1265625,
          20.022592152199763,
          72.25520833333333,
          59.6865671641791,
          80.32692307692308
         ],
         "yaxis": "y"
        },
        {
         "alignmentgroup": "True",
         "hovertemplate": "variable=hoppy<br>class=%{x}<br>value=%{y}<extra></extra>",
         "legendgroup": "hoppy",
         "marker": {
          "color": "#FECB52",
          "pattern": {
           "shape": ""
          }
         },
         "name": "hoppy",
         "offsetgroup": "hoppy",
         "orientation": "v",
         "showlegend": true,
         "textposition": "auto",
         "type": "bar",
         "x": [
          0,
          1,
          2,
          3,
          4,
          5,
          6,
          7,
          8,
          9
         ],
         "xaxis": "x",
         "y": [
          23.452088452088454,
          23.182879377431906,
          36.086560364464695,
          26.444444444444443,
          19.77422790202343,
          68.1171875,
          39.89892984542212,
          99.26215277777777,
          28.81094527363184,
          29.78846153846154
         ],
         "yaxis": "y"
        },
        {
         "alignmentgroup": "True",
         "hovertemplate": "variable=spices<br>class=%{x}<br>value=%{y}<extra></extra>",
         "legendgroup": "spices",
         "marker": {
          "color": "#636efa",
          "pattern": {
           "shape": ""
          }
         },
         "name": "spices",
         "offsetgroup": "spices",
         "orientation": "v",
         "showlegend": true,
         "textposition": "auto",
         "type": "bar",
         "x": [
          0,
          1,
          2,
          3,
          4,
          5,
          6,
          7,
          8,
          9
         ],
         "xaxis": "x",
         "y": [
          12.717444717444717,
          98.04669260700389,
          18.596810933940773,
          31.47037037037037,
          9.944621938232162,
          11.3453125,
          10.976218787158144,
          12.331597222222221,
          23.451077943615257,
          11.48076923076923
         ],
         "yaxis": "y"
        },
        {
         "alignmentgroup": "True",
         "hovertemplate": "variable=malty<br>class=%{x}<br>value=%{y}<extra></extra>",
         "legendgroup": "malty",
         "marker": {
          "color": "#EF553B",
          "pattern": {
           "shape": ""
          }
         },
         "name": "malty",
         "offsetgroup": "malty",
         "orientation": "v",
         "showlegend": true,
         "textposition": "auto",
         "type": "bar",
         "x": [
          0,
          1,
          2,
          3,
          4,
          5,
          6,
          7,
          8,
          9
         ],
         "xaxis": "x",
         "y": [
          32.26781326781327,
          72.43968871595331,
          142.10478359908885,
          119.7925925925926,
          33.20660276890309,
          66.6296875,
          101.47086801426873,
          65.90451388888889,
          68.62354892205639,
          47.84615384615385
         ],
         "yaxis": "y"
        }
       ],
       "layout": {
        "barmode": "relative",
        "legend": {
         "title": {
          "text": "variable"
         },
         "tracegroupgap": 0
        },
        "margin": {
         "t": 60
        },
        "template": {
         "data": {
          "bar": [
           {
            "error_x": {
             "color": "#2a3f5f"
            },
            "error_y": {
             "color": "#2a3f5f"
            },
            "marker": {
             "line": {
              "color": "#E5ECF6",
              "width": 0.5
             },
             "pattern": {
              "fillmode": "overlay",
              "size": 10,
              "solidity": 0.2
             }
            },
            "type": "bar"
           }
          ],
          "barpolar": [
           {
            "marker": {
             "line": {
              "color": "#E5ECF6",
              "width": 0.5
             },
             "pattern": {
              "fillmode": "overlay",
              "size": 10,
              "solidity": 0.2
             }
            },
            "type": "barpolar"
           }
          ],
          "carpet": [
           {
            "aaxis": {
             "endlinecolor": "#2a3f5f",
             "gridcolor": "white",
             "linecolor": "white",
             "minorgridcolor": "white",
             "startlinecolor": "#2a3f5f"
            },
            "baxis": {
             "endlinecolor": "#2a3f5f",
             "gridcolor": "white",
             "linecolor": "white",
             "minorgridcolor": "white",
             "startlinecolor": "#2a3f5f"
            },
            "type": "carpet"
           }
          ],
          "choropleth": [
           {
            "colorbar": {
             "outlinewidth": 0,
             "ticks": ""
            },
            "type": "choropleth"
           }
          ],
          "contour": [
           {
            "colorbar": {
             "outlinewidth": 0,
             "ticks": ""
            },
            "colorscale": [
             [
              0,
              "#0d0887"
             ],
             [
              0.1111111111111111,
              "#46039f"
             ],
             [
              0.2222222222222222,
              "#7201a8"
             ],
             [
              0.3333333333333333,
              "#9c179e"
             ],
             [
              0.4444444444444444,
              "#bd3786"
             ],
             [
              0.5555555555555556,
              "#d8576b"
             ],
             [
              0.6666666666666666,
              "#ed7953"
             ],
             [
              0.7777777777777778,
              "#fb9f3a"
             ],
             [
              0.8888888888888888,
              "#fdca26"
             ],
             [
              1,
              "#f0f921"
             ]
            ],
            "type": "contour"
           }
          ],
          "contourcarpet": [
           {
            "colorbar": {
             "outlinewidth": 0,
             "ticks": ""
            },
            "type": "contourcarpet"
           }
          ],
          "heatmap": [
           {
            "colorbar": {
             "outlinewidth": 0,
             "ticks": ""
            },
            "colorscale": [
             [
              0,
              "#0d0887"
             ],
             [
              0.1111111111111111,
              "#46039f"
             ],
             [
              0.2222222222222222,
              "#7201a8"
             ],
             [
              0.3333333333333333,
              "#9c179e"
             ],
             [
              0.4444444444444444,
              "#bd3786"
             ],
             [
              0.5555555555555556,
              "#d8576b"
             ],
             [
              0.6666666666666666,
              "#ed7953"
             ],
             [
              0.7777777777777778,
              "#fb9f3a"
             ],
             [
              0.8888888888888888,
              "#fdca26"
             ],
             [
              1,
              "#f0f921"
             ]
            ],
            "type": "heatmap"
           }
          ],
          "heatmapgl": [
           {
            "colorbar": {
             "outlinewidth": 0,
             "ticks": ""
            },
            "colorscale": [
             [
              0,
              "#0d0887"
             ],
             [
              0.1111111111111111,
              "#46039f"
             ],
             [
              0.2222222222222222,
              "#7201a8"
             ],
             [
              0.3333333333333333,
              "#9c179e"
             ],
             [
              0.4444444444444444,
              "#bd3786"
             ],
             [
              0.5555555555555556,
              "#d8576b"
             ],
             [
              0.6666666666666666,
              "#ed7953"
             ],
             [
              0.7777777777777778,
              "#fb9f3a"
             ],
             [
              0.8888888888888888,
              "#fdca26"
             ],
             [
              1,
              "#f0f921"
             ]
            ],
            "type": "heatmapgl"
           }
          ],
          "histogram": [
           {
            "marker": {
             "pattern": {
              "fillmode": "overlay",
              "size": 10,
              "solidity": 0.2
             }
            },
            "type": "histogram"
           }
          ],
          "histogram2d": [
           {
            "colorbar": {
             "outlinewidth": 0,
             "ticks": ""
            },
            "colorscale": [
             [
              0,
              "#0d0887"
             ],
             [
              0.1111111111111111,
              "#46039f"
             ],
             [
              0.2222222222222222,
              "#7201a8"
             ],
             [
              0.3333333333333333,
              "#9c179e"
             ],
             [
              0.4444444444444444,
              "#bd3786"
             ],
             [
              0.5555555555555556,
              "#d8576b"
             ],
             [
              0.6666666666666666,
              "#ed7953"
             ],
             [
              0.7777777777777778,
              "#fb9f3a"
             ],
             [
              0.8888888888888888,
              "#fdca26"
             ],
             [
              1,
              "#f0f921"
             ]
            ],
            "type": "histogram2d"
           }
          ],
          "histogram2dcontour": [
           {
            "colorbar": {
             "outlinewidth": 0,
             "ticks": ""
            },
            "colorscale": [
             [
              0,
              "#0d0887"
             ],
             [
              0.1111111111111111,
              "#46039f"
             ],
             [
              0.2222222222222222,
              "#7201a8"
             ],
             [
              0.3333333333333333,
              "#9c179e"
             ],
             [
              0.4444444444444444,
              "#bd3786"
             ],
             [
              0.5555555555555556,
              "#d8576b"
             ],
             [
              0.6666666666666666,
              "#ed7953"
             ],
             [
              0.7777777777777778,
              "#fb9f3a"
             ],
             [
              0.8888888888888888,
              "#fdca26"
             ],
             [
              1,
              "#f0f921"
             ]
            ],
            "type": "histogram2dcontour"
           }
          ],
          "mesh3d": [
           {
            "colorbar": {
             "outlinewidth": 0,
             "ticks": ""
            },
            "type": "mesh3d"
           }
          ],
          "parcoords": [
           {
            "line": {
             "colorbar": {
              "outlinewidth": 0,
              "ticks": ""
             }
            },
            "type": "parcoords"
           }
          ],
          "pie": [
           {
            "automargin": true,
            "type": "pie"
           }
          ],
          "scatter": [
           {
            "marker": {
             "colorbar": {
              "outlinewidth": 0,
              "ticks": ""
             }
            },
            "type": "scatter"
           }
          ],
          "scatter3d": [
           {
            "line": {
             "colorbar": {
              "outlinewidth": 0,
              "ticks": ""
             }
            },
            "marker": {
             "colorbar": {
              "outlinewidth": 0,
              "ticks": ""
             }
            },
            "type": "scatter3d"
           }
          ],
          "scattercarpet": [
           {
            "marker": {
             "colorbar": {
              "outlinewidth": 0,
              "ticks": ""
             }
            },
            "type": "scattercarpet"
           }
          ],
          "scattergeo": [
           {
            "marker": {
             "colorbar": {
              "outlinewidth": 0,
              "ticks": ""
             }
            },
            "type": "scattergeo"
           }
          ],
          "scattergl": [
           {
            "marker": {
             "colorbar": {
              "outlinewidth": 0,
              "ticks": ""
             }
            },
            "type": "scattergl"
           }
          ],
          "scattermapbox": [
           {
            "marker": {
             "colorbar": {
              "outlinewidth": 0,
              "ticks": ""
             }
            },
            "type": "scattermapbox"
           }
          ],
          "scatterpolar": [
           {
            "marker": {
             "colorbar": {
              "outlinewidth": 0,
              "ticks": ""
             }
            },
            "type": "scatterpolar"
           }
          ],
          "scatterpolargl": [
           {
            "marker": {
             "colorbar": {
              "outlinewidth": 0,
              "ticks": ""
             }
            },
            "type": "scatterpolargl"
           }
          ],
          "scatterternary": [
           {
            "marker": {
             "colorbar": {
              "outlinewidth": 0,
              "ticks": ""
             }
            },
            "type": "scatterternary"
           }
          ],
          "surface": [
           {
            "colorbar": {
             "outlinewidth": 0,
             "ticks": ""
            },
            "colorscale": [
             [
              0,
              "#0d0887"
             ],
             [
              0.1111111111111111,
              "#46039f"
             ],
             [
              0.2222222222222222,
              "#7201a8"
             ],
             [
              0.3333333333333333,
              "#9c179e"
             ],
             [
              0.4444444444444444,
              "#bd3786"
             ],
             [
              0.5555555555555556,
              "#d8576b"
             ],
             [
              0.6666666666666666,
              "#ed7953"
             ],
             [
              0.7777777777777778,
              "#fb9f3a"
             ],
             [
              0.8888888888888888,
              "#fdca26"
             ],
             [
              1,
              "#f0f921"
             ]
            ],
            "type": "surface"
           }
          ],
          "table": [
           {
            "cells": {
             "fill": {
              "color": "#EBF0F8"
             },
             "line": {
              "color": "white"
             }
            },
            "header": {
             "fill": {
              "color": "#C8D4E3"
             },
             "line": {
              "color": "white"
             }
            },
            "type": "table"
           }
          ]
         },
         "layout": {
          "annotationdefaults": {
           "arrowcolor": "#2a3f5f",
           "arrowhead": 0,
           "arrowwidth": 1
          },
          "autotypenumbers": "strict",
          "coloraxis": {
           "colorbar": {
            "outlinewidth": 0,
            "ticks": ""
           }
          },
          "colorscale": {
           "diverging": [
            [
             0,
             "#8e0152"
            ],
            [
             0.1,
             "#c51b7d"
            ],
            [
             0.2,
             "#de77ae"
            ],
            [
             0.3,
             "#f1b6da"
            ],
            [
             0.4,
             "#fde0ef"
            ],
            [
             0.5,
             "#f7f7f7"
            ],
            [
             0.6,
             "#e6f5d0"
            ],
            [
             0.7,
             "#b8e186"
            ],
            [
             0.8,
             "#7fbc41"
            ],
            [
             0.9,
             "#4d9221"
            ],
            [
             1,
             "#276419"
            ]
           ],
           "sequential": [
            [
             0,
             "#0d0887"
            ],
            [
             0.1111111111111111,
             "#46039f"
            ],
            [
             0.2222222222222222,
             "#7201a8"
            ],
            [
             0.3333333333333333,
             "#9c179e"
            ],
            [
             0.4444444444444444,
             "#bd3786"
            ],
            [
             0.5555555555555556,
             "#d8576b"
            ],
            [
             0.6666666666666666,
             "#ed7953"
            ],
            [
             0.7777777777777778,
             "#fb9f3a"
            ],
            [
             0.8888888888888888,
             "#fdca26"
            ],
            [
             1,
             "#f0f921"
            ]
           ],
           "sequentialminus": [
            [
             0,
             "#0d0887"
            ],
            [
             0.1111111111111111,
             "#46039f"
            ],
            [
             0.2222222222222222,
             "#7201a8"
            ],
            [
             0.3333333333333333,
             "#9c179e"
            ],
            [
             0.4444444444444444,
             "#bd3786"
            ],
            [
             0.5555555555555556,
             "#d8576b"
            ],
            [
             0.6666666666666666,
             "#ed7953"
            ],
            [
             0.7777777777777778,
             "#fb9f3a"
            ],
            [
             0.8888888888888888,
             "#fdca26"
            ],
            [
             1,
             "#f0f921"
            ]
           ]
          },
          "colorway": [
           "#636efa",
           "#EF553B",
           "#00cc96",
           "#ab63fa",
           "#FFA15A",
           "#19d3f3",
           "#FF6692",
           "#B6E880",
           "#FF97FF",
           "#FECB52"
          ],
          "font": {
           "color": "#2a3f5f"
          },
          "geo": {
           "bgcolor": "white",
           "lakecolor": "white",
           "landcolor": "#E5ECF6",
           "showlakes": true,
           "showland": true,
           "subunitcolor": "white"
          },
          "hoverlabel": {
           "align": "left"
          },
          "hovermode": "closest",
          "mapbox": {
           "style": "light"
          },
          "paper_bgcolor": "white",
          "plot_bgcolor": "#E5ECF6",
          "polar": {
           "angularaxis": {
            "gridcolor": "white",
            "linecolor": "white",
            "ticks": ""
           },
           "bgcolor": "#E5ECF6",
           "radialaxis": {
            "gridcolor": "white",
            "linecolor": "white",
            "ticks": ""
           }
          },
          "scene": {
           "xaxis": {
            "backgroundcolor": "#E5ECF6",
            "gridcolor": "white",
            "gridwidth": 2,
            "linecolor": "white",
            "showbackground": true,
            "ticks": "",
            "zerolinecolor": "white"
           },
           "yaxis": {
            "backgroundcolor": "#E5ECF6",
            "gridcolor": "white",
            "gridwidth": 2,
            "linecolor": "white",
            "showbackground": true,
            "ticks": "",
            "zerolinecolor": "white"
           },
           "zaxis": {
            "backgroundcolor": "#E5ECF6",
            "gridcolor": "white",
            "gridwidth": 2,
            "linecolor": "white",
            "showbackground": true,
            "ticks": "",
            "zerolinecolor": "white"
           }
          },
          "shapedefaults": {
           "line": {
            "color": "#2a3f5f"
           }
          },
          "ternary": {
           "aaxis": {
            "gridcolor": "white",
            "linecolor": "white",
            "ticks": ""
           },
           "baxis": {
            "gridcolor": "white",
            "linecolor": "white",
            "ticks": ""
           },
           "bgcolor": "#E5ECF6",
           "caxis": {
            "gridcolor": "white",
            "linecolor": "white",
            "ticks": ""
           }
          },
          "title": {
           "x": 0.05
          },
          "xaxis": {
           "automargin": true,
           "gridcolor": "white",
           "linecolor": "white",
           "ticks": "",
           "title": {
            "standoff": 15
           },
           "zerolinecolor": "white",
           "zerolinewidth": 2
          },
          "yaxis": {
           "automargin": true,
           "gridcolor": "white",
           "linecolor": "white",
           "ticks": "",
           "title": {
            "standoff": 15
           },
           "zerolinecolor": "white",
           "zerolinewidth": 2
          }
         }
        },
        "xaxis": {
         "anchor": "y",
         "domain": [
          0,
          1
         ],
         "title": {
          "text": "class"
         }
        },
        "yaxis": {
         "anchor": "x",
         "domain": [
          0,
          1
         ],
         "title": {
          "text": "value"
         }
        }
       }
      },
      "text/html": [
       "<div>                            <div id=\"495d0a62-0a96-4558-af8a-9a748e077e3d\" class=\"plotly-graph-div\" style=\"height:525px; width:100%;\"></div>            <script type=\"text/javascript\">                require([\"plotly\"], function(Plotly) {                    window.PLOTLYENV=window.PLOTLYENV || {};                                    if (document.getElementById(\"495d0a62-0a96-4558-af8a-9a748e077e3d\")) {                    Plotly.newPlot(                        \"495d0a62-0a96-4558-af8a-9a748e077e3d\",                        [{\"alignmentgroup\":\"True\",\"hovertemplate\":\"variable=abv<br>class=%{x}<br>value=%{y}<extra></extra>\",\"legendgroup\":\"abv\",\"marker\":{\"color\":\"#636efa\",\"pattern\":{\"shape\":\"\"}},\"name\":\"abv\",\"offsetgroup\":\"abv\",\"orientation\":\"v\",\"showlegend\":true,\"textposition\":\"auto\",\"type\":\"bar\",\"x\":[0,1,2,3,4,5,6,7,8,9],\"xaxis\":\"x\",\"y\":[6.332972972972975,6.631400778210115,7.325740318906608,10.66937037037037,5.754089456869009,5.199046875000004,5.551997621878716,7.219583333333328,8.396932006633493,4.919230769230769],\"yaxis\":\"y\"},{\"alignmentgroup\":\"True\",\"hovertemplate\":\"variable=astringency<br>class=%{x}<br>value=%{y}<extra></extra>\",\"legendgroup\":\"astringency\",\"marker\":{\"color\":\"#EF553B\",\"pattern\":{\"shape\":\"\"}},\"name\":\"astringency\",\"offsetgroup\":\"astringency\",\"orientation\":\"v\",\"showlegend\":true,\"textposition\":\"auto\",\"type\":\"bar\",\"x\":[0,1,2,3,4,5,6,7,8,9],\"xaxis\":\"x\",\"y\":[35.78378378378378,12.136186770428015,13.095671981776766,9.762962962962963,10.002129925452609,28.45,14.29845422116528,20.32638888888889,12.938640132669983,28.96153846153846],\"yaxis\":\"y\"},{\"alignmentgroup\":\"True\",\"hovertemplate\":\"variable=body<br>class=%{x}<br>value=%{y}<extra></extra>\",\"legendgroup\":\"body\",\"marker\":{\"color\":\"#00cc96\",\"pattern\":{\"shape\":\"\"}},\"name\":\"body\",\"offsetgroup\":\"body\",\"orientation\":\"v\",\"showlegend\":true,\"textposition\":\"auto\",\"type\":\"bar\",\"x\":[0,1,2,3,4,5,6,7,8,9],\"xaxis\":\"x\",\"y\":[34.44963144963145,52.568093385214006,101.37357630979498,69.26296296296296,20.261980830670925,33.609375,54.50297265160523,44.53819444444444,43.20398009950249,33.15384615384615],\"yaxis\":\"y\"},{\"alignmentgroup\":\"True\",\"hovertemplate\":\"variable=alcohol<br>class=%{x}<br>value=%{y}<extra></extra>\",\"legendgroup\":\"alcohol\",\"marker\":{\"color\":\"#ab63fa\",\"pattern\":{\"shape\":\"\"}},\"name\":\"alcohol\",\"offsetgroup\":\"alcohol\",\"orientation\":\"v\",\"showlegend\":true,\"textposition\":\"auto\",\"type\":\"bar\",\"x\":[0,1,2,3,4,5,6,7,8,9],\"xaxis\":\"x\",\"y\":[11.813267813267814,17.571984435797667,16.904328018223236,69.37407407407407,6.291799787007455,7.8140625,10.1474435196195,15.555555555555555,29.988391376451077,9.75],\"yaxis\":\"y\"},{\"alignmentgroup\":\"True\",\"hovertemplate\":\"variable=bitter<br>class=%{x}<br>value=%{y}<extra></extra>\",\"legendgroup\":\"bitter\",\"marker\":{\"color\":\"#FFA15A\",\"pattern\":{\"shape\":\"\"}},\"name\":\"bitter\",\"offsetgroup\":\"bitter\",\"orientation\":\"v\",\"showlegend\":true,\"textposition\":\"auto\",\"type\":\"bar\",\"x\":[0,1,2,3,4,5,6,7,8,9],\"xaxis\":\"x\",\"y\":[14.368550368550368,25.750972762645915,75.4624145785877,34.53703703703704,14.89989350372737,43.4390625,39.318668252080855,73.390625,23.36318407960199,14.173076923076923],\"yaxis\":\"y\"},{\"alignmentgroup\":\"True\",\"hovertemplate\":\"variable=sweet<br>class=%{x}<br>value=%{y}<extra></extra>\",\"legendgroup\":\"sweet\",\"marker\":{\"color\":\"#19d3f3\",\"pattern\":{\"shape\":\"\"}},\"name\":\"sweet\",\"offsetgroup\":\"sweet\",\"orientation\":\"v\",\"showlegend\":true,\"textposition\":\"auto\",\"type\":\"bar\",\"x\":[0,1,2,3,4,5,6,7,8,9],\"xaxis\":\"x\",\"y\":[74.16216216216216,47.793774319066145,77.84054669703872,105.92962962962963,23.62619808306709,34.9390625,60.87871581450654,55.30034722222222,85.87728026533996,44.05769230769231],\"yaxis\":\"y\"},{\"alignmentgroup\":\"True\",\"hovertemplate\":\"variable=sour<br>class=%{x}<br>value=%{y}<extra></extra>\",\"legendgroup\":\"sour\",\"marker\":{\"color\":\"#FF6692\",\"pattern\":{\"shape\":\"\"}},\"name\":\"sour\",\"offsetgroup\":\"sour\",\"orientation\":\"v\",\"showlegend\":true,\"textposition\":\"auto\",\"type\":\"bar\",\"x\":[0,1,2,3,4,5,6,7,8,9],\"xaxis\":\"x\",\"y\":[142.27272727272728,18.2568093385214,13.621867881548974,27.996296296296297,18.02129925452609,31.7375,16.525564803804993,54.739583333333336,39.85406301824212,112.34615384615384],\"yaxis\":\"y\"},{\"alignmentgroup\":\"True\",\"hovertemplate\":\"variable=salty<br>class=%{x}<br>value=%{y}<extra></extra>\",\"legendgroup\":\"salty\",\"marker\":{\"color\":\"#B6E880\",\"pattern\":{\"shape\":\"\"}},\"name\":\"salty\",\"offsetgroup\":\"salty\",\"orientation\":\"v\",\"showlegend\":true,\"textposition\":\"auto\",\"type\":\"bar\",\"x\":[0,1,2,3,4,5,6,7,8,9],\"xaxis\":\"x\",\"y\":[1.7346437346437347,1.132295719844358,0.530751708428246,0.42962962962962964,0.6421725239616614,2.9921875,0.6682520808561236,1.0329861111111112,0.6019900497512438,34.57692307692308],\"yaxis\":\"y\"},{\"alignmentgroup\":\"True\",\"hovertemplate\":\"variable=fruits<br>class=%{x}<br>value=%{y}<extra></extra>\",\"legendgroup\":\"fruits\",\"marker\":{\"color\":\"#FF97FF\",\"pattern\":{\"shape\":\"\"}},\"name\":\"fruits\",\"offsetgroup\":\"fruits\",\"orientation\":\"v\",\"showlegend\":true,\"textposition\":\"auto\",\"type\":\"bar\",\"x\":[0,1,2,3,4,5,6,7,8,9],\"xaxis\":\"x\",\"y\":[104.35872235872236,34.536964980544745,18.49886104783599,52.51851851851852,20.191693290734825,34.1265625,20.022592152199763,72.25520833333333,59.6865671641791,80.32692307692308],\"yaxis\":\"y\"},{\"alignmentgroup\":\"True\",\"hovertemplate\":\"variable=hoppy<br>class=%{x}<br>value=%{y}<extra></extra>\",\"legendgroup\":\"hoppy\",\"marker\":{\"color\":\"#FECB52\",\"pattern\":{\"shape\":\"\"}},\"name\":\"hoppy\",\"offsetgroup\":\"hoppy\",\"orientation\":\"v\",\"showlegend\":true,\"textposition\":\"auto\",\"type\":\"bar\",\"x\":[0,1,2,3,4,5,6,7,8,9],\"xaxis\":\"x\",\"y\":[23.452088452088454,23.182879377431906,36.086560364464695,26.444444444444443,19.77422790202343,68.1171875,39.89892984542212,99.26215277777777,28.81094527363184,29.78846153846154],\"yaxis\":\"y\"},{\"alignmentgroup\":\"True\",\"hovertemplate\":\"variable=spices<br>class=%{x}<br>value=%{y}<extra></extra>\",\"legendgroup\":\"spices\",\"marker\":{\"color\":\"#636efa\",\"pattern\":{\"shape\":\"\"}},\"name\":\"spices\",\"offsetgroup\":\"spices\",\"orientation\":\"v\",\"showlegend\":true,\"textposition\":\"auto\",\"type\":\"bar\",\"x\":[0,1,2,3,4,5,6,7,8,9],\"xaxis\":\"x\",\"y\":[12.717444717444717,98.04669260700389,18.596810933940773,31.47037037037037,9.944621938232162,11.3453125,10.976218787158144,12.331597222222221,23.451077943615257,11.48076923076923],\"yaxis\":\"y\"},{\"alignmentgroup\":\"True\",\"hovertemplate\":\"variable=malty<br>class=%{x}<br>value=%{y}<extra></extra>\",\"legendgroup\":\"malty\",\"marker\":{\"color\":\"#EF553B\",\"pattern\":{\"shape\":\"\"}},\"name\":\"malty\",\"offsetgroup\":\"malty\",\"orientation\":\"v\",\"showlegend\":true,\"textposition\":\"auto\",\"type\":\"bar\",\"x\":[0,1,2,3,4,5,6,7,8,9],\"xaxis\":\"x\",\"y\":[32.26781326781327,72.43968871595331,142.10478359908885,119.7925925925926,33.20660276890309,66.6296875,101.47086801426873,65.90451388888889,68.62354892205639,47.84615384615385],\"yaxis\":\"y\"}],                        {\"barmode\":\"relative\",\"legend\":{\"title\":{\"text\":\"variable\"},\"tracegroupgap\":0},\"margin\":{\"t\":60},\"template\":{\"data\":{\"bar\":[{\"error_x\":{\"color\":\"#2a3f5f\"},\"error_y\":{\"color\":\"#2a3f5f\"},\"marker\":{\"line\":{\"color\":\"#E5ECF6\",\"width\":0.5},\"pattern\":{\"fillmode\":\"overlay\",\"size\":10,\"solidity\":0.2}},\"type\":\"bar\"}],\"barpolar\":[{\"marker\":{\"line\":{\"color\":\"#E5ECF6\",\"width\":0.5},\"pattern\":{\"fillmode\":\"overlay\",\"size\":10,\"solidity\":0.2}},\"type\":\"barpolar\"}],\"carpet\":[{\"aaxis\":{\"endlinecolor\":\"#2a3f5f\",\"gridcolor\":\"white\",\"linecolor\":\"white\",\"minorgridcolor\":\"white\",\"startlinecolor\":\"#2a3f5f\"},\"baxis\":{\"endlinecolor\":\"#2a3f5f\",\"gridcolor\":\"white\",\"linecolor\":\"white\",\"minorgridcolor\":\"white\",\"startlinecolor\":\"#2a3f5f\"},\"type\":\"carpet\"}],\"choropleth\":[{\"colorbar\":{\"outlinewidth\":0,\"ticks\":\"\"},\"type\":\"choropleth\"}],\"contour\":[{\"colorbar\":{\"outlinewidth\":0,\"ticks\":\"\"},\"colorscale\":[[0.0,\"#0d0887\"],[0.1111111111111111,\"#46039f\"],[0.2222222222222222,\"#7201a8\"],[0.3333333333333333,\"#9c179e\"],[0.4444444444444444,\"#bd3786\"],[0.5555555555555556,\"#d8576b\"],[0.6666666666666666,\"#ed7953\"],[0.7777777777777778,\"#fb9f3a\"],[0.8888888888888888,\"#fdca26\"],[1.0,\"#f0f921\"]],\"type\":\"contour\"}],\"contourcarpet\":[{\"colorbar\":{\"outlinewidth\":0,\"ticks\":\"\"},\"type\":\"contourcarpet\"}],\"heatmap\":[{\"colorbar\":{\"outlinewidth\":0,\"ticks\":\"\"},\"colorscale\":[[0.0,\"#0d0887\"],[0.1111111111111111,\"#46039f\"],[0.2222222222222222,\"#7201a8\"],[0.3333333333333333,\"#9c179e\"],[0.4444444444444444,\"#bd3786\"],[0.5555555555555556,\"#d8576b\"],[0.6666666666666666,\"#ed7953\"],[0.7777777777777778,\"#fb9f3a\"],[0.8888888888888888,\"#fdca26\"],[1.0,\"#f0f921\"]],\"type\":\"heatmap\"}],\"heatmapgl\":[{\"colorbar\":{\"outlinewidth\":0,\"ticks\":\"\"},\"colorscale\":[[0.0,\"#0d0887\"],[0.1111111111111111,\"#46039f\"],[0.2222222222222222,\"#7201a8\"],[0.3333333333333333,\"#9c179e\"],[0.4444444444444444,\"#bd3786\"],[0.5555555555555556,\"#d8576b\"],[0.6666666666666666,\"#ed7953\"],[0.7777777777777778,\"#fb9f3a\"],[0.8888888888888888,\"#fdca26\"],[1.0,\"#f0f921\"]],\"type\":\"heatmapgl\"}],\"histogram\":[{\"marker\":{\"pattern\":{\"fillmode\":\"overlay\",\"size\":10,\"solidity\":0.2}},\"type\":\"histogram\"}],\"histogram2d\":[{\"colorbar\":{\"outlinewidth\":0,\"ticks\":\"\"},\"colorscale\":[[0.0,\"#0d0887\"],[0.1111111111111111,\"#46039f\"],[0.2222222222222222,\"#7201a8\"],[0.3333333333333333,\"#9c179e\"],[0.4444444444444444,\"#bd3786\"],[0.5555555555555556,\"#d8576b\"],[0.6666666666666666,\"#ed7953\"],[0.7777777777777778,\"#fb9f3a\"],[0.8888888888888888,\"#fdca26\"],[1.0,\"#f0f921\"]],\"type\":\"histogram2d\"}],\"histogram2dcontour\":[{\"colorbar\":{\"outlinewidth\":0,\"ticks\":\"\"},\"colorscale\":[[0.0,\"#0d0887\"],[0.1111111111111111,\"#46039f\"],[0.2222222222222222,\"#7201a8\"],[0.3333333333333333,\"#9c179e\"],[0.4444444444444444,\"#bd3786\"],[0.5555555555555556,\"#d8576b\"],[0.6666666666666666,\"#ed7953\"],[0.7777777777777778,\"#fb9f3a\"],[0.8888888888888888,\"#fdca26\"],[1.0,\"#f0f921\"]],\"type\":\"histogram2dcontour\"}],\"mesh3d\":[{\"colorbar\":{\"outlinewidth\":0,\"ticks\":\"\"},\"type\":\"mesh3d\"}],\"parcoords\":[{\"line\":{\"colorbar\":{\"outlinewidth\":0,\"ticks\":\"\"}},\"type\":\"parcoords\"}],\"pie\":[{\"automargin\":true,\"type\":\"pie\"}],\"scatter\":[{\"marker\":{\"colorbar\":{\"outlinewidth\":0,\"ticks\":\"\"}},\"type\":\"scatter\"}],\"scatter3d\":[{\"line\":{\"colorbar\":{\"outlinewidth\":0,\"ticks\":\"\"}},\"marker\":{\"colorbar\":{\"outlinewidth\":0,\"ticks\":\"\"}},\"type\":\"scatter3d\"}],\"scattercarpet\":[{\"marker\":{\"colorbar\":{\"outlinewidth\":0,\"ticks\":\"\"}},\"type\":\"scattercarpet\"}],\"scattergeo\":[{\"marker\":{\"colorbar\":{\"outlinewidth\":0,\"ticks\":\"\"}},\"type\":\"scattergeo\"}],\"scattergl\":[{\"marker\":{\"colorbar\":{\"outlinewidth\":0,\"ticks\":\"\"}},\"type\":\"scattergl\"}],\"scattermapbox\":[{\"marker\":{\"colorbar\":{\"outlinewidth\":0,\"ticks\":\"\"}},\"type\":\"scattermapbox\"}],\"scatterpolar\":[{\"marker\":{\"colorbar\":{\"outlinewidth\":0,\"ticks\":\"\"}},\"type\":\"scatterpolar\"}],\"scatterpolargl\":[{\"marker\":{\"colorbar\":{\"outlinewidth\":0,\"ticks\":\"\"}},\"type\":\"scatterpolargl\"}],\"scatterternary\":[{\"marker\":{\"colorbar\":{\"outlinewidth\":0,\"ticks\":\"\"}},\"type\":\"scatterternary\"}],\"surface\":[{\"colorbar\":{\"outlinewidth\":0,\"ticks\":\"\"},\"colorscale\":[[0.0,\"#0d0887\"],[0.1111111111111111,\"#46039f\"],[0.2222222222222222,\"#7201a8\"],[0.3333333333333333,\"#9c179e\"],[0.4444444444444444,\"#bd3786\"],[0.5555555555555556,\"#d8576b\"],[0.6666666666666666,\"#ed7953\"],[0.7777777777777778,\"#fb9f3a\"],[0.8888888888888888,\"#fdca26\"],[1.0,\"#f0f921\"]],\"type\":\"surface\"}],\"table\":[{\"cells\":{\"fill\":{\"color\":\"#EBF0F8\"},\"line\":{\"color\":\"white\"}},\"header\":{\"fill\":{\"color\":\"#C8D4E3\"},\"line\":{\"color\":\"white\"}},\"type\":\"table\"}]},\"layout\":{\"annotationdefaults\":{\"arrowcolor\":\"#2a3f5f\",\"arrowhead\":0,\"arrowwidth\":1},\"autotypenumbers\":\"strict\",\"coloraxis\":{\"colorbar\":{\"outlinewidth\":0,\"ticks\":\"\"}},\"colorscale\":{\"diverging\":[[0,\"#8e0152\"],[0.1,\"#c51b7d\"],[0.2,\"#de77ae\"],[0.3,\"#f1b6da\"],[0.4,\"#fde0ef\"],[0.5,\"#f7f7f7\"],[0.6,\"#e6f5d0\"],[0.7,\"#b8e186\"],[0.8,\"#7fbc41\"],[0.9,\"#4d9221\"],[1,\"#276419\"]],\"sequential\":[[0.0,\"#0d0887\"],[0.1111111111111111,\"#46039f\"],[0.2222222222222222,\"#7201a8\"],[0.3333333333333333,\"#9c179e\"],[0.4444444444444444,\"#bd3786\"],[0.5555555555555556,\"#d8576b\"],[0.6666666666666666,\"#ed7953\"],[0.7777777777777778,\"#fb9f3a\"],[0.8888888888888888,\"#fdca26\"],[1.0,\"#f0f921\"]],\"sequentialminus\":[[0.0,\"#0d0887\"],[0.1111111111111111,\"#46039f\"],[0.2222222222222222,\"#7201a8\"],[0.3333333333333333,\"#9c179e\"],[0.4444444444444444,\"#bd3786\"],[0.5555555555555556,\"#d8576b\"],[0.6666666666666666,\"#ed7953\"],[0.7777777777777778,\"#fb9f3a\"],[0.8888888888888888,\"#fdca26\"],[1.0,\"#f0f921\"]]},\"colorway\":[\"#636efa\",\"#EF553B\",\"#00cc96\",\"#ab63fa\",\"#FFA15A\",\"#19d3f3\",\"#FF6692\",\"#B6E880\",\"#FF97FF\",\"#FECB52\"],\"font\":{\"color\":\"#2a3f5f\"},\"geo\":{\"bgcolor\":\"white\",\"lakecolor\":\"white\",\"landcolor\":\"#E5ECF6\",\"showlakes\":true,\"showland\":true,\"subunitcolor\":\"white\"},\"hoverlabel\":{\"align\":\"left\"},\"hovermode\":\"closest\",\"mapbox\":{\"style\":\"light\"},\"paper_bgcolor\":\"white\",\"plot_bgcolor\":\"#E5ECF6\",\"polar\":{\"angularaxis\":{\"gridcolor\":\"white\",\"linecolor\":\"white\",\"ticks\":\"\"},\"bgcolor\":\"#E5ECF6\",\"radialaxis\":{\"gridcolor\":\"white\",\"linecolor\":\"white\",\"ticks\":\"\"}},\"scene\":{\"xaxis\":{\"backgroundcolor\":\"#E5ECF6\",\"gridcolor\":\"white\",\"gridwidth\":2,\"linecolor\":\"white\",\"showbackground\":true,\"ticks\":\"\",\"zerolinecolor\":\"white\"},\"yaxis\":{\"backgroundcolor\":\"#E5ECF6\",\"gridcolor\":\"white\",\"gridwidth\":2,\"linecolor\":\"white\",\"showbackground\":true,\"ticks\":\"\",\"zerolinecolor\":\"white\"},\"zaxis\":{\"backgroundcolor\":\"#E5ECF6\",\"gridcolor\":\"white\",\"gridwidth\":2,\"linecolor\":\"white\",\"showbackground\":true,\"ticks\":\"\",\"zerolinecolor\":\"white\"}},\"shapedefaults\":{\"line\":{\"color\":\"#2a3f5f\"}},\"ternary\":{\"aaxis\":{\"gridcolor\":\"white\",\"linecolor\":\"white\",\"ticks\":\"\"},\"baxis\":{\"gridcolor\":\"white\",\"linecolor\":\"white\",\"ticks\":\"\"},\"bgcolor\":\"#E5ECF6\",\"caxis\":{\"gridcolor\":\"white\",\"linecolor\":\"white\",\"ticks\":\"\"}},\"title\":{\"x\":0.05},\"xaxis\":{\"automargin\":true,\"gridcolor\":\"white\",\"linecolor\":\"white\",\"ticks\":\"\",\"title\":{\"standoff\":15},\"zerolinecolor\":\"white\",\"zerolinewidth\":2},\"yaxis\":{\"automargin\":true,\"gridcolor\":\"white\",\"linecolor\":\"white\",\"ticks\":\"\",\"title\":{\"standoff\":15},\"zerolinecolor\":\"white\",\"zerolinewidth\":2}}},\"xaxis\":{\"anchor\":\"y\",\"domain\":[0.0,1.0],\"title\":{\"text\":\"class\"}},\"yaxis\":{\"anchor\":\"x\",\"domain\":[0.0,1.0],\"title\":{\"text\":\"value\"}}},                        {\"responsive\": true}                    ).then(function(){\n",
       "                            \n",
       "var gd = document.getElementById('495d0a62-0a96-4558-af8a-9a748e077e3d');\n",
       "var x = new MutationObserver(function (mutations, observer) {{\n",
       "        var display = window.getComputedStyle(gd).display;\n",
       "        if (!display || display === 'none') {{\n",
       "            console.log([gd, 'removed!']);\n",
       "            Plotly.purge(gd);\n",
       "            observer.disconnect();\n",
       "        }}\n",
       "}});\n",
       "\n",
       "// Listen for the removal of the full notebook cells\n",
       "var notebookContainer = gd.closest('#notebook-container');\n",
       "if (notebookContainer) {{\n",
       "    x.observe(notebookContainer, {childList: true});\n",
       "}}\n",
       "\n",
       "// Listen for the clearing of the current output cell\n",
       "var outputEl = gd.closest('.output');\n",
       "if (outputEl) {{\n",
       "    x.observe(outputEl, {childList: true});\n",
       "}}\n",
       "\n",
       "                        })                };                });            </script>        </div>"
      ]
     },
     "metadata": {},
     "output_type": "display_data"
    }
   ],
   "source": [
    "fig = px.bar(bar_df, x=\"class\", y=[\"abv\", \"astringency\", \"body\", \"alcohol\", \"bitter\", \"sweet\", \"sour\",\n",
    "                                  \"salty\", \"fruits\", \"hoppy\", \"spices\", \"malty\"])\n",
    "fig.show()"
   ]
  },
  {
   "cell_type": "markdown",
   "metadata": {},
   "source": [
    "### K-Means on Classes"
   ]
  },
  {
   "cell_type": "code",
   "execution_count": 222,
   "metadata": {},
   "outputs": [],
   "source": [
    "# Create copy of DF to work on\n",
    "\n",
    "kmeans_df = combined_df.copy()"
   ]
  },
  {
   "cell_type": "code",
   "execution_count": 223,
   "metadata": {},
   "outputs": [],
   "source": [
    "# Drop columns unnecessary for analysis\n",
    "df_for_iteration = kmeans_df.drop(['beer_name', 'beer_style', 'brewery',\n",
    "       'ave_rating', \"BA_Big_styles\"], axis=1)"
   ]
  },
  {
   "cell_type": "code",
   "execution_count": 224,
   "metadata": {},
   "outputs": [
    {
     "data": {
      "text/html": [
       "<div>\n",
       "<style scoped>\n",
       "    .dataframe tbody tr th:only-of-type {\n",
       "        vertical-align: middle;\n",
       "    }\n",
       "\n",
       "    .dataframe tbody tr th {\n",
       "        vertical-align: top;\n",
       "    }\n",
       "\n",
       "    .dataframe thead th {\n",
       "        text-align: right;\n",
       "    }\n",
       "</style>\n",
       "<table border=\"1\" class=\"dataframe\">\n",
       "  <thead>\n",
       "    <tr style=\"text-align: right;\">\n",
       "      <th></th>\n",
       "      <th>abv</th>\n",
       "      <th>astringency</th>\n",
       "      <th>body</th>\n",
       "      <th>alcohol</th>\n",
       "      <th>bitter</th>\n",
       "      <th>sweet</th>\n",
       "      <th>sour</th>\n",
       "      <th>salty</th>\n",
       "      <th>fruits</th>\n",
       "      <th>hoppy</th>\n",
       "      <th>spices</th>\n",
       "      <th>malty</th>\n",
       "      <th>class</th>\n",
       "    </tr>\n",
       "  </thead>\n",
       "  <tbody>\n",
       "    <tr>\n",
       "      <th>1</th>\n",
       "      <td>6.0</td>\n",
       "      <td>48</td>\n",
       "      <td>41</td>\n",
       "      <td>4</td>\n",
       "      <td>14</td>\n",
       "      <td>53</td>\n",
       "      <td>160</td>\n",
       "      <td>0</td>\n",
       "      <td>80</td>\n",
       "      <td>26</td>\n",
       "      <td>5</td>\n",
       "      <td>28</td>\n",
       "      <td>0</td>\n",
       "    </tr>\n",
       "    <tr>\n",
       "      <th>3</th>\n",
       "      <td>5.3</td>\n",
       "      <td>13</td>\n",
       "      <td>32</td>\n",
       "      <td>9</td>\n",
       "      <td>47</td>\n",
       "      <td>74</td>\n",
       "      <td>33</td>\n",
       "      <td>0</td>\n",
       "      <td>33</td>\n",
       "      <td>57</td>\n",
       "      <td>8</td>\n",
       "      <td>111</td>\n",
       "      <td>6</td>\n",
       "    </tr>\n",
       "    <tr>\n",
       "      <th>4</th>\n",
       "      <td>7.2</td>\n",
       "      <td>12</td>\n",
       "      <td>57</td>\n",
       "      <td>18</td>\n",
       "      <td>33</td>\n",
       "      <td>55</td>\n",
       "      <td>16</td>\n",
       "      <td>0</td>\n",
       "      <td>24</td>\n",
       "      <td>35</td>\n",
       "      <td>12</td>\n",
       "      <td>84</td>\n",
       "      <td>6</td>\n",
       "    </tr>\n",
       "    <tr>\n",
       "      <th>5</th>\n",
       "      <td>5.0</td>\n",
       "      <td>14</td>\n",
       "      <td>37</td>\n",
       "      <td>6</td>\n",
       "      <td>42</td>\n",
       "      <td>43</td>\n",
       "      <td>11</td>\n",
       "      <td>0</td>\n",
       "      <td>10</td>\n",
       "      <td>54</td>\n",
       "      <td>4</td>\n",
       "      <td>62</td>\n",
       "      <td>6</td>\n",
       "    </tr>\n",
       "    <tr>\n",
       "      <th>6</th>\n",
       "      <td>8.5</td>\n",
       "      <td>13</td>\n",
       "      <td>55</td>\n",
       "      <td>31</td>\n",
       "      <td>47</td>\n",
       "      <td>101</td>\n",
       "      <td>18</td>\n",
       "      <td>1</td>\n",
       "      <td>49</td>\n",
       "      <td>40</td>\n",
       "      <td>16</td>\n",
       "      <td>119</td>\n",
       "      <td>8</td>\n",
       "    </tr>\n",
       "  </tbody>\n",
       "</table>\n",
       "</div>"
      ],
      "text/plain": [
       "   abv  astringency  body  alcohol  bitter  sweet  sour  salty  fruits  hoppy  \\\n",
       "1  6.0           48    41        4      14     53   160      0      80     26   \n",
       "3  5.3           13    32        9      47     74    33      0      33     57   \n",
       "4  7.2           12    57       18      33     55    16      0      24     35   \n",
       "5  5.0           14    37        6      42     43    11      0      10     54   \n",
       "6  8.5           13    55       31      47    101    18      1      49     40   \n",
       "\n",
       "   spices  malty  class  \n",
       "1       5     28      0  \n",
       "3       8    111      6  \n",
       "4      12     84      6  \n",
       "5       4     62      6  \n",
       "6      16    119      8  "
      ]
     },
     "execution_count": 224,
     "metadata": {},
     "output_type": "execute_result"
    }
   ],
   "source": [
    "df_for_iteration.head()"
   ]
  },
  {
   "cell_type": "code",
   "execution_count": 225,
   "metadata": {},
   "outputs": [
    {
     "name": "stdout",
     "output_type": "stream",
     "text": [
      "dataframe empty already\n",
      "Class: 0; Number of Subclasses: 2; Max Silhoutte: 0.21507971797500494\n",
      "Class: 1; Number of Subclasses: 3; Max Silhoutte: 0.2051430191651554\n",
      "Class: 2; Number of Subclasses: 2; Max Silhoutte: 0.16611055228085994\n",
      "Class: 3; Number of Subclasses: 2; Max Silhoutte: 0.16124147505731182\n",
      "Class: 4; Number of Subclasses: 3; Max Silhoutte: 0.21039304246306165\n",
      "Class: 5; Number of Subclasses: 2; Max Silhoutte: 0.21535910963959828\n",
      "Class: 6; Number of Subclasses: 2; Max Silhoutte: 0.15930657945197874\n",
      "Class: 7; Number of Subclasses: 6; Max Silhoutte: 0.17289364027429832\n",
      "Class: 8; Number of Subclasses: 2; Max Silhoutte: 0.14441984392202178\n",
      "Class: 9; Number of Subclasses: 2; Max Silhoutte: 0.4548375565619257\n",
      "Finished\n"
     ]
    }
   ],
   "source": [
    "try:\n",
    "\n",
    "    del df_with_subclasses\n",
    "    \n",
    "except:\n",
    "    print(\"dataframe empty already\")\n",
    "    \n",
    "created_new_df = False\n",
    "\n",
    "for k_class in range(0,clusters):\n",
    "    \n",
    "    # Filter for class and drop class column\n",
    "    temp_df = df_for_iteration[df_for_iteration[\"class\"] == k_class]\n",
    "    temp_df.drop(columns = [\"class\"], inplace = True)\n",
    "    \n",
    "    # Subclass will be in columns after the first iteration\n",
    "    if \"subclass\" in temp_df.columns:\n",
    "        temp_df.drop(columns = [\"subclass\"], inplace = True)\n",
    "    \n",
    "    # define standard scaler\n",
    "    scaler = StandardScaler()\n",
    "    # transform data\n",
    "    scaled_df = scaler.fit_transform(temp_df)\n",
    "    \n",
    "    silhouette_avg = []\n",
    "    for num_clusters in range(2,16):\n",
    "        \n",
    "        # Produce model\n",
    "        model = KMeans(n_clusters=num_clusters)\n",
    "        model.fit(scaled_df)\n",
    "        cluster_labels = model.labels_\n",
    "        \n",
    "        # Get silhoutte score\n",
    "        silhouette_avg.append(silhouette_score(scaled_df, cluster_labels))\n",
    "    \n",
    "#     print(f'Silhoutte score for class {k_class}: {silhouette_avg}')\n",
    "    \n",
    "    # Number of clusters for subclass will be number of clusters with greatest silhoutte score\n",
    "    max_silhouette_avg = max(silhouette_avg)\n",
    "    max_index = silhouette_avg.index(max_silhouette_avg)\n",
    "    k = max_index + 2\n",
    "    \n",
    "    # Run model with highest silhoutte score\n",
    "    model = KMeans(n_clusters=k)\n",
    "    model.fit(scaled_df)\n",
    "    cluster_labels = model.labels_\n",
    "    \n",
    "    temp_df[\"class\"] = k_class\n",
    "    temp_df[\"subclass\"] = cluster_labels\n",
    "    \n",
    "    print(f'Class: {k_class}; Number of Subclasses: {k}; Max Silhoutte: {max_silhouette_avg}')\n",
    "        \n",
    "    if created_new_df == False:\n",
    "        df_with_subclasses = temp_df.copy()\n",
    "        created_new_df = True\n",
    "        \n",
    "    else:\n",
    "        df_with_subclasses = df_with_subclasses.append(temp_df)\n",
    "\n",
    "print(\"Finished\")"
   ]
  },
  {
   "cell_type": "code",
   "execution_count": 226,
   "metadata": {},
   "outputs": [
    {
     "data": {
      "text/plain": [
       "4    939\n",
       "6    841\n",
       "5    640\n",
       "8    603\n",
       "7    576\n",
       "2    439\n",
       "0    407\n",
       "3    270\n",
       "1    257\n",
       "9     52\n",
       "Name: class, dtype: int64"
      ]
     },
     "execution_count": 226,
     "metadata": {},
     "output_type": "execute_result"
    }
   ],
   "source": [
    "# Number of beers per class\n",
    "df_with_subclasses['class'].value_counts()"
   ]
  },
  {
   "cell_type": "code",
   "execution_count": 227,
   "metadata": {},
   "outputs": [
    {
     "data": {
      "text/plain": [
       "60    520\n",
       "50    465\n",
       "42    376\n",
       "40    361\n",
       "80    357\n",
       "61    321\n",
       "01    264\n",
       "21    256\n",
       "81    246\n",
       "41    202\n",
       "70    186\n",
       "20    183\n",
       "51    175\n",
       "11    151\n",
       "00    143\n",
       "30    142\n",
       "31    128\n",
       "72     96\n",
       "73     89\n",
       "71     85\n",
       "10     84\n",
       "75     69\n",
       "74     51\n",
       "90     48\n",
       "12     22\n",
       "91      4\n",
       "Name: class_subclass, dtype: int64"
      ]
     },
     "execution_count": 227,
     "metadata": {},
     "output_type": "execute_result"
    }
   ],
   "source": [
    "# Number of beers per subclass\n",
    "df_with_subclasses[\"class_subclass\"] = df_with_subclasses[\"class\"].astype(str) + df_with_subclasses[\"subclass\"].astype(str)\n",
    "df_with_subclasses['class_subclass'].value_counts()"
   ]
  },
  {
   "cell_type": "code",
   "execution_count": 228,
   "metadata": {},
   "outputs": [
    {
     "data": {
      "text/html": [
       "<div>\n",
       "<style scoped>\n",
       "    .dataframe tbody tr th:only-of-type {\n",
       "        vertical-align: middle;\n",
       "    }\n",
       "\n",
       "    .dataframe tbody tr th {\n",
       "        vertical-align: top;\n",
       "    }\n",
       "\n",
       "    .dataframe thead th {\n",
       "        text-align: right;\n",
       "    }\n",
       "</style>\n",
       "<table border=\"1\" class=\"dataframe\">\n",
       "  <thead>\n",
       "    <tr style=\"text-align: right;\">\n",
       "      <th></th>\n",
       "      <th>abv</th>\n",
       "      <th>astringency</th>\n",
       "      <th>body</th>\n",
       "      <th>alcohol</th>\n",
       "      <th>bitter</th>\n",
       "      <th>sweet</th>\n",
       "      <th>sour</th>\n",
       "      <th>salty</th>\n",
       "      <th>fruits</th>\n",
       "      <th>hoppy</th>\n",
       "      <th>spices</th>\n",
       "      <th>malty</th>\n",
       "      <th>class</th>\n",
       "      <th>subclass</th>\n",
       "      <th>class_subclass</th>\n",
       "    </tr>\n",
       "  </thead>\n",
       "  <tbody>\n",
       "    <tr>\n",
       "      <th>1</th>\n",
       "      <td>6.0</td>\n",
       "      <td>48</td>\n",
       "      <td>41</td>\n",
       "      <td>4</td>\n",
       "      <td>14</td>\n",
       "      <td>53</td>\n",
       "      <td>160</td>\n",
       "      <td>0</td>\n",
       "      <td>80</td>\n",
       "      <td>26</td>\n",
       "      <td>5</td>\n",
       "      <td>28</td>\n",
       "      <td>0</td>\n",
       "      <td>1</td>\n",
       "      <td>01</td>\n",
       "    </tr>\n",
       "    <tr>\n",
       "      <th>257</th>\n",
       "      <td>9.0</td>\n",
       "      <td>37</td>\n",
       "      <td>27</td>\n",
       "      <td>10</td>\n",
       "      <td>39</td>\n",
       "      <td>86</td>\n",
       "      <td>119</td>\n",
       "      <td>2</td>\n",
       "      <td>111</td>\n",
       "      <td>47</td>\n",
       "      <td>8</td>\n",
       "      <td>22</td>\n",
       "      <td>0</td>\n",
       "      <td>0</td>\n",
       "      <td>00</td>\n",
       "    </tr>\n",
       "    <tr>\n",
       "      <th>258</th>\n",
       "      <td>10.0</td>\n",
       "      <td>47</td>\n",
       "      <td>27</td>\n",
       "      <td>10</td>\n",
       "      <td>7</td>\n",
       "      <td>87</td>\n",
       "      <td>157</td>\n",
       "      <td>0</td>\n",
       "      <td>96</td>\n",
       "      <td>9</td>\n",
       "      <td>5</td>\n",
       "      <td>17</td>\n",
       "      <td>0</td>\n",
       "      <td>1</td>\n",
       "      <td>01</td>\n",
       "    </tr>\n",
       "    <tr>\n",
       "      <th>261</th>\n",
       "      <td>6.7</td>\n",
       "      <td>58</td>\n",
       "      <td>39</td>\n",
       "      <td>10</td>\n",
       "      <td>28</td>\n",
       "      <td>105</td>\n",
       "      <td>84</td>\n",
       "      <td>1</td>\n",
       "      <td>129</td>\n",
       "      <td>35</td>\n",
       "      <td>8</td>\n",
       "      <td>40</td>\n",
       "      <td>0</td>\n",
       "      <td>0</td>\n",
       "      <td>00</td>\n",
       "    </tr>\n",
       "    <tr>\n",
       "      <th>263</th>\n",
       "      <td>12.0</td>\n",
       "      <td>43</td>\n",
       "      <td>55</td>\n",
       "      <td>37</td>\n",
       "      <td>27</td>\n",
       "      <td>149</td>\n",
       "      <td>93</td>\n",
       "      <td>4</td>\n",
       "      <td>140</td>\n",
       "      <td>67</td>\n",
       "      <td>49</td>\n",
       "      <td>61</td>\n",
       "      <td>0</td>\n",
       "      <td>0</td>\n",
       "      <td>00</td>\n",
       "    </tr>\n",
       "    <tr>\n",
       "      <th>...</th>\n",
       "      <td>...</td>\n",
       "      <td>...</td>\n",
       "      <td>...</td>\n",
       "      <td>...</td>\n",
       "      <td>...</td>\n",
       "      <td>...</td>\n",
       "      <td>...</td>\n",
       "      <td>...</td>\n",
       "      <td>...</td>\n",
       "      <td>...</td>\n",
       "      <td>...</td>\n",
       "      <td>...</td>\n",
       "      <td>...</td>\n",
       "      <td>...</td>\n",
       "      <td>...</td>\n",
       "    </tr>\n",
       "    <tr>\n",
       "      <th>4457</th>\n",
       "      <td>4.5</td>\n",
       "      <td>59</td>\n",
       "      <td>23</td>\n",
       "      <td>9</td>\n",
       "      <td>7</td>\n",
       "      <td>58</td>\n",
       "      <td>146</td>\n",
       "      <td>25</td>\n",
       "      <td>141</td>\n",
       "      <td>14</td>\n",
       "      <td>10</td>\n",
       "      <td>48</td>\n",
       "      <td>9</td>\n",
       "      <td>0</td>\n",
       "      <td>90</td>\n",
       "    </tr>\n",
       "    <tr>\n",
       "      <th>4458</th>\n",
       "      <td>4.8</td>\n",
       "      <td>38</td>\n",
       "      <td>34</td>\n",
       "      <td>24</td>\n",
       "      <td>10</td>\n",
       "      <td>43</td>\n",
       "      <td>145</td>\n",
       "      <td>34</td>\n",
       "      <td>127</td>\n",
       "      <td>26</td>\n",
       "      <td>54</td>\n",
       "      <td>25</td>\n",
       "      <td>9</td>\n",
       "      <td>0</td>\n",
       "      <td>90</td>\n",
       "    </tr>\n",
       "    <tr>\n",
       "      <th>4459</th>\n",
       "      <td>4.2</td>\n",
       "      <td>43</td>\n",
       "      <td>34</td>\n",
       "      <td>10</td>\n",
       "      <td>20</td>\n",
       "      <td>31</td>\n",
       "      <td>159</td>\n",
       "      <td>40</td>\n",
       "      <td>123</td>\n",
       "      <td>10</td>\n",
       "      <td>9</td>\n",
       "      <td>37</td>\n",
       "      <td>9</td>\n",
       "      <td>0</td>\n",
       "      <td>90</td>\n",
       "    </tr>\n",
       "    <tr>\n",
       "      <th>4460</th>\n",
       "      <td>8.3</td>\n",
       "      <td>47</td>\n",
       "      <td>33</td>\n",
       "      <td>25</td>\n",
       "      <td>6</td>\n",
       "      <td>53</td>\n",
       "      <td>148</td>\n",
       "      <td>29</td>\n",
       "      <td>125</td>\n",
       "      <td>21</td>\n",
       "      <td>1</td>\n",
       "      <td>57</td>\n",
       "      <td>9</td>\n",
       "      <td>0</td>\n",
       "      <td>90</td>\n",
       "    </tr>\n",
       "    <tr>\n",
       "      <th>4533</th>\n",
       "      <td>6.5</td>\n",
       "      <td>8</td>\n",
       "      <td>110</td>\n",
       "      <td>16</td>\n",
       "      <td>67</td>\n",
       "      <td>122</td>\n",
       "      <td>4</td>\n",
       "      <td>34</td>\n",
       "      <td>2</td>\n",
       "      <td>26</td>\n",
       "      <td>22</td>\n",
       "      <td>188</td>\n",
       "      <td>9</td>\n",
       "      <td>1</td>\n",
       "      <td>91</td>\n",
       "    </tr>\n",
       "  </tbody>\n",
       "</table>\n",
       "<p>5024 rows × 15 columns</p>\n",
       "</div>"
      ],
      "text/plain": [
       "       abv  astringency  body  alcohol  bitter  sweet  sour  salty  fruits  \\\n",
       "1      6.0           48    41        4      14     53   160      0      80   \n",
       "257    9.0           37    27       10      39     86   119      2     111   \n",
       "258   10.0           47    27       10       7     87   157      0      96   \n",
       "261    6.7           58    39       10      28    105    84      1     129   \n",
       "263   12.0           43    55       37      27    149    93      4     140   \n",
       "...    ...          ...   ...      ...     ...    ...   ...    ...     ...   \n",
       "4457   4.5           59    23        9       7     58   146     25     141   \n",
       "4458   4.8           38    34       24      10     43   145     34     127   \n",
       "4459   4.2           43    34       10      20     31   159     40     123   \n",
       "4460   8.3           47    33       25       6     53   148     29     125   \n",
       "4533   6.5            8   110       16      67    122     4     34       2   \n",
       "\n",
       "      hoppy  spices  malty  class  subclass class_subclass  \n",
       "1        26       5     28      0         1             01  \n",
       "257      47       8     22      0         0             00  \n",
       "258       9       5     17      0         1             01  \n",
       "261      35       8     40      0         0             00  \n",
       "263      67      49     61      0         0             00  \n",
       "...     ...     ...    ...    ...       ...            ...  \n",
       "4457     14      10     48      9         0             90  \n",
       "4458     26      54     25      9         0             90  \n",
       "4459     10       9     37      9         0             90  \n",
       "4460     21       1     57      9         0             90  \n",
       "4533     26      22    188      9         1             91  \n",
       "\n",
       "[5024 rows x 15 columns]"
      ]
     },
     "execution_count": 228,
     "metadata": {},
     "output_type": "execute_result"
    }
   ],
   "source": [
    "# View resulting dataframe with subclasses\n",
    "df_with_subclasses"
   ]
  },
  {
   "cell_type": "code",
   "execution_count": 229,
   "metadata": {},
   "outputs": [],
   "source": [
    "# Combine results with relevant data\n",
    "results_df = df_with_subclasses.join(df[[\"beer_style\", \"ave_rating\", \"BA_Big_styles\", 'beer_name', 'brewery']])"
   ]
  },
  {
   "cell_type": "code",
   "execution_count": 230,
   "metadata": {},
   "outputs": [],
   "source": [
    "# Make a lower case beer name column, easier for searching\n",
    "results_df[\"beer_name_lower\"] = results_df.beer_name.apply(lambda x: x.lower())"
   ]
  },
  {
   "cell_type": "code",
   "execution_count": 231,
   "metadata": {},
   "outputs": [
    {
     "data": {
      "text/html": [
       "<div>\n",
       "<style scoped>\n",
       "    .dataframe tbody tr th:only-of-type {\n",
       "        vertical-align: middle;\n",
       "    }\n",
       "\n",
       "    .dataframe tbody tr th {\n",
       "        vertical-align: top;\n",
       "    }\n",
       "\n",
       "    .dataframe thead th {\n",
       "        text-align: right;\n",
       "    }\n",
       "</style>\n",
       "<table border=\"1\" class=\"dataframe\">\n",
       "  <thead>\n",
       "    <tr style=\"text-align: right;\">\n",
       "      <th></th>\n",
       "      <th>abv</th>\n",
       "      <th>astringency</th>\n",
       "      <th>body</th>\n",
       "      <th>alcohol</th>\n",
       "      <th>bitter</th>\n",
       "      <th>sweet</th>\n",
       "      <th>sour</th>\n",
       "      <th>salty</th>\n",
       "      <th>fruits</th>\n",
       "      <th>hoppy</th>\n",
       "      <th>spices</th>\n",
       "      <th>malty</th>\n",
       "      <th>class</th>\n",
       "      <th>subclass</th>\n",
       "      <th>class_subclass</th>\n",
       "      <th>beer_style</th>\n",
       "      <th>ave_rating</th>\n",
       "      <th>BA_Big_styles</th>\n",
       "      <th>beer_name</th>\n",
       "      <th>brewery</th>\n",
       "      <th>beer_name_lower</th>\n",
       "    </tr>\n",
       "  </thead>\n",
       "  <tbody>\n",
       "    <tr>\n",
       "      <th>1</th>\n",
       "      <td>6.0</td>\n",
       "      <td>48</td>\n",
       "      <td>41</td>\n",
       "      <td>4</td>\n",
       "      <td>14</td>\n",
       "      <td>53</td>\n",
       "      <td>160</td>\n",
       "      <td>0</td>\n",
       "      <td>80</td>\n",
       "      <td>26</td>\n",
       "      <td>5</td>\n",
       "      <td>28</td>\n",
       "      <td>0</td>\n",
       "      <td>1</td>\n",
       "      <td>01</td>\n",
       "      <td>Lambic - Gueuze</td>\n",
       "      <td>4.12</td>\n",
       "      <td>Wild/Sour</td>\n",
       "      <td>Doesjel</td>\n",
       "      <td>Brouwerij 3 Fonteinen</td>\n",
       "      <td>doesjel</td>\n",
       "    </tr>\n",
       "    <tr>\n",
       "      <th>257</th>\n",
       "      <td>9.0</td>\n",
       "      <td>37</td>\n",
       "      <td>27</td>\n",
       "      <td>10</td>\n",
       "      <td>39</td>\n",
       "      <td>86</td>\n",
       "      <td>119</td>\n",
       "      <td>2</td>\n",
       "      <td>111</td>\n",
       "      <td>47</td>\n",
       "      <td>8</td>\n",
       "      <td>22</td>\n",
       "      <td>0</td>\n",
       "      <td>0</td>\n",
       "      <td>00</td>\n",
       "      <td>Bière de Champagne / Bière Brut</td>\n",
       "      <td>4.30</td>\n",
       "      <td>Hybrid Beers</td>\n",
       "      <td>Nelson Sauvignon (Nelson Sauvin Brut)</td>\n",
       "      <td>Mikkeller ApS</td>\n",
       "      <td>nelson sauvignon (nelson sauvin brut)</td>\n",
       "    </tr>\n",
       "    <tr>\n",
       "      <th>258</th>\n",
       "      <td>10.0</td>\n",
       "      <td>47</td>\n",
       "      <td>27</td>\n",
       "      <td>10</td>\n",
       "      <td>7</td>\n",
       "      <td>87</td>\n",
       "      <td>157</td>\n",
       "      <td>0</td>\n",
       "      <td>96</td>\n",
       "      <td>9</td>\n",
       "      <td>5</td>\n",
       "      <td>17</td>\n",
       "      <td>0</td>\n",
       "      <td>1</td>\n",
       "      <td>01</td>\n",
       "      <td>Bière de Champagne / Bière Brut</td>\n",
       "      <td>4.51</td>\n",
       "      <td>Hybrid Beers</td>\n",
       "      <td>Blanc De Blancs</td>\n",
       "      <td>Side Project Brewing</td>\n",
       "      <td>blanc de blancs</td>\n",
       "    </tr>\n",
       "    <tr>\n",
       "      <th>261</th>\n",
       "      <td>6.7</td>\n",
       "      <td>58</td>\n",
       "      <td>39</td>\n",
       "      <td>10</td>\n",
       "      <td>28</td>\n",
       "      <td>105</td>\n",
       "      <td>84</td>\n",
       "      <td>1</td>\n",
       "      <td>129</td>\n",
       "      <td>35</td>\n",
       "      <td>8</td>\n",
       "      <td>40</td>\n",
       "      <td>0</td>\n",
       "      <td>0</td>\n",
       "      <td>00</td>\n",
       "      <td>Bière de Champagne / Bière Brut</td>\n",
       "      <td>3.94</td>\n",
       "      <td>Hybrid Beers</td>\n",
       "      <td>Two Lights</td>\n",
       "      <td>Allagash Brewing Company</td>\n",
       "      <td>two lights</td>\n",
       "    </tr>\n",
       "    <tr>\n",
       "      <th>263</th>\n",
       "      <td>12.0</td>\n",
       "      <td>43</td>\n",
       "      <td>55</td>\n",
       "      <td>37</td>\n",
       "      <td>27</td>\n",
       "      <td>149</td>\n",
       "      <td>93</td>\n",
       "      <td>4</td>\n",
       "      <td>140</td>\n",
       "      <td>67</td>\n",
       "      <td>49</td>\n",
       "      <td>61</td>\n",
       "      <td>0</td>\n",
       "      <td>0</td>\n",
       "      <td>00</td>\n",
       "      <td>Bière de Champagne / Bière Brut</td>\n",
       "      <td>3.88</td>\n",
       "      <td>Hybrid Beers</td>\n",
       "      <td>Jubilee</td>\n",
       "      <td>Victory Brewing Company - Downingtown</td>\n",
       "      <td>jubilee</td>\n",
       "    </tr>\n",
       "  </tbody>\n",
       "</table>\n",
       "</div>"
      ],
      "text/plain": [
       "      abv  astringency  body  alcohol  bitter  sweet  sour  salty  fruits  \\\n",
       "1     6.0           48    41        4      14     53   160      0      80   \n",
       "257   9.0           37    27       10      39     86   119      2     111   \n",
       "258  10.0           47    27       10       7     87   157      0      96   \n",
       "261   6.7           58    39       10      28    105    84      1     129   \n",
       "263  12.0           43    55       37      27    149    93      4     140   \n",
       "\n",
       "     hoppy  spices  malty  class  subclass class_subclass  \\\n",
       "1       26       5     28      0         1             01   \n",
       "257     47       8     22      0         0             00   \n",
       "258      9       5     17      0         1             01   \n",
       "261     35       8     40      0         0             00   \n",
       "263     67      49     61      0         0             00   \n",
       "\n",
       "                          beer_style  ave_rating BA_Big_styles  \\\n",
       "1                    Lambic - Gueuze        4.12    Wild/Sour    \n",
       "257  Bière de Champagne / Bière Brut        4.30  Hybrid Beers   \n",
       "258  Bière de Champagne / Bière Brut        4.51  Hybrid Beers   \n",
       "261  Bière de Champagne / Bière Brut        3.94  Hybrid Beers   \n",
       "263  Bière de Champagne / Bière Brut        3.88  Hybrid Beers   \n",
       "\n",
       "                                 beer_name  \\\n",
       "1                                  Doesjel   \n",
       "257  Nelson Sauvignon (Nelson Sauvin Brut)   \n",
       "258                        Blanc De Blancs   \n",
       "261                             Two Lights   \n",
       "263                                Jubilee   \n",
       "\n",
       "                                   brewery  \\\n",
       "1                    Brouwerij 3 Fonteinen   \n",
       "257                          Mikkeller ApS   \n",
       "258                   Side Project Brewing   \n",
       "261               Allagash Brewing Company   \n",
       "263  Victory Brewing Company - Downingtown   \n",
       "\n",
       "                           beer_name_lower  \n",
       "1                                  doesjel  \n",
       "257  nelson sauvignon (nelson sauvin brut)  \n",
       "258                        blanc de blancs  \n",
       "261                             two lights  \n",
       "263                                jubilee  "
      ]
     },
     "execution_count": 231,
     "metadata": {},
     "output_type": "execute_result"
    }
   ],
   "source": [
    "results_df.head()"
   ]
  },
  {
   "cell_type": "markdown",
   "metadata": {},
   "source": [
    "### App Test"
   ]
  },
  {
   "cell_type": "code",
   "execution_count": 241,
   "metadata": {},
   "outputs": [
    {
     "name": "stdout",
     "output_type": "stream",
     "text": [
      "Input a beer: Hoppy feet\n",
      "Woo, that beer is in the table, good job!\n",
      "Beer Class: 7\n",
      "Beer Subclass: 0\n",
      "\n",
      "\n",
      "Recommended Beers with similar taste profiles:\n",
      "\n",
      "Centennial IPA by Founders Brewing Company; difference: 0.20000000000000284\n",
      "Harvest Ale by Southern Tier Brewing Company; difference: 0.29999999999999716\n",
      "Commodore Perry by Great Lakes Brewing Co.; difference: 0.7000000000000028\n",
      "Lagunitas Sucks by Lagunitas Brewing Company; difference: 1.1499999999999986\n",
      "8-Bit Pale Ale by Tallgrass Brewing Co. Tap House; difference: 1.7999999999999972\n",
      "Anti-Hero IPA by Revolution Brewing; difference: 2.299999999999997\n",
      "Hop JuJu by Fat Head's Brewery & Saloon; difference: 3.0\n",
      "Sublimely Self-Righteous Black IPA by Stone Brewing; difference: 3.299999999999997\n",
      "My Antonia by Dogfish Head Craft Brewery; difference: 3.5\n",
      "Celebration Fresh Hop IPA by Sierra Nevada Brewing Co.; difference: 6.199999999999999\n"
     ]
    }
   ],
   "source": [
    "# Beer input\n",
    "user_input = input(\"Input a beer: \")\n",
    "input_beer = user_input.lower()\n",
    "# input_beer = \"Devil's Milk\"\n",
    "input_beer = input_beer.lower() # can remove when switching to manual input\n",
    "\n",
    "number_to_recommend = 10\n",
    "\n",
    "if input_beer not in results_df[\"beer_name_lower\"].to_list():\n",
    "    print(\"Hmm, that one isn't in the table, only good beers are in this database.\")\n",
    "    \n",
    "else:\n",
    "    print(\"Woo, that beer is in the table, good job!\")\n",
    "    \n",
    "    duplicates = results_df[results_df.beer_name_lower == input_beer]\n",
    "    if len(duplicates) > 1:\n",
    "        duplicate_breweries = duplicates.brewery.values.tolist()\n",
    "        print(f'There are multiple \"{user_input}\" beers; what brewery is it from?')\n",
    "        for i in duplicate_breweries:\n",
    "            print(i)\n",
    "        input_brewery = input(\"Copy/Type the brewery here: \")\n",
    "        \n",
    "        while input_brewery not in duplicate_breweries:\n",
    "            print(\"\\n\")\n",
    "            print(\"Please input a correct brewery\")\n",
    "            print(f'There are multiple \"{user_input}\" beers; what brewery is it from?')\n",
    "            for i in duplicate_breweries:\n",
    "                print(i)\n",
    "            input_brewery = input(\"Copy/Type the brewery here: \")\n",
    "        \n",
    "        # Get the input beer class and subclass\n",
    "        beer_class = results_df.loc[\n",
    "            (results_df[\"beer_name_lower\"] == input_beer) & \n",
    "            (results_df[\"brewery\"] == input_brewery)][\"class\"].item()\n",
    "        \n",
    "        beer_class = results_df.loc[\n",
    "            (results_df[\"beer_name_lower\"] == input_beer) & \n",
    "            (results_df[\"brewery\"] == input_brewery)][\"subclass\"].item()\n",
    "        print(f'Beer Class: {beer_class}')\n",
    "        print(f'Beer Subclass: {beer_subclass}')\n",
    "        \n",
    "    else:\n",
    "    \n",
    "        # Get the input beer class and subclass\n",
    "        beer_class = results_df.loc[results_df[\"beer_name_lower\"] == input_beer][\"class\"].item()\n",
    "        beer_subclass = results_df.loc[results_df[\"beer_name_lower\"] == input_beer][\"subclass\"].item()\n",
    "        input_brewery = results_df.loc[results_df[\"beer_name_lower\"] == input_beer][\"brewery\"].item()\n",
    "        print(f'Beer Class: {beer_class}')\n",
    "        print(f'Beer Subclass: {beer_subclass}')\n",
    "    \n",
    "    print('\\n')\n",
    "    \n",
    "    # Get dataframe of beers in same class and subclass\n",
    "    similar_df = results_df[(results_df[\"class\"] == beer_class) & (results_df[\"subclass\"] == beer_subclass)]\n",
    "    similar_df.sort_values(\"ave_rating\", inplace=True, ascending=False)\n",
    "    recommended_beers = similar_df.beer_name.to_list()\n",
    "    recommended_brewery = similar_df.brewery.to_list()\n",
    "    \n",
    "    # Option 1: Return list of similar beers ranked by are rating\n",
    "    \n",
    "    if len(recommended_beers) <= number_to_recommend:\n",
    "        print(\"Recommended Beers with similar taste profiles:\")\n",
    "        for x in range(0, number_to_recommend):\n",
    "            print(f' {recommended_beers[x]} by {recommended_brewery[x]}')\n",
    "     \n",
    "    \n",
    "    \n",
    "    # Option 2: Calcualte differences from input beer from similar beers, return those with smallest differences\n",
    "    else: \n",
    "        \n",
    "        in_abv = results_df.loc[\n",
    "            (results_df[\"beer_name_lower\"] == input_beer) & \n",
    "            (results_df[\"brewery\"] == input_brewery)][\"abv\"].item()\n",
    "        in_astringency = results_df.loc[\n",
    "            (results_df[\"beer_name_lower\"] == input_beer) & \n",
    "            (results_df[\"brewery\"] == input_brewery)][\"astringency\"].item()\n",
    "        in_body = results_df.loc[\n",
    "            (results_df[\"beer_name_lower\"] == input_beer) & \n",
    "            (results_df[\"brewery\"] == input_brewery)][\"body\"].item()\n",
    "        in_bitter = results_df.loc[\n",
    "            (results_df[\"beer_name_lower\"] == input_beer) & \n",
    "            (results_df[\"brewery\"] == input_brewery)][\"bitter\"].item()\n",
    "        in_sweet = results_df.loc[\n",
    "            (results_df[\"beer_name_lower\"] == input_beer) & \n",
    "            (results_df[\"brewery\"] == input_brewery)][\"sweet\"].item()\n",
    "        in_sour = results_df.loc[\n",
    "            (results_df[\"beer_name_lower\"] == input_beer) & \n",
    "            (results_df[\"brewery\"] == input_brewery)][\"sour\"].item()\n",
    "        in_fruits = results_df.loc[\n",
    "            (results_df[\"beer_name_lower\"] == input_beer) & \n",
    "            (results_df[\"brewery\"] == input_brewery)][\"fruits\"].item()\n",
    "        in_hoppy = results_df.loc[\n",
    "            (results_df[\"beer_name_lower\"] == input_beer) & \n",
    "            (results_df[\"brewery\"] == input_brewery)][\"hoppy\"].item()\n",
    "        in_spices = results_df.loc[\n",
    "            (results_df[\"beer_name_lower\"] == input_beer) & \n",
    "            (results_df[\"brewery\"] == input_brewery)][\"spices\"].item()\n",
    "        in_malty = results_df.loc[\n",
    "            (results_df[\"beer_name_lower\"] == input_beer) & \n",
    "            (results_df[\"brewery\"] == input_brewery)][\"malty\"].item()\n",
    "        in_salty = results_df.loc[\n",
    "            (results_df[\"beer_name_lower\"] == input_beer) & \n",
    "            (results_df[\"brewery\"] == input_brewery)][\"salty\"].item()\n",
    "        in_alcohol = results_df.loc[\n",
    "            (results_df[\"beer_name_lower\"] == input_beer) & \n",
    "            (results_df[\"brewery\"] == input_brewery)][\"alcohol\"].item()\n",
    "\n",
    "\n",
    "        def calc_differences(abv, astringency, body, bitter, sweet, sour, fruits, hoppy, spices, malty, salty, alcohol):\n",
    "                value = (abv - in_abv) + (astringency - in_astringency) + (body - in_body) + (bitter - in_bitter) + (sweet - in_sweet) + (sour - in_sour) + (fruits - in_fruits) + (hoppy - in_hoppy) + (spices - in_spices) + (malty - in_malty)+ (salty - in_salty) + (alcohol - in_alcohol)\n",
    "                value = abs(value)\n",
    "                return value\n",
    "\n",
    "\n",
    "        if len(similar_df) > 10:\n",
    "            similar_df[\"difference\"] = similar_df.apply(lambda row: calc_differences(row['abv'],\n",
    "                        row['astringency'], row['body'], row['bitter'],\n",
    "                        row['sweet'], row['sour'], row['fruits'], row['hoppy'],\n",
    "                        row['spices'], row['malty'], row['salty'], row['alcohol']), axis = 1)\n",
    "            similar_df.sort_values(\"difference\", inplace=True, ascending=True)\n",
    "            recommended_beers = similar_df.beer_name.to_list()\n",
    "            recommended_brewery = similar_df.brewery.to_list()\n",
    "            recommended_difference = similar_df.difference.to_list()\n",
    "\n",
    "            print(\"Recommended Beers with similar taste profiles:\\n\")\n",
    "            for x in range(0, number_to_recommend + 1): # starting at index 1 bc index 0 should be the input beer\n",
    "                if recommended_beers[x].lower() != input_beer.lower():\n",
    "                    print(f'{recommended_beers[x]} by {recommended_brewery[x]}; difference: {recommended_difference[x]}')"
   ]
  },
  {
   "cell_type": "code",
   "execution_count": 242,
   "metadata": {},
   "outputs": [
    {
     "data": {
      "text/html": [
       "<div>\n",
       "<style scoped>\n",
       "    .dataframe tbody tr th:only-of-type {\n",
       "        vertical-align: middle;\n",
       "    }\n",
       "\n",
       "    .dataframe tbody tr th {\n",
       "        vertical-align: top;\n",
       "    }\n",
       "\n",
       "    .dataframe thead th {\n",
       "        text-align: right;\n",
       "    }\n",
       "</style>\n",
       "<table border=\"1\" class=\"dataframe\">\n",
       "  <thead>\n",
       "    <tr style=\"text-align: right;\">\n",
       "      <th></th>\n",
       "      <th>abv</th>\n",
       "      <th>astringency</th>\n",
       "      <th>body</th>\n",
       "      <th>alcohol</th>\n",
       "      <th>bitter</th>\n",
       "      <th>sweet</th>\n",
       "      <th>sour</th>\n",
       "      <th>salty</th>\n",
       "      <th>fruits</th>\n",
       "      <th>hoppy</th>\n",
       "      <th>spices</th>\n",
       "      <th>malty</th>\n",
       "      <th>class</th>\n",
       "      <th>subclass</th>\n",
       "      <th>class_subclass</th>\n",
       "      <th>beer_style</th>\n",
       "      <th>ave_rating</th>\n",
       "      <th>BA_Big_styles</th>\n",
       "      <th>beer_name</th>\n",
       "      <th>brewery</th>\n",
       "      <th>beer_name_lower</th>\n",
       "    </tr>\n",
       "  </thead>\n",
       "  <tbody>\n",
       "    <tr>\n",
       "      <th>1458</th>\n",
       "      <td>6.8</td>\n",
       "      <td>19</td>\n",
       "      <td>38</td>\n",
       "      <td>15</td>\n",
       "      <td>66</td>\n",
       "      <td>28</td>\n",
       "      <td>24</td>\n",
       "      <td>0</td>\n",
       "      <td>25</td>\n",
       "      <td>92</td>\n",
       "      <td>5</td>\n",
       "      <td>47</td>\n",
       "      <td>7</td>\n",
       "      <td>0</td>\n",
       "      <td>70</td>\n",
       "      <td>IPA - American</td>\n",
       "      <td>4.17</td>\n",
       "      <td>India Pale Ales</td>\n",
       "      <td>Celebration Fresh Hop IPA</td>\n",
       "      <td>Sierra Nevada Brewing Co.</td>\n",
       "      <td>celebration fresh hop ipa</td>\n",
       "    </tr>\n",
       "  </tbody>\n",
       "</table>\n",
       "</div>"
      ],
      "text/plain": [
       "      abv  astringency  body  alcohol  bitter  sweet  sour  salty  fruits  \\\n",
       "1458  6.8           19    38       15      66     28    24      0      25   \n",
       "\n",
       "      hoppy  spices  malty  class  subclass class_subclass      beer_style  \\\n",
       "1458     92       5     47      7         0             70  IPA - American   \n",
       "\n",
       "      ave_rating    BA_Big_styles                  beer_name  \\\n",
       "1458        4.17  India Pale Ales  Celebration Fresh Hop IPA   \n",
       "\n",
       "                        brewery            beer_name_lower  \n",
       "1458  Sierra Nevada Brewing Co.  celebration fresh hop ipa  "
      ]
     },
     "execution_count": 242,
     "metadata": {},
     "output_type": "execute_result"
    }
   ],
   "source": [
    "results_df[results_df.beer_name == \"Celebration Fresh Hop IPA\"]"
   ]
  },
  {
   "cell_type": "code",
   "execution_count": 181,
   "metadata": {},
   "outputs": [
    {
     "data": {
      "text/html": [
       "<div>\n",
       "<style scoped>\n",
       "    .dataframe tbody tr th:only-of-type {\n",
       "        vertical-align: middle;\n",
       "    }\n",
       "\n",
       "    .dataframe tbody tr th {\n",
       "        vertical-align: top;\n",
       "    }\n",
       "\n",
       "    .dataframe thead th {\n",
       "        text-align: right;\n",
       "    }\n",
       "</style>\n",
       "<table border=\"1\" class=\"dataframe\">\n",
       "  <thead>\n",
       "    <tr style=\"text-align: right;\">\n",
       "      <th></th>\n",
       "      <th>abv</th>\n",
       "      <th>astringency</th>\n",
       "      <th>body</th>\n",
       "      <th>alcohol</th>\n",
       "      <th>bitter</th>\n",
       "      <th>sweet</th>\n",
       "      <th>sour</th>\n",
       "      <th>salty</th>\n",
       "      <th>fruits</th>\n",
       "      <th>hoppy</th>\n",
       "      <th>spices</th>\n",
       "      <th>malty</th>\n",
       "      <th>class</th>\n",
       "      <th>subclass</th>\n",
       "      <th>class_subclass</th>\n",
       "      <th>beer_style</th>\n",
       "      <th>ave_rating</th>\n",
       "      <th>BA_Big_styles</th>\n",
       "      <th>beer_name</th>\n",
       "      <th>brewery</th>\n",
       "      <th>beer_name_lower</th>\n",
       "    </tr>\n",
       "  </thead>\n",
       "  <tbody>\n",
       "    <tr>\n",
       "      <th>997</th>\n",
       "      <td>5.25</td>\n",
       "      <td>8</td>\n",
       "      <td>16</td>\n",
       "      <td>10</td>\n",
       "      <td>4</td>\n",
       "      <td>4</td>\n",
       "      <td>4</td>\n",
       "      <td>0</td>\n",
       "      <td>3</td>\n",
       "      <td>3</td>\n",
       "      <td>63</td>\n",
       "      <td>7</td>\n",
       "      <td>1</td>\n",
       "      <td>1</td>\n",
       "      <td>11</td>\n",
       "      <td>Chile Beer</td>\n",
       "      <td>3.29</td>\n",
       "      <td>Specialty Beers</td>\n",
       "      <td>Green Chili Beer</td>\n",
       "      <td>Flat Branch Pub &amp; Brewery</td>\n",
       "      <td>green chili beer</td>\n",
       "    </tr>\n",
       "  </tbody>\n",
       "</table>\n",
       "</div>"
      ],
      "text/plain": [
       "      abv  astringency  body  alcohol  bitter  sweet  sour  salty  fruits  \\\n",
       "997  5.25            8    16       10       4      4     4      0       3   \n",
       "\n",
       "     hoppy  spices  malty  class  subclass class_subclass  beer_style  \\\n",
       "997      3      63      7      1         1             11  Chile Beer   \n",
       "\n",
       "     ave_rating    BA_Big_styles         beer_name                    brewery  \\\n",
       "997        3.29  Specialty Beers  Green Chili Beer  Flat Branch Pub & Brewery   \n",
       "\n",
       "      beer_name_lower  \n",
       "997  green chili beer  "
      ]
     },
     "execution_count": 181,
     "metadata": {},
     "output_type": "execute_result"
    }
   ],
   "source": [
    "results_df[results_df.beer_name == \"Green Chili Beer\"]"
   ]
  },
  {
   "cell_type": "code",
   "execution_count": 182,
   "metadata": {},
   "outputs": [
    {
     "data": {
      "text/html": [
       "<div>\n",
       "<style scoped>\n",
       "    .dataframe tbody tr th:only-of-type {\n",
       "        vertical-align: middle;\n",
       "    }\n",
       "\n",
       "    .dataframe tbody tr th {\n",
       "        vertical-align: top;\n",
       "    }\n",
       "\n",
       "    .dataframe thead th {\n",
       "        text-align: right;\n",
       "    }\n",
       "</style>\n",
       "<table border=\"1\" class=\"dataframe\">\n",
       "  <thead>\n",
       "    <tr style=\"text-align: right;\">\n",
       "      <th></th>\n",
       "      <th>abv</th>\n",
       "      <th>astringency</th>\n",
       "      <th>body</th>\n",
       "      <th>alcohol</th>\n",
       "      <th>bitter</th>\n",
       "      <th>sweet</th>\n",
       "      <th>sour</th>\n",
       "      <th>salty</th>\n",
       "      <th>fruits</th>\n",
       "      <th>hoppy</th>\n",
       "      <th>spices</th>\n",
       "      <th>malty</th>\n",
       "      <th>class</th>\n",
       "      <th>subclass</th>\n",
       "      <th>class_subclass</th>\n",
       "      <th>beer_style</th>\n",
       "      <th>ave_rating</th>\n",
       "      <th>BA_Big_styles</th>\n",
       "      <th>beer_name</th>\n",
       "      <th>brewery</th>\n",
       "      <th>beer_name_lower</th>\n",
       "    </tr>\n",
       "  </thead>\n",
       "  <tbody>\n",
       "    <tr>\n",
       "      <th>2351</th>\n",
       "      <td>5.3</td>\n",
       "      <td>12</td>\n",
       "      <td>5</td>\n",
       "      <td>0</td>\n",
       "      <td>30</td>\n",
       "      <td>9</td>\n",
       "      <td>7</td>\n",
       "      <td>1</td>\n",
       "      <td>10</td>\n",
       "      <td>38</td>\n",
       "      <td>2</td>\n",
       "      <td>7</td>\n",
       "      <td>1</td>\n",
       "      <td>1</td>\n",
       "      <td>11</td>\n",
       "      <td>Lager - India Pale Lager (IPL)</td>\n",
       "      <td>3.96</td>\n",
       "      <td>Pale Lagers</td>\n",
       "      <td>Outdoor</td>\n",
       "      <td>Fieldwork Brewing Co.</td>\n",
       "      <td>outdoor</td>\n",
       "    </tr>\n",
       "  </tbody>\n",
       "</table>\n",
       "</div>"
      ],
      "text/plain": [
       "      abv  astringency  body  alcohol  bitter  sweet  sour  salty  fruits  \\\n",
       "2351  5.3           12     5        0      30      9     7      1      10   \n",
       "\n",
       "      hoppy  spices  malty  class  subclass class_subclass  \\\n",
       "2351     38       2      7      1         1             11   \n",
       "\n",
       "                          beer_style  ave_rating BA_Big_styles beer_name  \\\n",
       "2351  Lager - India Pale Lager (IPL)        3.96   Pale Lagers   Outdoor   \n",
       "\n",
       "                    brewery beer_name_lower  \n",
       "2351  Fieldwork Brewing Co.         outdoor  "
      ]
     },
     "execution_count": 182,
     "metadata": {},
     "output_type": "execute_result"
    }
   ],
   "source": [
    "results_df[results_df.beer_name == \"Outdoor\"]"
   ]
  },
  {
   "cell_type": "code",
   "execution_count": 243,
   "metadata": {},
   "outputs": [
    {
     "data": {
      "text/html": [
       "<div>\n",
       "<style scoped>\n",
       "    .dataframe tbody tr th:only-of-type {\n",
       "        vertical-align: middle;\n",
       "    }\n",
       "\n",
       "    .dataframe tbody tr th {\n",
       "        vertical-align: top;\n",
       "    }\n",
       "\n",
       "    .dataframe thead th {\n",
       "        text-align: right;\n",
       "    }\n",
       "</style>\n",
       "<table border=\"1\" class=\"dataframe\">\n",
       "  <thead>\n",
       "    <tr style=\"text-align: right;\">\n",
       "      <th></th>\n",
       "      <th>abv</th>\n",
       "      <th>astringency</th>\n",
       "      <th>body</th>\n",
       "      <th>alcohol</th>\n",
       "      <th>bitter</th>\n",
       "      <th>sweet</th>\n",
       "      <th>sour</th>\n",
       "      <th>salty</th>\n",
       "      <th>fruits</th>\n",
       "      <th>hoppy</th>\n",
       "      <th>spices</th>\n",
       "      <th>malty</th>\n",
       "      <th>class</th>\n",
       "      <th>subclass</th>\n",
       "      <th>class_subclass</th>\n",
       "      <th>beer_style</th>\n",
       "      <th>ave_rating</th>\n",
       "      <th>BA_Big_styles</th>\n",
       "      <th>beer_name</th>\n",
       "      <th>brewery</th>\n",
       "      <th>beer_name_lower</th>\n",
       "    </tr>\n",
       "  </thead>\n",
       "  <tbody>\n",
       "    <tr>\n",
       "      <th>61</th>\n",
       "      <td>11.00</td>\n",
       "      <td>14</td>\n",
       "      <td>58</td>\n",
       "      <td>36</td>\n",
       "      <td>52</td>\n",
       "      <td>117</td>\n",
       "      <td>29</td>\n",
       "      <td>0</td>\n",
       "      <td>54</td>\n",
       "      <td>67</td>\n",
       "      <td>13</td>\n",
       "      <td>122</td>\n",
       "      <td>3</td>\n",
       "      <td>0</td>\n",
       "      <td>30</td>\n",
       "      <td>Barleywine - American</td>\n",
       "      <td>4.14</td>\n",
       "      <td>Strong Ales</td>\n",
       "      <td>Old Numbskull</td>\n",
       "      <td>AleSmith Brewing Company</td>\n",
       "      <td>old numbskull</td>\n",
       "    </tr>\n",
       "    <tr>\n",
       "      <th>62</th>\n",
       "      <td>9.30</td>\n",
       "      <td>17</td>\n",
       "      <td>74</td>\n",
       "      <td>41</td>\n",
       "      <td>66</td>\n",
       "      <td>143</td>\n",
       "      <td>38</td>\n",
       "      <td>1</td>\n",
       "      <td>78</td>\n",
       "      <td>72</td>\n",
       "      <td>11</td>\n",
       "      <td>130</td>\n",
       "      <td>3</td>\n",
       "      <td>0</td>\n",
       "      <td>30</td>\n",
       "      <td>Barleywine - American</td>\n",
       "      <td>4.15</td>\n",
       "      <td>Strong Ales</td>\n",
       "      <td>Flying Mouflan</td>\n",
       "      <td>Tröegs Brewing Company</td>\n",
       "      <td>flying mouflan</td>\n",
       "    </tr>\n",
       "    <tr>\n",
       "      <th>63</th>\n",
       "      <td>12.20</td>\n",
       "      <td>7</td>\n",
       "      <td>60</td>\n",
       "      <td>74</td>\n",
       "      <td>48</td>\n",
       "      <td>82</td>\n",
       "      <td>20</td>\n",
       "      <td>0</td>\n",
       "      <td>53</td>\n",
       "      <td>50</td>\n",
       "      <td>20</td>\n",
       "      <td>92</td>\n",
       "      <td>3</td>\n",
       "      <td>0</td>\n",
       "      <td>30</td>\n",
       "      <td>Barleywine - American</td>\n",
       "      <td>4.18</td>\n",
       "      <td>Strong Ales</td>\n",
       "      <td>Bigfoot - Barrel-Aged</td>\n",
       "      <td>Sierra Nevada Brewing Co.</td>\n",
       "      <td>bigfoot - barrel-aged</td>\n",
       "    </tr>\n",
       "    <tr>\n",
       "      <th>67</th>\n",
       "      <td>11.00</td>\n",
       "      <td>9</td>\n",
       "      <td>57</td>\n",
       "      <td>67</td>\n",
       "      <td>26</td>\n",
       "      <td>113</td>\n",
       "      <td>20</td>\n",
       "      <td>0</td>\n",
       "      <td>36</td>\n",
       "      <td>23</td>\n",
       "      <td>25</td>\n",
       "      <td>132</td>\n",
       "      <td>3</td>\n",
       "      <td>1</td>\n",
       "      <td>31</td>\n",
       "      <td>Barleywine - American</td>\n",
       "      <td>4.31</td>\n",
       "      <td>Strong Ales</td>\n",
       "      <td>Old Numbskull - Bourbon Barrel-Aged</td>\n",
       "      <td>AleSmith Brewing Company</td>\n",
       "      <td>old numbskull - bourbon barrel-aged</td>\n",
       "    </tr>\n",
       "    <tr>\n",
       "      <th>68</th>\n",
       "      <td>12.80</td>\n",
       "      <td>6</td>\n",
       "      <td>39</td>\n",
       "      <td>56</td>\n",
       "      <td>25</td>\n",
       "      <td>101</td>\n",
       "      <td>23</td>\n",
       "      <td>5</td>\n",
       "      <td>45</td>\n",
       "      <td>48</td>\n",
       "      <td>21</td>\n",
       "      <td>134</td>\n",
       "      <td>3</td>\n",
       "      <td>0</td>\n",
       "      <td>30</td>\n",
       "      <td>Barleywine - American</td>\n",
       "      <td>4.29</td>\n",
       "      <td>Strong Ales</td>\n",
       "      <td>Helldorado</td>\n",
       "      <td>Firestone Walker Brewing Co.</td>\n",
       "      <td>helldorado</td>\n",
       "    </tr>\n",
       "    <tr>\n",
       "      <th>...</th>\n",
       "      <td>...</td>\n",
       "      <td>...</td>\n",
       "      <td>...</td>\n",
       "      <td>...</td>\n",
       "      <td>...</td>\n",
       "      <td>...</td>\n",
       "      <td>...</td>\n",
       "      <td>...</td>\n",
       "      <td>...</td>\n",
       "      <td>...</td>\n",
       "      <td>...</td>\n",
       "      <td>...</td>\n",
       "      <td>...</td>\n",
       "      <td>...</td>\n",
       "      <td>...</td>\n",
       "      <td>...</td>\n",
       "      <td>...</td>\n",
       "      <td>...</td>\n",
       "      <td>...</td>\n",
       "      <td>...</td>\n",
       "      <td>...</td>\n",
       "    </tr>\n",
       "    <tr>\n",
       "      <th>5373</th>\n",
       "      <td>13.00</td>\n",
       "      <td>7</td>\n",
       "      <td>41</td>\n",
       "      <td>57</td>\n",
       "      <td>22</td>\n",
       "      <td>54</td>\n",
       "      <td>49</td>\n",
       "      <td>0</td>\n",
       "      <td>58</td>\n",
       "      <td>15</td>\n",
       "      <td>56</td>\n",
       "      <td>77</td>\n",
       "      <td>3</td>\n",
       "      <td>0</td>\n",
       "      <td>30</td>\n",
       "      <td>Wheat Beer - Wheatwine</td>\n",
       "      <td>4.25</td>\n",
       "      <td>Strong Ales</td>\n",
       "      <td>The Revival - Barrel-Aged</td>\n",
       "      <td>Pipeworks Brewing Company</td>\n",
       "      <td>the revival - barrel-aged</td>\n",
       "    </tr>\n",
       "    <tr>\n",
       "      <th>5382</th>\n",
       "      <td>11.75</td>\n",
       "      <td>10</td>\n",
       "      <td>43</td>\n",
       "      <td>34</td>\n",
       "      <td>58</td>\n",
       "      <td>142</td>\n",
       "      <td>36</td>\n",
       "      <td>0</td>\n",
       "      <td>39</td>\n",
       "      <td>61</td>\n",
       "      <td>8</td>\n",
       "      <td>118</td>\n",
       "      <td>3</td>\n",
       "      <td>0</td>\n",
       "      <td>30</td>\n",
       "      <td>Wheat Beer - Wheatwine</td>\n",
       "      <td>3.75</td>\n",
       "      <td>Strong Ales</td>\n",
       "      <td>Vernal</td>\n",
       "      <td>Element Brewing Company</td>\n",
       "      <td>vernal</td>\n",
       "    </tr>\n",
       "    <tr>\n",
       "      <th>5388</th>\n",
       "      <td>10.00</td>\n",
       "      <td>7</td>\n",
       "      <td>53</td>\n",
       "      <td>52</td>\n",
       "      <td>22</td>\n",
       "      <td>81</td>\n",
       "      <td>30</td>\n",
       "      <td>0</td>\n",
       "      <td>46</td>\n",
       "      <td>23</td>\n",
       "      <td>22</td>\n",
       "      <td>93</td>\n",
       "      <td>3</td>\n",
       "      <td>0</td>\n",
       "      <td>30</td>\n",
       "      <td>Wheat Beer - Wheatwine</td>\n",
       "      <td>3.46</td>\n",
       "      <td>Strong Ales</td>\n",
       "      <td>Manly Men Beer Club El Hefe</td>\n",
       "      <td>Atlantic Brewing Company / Mainely Meat BBQ</td>\n",
       "      <td>manly men beer club el hefe</td>\n",
       "    </tr>\n",
       "    <tr>\n",
       "      <th>5529</th>\n",
       "      <td>9.40</td>\n",
       "      <td>7</td>\n",
       "      <td>59</td>\n",
       "      <td>118</td>\n",
       "      <td>36</td>\n",
       "      <td>73</td>\n",
       "      <td>12</td>\n",
       "      <td>0</td>\n",
       "      <td>27</td>\n",
       "      <td>47</td>\n",
       "      <td>45</td>\n",
       "      <td>140</td>\n",
       "      <td>3</td>\n",
       "      <td>1</td>\n",
       "      <td>31</td>\n",
       "      <td>Winter Warmer</td>\n",
       "      <td>3.64</td>\n",
       "      <td>Dark Ales</td>\n",
       "      <td>Barrel Aged Brrrbon (Brothers' Reserve Series)</td>\n",
       "      <td>Widmer Brothers Brewing Company</td>\n",
       "      <td>barrel aged brrrbon (brothers' reserve series)</td>\n",
       "    </tr>\n",
       "    <tr>\n",
       "      <th>5537</th>\n",
       "      <td>11.00</td>\n",
       "      <td>8</td>\n",
       "      <td>69</td>\n",
       "      <td>92</td>\n",
       "      <td>35</td>\n",
       "      <td>81</td>\n",
       "      <td>24</td>\n",
       "      <td>0</td>\n",
       "      <td>34</td>\n",
       "      <td>32</td>\n",
       "      <td>55</td>\n",
       "      <td>129</td>\n",
       "      <td>3</td>\n",
       "      <td>1</td>\n",
       "      <td>31</td>\n",
       "      <td>Winter Warmer</td>\n",
       "      <td>4.12</td>\n",
       "      <td>Dark Ales</td>\n",
       "      <td>Bourbon Barrel Aged Winter Warmer</td>\n",
       "      <td>Rahr &amp; Sons Brewing Company</td>\n",
       "      <td>bourbon barrel aged winter warmer</td>\n",
       "    </tr>\n",
       "  </tbody>\n",
       "</table>\n",
       "<p>270 rows × 21 columns</p>\n",
       "</div>"
      ],
      "text/plain": [
       "        abv  astringency  body  alcohol  bitter  sweet  sour  salty  fruits  \\\n",
       "61    11.00           14    58       36      52    117    29      0      54   \n",
       "62     9.30           17    74       41      66    143    38      1      78   \n",
       "63    12.20            7    60       74      48     82    20      0      53   \n",
       "67    11.00            9    57       67      26    113    20      0      36   \n",
       "68    12.80            6    39       56      25    101    23      5      45   \n",
       "...     ...          ...   ...      ...     ...    ...   ...    ...     ...   \n",
       "5373  13.00            7    41       57      22     54    49      0      58   \n",
       "5382  11.75           10    43       34      58    142    36      0      39   \n",
       "5388  10.00            7    53       52      22     81    30      0      46   \n",
       "5529   9.40            7    59      118      36     73    12      0      27   \n",
       "5537  11.00            8    69       92      35     81    24      0      34   \n",
       "\n",
       "      hoppy  spices  malty  class  subclass class_subclass  \\\n",
       "61       67      13    122      3         0             30   \n",
       "62       72      11    130      3         0             30   \n",
       "63       50      20     92      3         0             30   \n",
       "67       23      25    132      3         1             31   \n",
       "68       48      21    134      3         0             30   \n",
       "...     ...     ...    ...    ...       ...            ...   \n",
       "5373     15      56     77      3         0             30   \n",
       "5382     61       8    118      3         0             30   \n",
       "5388     23      22     93      3         0             30   \n",
       "5529     47      45    140      3         1             31   \n",
       "5537     32      55    129      3         1             31   \n",
       "\n",
       "                  beer_style  ave_rating BA_Big_styles  \\\n",
       "61     Barleywine - American        4.14   Strong Ales   \n",
       "62     Barleywine - American        4.15   Strong Ales   \n",
       "63     Barleywine - American        4.18   Strong Ales   \n",
       "67     Barleywine - American        4.31   Strong Ales   \n",
       "68     Barleywine - American        4.29   Strong Ales   \n",
       "...                      ...         ...           ...   \n",
       "5373  Wheat Beer - Wheatwine        4.25   Strong Ales   \n",
       "5382  Wheat Beer - Wheatwine        3.75   Strong Ales   \n",
       "5388  Wheat Beer - Wheatwine        3.46   Strong Ales   \n",
       "5529           Winter Warmer        3.64     Dark Ales   \n",
       "5537           Winter Warmer        4.12     Dark Ales   \n",
       "\n",
       "                                           beer_name  \\\n",
       "61                                     Old Numbskull   \n",
       "62                                    Flying Mouflan   \n",
       "63                             Bigfoot - Barrel-Aged   \n",
       "67               Old Numbskull - Bourbon Barrel-Aged   \n",
       "68                                        Helldorado   \n",
       "...                                              ...   \n",
       "5373                       The Revival - Barrel-Aged   \n",
       "5382                                          Vernal   \n",
       "5388                     Manly Men Beer Club El Hefe   \n",
       "5529  Barrel Aged Brrrbon (Brothers' Reserve Series)   \n",
       "5537               Bourbon Barrel Aged Winter Warmer   \n",
       "\n",
       "                                          brewery  \\\n",
       "61                       AleSmith Brewing Company   \n",
       "62                         Tröegs Brewing Company   \n",
       "63                      Sierra Nevada Brewing Co.   \n",
       "67                       AleSmith Brewing Company   \n",
       "68                   Firestone Walker Brewing Co.   \n",
       "...                                           ...   \n",
       "5373                    Pipeworks Brewing Company   \n",
       "5382                      Element Brewing Company   \n",
       "5388  Atlantic Brewing Company / Mainely Meat BBQ   \n",
       "5529              Widmer Brothers Brewing Company   \n",
       "5537                  Rahr & Sons Brewing Company   \n",
       "\n",
       "                                     beer_name_lower  \n",
       "61                                     old numbskull  \n",
       "62                                    flying mouflan  \n",
       "63                             bigfoot - barrel-aged  \n",
       "67               old numbskull - bourbon barrel-aged  \n",
       "68                                        helldorado  \n",
       "...                                              ...  \n",
       "5373                       the revival - barrel-aged  \n",
       "5382                                          vernal  \n",
       "5388                     manly men beer club el hefe  \n",
       "5529  barrel aged brrrbon (brothers' reserve series)  \n",
       "5537               bourbon barrel aged winter warmer  \n",
       "\n",
       "[270 rows x 21 columns]"
      ]
     },
     "execution_count": 243,
     "metadata": {},
     "output_type": "execute_result"
    }
   ],
   "source": [
    "results_df[results_df[\"class\"] == 3]"
   ]
  },
  {
   "cell_type": "code",
   "execution_count": 245,
   "metadata": {},
   "outputs": [
    {
     "data": {
      "text/plain": [
       "{'Altbier',\n",
       " 'Barleywine - American',\n",
       " 'Barleywine - English',\n",
       " 'Bitter - English',\n",
       " 'Bitter - English Extra Special / Strong Bitter (ESB)',\n",
       " 'Bière de Champagne / Bière Brut',\n",
       " 'Blonde Ale - American',\n",
       " 'Blonde Ale - Belgian',\n",
       " 'Bock - Doppelbock',\n",
       " 'Bock - Eisbock',\n",
       " 'Bock - Maibock',\n",
       " 'Bock - Traditional',\n",
       " 'Bock - Weizenbock',\n",
       " 'Braggot',\n",
       " 'Brett Beer',\n",
       " 'Brown Ale - American',\n",
       " 'Brown Ale - Belgian Dark',\n",
       " 'Brown Ale - English',\n",
       " 'California Common / Steam Beer',\n",
       " 'Chile Beer',\n",
       " 'Cream Ale',\n",
       " 'Dubbel',\n",
       " 'Farmhouse Ale - Bière de Garde',\n",
       " 'Farmhouse Ale - Sahti',\n",
       " 'Farmhouse Ale - Saison',\n",
       " 'Fruit and Field Beer',\n",
       " 'Gruit / Ancient Herbed Ale',\n",
       " 'Happoshu',\n",
       " 'Herb and Spice Beer',\n",
       " 'IPA - American',\n",
       " 'IPA - Belgian',\n",
       " 'IPA - Black / Cascadian Dark Ale',\n",
       " 'IPA - Brut',\n",
       " 'IPA - English',\n",
       " 'IPA - Imperial',\n",
       " 'IPA - New England',\n",
       " 'Kvass',\n",
       " 'Kölsch',\n",
       " 'Lager - Adjunct',\n",
       " 'Lager - American',\n",
       " 'Lager - American Amber / Red',\n",
       " 'Lager - European / Dortmunder Export',\n",
       " 'Lager - European Dark',\n",
       " 'Lager - European Pale',\n",
       " 'Lager - European Strong',\n",
       " 'Lager - Helles',\n",
       " 'Lager - India Pale Lager (IPL)',\n",
       " 'Lager - Japanese Rice',\n",
       " 'Lager - Kellerbier / Zwickelbier',\n",
       " 'Lager - Light',\n",
       " 'Lager - Malt Liquor',\n",
       " 'Lager - Munich Dunkel',\n",
       " 'Lager - Märzen',\n",
       " 'Lager - Märzen / Oktoberfest',\n",
       " 'Lager - Rauchbier',\n",
       " 'Lager - Schwarzbier',\n",
       " 'Lager - Vienna',\n",
       " 'Lambic - Faro',\n",
       " 'Lambic - Fruit',\n",
       " 'Lambic - Gueuze',\n",
       " 'Lambic - Traditional',\n",
       " 'Mild Ale - English Dark',\n",
       " 'Mild Ale - English Pale',\n",
       " 'Old Ale',\n",
       " 'Pale Ale - American',\n",
       " 'Pale Ale - Belgian',\n",
       " 'Pale Ale - English',\n",
       " 'Pilsner - Bohemian / Czech',\n",
       " 'Pilsner - German',\n",
       " 'Pilsner - Imperial',\n",
       " 'Porter - American',\n",
       " 'Porter - Baltic',\n",
       " 'Porter - English',\n",
       " 'Porter - Imperial',\n",
       " 'Porter - Robust',\n",
       " 'Porter - Smoked',\n",
       " 'Pumpkin Beer',\n",
       " 'Quadrupel (Quad)',\n",
       " 'Red Ale - American Amber / Red',\n",
       " 'Red Ale - Imperial',\n",
       " 'Red Ale - Irish',\n",
       " 'Rye Beer',\n",
       " 'Rye Beer - Roggenbier',\n",
       " 'Scotch Ale / Wee Heavy',\n",
       " 'Scottish Ale',\n",
       " 'Smoked Beer',\n",
       " 'Sour - Berliner Weisse',\n",
       " 'Sour - Flanders Oud Bruin',\n",
       " 'Sour - Flanders Red Ale',\n",
       " 'Sour - Gose',\n",
       " 'Stout - American',\n",
       " 'Stout - American Imperial',\n",
       " 'Stout - English',\n",
       " 'Stout - Foreign / Export',\n",
       " 'Stout - Irish Dry',\n",
       " 'Stout - Oatmeal',\n",
       " 'Stout - Russian Imperial',\n",
       " 'Stout - Sweet / Milk',\n",
       " 'Strong Ale - American',\n",
       " 'Strong Ale - Belgian Dark',\n",
       " 'Strong Ale - Belgian Pale',\n",
       " 'Strong Ale - English',\n",
       " 'Tripel',\n",
       " 'Wheat Beer - American Dark',\n",
       " 'Wheat Beer - American Pale',\n",
       " 'Wheat Beer - Dunkelweizen',\n",
       " 'Wheat Beer - Hefeweizen',\n",
       " 'Wheat Beer - Kristallweizen',\n",
       " 'Wheat Beer - Wheatwine',\n",
       " 'Wheat Beer - Witbier',\n",
       " 'Wild Ale',\n",
       " 'Winter Warmer'}"
      ]
     },
     "execution_count": 245,
     "metadata": {},
     "output_type": "execute_result"
    }
   ],
   "source": [
    "set(results_df.beer_style.to_list())"
   ]
  },
  {
   "cell_type": "code",
   "execution_count": null,
   "metadata": {},
   "outputs": [],
   "source": []
  }
 ],
 "metadata": {
  "kernelspec": {
   "display_name": "mlenv",
   "language": "python",
   "name": "mlenv"
  },
  "language_info": {
   "codemirror_mode": {
    "name": "ipython",
    "version": 3
   },
   "file_extension": ".py",
   "mimetype": "text/x-python",
   "name": "python",
   "nbconvert_exporter": "python",
   "pygments_lexer": "ipython3",
   "version": "3.9.4"
  }
 },
 "nbformat": 4,
 "nbformat_minor": 4
}
